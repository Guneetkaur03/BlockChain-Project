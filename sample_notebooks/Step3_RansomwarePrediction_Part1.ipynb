{
  "nbformat": 4,
  "nbformat_minor": 0,
  "metadata": {
    "colab": {
      "name": "Step3_RansomwarePrediction_Part1.ipynb",
      "provenance": [],
      "collapsed_sections": []
    },
    "kernelspec": {
      "name": "python3",
      "display_name": "Python 3"
    },
    "language_info": {
      "name": "python"
    }
  },
  "cells": [
    {
      "cell_type": "code",
      "execution_count": 36,
      "metadata": {
        "id": "YW14daq4wqMD"
      },
      "outputs": [],
      "source": [
        "import csv\n",
        "import numpy as np\n",
        "import pandas as pd"
      ]
    },
    {
      "cell_type": "code",
      "source": [
        "#converting Jan2013 features csv file into numpy array\n",
        "with open('/content/drive/MyDrive/features-2013-1.csv','r') as dest_f:\n",
        "    next(dest_f) #omitting the header from file before converting it into array\n",
        "    data_iter = csv.reader(dest_f, delimiter = \",\", quotechar = '\"')\n",
        "    data = [data for data in data_iter]\n",
        "data_array = np.asarray(data)"
      ],
      "metadata": {
        "id": "Wk0c3H2dwsdH"
      },
      "execution_count": 37,
      "outputs": []
    },
    {
      "cell_type": "code",
      "source": [
        "data_array.shape"
      ],
      "metadata": {
        "colab": {
          "base_uri": "https://localhost:8080/"
        },
        "id": "ehaEQpA7w1s1",
        "outputId": "57deecd2-6210-414e-cd4d-249bab3867eb"
      },
      "execution_count": 38,
      "outputs": [
        {
          "output_type": "execute_result",
          "data": {
            "text/plain": [
              "(6217, 9)"
            ]
          },
          "metadata": {},
          "execution_count": 38
        }
      ]
    },
    {
      "cell_type": "code",
      "source": [
        "data_array # full array"
      ],
      "metadata": {
        "colab": {
          "base_uri": "https://localhost:8080/"
        },
        "id": "Iv2sWpE_w2M1",
        "outputId": "c065c83f-9c53-4bae-9c90-3afcf048dbd3"
      },
      "execution_count": 39,
      "outputs": [
        {
          "output_type": "execute_result",
          "data": {
            "text/plain": [
              "array([['1', '1dice6YgEVBf88erBFra9BHf6ZMoyvG88', '1000000', ..., '1',\n",
              "        '0', '0'],\n",
              "       ['1', '133f33VEDKrVTwtQYgh5z4rLLhP9ibm6tk', '3036250', ..., '1',\n",
              "        '0', '0'],\n",
              "       ['1', '1DvMt7dGAZeKqzJF4nDx74qK37ziftRjTf', '4086250', ..., '1',\n",
              "        '0', '0'],\n",
              "       ...,\n",
              "       ['31', '1JRuyQHmrtgq4etXREPjsuEccVLLSAhNCy', '1008564450', ...,\n",
              "        '1', '0', '0'],\n",
              "       ['31', '1BMYCbkUYoLvPGg1CsnSN2XG77yshGCiUw', '1906341761', ...,\n",
              "        '1', '0', '0'],\n",
              "       ['31', '12gpoiDCeWyV72BQqiWfUYsf7PbZ5vDkcY', '1823248525', ...,\n",
              "        '1', '0', '0']], dtype='<U34')"
            ]
          },
          "metadata": {},
          "execution_count": 39
        }
      ]
    },
    {
      "cell_type": "code",
      "source": [
        "#function which take a DAY number as input, \n",
        "#and returns 2 arrays: 1st array =  rows of 3 consecutive days AND 2nd array: rows of 4th day\n",
        "#1st array is used for training and 2nd array is used for testing\n",
        "def day_slide (d1):\n",
        "    day1 = str(d1)\n",
        "    day2 = str(d1 + 1)\n",
        "    day3 = str(d1 + 2)\n",
        "    day4 = str(d1 + 3)\n",
        "\n",
        "    rows_index1=np.where(data_array[:,0]== day1 )\n",
        "    array_d1 = data_array[rows_index1]\n",
        "\n",
        "    rows_index2=np.where(data_array[:,0]== day2 )\n",
        "    array_d2 = data_array[rows_index2]\n",
        "\n",
        "    rows_index3=np.where(data_array[:,0]== day3 )\n",
        "    array_d3 = data_array[rows_index3]\n",
        "\n",
        "    rows_index4=np.where(data_array[:,0]== day4 )\n",
        "    array_d4 = data_array[rows_index4]\n",
        "\n",
        "    array_of_3days = np.vstack((array_d1,array_d2,array_d3))\n",
        "\n",
        "    return array_of_3days,array_d4"
      ],
      "metadata": {
        "id": "_dhVYebLw3E-"
      },
      "execution_count": 40,
      "outputs": []
    },
    {
      "cell_type": "code",
      "source": [
        "#Trial for DAY = 1 "
      ],
      "metadata": {
        "id": "IGMxJVWjHBPv"
      },
      "execution_count": 41,
      "outputs": []
    },
    {
      "cell_type": "code",
      "source": [
        "trainset, testset = day_slide(1)"
      ],
      "metadata": {
        "id": "xhHMi5YcxVT-"
      },
      "execution_count": 42,
      "outputs": []
    },
    {
      "cell_type": "code",
      "source": [
        "trainset.shape"
      ],
      "metadata": {
        "colab": {
          "base_uri": "https://localhost:8080/"
        },
        "id": "zqiUYeCMxzL_",
        "outputId": "c87c854e-2614-4fa7-c50f-f50eee8bcf7a"
      },
      "execution_count": 43,
      "outputs": [
        {
          "output_type": "execute_result",
          "data": {
            "text/plain": [
              "(601, 9)"
            ]
          },
          "metadata": {},
          "execution_count": 43
        }
      ]
    },
    {
      "cell_type": "code",
      "source": [
        "testset.shape"
      ],
      "metadata": {
        "colab": {
          "base_uri": "https://localhost:8080/"
        },
        "id": "xccI075mx3hL",
        "outputId": "db2056cd-bb04-4623-cc76-028eca015023"
      },
      "execution_count": 44,
      "outputs": [
        {
          "output_type": "execute_result",
          "data": {
            "text/plain": [
              "(201, 9)"
            ]
          },
          "metadata": {},
          "execution_count": 44
        }
      ]
    },
    {
      "cell_type": "code",
      "source": [
        "trainset"
      ],
      "metadata": {
        "colab": {
          "base_uri": "https://localhost:8080/"
        },
        "id": "xBmdsibdyscs",
        "outputId": "915e2d79-d9a0-401e-c4f6-0416b9a457af"
      },
      "execution_count": 45,
      "outputs": [
        {
          "output_type": "execute_result",
          "data": {
            "text/plain": [
              "array([['1', '1dice6YgEVBf88erBFra9BHf6ZMoyvG88', '1000000', ..., '1',\n",
              "        '0', '0'],\n",
              "       ['1', '133f33VEDKrVTwtQYgh5z4rLLhP9ibm6tk', '3036250', ..., '1',\n",
              "        '0', '0'],\n",
              "       ['1', '1DvMt7dGAZeKqzJF4nDx74qK37ziftRjTf', '4086250', ..., '1',\n",
              "        '0', '0'],\n",
              "       ...,\n",
              "       ['3', '17YtFjkpr4qDQ9ifEe1FG51dbVYLbiieks', '198134800', ..., '1',\n",
              "        '0', '0'],\n",
              "       ['3', '17QzTRpz995jBGmE6sdybH4vYYHe25fM3h', '666980000', ..., '1',\n",
              "        '0', '0'],\n",
              "       ['3', '1zifYyKMQdk8QACVSpyiVA4oUJHxMWT2n', '276364696', ..., '1',\n",
              "        '0', '0']], dtype='<U34')"
            ]
          },
          "metadata": {},
          "execution_count": 45
        }
      ]
    },
    {
      "cell_type": "code",
      "source": [
        "x_train = trainset[:,:7]"
      ],
      "metadata": {
        "id": "dnBKVWzmy2Px"
      },
      "execution_count": 46,
      "outputs": []
    },
    {
      "cell_type": "code",
      "source": [
        "y_train = trainset[:,8]"
      ],
      "metadata": {
        "id": "AOLy8FmSyX6_"
      },
      "execution_count": 47,
      "outputs": []
    },
    {
      "cell_type": "code",
      "source": [
        "x_train"
      ],
      "metadata": {
        "colab": {
          "base_uri": "https://localhost:8080/"
        },
        "id": "kjMqXZqHzxDb",
        "outputId": "773ef2a8-73d3-43c1-fe02-e71dafe3f438"
      },
      "execution_count": 48,
      "outputs": [
        {
          "output_type": "execute_result",
          "data": {
            "text/plain": [
              "array([['1', '1dice6YgEVBf88erBFra9BHf6ZMoyvG88', '1000000', ..., '1',\n",
              "        '0', '1'],\n",
              "       ['1', '133f33VEDKrVTwtQYgh5z4rLLhP9ibm6tk', '3036250', ..., '1',\n",
              "        '1', '1'],\n",
              "       ['1', '1DvMt7dGAZeKqzJF4nDx74qK37ziftRjTf', '4086250', ..., '1',\n",
              "        '0', '1'],\n",
              "       ...,\n",
              "       ['3', '17YtFjkpr4qDQ9ifEe1FG51dbVYLbiieks', '198134800', ..., '1',\n",
              "        '0', '1'],\n",
              "       ['3', '17QzTRpz995jBGmE6sdybH4vYYHe25fM3h', '666980000', ..., '1',\n",
              "        '0', '1'],\n",
              "       ['3', '1zifYyKMQdk8QACVSpyiVA4oUJHxMWT2n', '276364696', ..., '1',\n",
              "        '0', '1']], dtype='<U34')"
            ]
          },
          "metadata": {},
          "execution_count": 48
        }
      ]
    },
    {
      "cell_type": "code",
      "source": [
        "y_train"
      ],
      "metadata": {
        "colab": {
          "base_uri": "https://localhost:8080/"
        },
        "id": "QNTcxGNQz0Kr",
        "outputId": "04435334-f12d-4bd3-9c7a-3962ba28f0ed"
      },
      "execution_count": 49,
      "outputs": [
        {
          "output_type": "execute_result",
          "data": {
            "text/plain": [
              "array(['0', '0', '0', '0', '0', '0', '0', '0', '0', '0', '0', '0', '0',\n",
              "       '0', '0', '0', '0', '0', '0', '0', '0', '0', '0', '0', '0', '0',\n",
              "       '0', '0', '0', '0', '0', '0', '0', '0', '0', '0', '0', '0', '0',\n",
              "       '0', '0', '0', '0', '0', '0', '0', '0', '0', '0', '0', '0', '0',\n",
              "       '0', '0', '0', '0', '0', '0', '0', '0', '0', '0', '0', '0', '0',\n",
              "       '0', '0', '0', '0', '0', '0', '0', '0', '0', '0', '0', '0', '0',\n",
              "       '0', '0', '0', '0', '0', '0', '0', '0', '0', '0', '0', '0', '0',\n",
              "       '0', '0', '0', '0', '0', '0', '0', '0', '0', '0', '0', '0', '0',\n",
              "       '0', '0', '0', '0', '0', '0', '0', '0', '0', '0', '0', '0', '0',\n",
              "       '0', '0', '0', '0', '0', '0', '0', '0', '0', '0', '0', '0', '0',\n",
              "       '0', '0', '0', '0', '0', '0', '0', '0', '0', '0', '0', '0', '0',\n",
              "       '0', '0', '0', '0', '0', '0', '0', '0', '0', '0', '0', '0', '0',\n",
              "       '0', '0', '0', '0', '0', '0', '0', '0', '0', '0', '0', '0', '0',\n",
              "       '0', '0', '0', '0', '0', '0', '0', '0', '0', '0', '0', '0', '0',\n",
              "       '0', '0', '0', '0', '0', '0', '0', '0', '0', '0', '0', '0', '0',\n",
              "       '0', '0', '0', '0', '0', '0', '0', '0', '0', '0', '0', '0', '0',\n",
              "       '0', '0', '0', '0', '0', '0', '0', '0', '0', '0', '0', '0', '0',\n",
              "       '0', '0', '0', '0', '0', '0', '0', '0', '0', '0', '0', '0', '0',\n",
              "       '0', '0', '0', '0', '0', '0', '0', '0', '0', '0', '0', '0', '0',\n",
              "       '0', '0', '0', '0', '0', '0', '0', '0', '0', '0', '0', '0', '0',\n",
              "       '0', '0', '0', '0', '0', '0', '0', '0', '0', '0', '0', '0', '0',\n",
              "       '0', '0', '0', '0', '0', '0', '0', '0', '0', '0', '0', '0', '0',\n",
              "       '0', '0', '0', '0', '0', '0', '0', '0', '0', '0', '0', '0', '0',\n",
              "       '0', '0', '0', '0', '0', '0', '0', '0', '0', '0', '0', '0', '0',\n",
              "       '0', '0', '0', '0', '0', '0', '0', '0', '0', '0', '0', '0', '0',\n",
              "       '0', '0', '0', '0', '0', '0', '0', '0', '0', '0', '0', '0', '0',\n",
              "       '0', '0', '0', '0', '0', '0', '0', '0', '0', '0', '0', '0', '0',\n",
              "       '0', '0', '0', '0', '0', '0', '0', '0', '0', '0', '0', '0', '0',\n",
              "       '0', '0', '0', '0', '0', '0', '0', '0', '0', '0', '0', '0', '0',\n",
              "       '0', '0', '0', '0', '0', '0', '0', '0', '0', '0', '0', '0', '0',\n",
              "       '0', '0', '0', '0', '0', '0', '0', '0', '0', '0', '1', '0', '0',\n",
              "       '0', '0', '0', '0', '0', '0', '0', '0', '0', '0', '0', '0', '0',\n",
              "       '0', '0', '0', '0', '0', '0', '0', '0', '0', '0', '0', '0', '0',\n",
              "       '0', '0', '0', '0', '0', '0', '0', '0', '0', '0', '0', '0', '0',\n",
              "       '0', '0', '0', '0', '0', '0', '0', '0', '0', '0', '0', '0', '0',\n",
              "       '0', '0', '0', '0', '0', '0', '0', '0', '0', '0', '0', '0', '0',\n",
              "       '0', '0', '0', '0', '0', '0', '0', '0', '0', '0', '0', '0', '0',\n",
              "       '0', '0', '0', '0', '0', '0', '0', '0', '0', '0', '0', '0', '0',\n",
              "       '0', '0', '0', '0', '0', '0', '0', '0', '0', '0', '0', '0', '0',\n",
              "       '0', '0', '0', '0', '0', '0', '0', '0', '0', '0', '0', '0', '0',\n",
              "       '0', '0', '0', '0', '0', '0', '0', '0', '0', '0', '0', '0', '0',\n",
              "       '0', '0', '0', '0', '0', '0', '0', '0', '0', '0', '0', '0', '0',\n",
              "       '0', '0', '0', '0', '0', '0', '0', '0', '0', '0', '0', '0', '0',\n",
              "       '0', '0', '0', '0', '0', '0', '0', '0', '0', '0', '0', '0', '0',\n",
              "       '0', '0', '0', '0', '0', '0', '0', '0', '0', '0', '0', '0', '0',\n",
              "       '0', '0', '0', '0', '0', '0', '0', '0', '0', '0', '0', '0', '0',\n",
              "       '0', '0', '0'], dtype='<U34')"
            ]
          },
          "metadata": {},
          "execution_count": 49
        }
      ]
    },
    {
      "cell_type": "code",
      "source": [
        "#process of above example needs to be put in loop for all DAYS\n",
        "# looping through each DAY of Jan2013\n",
        "for i in range(1,int(data_array[-1,0])): # last day in the dataset --> int(data_array[-1,0])\n",
        "    trainset, testset = day_slide(i)\n",
        "    x_train = trainset[:,:7] # if we donot want to include the 'day' column, then use [1:,:7]\n",
        "    y_train = trainset[:,8]\n",
        "    x_test = testset[:,:7]\n",
        "    y_test = testset[:,8]\n",
        "    # model needs to be trained and tested uing the above trainset and testset everytime in the loop\n",
        "    # model needs to be saved and loaded everytime, so that fitting doesnot override past learning/experience of the model\n",
        "    # need to decide on the model to be used for prediction\n"
      ],
      "metadata": {
        "id": "35vOIEGNyYCb"
      },
      "execution_count": 51,
      "outputs": []
    }
  ]
}