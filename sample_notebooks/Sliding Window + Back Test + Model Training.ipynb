{
 "cells": [
  {
   "cell_type": "markdown",
   "id": "d88988b3",
   "metadata": {},
   "source": [
    "#ref https://machinelearningmastery.com/backtest-machine-learning-models-time-series-forecasting/"
   ]
  },
  {
   "cell_type": "code",
   "execution_count": 9,
   "id": "4944b69e",
   "metadata": {},
   "outputs": [
    {
     "data": {
      "text/html": [
       "<div>\n",
       "<style scoped>\n",
       "    .dataframe tbody tr th:only-of-type {\n",
       "        vertical-align: middle;\n",
       "    }\n",
       "\n",
       "    .dataframe tbody tr th {\n",
       "        vertical-align: top;\n",
       "    }\n",
       "\n",
       "    .dataframe thead th {\n",
       "        text-align: right;\n",
       "    }\n",
       "</style>\n",
       "<table border=\"1\" class=\"dataframe\">\n",
       "  <thead>\n",
       "    <tr style=\"text-align: right;\">\n",
       "      <th></th>\n",
       "      <th>day</th>\n",
       "      <th>address</th>\n",
       "      <th>income</th>\n",
       "      <th>expenditure</th>\n",
       "      <th>neighbors</th>\n",
       "      <th>lengths</th>\n",
       "      <th>counts</th>\n",
       "      <th>loops</th>\n",
       "      <th>label</th>\n",
       "    </tr>\n",
       "  </thead>\n",
       "  <tbody>\n",
       "    <tr>\n",
       "      <th>0</th>\n",
       "      <td>1</td>\n",
       "      <td>1dice6YgEVBf88erBFra9BHf6ZMoyvG88</td>\n",
       "      <td>1000000</td>\n",
       "      <td>1000000</td>\n",
       "      <td>1</td>\n",
       "      <td>0</td>\n",
       "      <td>1</td>\n",
       "      <td>0</td>\n",
       "      <td>0</td>\n",
       "    </tr>\n",
       "    <tr>\n",
       "      <th>1</th>\n",
       "      <td>1</td>\n",
       "      <td>133f33VEDKrVTwtQYgh5z4rLLhP9ibm6tk</td>\n",
       "      <td>3036250</td>\n",
       "      <td>3036250</td>\n",
       "      <td>1</td>\n",
       "      <td>1</td>\n",
       "      <td>1</td>\n",
       "      <td>0</td>\n",
       "      <td>0</td>\n",
       "    </tr>\n",
       "    <tr>\n",
       "      <th>2</th>\n",
       "      <td>1</td>\n",
       "      <td>1DvMt7dGAZeKqzJF4nDx74qK37ziftRjTf</td>\n",
       "      <td>4086250</td>\n",
       "      <td>4086250</td>\n",
       "      <td>1</td>\n",
       "      <td>0</td>\n",
       "      <td>1</td>\n",
       "      <td>0</td>\n",
       "      <td>0</td>\n",
       "    </tr>\n",
       "    <tr>\n",
       "      <th>3</th>\n",
       "      <td>1</td>\n",
       "      <td>14YxH6t4BL5nKuWD9fSHdzz4Xuk512R7Cs</td>\n",
       "      <td>2000000</td>\n",
       "      <td>2000000</td>\n",
       "      <td>1</td>\n",
       "      <td>0</td>\n",
       "      <td>1</td>\n",
       "      <td>0</td>\n",
       "      <td>0</td>\n",
       "    </tr>\n",
       "    <tr>\n",
       "      <th>4</th>\n",
       "      <td>1</td>\n",
       "      <td>1dice7fUkz5h4z2wPc1wLMPWgB5mDwKDx</td>\n",
       "      <td>2000000</td>\n",
       "      <td>2000000</td>\n",
       "      <td>1</td>\n",
       "      <td>0</td>\n",
       "      <td>1</td>\n",
       "      <td>0</td>\n",
       "      <td>0</td>\n",
       "    </tr>\n",
       "  </tbody>\n",
       "</table>\n",
       "</div>"
      ],
      "text/plain": [
       "   day                             address   income  expenditure  neighbors  \\\n",
       "0    1   1dice6YgEVBf88erBFra9BHf6ZMoyvG88  1000000      1000000          1   \n",
       "1    1  133f33VEDKrVTwtQYgh5z4rLLhP9ibm6tk  3036250      3036250          1   \n",
       "2    1  1DvMt7dGAZeKqzJF4nDx74qK37ziftRjTf  4086250      4086250          1   \n",
       "3    1  14YxH6t4BL5nKuWD9fSHdzz4Xuk512R7Cs  2000000      2000000          1   \n",
       "4    1   1dice7fUkz5h4z2wPc1wLMPWgB5mDwKDx  2000000      2000000          1   \n",
       "\n",
       "   lengths  counts  loops  label  \n",
       "0        0       1      0      0  \n",
       "1        1       1      0      0  \n",
       "2        0       1      0      0  \n",
       "3        0       1      0      0  \n",
       "4        0       1      0      0  "
      ]
     },
     "execution_count": 9,
     "metadata": {},
     "output_type": "execute_result"
    }
   ],
   "source": [
    "from pandas import read_csv\n",
    "\n",
    "df = read_csv('../data/features-2013-1.csv')\n",
    "df.head()"
   ]
  },
  {
   "cell_type": "code",
   "execution_count": 10,
   "id": "b37a4aea",
   "metadata": {},
   "outputs": [
    {
     "data": {
      "text/plain": [
       "0    6180\n",
       "1     161\n",
       "Name: label, dtype: int64"
      ]
     },
     "execution_count": 10,
     "metadata": {},
     "output_type": "execute_result"
    }
   ],
   "source": [
    "df.label.value_counts()"
   ]
  },
  {
   "cell_type": "code",
   "execution_count": 11,
   "id": "a2ec446d",
   "metadata": {},
   "outputs": [
    {
     "data": {
      "text/plain": [
       "(6341, 9)"
      ]
     },
     "execution_count": 11,
     "metadata": {},
     "output_type": "execute_result"
    }
   ],
   "source": [
    "df.shape"
   ]
  },
  {
   "cell_type": "code",
   "execution_count": 12,
   "id": "10de5d0e",
   "metadata": {},
   "outputs": [],
   "source": [
    "#remove address columns\n",
    "df = df.drop(columns=['address'])"
   ]
  },
  {
   "cell_type": "code",
   "execution_count": 13,
   "id": "d6ca31bf",
   "metadata": {},
   "outputs": [
    {
     "data": {
      "text/plain": [
       "array([[         1,    1000000,    1000000, ...,          1,          0,\n",
       "                 0],\n",
       "       [         1,    3036250,    3036250, ...,          1,          0,\n",
       "                 0],\n",
       "       [         1,    4086250,    4086250, ...,          1,          0,\n",
       "                 0],\n",
       "       ...,\n",
       "       [        31,  123699090,  123699090, ...,          1,          0,\n",
       "                 0],\n",
       "       [        31,   40000000,   40000000, ...,          1,          0,\n",
       "                 0],\n",
       "       [        31, 2050678873, 2050678873, ...,          1,          0,\n",
       "                 0]])"
      ]
     },
     "execution_count": 13,
     "metadata": {},
     "output_type": "execute_result"
    }
   ],
   "source": [
    "X = df.values\n",
    "X"
   ]
  },
  {
   "cell_type": "code",
   "execution_count": 14,
   "id": "bd4fa881",
   "metadata": {},
   "outputs": [],
   "source": [
    "#Using multiple train-test splits will result in more models being trained,\n",
    "#and in turn, a more accurate estimate of the performance of the models on unseen data."
   ]
  },
  {
   "cell_type": "code",
   "execution_count": 15,
   "id": "19a991b8",
   "metadata": {},
   "outputs": [
    {
     "data": {
      "text/html": [
       "<div>\n",
       "<style scoped>\n",
       "    .dataframe tbody tr th:only-of-type {\n",
       "        vertical-align: middle;\n",
       "    }\n",
       "\n",
       "    .dataframe tbody tr th {\n",
       "        vertical-align: top;\n",
       "    }\n",
       "\n",
       "    .dataframe thead th {\n",
       "        text-align: right;\n",
       "    }\n",
       "</style>\n",
       "<table border=\"1\" class=\"dataframe\">\n",
       "  <thead>\n",
       "    <tr style=\"text-align: right;\">\n",
       "      <th></th>\n",
       "      <th>income</th>\n",
       "      <th>expenditure</th>\n",
       "      <th>neighbors</th>\n",
       "      <th>lengths</th>\n",
       "      <th>counts</th>\n",
       "      <th>loops</th>\n",
       "      <th>label</th>\n",
       "    </tr>\n",
       "    <tr>\n",
       "      <th>day</th>\n",
       "      <th></th>\n",
       "      <th></th>\n",
       "      <th></th>\n",
       "      <th></th>\n",
       "      <th></th>\n",
       "      <th></th>\n",
       "      <th></th>\n",
       "    </tr>\n",
       "  </thead>\n",
       "  <tbody>\n",
       "    <tr>\n",
       "      <th>1</th>\n",
       "      <td>1000000</td>\n",
       "      <td>1000000</td>\n",
       "      <td>1</td>\n",
       "      <td>0</td>\n",
       "      <td>1</td>\n",
       "      <td>0</td>\n",
       "      <td>0</td>\n",
       "    </tr>\n",
       "    <tr>\n",
       "      <th>1</th>\n",
       "      <td>3036250</td>\n",
       "      <td>3036250</td>\n",
       "      <td>1</td>\n",
       "      <td>1</td>\n",
       "      <td>1</td>\n",
       "      <td>0</td>\n",
       "      <td>0</td>\n",
       "    </tr>\n",
       "    <tr>\n",
       "      <th>1</th>\n",
       "      <td>4086250</td>\n",
       "      <td>4086250</td>\n",
       "      <td>1</td>\n",
       "      <td>0</td>\n",
       "      <td>1</td>\n",
       "      <td>0</td>\n",
       "      <td>0</td>\n",
       "    </tr>\n",
       "    <tr>\n",
       "      <th>1</th>\n",
       "      <td>2000000</td>\n",
       "      <td>2000000</td>\n",
       "      <td>1</td>\n",
       "      <td>0</td>\n",
       "      <td>1</td>\n",
       "      <td>0</td>\n",
       "      <td>0</td>\n",
       "    </tr>\n",
       "    <tr>\n",
       "      <th>1</th>\n",
       "      <td>2000000</td>\n",
       "      <td>2000000</td>\n",
       "      <td>1</td>\n",
       "      <td>0</td>\n",
       "      <td>1</td>\n",
       "      <td>0</td>\n",
       "      <td>0</td>\n",
       "    </tr>\n",
       "  </tbody>\n",
       "</table>\n",
       "</div>"
      ],
      "text/plain": [
       "      income  expenditure  neighbors  lengths  counts  loops  label\n",
       "day                                                                \n",
       "1    1000000      1000000          1        0       1      0      0\n",
       "1    3036250      3036250          1        1       1      0      0\n",
       "1    4086250      4086250          1        0       1      0      0\n",
       "1    2000000      2000000          1        0       1      0      0\n",
       "1    2000000      2000000          1        0       1      0      0"
      ]
     },
     "execution_count": 15,
     "metadata": {},
     "output_type": "execute_result"
    }
   ],
   "source": [
    "df = df.set_index('day')\n",
    "df.head()"
   ]
  },
  {
   "cell_type": "code",
   "execution_count": 16,
   "id": "1a2fff9a",
   "metadata": {},
   "outputs": [],
   "source": [
    "from sklearn.ensemble import RandomForestClassifier\n",
    "def train_model(history, one_step_test):\n",
    "    \n",
    "    #extract features and labels\n",
    "    X_train = history.drop(columns=['label']).values\n",
    "    y_train = history[['label']].values\n",
    "    X_test = one_step_test.drop(columns=['label']).values\n",
    "    y_test = one_step_test[['label']].values\n",
    "    \n",
    "    # fit model\n",
    "    model = RandomForestClassifier(n_estimators=1000)\n",
    "    model.fit(X_train, y_train.ravel())\n",
    "    \n",
    "    # make a one-step prediction\n",
    "    y_pred = model.predict(X_test)\n",
    "    return y_pred"
   ]
  },
  {
   "cell_type": "code",
   "execution_count": 17,
   "id": "f58b2a9c",
   "metadata": {
    "scrolled": false
   },
   "outputs": [
    {
     "name": "stdout",
     "output_type": "stream",
     "text": [
      "Batch for time t+1 = 2\n",
      "Training set is {1}\n",
      "Testing set is {2}\n",
      "Batch for time t+1 = 3\n",
      "Training set is {1, 2}\n",
      "Testing set is {3}\n",
      "Batch for time t+1 = 4\n",
      "Training set is {1, 2, 3}\n",
      "Testing set is {4}\n",
      "Batch for time t+1 = 5\n",
      "Training set is {1, 2, 3, 4}\n",
      "Testing set is {5}\n",
      "Batch for time t+1 = 6\n",
      "Training set is {1, 2, 3, 4, 5}\n",
      "Testing set is {6}\n",
      "Batch for time t+1 = 7\n",
      "Training set is {1, 2, 3, 4, 5, 6}\n",
      "Testing set is {7}\n",
      "Batch for time t+1 = 8\n",
      "Training set is {1, 2, 3, 4, 5, 6, 7}\n",
      "Testing set is {8}\n",
      "Batch for time t+1 = 9\n",
      "Training set is {1, 2, 3, 4, 5, 6, 7, 8}\n",
      "Testing set is {9}\n",
      "Batch for time t+1 = 10\n",
      "Training set is {1, 2, 3, 4, 5, 6, 7, 8, 9}\n",
      "Testing set is {10}\n",
      "Batch for time t+1 = 11\n",
      "Training set is {1, 2, 3, 4, 5, 6, 7, 8, 9, 10}\n",
      "Testing set is {11}\n",
      "Batch for time t+1 = 12\n",
      "Training set is {1, 2, 3, 4, 5, 6, 7, 8, 9, 10, 11}\n",
      "Testing set is {12}\n",
      "Batch for time t+1 = 13\n",
      "Training set is {1, 2, 3, 4, 5, 6, 7, 8, 9, 10, 11, 12}\n",
      "Testing set is {13}\n",
      "Batch for time t+1 = 14\n",
      "Training set is {1, 2, 3, 4, 5, 6, 7, 8, 9, 10, 11, 12, 13}\n",
      "Testing set is {14}\n",
      "Batch for time t+1 = 15\n",
      "Training set is {1, 2, 3, 4, 5, 6, 7, 8, 9, 10, 11, 12, 13, 14}\n",
      "Testing set is {15}\n",
      "Batch for time t+1 = 16\n",
      "Training set is {1, 2, 3, 4, 5, 6, 7, 8, 9, 10, 11, 12, 13, 14, 15}\n",
      "Testing set is {16}\n",
      "Batch for time t+1 = 17\n",
      "Training set is {1, 2, 3, 4, 5, 6, 7, 8, 9, 10, 11, 12, 13, 14, 15, 16}\n",
      "Testing set is {17}\n",
      "Batch for time t+1 = 18\n",
      "Training set is {1, 2, 3, 4, 5, 6, 7, 8, 9, 10, 11, 12, 13, 14, 15, 16, 17}\n",
      "Testing set is {18}\n",
      "Batch for time t+1 = 19\n",
      "Training set is {1, 2, 3, 4, 5, 6, 7, 8, 9, 10, 11, 12, 13, 14, 15, 16, 17, 18}\n",
      "Testing set is {19}\n",
      "Batch for time t+1 = 20\n",
      "Training set is {1, 2, 3, 4, 5, 6, 7, 8, 9, 10, 11, 12, 13, 14, 15, 16, 17, 18, 19}\n",
      "Testing set is {20}\n",
      "Batch for time t+1 = 21\n",
      "Training set is {1, 2, 3, 4, 5, 6, 7, 8, 9, 10, 11, 12, 13, 14, 15, 16, 17, 18, 19, 20}\n",
      "Testing set is {21}\n",
      "Batch for time t+1 = 22\n",
      "Training set is {1, 2, 3, 4, 5, 6, 7, 8, 9, 10, 11, 12, 13, 14, 15, 16, 17, 18, 19, 20, 21}\n",
      "Testing set is {22}\n",
      "Batch for time t+1 = 23\n",
      "Training set is {1, 2, 3, 4, 5, 6, 7, 8, 9, 10, 11, 12, 13, 14, 15, 16, 17, 18, 19, 20, 21, 22}\n",
      "Testing set is {23}\n",
      "Batch for time t+1 = 24\n",
      "Training set is {1, 2, 3, 4, 5, 6, 7, 8, 9, 10, 11, 12, 13, 14, 15, 16, 17, 18, 19, 20, 21, 22, 23}\n",
      "Testing set is {24}\n",
      "Batch for time t+1 = 25\n",
      "Training set is {1, 2, 3, 4, 5, 6, 7, 8, 9, 10, 11, 12, 13, 14, 15, 16, 17, 18, 19, 20, 21, 22, 23, 24}\n",
      "Testing set is {25}\n",
      "Batch for time t+1 = 26\n",
      "Training set is {1, 2, 3, 4, 5, 6, 7, 8, 9, 10, 11, 12, 13, 14, 15, 16, 17, 18, 19, 20, 21, 22, 23, 24, 25}\n",
      "Testing set is {26}\n",
      "Batch for time t+1 = 27\n",
      "Training set is {1, 2, 3, 4, 5, 6, 7, 8, 9, 10, 11, 12, 13, 14, 15, 16, 17, 18, 19, 20, 21, 22, 23, 24, 25, 26}\n",
      "Testing set is {27}\n",
      "Batch for time t+1 = 28\n",
      "Training set is {1, 2, 3, 4, 5, 6, 7, 8, 9, 10, 11, 12, 13, 14, 15, 16, 17, 18, 19, 20, 21, 22, 23, 24, 25, 26, 27}\n",
      "Testing set is {28}\n",
      "Batch for time t+1 = 29\n",
      "Training set is {1, 2, 3, 4, 5, 6, 7, 8, 9, 10, 11, 12, 13, 14, 15, 16, 17, 18, 19, 20, 21, 22, 23, 24, 25, 26, 27, 28}\n",
      "Testing set is {29}\n",
      "Batch for time t+1 = 30\n",
      "Training set is {1, 2, 3, 4, 5, 6, 7, 8, 9, 10, 11, 12, 13, 14, 15, 16, 17, 18, 19, 20, 21, 22, 23, 24, 25, 26, 27, 28, 29}\n",
      "Testing set is {30}\n",
      "Batch for time t+1 = 31\n",
      "Training set is {1, 2, 3, 4, 5, 6, 7, 8, 9, 10, 11, 12, 13, 14, 15, 16, 17, 18, 19, 20, 21, 22, 23, 24, 25, 26, 27, 28, 29, 30}\n",
      "Testing set is {31}\n"
     ]
    }
   ],
   "source": [
    "predictions = []\n",
    "actual = []\n",
    "\n",
    "for t in range(1, len(set(df.index))):\n",
    "    \n",
    "    #creating temporal windows for training and testing\n",
    "    history = df.loc[0:t]\n",
    "    one_step_test = df.loc[t+1]\n",
    "    \n",
    "    y_pred = train_model(history, one_step_test)\n",
    "\n",
    "    actual.extend(one_step_test[['label']].values)\n",
    "    predictions.extend(y_pred)\n",
    "    \n",
    "    print(\"Batch for time t+1 = {}\".format(t+1))\n",
    "    print(\"Training set is {}\".format(set(history.index)))\n",
    "    print(\"Testing set is {}\".format(set(one_step_test.index)))"
   ]
  },
  {
   "cell_type": "code",
   "execution_count": 105,
   "id": "286f463d",
   "metadata": {},
   "outputs": [],
   "source": [
    "#https://machinelearningmastery.com/random-forest-for-time-series-forecasting/"
   ]
  },
  {
   "cell_type": "code",
   "execution_count": 12,
   "id": "8db2f37a",
   "metadata": {},
   "outputs": [
    {
     "name": "stdout",
     "output_type": "stream",
     "text": [
      "[[5891   89]\n",
      " [ 105   55]]\n"
     ]
    }
   ],
   "source": [
    "from sklearn.metrics import confusion_matrix\n",
    "cf_matrix = confusion_matrix(actual, predictions)\n",
    "print(cf_matrix)"
   ]
  },
  {
   "cell_type": "code",
   "execution_count": 19,
   "id": "4374f80a",
   "metadata": {},
   "outputs": [
    {
     "data": {
      "text/plain": [
       "<AxesSubplot:>"
      ]
     },
     "execution_count": 19,
     "metadata": {},
     "output_type": "execute_result"
    },
    {
     "data": {
      "image/png": "[encoded data removed]",
      "text/plain": [
       "<Figure size 432x288 with 2 Axes>"
      ]
     },
     "metadata": {
      "needs_background": "light"
     },
     "output_type": "display_data"
    }
   ],
   "source": [
    "import seaborn as sns\n",
    "sns.heatmap(cf_matrix, annot=True)"
   ]
  },
  {
   "cell_type": "code",
   "execution_count": 14,
   "id": "759c06b1",
   "metadata": {},
   "outputs": [
    {
     "name": "stdout",
     "output_type": "stream",
     "text": [
      "0.966838973599724\n"
     ]
    }
   ],
   "source": [
    "from sklearn.metrics import precision_score\n",
    "print(precision_score(actual, predictions, average='weighted'))"
   ]
  },
  {
   "cell_type": "code",
   "execution_count": 15,
   "id": "8026c7c4",
   "metadata": {},
   "outputs": [
    {
     "name": "stdout",
     "output_type": "stream",
     "text": [
      "0.9684039087947883\n"
     ]
    }
   ],
   "source": [
    "from sklearn.metrics import recall_score\n",
    "print(recall_score(actual, predictions, average='weighted'))"
   ]
  },
  {
   "cell_type": "code",
   "execution_count": 16,
   "id": "465b3ee4",
   "metadata": {},
   "outputs": [
    {
     "name": "stdout",
     "output_type": "stream",
     "text": [
      "0.9684039087947883\n"
     ]
    }
   ],
   "source": [
    "from sklearn.metrics import accuracy_score\n",
    "print(accuracy_score(actual, predictions))"
   ]
  },
  {
   "cell_type": "code",
   "execution_count": 17,
   "id": "57ef4553",
   "metadata": {},
   "outputs": [
    {
     "name": "stdout",
     "output_type": "stream",
     "text": [
      "0.9675935389837907\n"
     ]
    }
   ],
   "source": [
    "from sklearn.metrics import f1_score\n",
    "print(f1_score(actual, predictions, average='weighted'))"
   ]
  },
  {
   "cell_type": "code",
   "execution_count": 18,
   "id": "5f18c416",
   "metadata": {},
   "outputs": [
    {
     "name": "stdout",
     "output_type": "stream",
     "text": [
      "              precision    recall  f1-score   support\n",
      "\n",
      "           0       0.98      0.99      0.98      5980\n",
      "           1       0.38      0.34      0.36       160\n",
      "\n",
      "    accuracy                           0.97      6140\n",
      "   macro avg       0.68      0.66      0.67      6140\n",
      "weighted avg       0.97      0.97      0.97      6140\n",
      "\n"
     ]
    }
   ],
   "source": [
    "from sklearn.metrics import classification_report\n",
    "print(classification_report(actual, predictions, labels=[0,1]))"
   ]
  },
  {
   "cell_type": "code",
   "execution_count": null,
   "id": "8521ccf3",
   "metadata": {},
   "outputs": [],
   "source": []
  }
 ],
 "metadata": {
  "kernelspec": {
   "display_name": "Python 3 (ipykernel)",
   "language": "python",
   "name": "python3"
  },
  "language_info": {
   "codemirror_mode": {
    "name": "ipython",
    "version": 3
   },
   "file_extension": ".py",
   "mimetype": "text/x-python",
   "name": "python",
   "nbconvert_exporter": "python",
   "pygments_lexer": "ipython3",
   "version": "3.8.10"
  }
 },
 "nbformat": 4,
 "nbformat_minor": 5
}
