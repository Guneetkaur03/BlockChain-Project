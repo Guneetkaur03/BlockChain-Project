{
  "nbformat": 4,
  "nbformat_minor": 0,
  "metadata": {
    "colab": {
      "name": "24hrwind.ipynb",
      "provenance": [],
      "collapsed_sections": []
    },
    "kernelspec": {
      "name": "python3",
      "display_name": "Python 3"
    },
    "language_info": {
      "name": "python"
    }
  },
  "cells": [
    {
      "cell_type": "code",
      "metadata": {
        "id": "VdebOMtAKC3I"
      },
      "source": [
        "from joblib import Parallel, delayed\n",
        "from datetime import time, datetime\n",
        "from tqdm import tqdm"
      ],
      "execution_count": 50,
      "outputs": []
    },
    {
      "cell_type": "code",
      "metadata": {
        "id": "xvQvmG6OKtfz"
      },
      "source": [
        "def humanize_unixtime(unix_time):\n",
        "    time = datetime.fromtimestamp(int(unix_time)).strftime('%d-%m-%Y %H.%M.%S')\n",
        "    return time"
      ],
      "execution_count": 51,
      "outputs": []
    },
    {
      "cell_type": "code",
      "metadata": {
        "id": "hFXpDxTKKuG7"
      },
      "source": [
        "def get_24hr_details(input_type, month,unix_time):\n",
        "    \n",
        "    #hashes list to store all the hashes\n",
        "    details_dict = dict()\n",
        "    \n",
        "    #read files\n",
        "    if input_type == \"inputs\":\n",
        "        filename = \"/content/drive/MyDrive/edges2010/updated/inputs2010_{}.txt\".format(str(month+1))\n",
        "    if input_type == \"outputs\":\n",
        "        filename = \"/content/drive/MyDrive/edges2010/updated/outputs2010_{}.txt\".format(str(month+1))\n",
        "\n",
        "    with open(filename) as file:\n",
        "        for line in file:\n",
        "            #split by tab char to get the details present\n",
        "            line = line.replace('\\n', '')\n",
        "            print(\"line\",line)\n",
        "            details = line.split(\"\\t\")\n",
        "\n",
        "            #hash present at the second value\n",
        "            #append in the list\n",
        "            #details_dict[details[1]] = dict()\n",
        "            unix_time_24 = unix_time + 24 * 60 * 60\n",
        "            print(\"unix_time\",unix_time)\n",
        "            print(\"unix_time_24\",unix_time_24)\n",
        "\n",
        "            if details[0] >= str(unix_time) and details[0] <= str(unix_time_24):\n",
        "                details_dict[details[1]] = dict()\n",
        "                if input_type == \"inputs\":\n",
        "                    #details_dict[details[1]][\"input\"] = details[2:]\n",
        "                    details_dict[details[1]]['time'] = details[0]\n",
        "                    details_dict[details[1]][\"input\"] = details[2:]\n",
        "                    details_dict[details[1]][\"human\"] = humanize_unixtime(details[0])\n",
        "                \n",
        "                if input_type == \"outputs\":\n",
        "                    #details_dict[details[1]][\"output\"] = details[2:]\n",
        "                    details_dict[details[1]][\"output\"] = details[2:]\n",
        "                    details_dict[details[1]][\"time\"] = details[0]\n",
        "                    details_dict[details[1]][\"human\"] = humanize_unixtime(details[0])\n",
        "            \n",
        "    return details_dict"
      ],
      "execution_count": 52,
      "outputs": []
    },
    {
      "cell_type": "code",
      "metadata": {
        "id": "elQWlFMrLA_q"
      },
      "source": [
        "#as there is data file for each month\n",
        "month = 1\n",
        "\n",
        "#input dict to store all the input details\n",
        "input_dict = dict()\n",
        "\n",
        "#output dict to store all the output details\n",
        "output_dict = dict()"
      ],
      "execution_count": 53,
      "outputs": []
    },
    {
      "cell_type": "code",
      "metadata": {
        "colab": {
          "base_uri": "https://localhost:8080/",
          "height": 0
        },
        "id": "qKO1mty4LEOV",
        "outputId": "0fe59d29-be73-474a-d0ad-2609ce58798c"
      },
      "source": [
        "import time\n",
        "from datetime import datetime\n",
        "\n",
        "start_time = time.time()\n",
        "dt = datetime(2010,1,23,20,17,11)\n",
        "unixtimestamp = int((dt - datetime(1970,1,1)).total_seconds())\n",
        "\n",
        "#calling function\n",
        "inp = Parallel(n_jobs=-1)(delayed(get_24hr_details)(\"inputs\", i,unixtimestamp) for i in tqdm(range(month)))\n",
        "for d in inp:\n",
        "    input_dict.update(d)\n",
        "\n",
        "end_time = time.time()\n",
        "print(\"Time taken to read the input file data is {}\".format(end_time - start_time))"
      ],
      "execution_count": 54,
      "outputs": [
        {
          "output_type": "stream",
          "name": "stderr",
          "text": [
            "100%|██████████| 1/1 [00:00<00:00, 433.25it/s]\n"
          ]
        },
        {
          "output_type": "stream",
          "name": "stdout",
          "text": [
            "Time taken to read the input file data is 0.40171003341674805\n"
          ]
        }
      ]
    },
    {
      "cell_type": "code",
      "metadata": {
        "colab": {
          "base_uri": "https://localhost:8080/",
          "height": 0
        },
        "id": "ndwmi2t9LIES",
        "outputId": "a5eda6b0-ff01-4729-8f0b-e6afcc7257ab"
      },
      "source": [
        "inp"
      ],
      "execution_count": 55,
      "outputs": [
        {
          "output_type": "execute_result",
          "data": {
            "text/plain": [
              "[{'60285': {'human': '23-01-2010 20.17.11',\n",
              "   'input': ['61803', '1'],\n",
              "   'time': '1264277831'},\n",
              "  '61803': {'human': '23-01-2010 20.17.11',\n",
              "   'input': ['63838', '0'],\n",
              "   'time': '1264277831'},\n",
              "  '70095': {'human': '24-01-2010 14.14.25',\n",
              "   'input': ['e7bead8fdda66ea1d0433002d58c7d195762b131a6a1c0cef912c589169fca3d',\n",
              "    '0'],\n",
              "   'time': '1264342465'}}]"
            ]
          },
          "metadata": {},
          "execution_count": 55
        }
      ]
    },
    {
      "cell_type": "code",
      "metadata": {
        "colab": {
          "base_uri": "https://localhost:8080/",
          "height": 0
        },
        "id": "ayq9fDPbMd8-",
        "outputId": "4ce761b8-9c92-45a7-b480-fd792936a7bd"
      },
      "source": [
        "print(\"Total details in input dict is: {}\".format(len(input_dict)))"
      ],
      "execution_count": 56,
      "outputs": [
        {
          "output_type": "stream",
          "name": "stdout",
          "text": [
            "Total details in input dict is: 3\n"
          ]
        }
      ]
    },
    {
      "cell_type": "code",
      "metadata": {
        "colab": {
          "base_uri": "https://localhost:8080/",
          "height": 0
        },
        "id": "Q3wzhmXOMh6f",
        "outputId": "b2833b42-9c10-4af7-9875-16c72c63e139"
      },
      "source": [
        "start_time = time.time()\n",
        "dt = datetime(2010,1,23,20,17,11)\n",
        "unixtimestamp = int((dt - datetime(1970,1,1)).total_seconds())\n",
        "\n",
        "#calling function\n",
        "inp = Parallel(n_jobs=-1)(delayed(get_24hr_details)(\"outputs\", i,unixtimestamp) for i in tqdm(range(month)))\n",
        "for d in inp:\n",
        "    output_dict.update(d)\n",
        "\n",
        "end_time = time.time()\n",
        "print(\"Time taken to read the output file data is {}\".format(end_time - start_time))"
      ],
      "execution_count": 57,
      "outputs": [
        {
          "output_type": "stream",
          "name": "stderr",
          "text": [
            "100%|██████████| 1/1 [00:00<00:00, 426.42it/s]"
          ]
        },
        {
          "output_type": "stream",
          "name": "stdout",
          "text": [
            "Time taken to read the output file data is 0.020209789276123047\n"
          ]
        },
        {
          "output_type": "stream",
          "name": "stderr",
          "text": [
            "\n"
          ]
        }
      ]
    },
    {
      "cell_type": "code",
      "metadata": {
        "colab": {
          "base_uri": "https://localhost:8080/",
          "height": 0
        },
        "id": "JLtLc-p0M0CF",
        "outputId": "8d4cc669-cec6-4619-edd6-65a32eeb519e"
      },
      "source": [
        "print(\"Total details in output dict is: {}\".format(len(output_dict)))"
      ],
      "execution_count": 58,
      "outputs": [
        {
          "output_type": "stream",
          "name": "stdout",
          "text": [
            "Total details in output dict is: 3\n"
          ]
        }
      ]
    },
    {
      "cell_type": "code",
      "metadata": {
        "colab": {
          "base_uri": "https://localhost:8080/",
          "height": 0
        },
        "id": "t-YbAn2_RGEo",
        "outputId": "7ee0c580-00f3-44af-e50d-9394da2d5381"
      },
      "source": [
        "pip install igraph"
      ],
      "execution_count": 59,
      "outputs": [
        {
          "output_type": "stream",
          "name": "stdout",
          "text": [
            "Requirement already satisfied: igraph in /usr/local/lib/python3.7/dist-packages (0.9.8)\n",
            "Requirement already satisfied: texttable>=1.6.2 in /usr/local/lib/python3.7/dist-packages (from igraph) (1.6.4)\n"
          ]
        }
      ]
    },
    {
      "cell_type": "code",
      "metadata": {
        "id": "qiYvErj8Q9Cq"
      },
      "source": [
        "from igraph import *\n",
        "import networkx as nx\n",
        "from matplotlib import pyplot as plt"
      ],
      "execution_count": 60,
      "outputs": []
    },
    {
      "cell_type": "code",
      "metadata": {
        "id": "yoj3EcO8RKv5"
      },
      "source": [
        "g = nx.DiGraph()"
      ],
      "execution_count": 61,
      "outputs": []
    },
    {
      "cell_type": "code",
      "metadata": {
        "colab": {
          "base_uri": "https://localhost:8080/",
          "height": 0
        },
        "id": "3-zBOs63RMYA",
        "outputId": "7b18e815-402b-4a78-cc62-f55bf5462baa"
      },
      "source": [
        "print(g)"
      ],
      "execution_count": 62,
      "outputs": [
        {
          "output_type": "stream",
          "name": "stdout",
          "text": [
            "DiGraph with 0 nodes and 0 edges\n"
          ]
        }
      ]
    },
    {
      "cell_type": "code",
      "metadata": {
        "colab": {
          "base_uri": "https://localhost:8080/",
          "height": 0
        },
        "id": "PnUMI1WQY742",
        "outputId": "10bbdb09-a64b-4c64-e740-3debe64c9364"
      },
      "source": [
        "input_dict"
      ],
      "execution_count": 63,
      "outputs": [
        {
          "output_type": "execute_result",
          "data": {
            "text/plain": [
              "{'60285': {'human': '23-01-2010 20.17.11',\n",
              "  'input': ['61803', '1'],\n",
              "  'time': '1264277831'},\n",
              " '61803': {'human': '23-01-2010 20.17.11',\n",
              "  'input': ['63838', '0'],\n",
              "  'time': '1264277831'},\n",
              " '70095': {'human': '24-01-2010 14.14.25',\n",
              "  'input': ['e7bead8fdda66ea1d0433002d58c7d195762b131a6a1c0cef912c589169fca3d',\n",
              "   '0'],\n",
              "  'time': '1264342465'}}"
            ]
          },
          "metadata": {},
          "execution_count": 63
        }
      ]
    },
    {
      "cell_type": "code",
      "metadata": {
        "colab": {
          "base_uri": "https://localhost:8080/",
          "height": 0
        },
        "id": "zNQzGyVYYcww",
        "outputId": "48dfce2f-da45-4764-dee3-eb6ed62b8316"
      },
      "source": [
        "output_dict"
      ],
      "execution_count": 64,
      "outputs": [
        {
          "output_type": "execute_result",
          "data": {
            "text/plain": [
              "{'60285': {'human': '23-01-2010 20.17.11',\n",
              "  'output': ['18nM13Qq7hHf2hVkV2aZx8QhvWfFBMY14h', '200000000'],\n",
              "  'time': '1264277831'},\n",
              " '61803': {'human': '23-01-2010 20.17.11',\n",
              "  'output': ['noaddress',\n",
              "   '4700000000',\n",
              "   '1EGDbCKGbizMFgwjn4WNHTvAthsvrsixDv',\n",
              "   '200000000'],\n",
              "  'time': '1264277831'},\n",
              " '70095': {'human': '24-01-2010 14.14.25',\n",
              "  'output': ['18nM13Qq7hHf2hVkV2aZx8QhvWfFBMY14h', '5000000000'],\n",
              "  'time': '1264342465'}}"
            ]
          },
          "metadata": {},
          "execution_count": 64
        }
      ]
    },
    {
      "cell_type": "code",
      "metadata": {
        "colab": {
          "base_uri": "https://localhost:8080/",
          "height": 0
        },
        "id": "i6uuga_fbcSt",
        "outputId": "b7063d15-68b9-4365-f648-7a347e69e027"
      },
      "source": [
        "for key, value in output_dict.items():\n",
        "    input_details = input_dict[key]\n",
        "    output_dict[key][\"input\"] = input_details[\"input\"]\n",
        "\n",
        "print(\"Total details in linked dict is: {}\".format(len(output_dict)))"
      ],
      "execution_count": 65,
      "outputs": [
        {
          "output_type": "stream",
          "name": "stdout",
          "text": [
            "Total details in linked dict is: 3\n"
          ]
        }
      ]
    },
    {
      "cell_type": "code",
      "metadata": {
        "id": "AniAGjxPRTrd"
      },
      "source": [
        "updated_dict = dict(sorted(output_dict.items(), key=lambda item: item[1]['time']))"
      ],
      "execution_count": 66,
      "outputs": []
    },
    {
      "cell_type": "code",
      "metadata": {
        "colab": {
          "base_uri": "https://localhost:8080/",
          "height": 0
        },
        "id": "TqfTTDEJT1yK",
        "outputId": "40c56a88-9826-475f-8a59-01f03ef14dba"
      },
      "source": [
        "updated_dict"
      ],
      "execution_count": 67,
      "outputs": [
        {
          "output_type": "execute_result",
          "data": {
            "text/plain": [
              "{'60285': {'human': '23-01-2010 20.17.11',\n",
              "  'input': ['61803', '1'],\n",
              "  'output': ['18nM13Qq7hHf2hVkV2aZx8QhvWfFBMY14h', '200000000'],\n",
              "  'time': '1264277831'},\n",
              " '61803': {'human': '23-01-2010 20.17.11',\n",
              "  'input': ['63838', '0'],\n",
              "  'output': ['noaddress',\n",
              "   '4700000000',\n",
              "   '1EGDbCKGbizMFgwjn4WNHTvAthsvrsixDv',\n",
              "   '200000000'],\n",
              "  'time': '1264277831'},\n",
              " '70095': {'human': '24-01-2010 14.14.25',\n",
              "  'input': ['e7bead8fdda66ea1d0433002d58c7d195762b131a6a1c0cef912c589169fca3d',\n",
              "   '0'],\n",
              "  'output': ['18nM13Qq7hHf2hVkV2aZx8QhvWfFBMY14h', '5000000000'],\n",
              "  'time': '1264342465'}}"
            ]
          },
          "metadata": {},
          "execution_count": 67
        }
      ]
    },
    {
      "cell_type": "code",
      "metadata": {
        "colab": {
          "base_uri": "https://localhost:8080/",
          "height": 0
        },
        "id": "H2Oe8hHHRcme",
        "outputId": "a4b79968-0ea5-4a0b-c051-49ad0d228fb5"
      },
      "source": [
        "for key, value in tqdm(updated_dict.items()):\n",
        "    \n",
        "    #print(\"Current transaction hash {}\".format(key))\n",
        "    hash_of_transc = key\n",
        "    \n",
        "    \n",
        "    input_details_of_hash_of_transc = value[\"input\"]\n",
        "    output_details_of_hash_of_transc = value[\"output\"]\n",
        "    \n",
        "    #print(\"Transaction input details {}\".format(input_details_of_hash_of_transc))\n",
        "    #print(\"Transaction output details {}\".format(output_details_of_hash_of_transc))\n",
        "    \n",
        "    #going over all input transactions\n",
        "    for i in range(0, len(input_details_of_hash_of_transc), 2):\n",
        "        \n",
        "        input_hash = input_details_of_hash_of_transc[i]\n",
        "        output_index = input_details_of_hash_of_transc[i+1]\n",
        "        \n",
        "        #print(input_hash)\n",
        "        #print(output_index)\n",
        "        if input_hash not in updated_dict.keys():\n",
        "            #g.add_vertex(input_hash)\n",
        "            #print(\"no address\")\n",
        "            pass\n",
        "        else:\n",
        "            #g.add_vertex(input_hash)\n",
        "            #get output details of that input transaction\n",
        "            get_amounts = updated_dict[input_hash][\"output\"]\n",
        "            \n",
        "            #print(get_amounts)\n",
        "            address = get_amounts[int(output_index)]\n",
        "            amount = get_amounts[2*int(output_index)+1]\n",
        "            \n",
        "            \n",
        "            #add input transaction node\n",
        "            g.add_node(input_hash, s='s', label='transaction', color=\"r\")\n",
        "            \n",
        "            #add address node\n",
        "            g.add_node(address, s ='s', label='address', color=\"b\")\n",
        "            \n",
        "            #add output transaction node\n",
        "            g.add_node(hash_of_transc, s='o', label='transaction', color=\"r\")\n",
        "            \n",
        "            #add edge between input transaction and address\n",
        "            g.add_edge(input_hash, address, weight=int(amount))\n",
        "            \n",
        "            #add edge between address and output transaction\n",
        "            g.add_edge(address, key, weight=int(amount))"
      ],
      "execution_count": 70,
      "outputs": [
        {
          "output_type": "stream",
          "name": "stderr",
          "text": [
            "100%|██████████| 3/3 [00:00<00:00, 14446.51it/s]\n"
          ]
        }
      ]
    },
    {
      "cell_type": "code",
      "metadata": {
        "colab": {
          "base_uri": "https://localhost:8080/",
          "height": 319
        },
        "id": "B9RolmHwd4zb",
        "outputId": "cf6cddac-db0b-4e0d-8044-d311daece375"
      },
      "source": [
        "import matplotlib.pyplot as plt\n",
        "nx.draw(g)"
      ],
      "execution_count": 73,
      "outputs": [
        {
          "output_type": "display_data",
          "data": {
            "image/png": "[encoded data removed]",
            "text/plain": [
              "<Figure size 432x288 with 1 Axes>"
            ]
          },
          "metadata": {}
        }
      ]
    },
    {
      "cell_type": "code",
      "metadata": {
        "colab": {
          "base_uri": "https://localhost:8080/",
          "height": 0
        },
        "id": "qkeAYVd9ePe9",
        "outputId": "d7a0026d-f627-4341-9913-20d47040db58"
      },
      "source": [
        "pip install stellargraph"
      ],
      "execution_count": 74,
      "outputs": [
        {
          "output_type": "stream",
          "name": "stdout",
          "text": [
            "Collecting stellargraph\n",
            "  Downloading stellargraph-1.2.1-py3-none-any.whl (435 kB)\n",
            "\u001b[?25l\r\u001b[K     |▊                               | 10 kB 22.5 MB/s eta 0:00:01\r\u001b[K     |█▌                              | 20 kB 26.4 MB/s eta 0:00:01\r\u001b[K     |██▎                             | 30 kB 30.9 MB/s eta 0:00:01\r\u001b[K     |███                             | 40 kB 33.2 MB/s eta 0:00:01\r\u001b[K     |███▊                            | 51 kB 35.2 MB/s eta 0:00:01\r\u001b[K     |████▌                           | 61 kB 32.0 MB/s eta 0:00:01\r\u001b[K     |█████▎                          | 71 kB 26.4 MB/s eta 0:00:01\r\u001b[K     |██████                          | 81 kB 26.5 MB/s eta 0:00:01\r\u001b[K     |██████▊                         | 92 kB 28.4 MB/s eta 0:00:01\r\u001b[K     |███████▌                        | 102 kB 30.4 MB/s eta 0:00:01\r\u001b[K     |████████▎                       | 112 kB 30.4 MB/s eta 0:00:01\r\u001b[K     |█████████                       | 122 kB 30.4 MB/s eta 0:00:01\r\u001b[K     |█████████▉                      | 133 kB 30.4 MB/s eta 0:00:01\r\u001b[K     |██████████▌                     | 143 kB 30.4 MB/s eta 0:00:01\r\u001b[K     |███████████▎                    | 153 kB 30.4 MB/s eta 0:00:01\r\u001b[K     |████████████                    | 163 kB 30.4 MB/s eta 0:00:01\r\u001b[K     |████████████▉                   | 174 kB 30.4 MB/s eta 0:00:01\r\u001b[K     |█████████████▌                  | 184 kB 30.4 MB/s eta 0:00:01\r\u001b[K     |██████████████▎                 | 194 kB 30.4 MB/s eta 0:00:01\r\u001b[K     |███████████████                 | 204 kB 30.4 MB/s eta 0:00:01\r\u001b[K     |███████████████▉                | 215 kB 30.4 MB/s eta 0:00:01\r\u001b[K     |████████████████▋               | 225 kB 30.4 MB/s eta 0:00:01\r\u001b[K     |█████████████████▎              | 235 kB 30.4 MB/s eta 0:00:01\r\u001b[K     |██████████████████              | 245 kB 30.4 MB/s eta 0:00:01\r\u001b[K     |██████████████████▉             | 256 kB 30.4 MB/s eta 0:00:01\r\u001b[K     |███████████████████▋            | 266 kB 30.4 MB/s eta 0:00:01\r\u001b[K     |████████████████████▎           | 276 kB 30.4 MB/s eta 0:00:01\r\u001b[K     |█████████████████████           | 286 kB 30.4 MB/s eta 0:00:01\r\u001b[K     |█████████████████████▉          | 296 kB 30.4 MB/s eta 0:00:01\r\u001b[K     |██████████████████████▋         | 307 kB 30.4 MB/s eta 0:00:01\r\u001b[K     |███████████████████████▍        | 317 kB 30.4 MB/s eta 0:00:01\r\u001b[K     |████████████████████████        | 327 kB 30.4 MB/s eta 0:00:01\r\u001b[K     |████████████████████████▉       | 337 kB 30.4 MB/s eta 0:00:01\r\u001b[K     |█████████████████████████▋      | 348 kB 30.4 MB/s eta 0:00:01\r\u001b[K     |██████████████████████████▍     | 358 kB 30.4 MB/s eta 0:00:01\r\u001b[K     |███████████████████████████     | 368 kB 30.4 MB/s eta 0:00:01\r\u001b[K     |███████████████████████████▉    | 378 kB 30.4 MB/s eta 0:00:01\r\u001b[K     |████████████████████████████▋   | 389 kB 30.4 MB/s eta 0:00:01\r\u001b[K     |█████████████████████████████▍  | 399 kB 30.4 MB/s eta 0:00:01\r\u001b[K     |██████████████████████████████▏ | 409 kB 30.4 MB/s eta 0:00:01\r\u001b[K     |██████████████████████████████▉ | 419 kB 30.4 MB/s eta 0:00:01\r\u001b[K     |███████████████████████████████▋| 430 kB 30.4 MB/s eta 0:00:01\r\u001b[K     |████████████████████████████████| 435 kB 30.4 MB/s \n",
            "\u001b[?25hRequirement already satisfied: gensim>=3.4.0 in /usr/local/lib/python3.7/dist-packages (from stellargraph) (3.6.0)\n",
            "Requirement already satisfied: numpy>=1.14 in /usr/local/lib/python3.7/dist-packages (from stellargraph) (1.19.5)\n",
            "Requirement already satisfied: matplotlib>=2.2 in /usr/local/lib/python3.7/dist-packages (from stellargraph) (3.2.2)\n",
            "Requirement already satisfied: pandas>=0.24 in /usr/local/lib/python3.7/dist-packages (from stellargraph) (1.1.5)\n",
            "Requirement already satisfied: tensorflow>=2.1.0 in /usr/local/lib/python3.7/dist-packages (from stellargraph) (2.7.0)\n",
            "Requirement already satisfied: networkx>=2.2 in /usr/local/lib/python3.7/dist-packages (from stellargraph) (2.6.3)\n",
            "Requirement already satisfied: scipy>=1.1.0 in /usr/local/lib/python3.7/dist-packages (from stellargraph) (1.4.1)\n",
            "Requirement already satisfied: scikit-learn>=0.20 in /usr/local/lib/python3.7/dist-packages (from stellargraph) (1.0.1)\n",
            "Requirement already satisfied: six>=1.5.0 in /usr/local/lib/python3.7/dist-packages (from gensim>=3.4.0->stellargraph) (1.15.0)\n",
            "Requirement already satisfied: smart-open>=1.2.1 in /usr/local/lib/python3.7/dist-packages (from gensim>=3.4.0->stellargraph) (5.2.1)\n",
            "Requirement already satisfied: python-dateutil>=2.1 in /usr/local/lib/python3.7/dist-packages (from matplotlib>=2.2->stellargraph) (2.8.2)\n",
            "Requirement already satisfied: pyparsing!=2.0.4,!=2.1.2,!=2.1.6,>=2.0.1 in /usr/local/lib/python3.7/dist-packages (from matplotlib>=2.2->stellargraph) (2.4.7)\n",
            "Requirement already satisfied: kiwisolver>=1.0.1 in /usr/local/lib/python3.7/dist-packages (from matplotlib>=2.2->stellargraph) (1.3.2)\n",
            "Requirement already satisfied: cycler>=0.10 in /usr/local/lib/python3.7/dist-packages (from matplotlib>=2.2->stellargraph) (0.11.0)\n",
            "Requirement already satisfied: pytz>=2017.2 in /usr/local/lib/python3.7/dist-packages (from pandas>=0.24->stellargraph) (2018.9)\n",
            "Requirement already satisfied: threadpoolctl>=2.0.0 in /usr/local/lib/python3.7/dist-packages (from scikit-learn>=0.20->stellargraph) (3.0.0)\n",
            "Requirement already satisfied: joblib>=0.11 in /usr/local/lib/python3.7/dist-packages (from scikit-learn>=0.20->stellargraph) (1.1.0)\n",
            "Requirement already satisfied: protobuf>=3.9.2 in /usr/local/lib/python3.7/dist-packages (from tensorflow>=2.1.0->stellargraph) (3.17.3)\n",
            "Requirement already satisfied: h5py>=2.9.0 in /usr/local/lib/python3.7/dist-packages (from tensorflow>=2.1.0->stellargraph) (3.1.0)\n",
            "Requirement already satisfied: google-pasta>=0.1.1 in /usr/local/lib/python3.7/dist-packages (from tensorflow>=2.1.0->stellargraph) (0.2.0)\n",
            "Requirement already satisfied: libclang>=9.0.1 in /usr/local/lib/python3.7/dist-packages (from tensorflow>=2.1.0->stellargraph) (12.0.0)\n",
            "Requirement already satisfied: opt-einsum>=2.3.2 in /usr/local/lib/python3.7/dist-packages (from tensorflow>=2.1.0->stellargraph) (3.3.0)\n",
            "Requirement already satisfied: tensorflow-estimator<2.8,~=2.7.0rc0 in /usr/local/lib/python3.7/dist-packages (from tensorflow>=2.1.0->stellargraph) (2.7.0)\n",
            "Requirement already satisfied: termcolor>=1.1.0 in /usr/local/lib/python3.7/dist-packages (from tensorflow>=2.1.0->stellargraph) (1.1.0)\n",
            "Requirement already satisfied: wheel<1.0,>=0.32.0 in /usr/local/lib/python3.7/dist-packages (from tensorflow>=2.1.0->stellargraph) (0.37.0)\n",
            "Requirement already satisfied: wrapt>=1.11.0 in /usr/local/lib/python3.7/dist-packages (from tensorflow>=2.1.0->stellargraph) (1.13.3)\n",
            "Requirement already satisfied: grpcio<2.0,>=1.24.3 in /usr/local/lib/python3.7/dist-packages (from tensorflow>=2.1.0->stellargraph) (1.41.1)\n",
            "Requirement already satisfied: typing-extensions>=3.6.6 in /usr/local/lib/python3.7/dist-packages (from tensorflow>=2.1.0->stellargraph) (3.10.0.2)\n",
            "Requirement already satisfied: gast<0.5.0,>=0.2.1 in /usr/local/lib/python3.7/dist-packages (from tensorflow>=2.1.0->stellargraph) (0.4.0)\n",
            "Requirement already satisfied: tensorflow-io-gcs-filesystem>=0.21.0 in /usr/local/lib/python3.7/dist-packages (from tensorflow>=2.1.0->stellargraph) (0.22.0)\n",
            "Requirement already satisfied: keras-preprocessing>=1.1.1 in /usr/local/lib/python3.7/dist-packages (from tensorflow>=2.1.0->stellargraph) (1.1.2)\n",
            "Requirement already satisfied: keras<2.8,>=2.7.0rc0 in /usr/local/lib/python3.7/dist-packages (from tensorflow>=2.1.0->stellargraph) (2.7.0)\n",
            "Requirement already satisfied: tensorboard~=2.6 in /usr/local/lib/python3.7/dist-packages (from tensorflow>=2.1.0->stellargraph) (2.7.0)\n",
            "Requirement already satisfied: absl-py>=0.4.0 in /usr/local/lib/python3.7/dist-packages (from tensorflow>=2.1.0->stellargraph) (0.12.0)\n",
            "Requirement already satisfied: flatbuffers<3.0,>=1.12 in /usr/local/lib/python3.7/dist-packages (from tensorflow>=2.1.0->stellargraph) (2.0)\n",
            "Requirement already satisfied: astunparse>=1.6.0 in /usr/local/lib/python3.7/dist-packages (from tensorflow>=2.1.0->stellargraph) (1.6.3)\n",
            "Requirement already satisfied: cached-property in /usr/local/lib/python3.7/dist-packages (from h5py>=2.9.0->tensorflow>=2.1.0->stellargraph) (1.5.2)\n",
            "Requirement already satisfied: werkzeug>=0.11.15 in /usr/local/lib/python3.7/dist-packages (from tensorboard~=2.6->tensorflow>=2.1.0->stellargraph) (1.0.1)\n",
            "Requirement already satisfied: markdown>=2.6.8 in /usr/local/lib/python3.7/dist-packages (from tensorboard~=2.6->tensorflow>=2.1.0->stellargraph) (3.3.4)\n",
            "Requirement already satisfied: google-auth-oauthlib<0.5,>=0.4.1 in /usr/local/lib/python3.7/dist-packages (from tensorboard~=2.6->tensorflow>=2.1.0->stellargraph) (0.4.6)\n",
            "Requirement already satisfied: tensorboard-data-server<0.7.0,>=0.6.0 in /usr/local/lib/python3.7/dist-packages (from tensorboard~=2.6->tensorflow>=2.1.0->stellargraph) (0.6.1)\n",
            "Requirement already satisfied: setuptools>=41.0.0 in /usr/local/lib/python3.7/dist-packages (from tensorboard~=2.6->tensorflow>=2.1.0->stellargraph) (57.4.0)\n",
            "Requirement already satisfied: tensorboard-plugin-wit>=1.6.0 in /usr/local/lib/python3.7/dist-packages (from tensorboard~=2.6->tensorflow>=2.1.0->stellargraph) (1.8.0)\n",
            "Requirement already satisfied: requests<3,>=2.21.0 in /usr/local/lib/python3.7/dist-packages (from tensorboard~=2.6->tensorflow>=2.1.0->stellargraph) (2.23.0)\n",
            "Requirement already satisfied: google-auth<3,>=1.6.3 in /usr/local/lib/python3.7/dist-packages (from tensorboard~=2.6->tensorflow>=2.1.0->stellargraph) (1.35.0)\n",
            "Requirement already satisfied: rsa<5,>=3.1.4 in /usr/local/lib/python3.7/dist-packages (from google-auth<3,>=1.6.3->tensorboard~=2.6->tensorflow>=2.1.0->stellargraph) (4.7.2)\n",
            "Requirement already satisfied: cachetools<5.0,>=2.0.0 in /usr/local/lib/python3.7/dist-packages (from google-auth<3,>=1.6.3->tensorboard~=2.6->tensorflow>=2.1.0->stellargraph) (4.2.4)\n",
            "Requirement already satisfied: pyasn1-modules>=0.2.1 in /usr/local/lib/python3.7/dist-packages (from google-auth<3,>=1.6.3->tensorboard~=2.6->tensorflow>=2.1.0->stellargraph) (0.2.8)\n",
            "Requirement already satisfied: requests-oauthlib>=0.7.0 in /usr/local/lib/python3.7/dist-packages (from google-auth-oauthlib<0.5,>=0.4.1->tensorboard~=2.6->tensorflow>=2.1.0->stellargraph) (1.3.0)\n",
            "Requirement already satisfied: importlib-metadata in /usr/local/lib/python3.7/dist-packages (from markdown>=2.6.8->tensorboard~=2.6->tensorflow>=2.1.0->stellargraph) (4.8.2)\n",
            "Requirement already satisfied: pyasn1<0.5.0,>=0.4.6 in /usr/local/lib/python3.7/dist-packages (from pyasn1-modules>=0.2.1->google-auth<3,>=1.6.3->tensorboard~=2.6->tensorflow>=2.1.0->stellargraph) (0.4.8)\n",
            "Requirement already satisfied: certifi>=2017.4.17 in /usr/local/lib/python3.7/dist-packages (from requests<3,>=2.21.0->tensorboard~=2.6->tensorflow>=2.1.0->stellargraph) (2021.10.8)\n",
            "Requirement already satisfied: idna<3,>=2.5 in /usr/local/lib/python3.7/dist-packages (from requests<3,>=2.21.0->tensorboard~=2.6->tensorflow>=2.1.0->stellargraph) (2.10)\n",
            "Requirement already satisfied: urllib3!=1.25.0,!=1.25.1,<1.26,>=1.21.1 in /usr/local/lib/python3.7/dist-packages (from requests<3,>=2.21.0->tensorboard~=2.6->tensorflow>=2.1.0->stellargraph) (1.24.3)\n",
            "Requirement already satisfied: chardet<4,>=3.0.2 in /usr/local/lib/python3.7/dist-packages (from requests<3,>=2.21.0->tensorboard~=2.6->tensorflow>=2.1.0->stellargraph) (3.0.4)\n",
            "Requirement already satisfied: oauthlib>=3.0.0 in /usr/local/lib/python3.7/dist-packages (from requests-oauthlib>=0.7.0->google-auth-oauthlib<0.5,>=0.4.1->tensorboard~=2.6->tensorflow>=2.1.0->stellargraph) (3.1.1)\n",
            "Requirement already satisfied: zipp>=0.5 in /usr/local/lib/python3.7/dist-packages (from importlib-metadata->markdown>=2.6.8->tensorboard~=2.6->tensorflow>=2.1.0->stellargraph) (3.6.0)\n",
            "Installing collected packages: stellargraph\n",
            "Successfully installed stellargraph-1.2.1\n"
          ]
        }
      ]
    },
    {
      "cell_type": "code",
      "metadata": {
        "colab": {
          "base_uri": "https://localhost:8080/",
          "height": 0
        },
        "id": "aW0KJkvHdWPi",
        "outputId": "1eb94ac6-fdef-4785-eaec-487f254591fa"
      },
      "source": [
        "from stellargraph import StellarGraph\n",
        "square_foo_bar = StellarGraph.from_networkx(g)\n",
        "print(square_foo_bar.info())"
      ],
      "execution_count": 75,
      "outputs": [
        {
          "output_type": "stream",
          "name": "stdout",
          "text": [
            "StellarDiGraph: Directed multigraph\n",
            " Nodes: 3, Edges: 2\n",
            "\n",
            " Node types:\n",
            "  transaction: [2]\n",
            "    Features: none\n",
            "    Edge types: transaction-default->address\n",
            "  address: [1]\n",
            "    Features: none\n",
            "    Edge types: address-default->transaction\n",
            "\n",
            " Edge types:\n",
            "    transaction-default->address: [1]\n",
            "        Weights: all 2e+08\n",
            "        Features: none\n",
            "    address-default->transaction: [1]\n",
            "        Weights: all 2e+08\n",
            "        Features: none\n"
          ]
        }
      ]
    }
  ]
}