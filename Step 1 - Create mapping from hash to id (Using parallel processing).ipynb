{
 "cells": [
  {
   "cell_type": "code",
   "execution_count": 1,
   "id": "ea1be0d6",
   "metadata": {},
   "outputs": [],
   "source": [
    "#import necessary libraries\n",
    "import os\n",
    "from tqdm import tqdm\n",
    "from joblib import Parallel, delayed\n",
    "from multiprocessing import Process"
   ]
  },
  {
   "cell_type": "code",
   "execution_count": 2,
   "id": "96dfe5de",
   "metadata": {},
   "outputs": [],
   "source": [
    "#input hashes list to store all the hashes\n",
    "input_hashes = []\n",
    "\n",
    "#input hashes list to store all the hashes\n",
    "output_hashes = []"
   ]
  },
  {
   "cell_type": "code",
   "execution_count": 3,
   "id": "3db3aa80",
   "metadata": {},
   "outputs": [],
   "source": [
    "def get_lists(input_type, month):\n",
    "    \n",
    "    #hashes list to store all the hashes\n",
    "    hashes = []\n",
    "    \n",
    "    #read files\n",
    "    if input_type == \"inputs\":\n",
    "        filename = \"./Data/edges2010/inputs2010_{}.txt\".format(str(month+1))\n",
    "    if input_type == \"outputs\":\n",
    "        filename = \"./Data/edges2010/outputs2010_{}.txt\".format(str(month+1))\n",
    "\n",
    "    with open(filename) as file:\n",
    "        for line in file:\n",
    "            #split by tab char to get the details present\n",
    "            details = line.split(\"\\t\")\n",
    "\n",
    "            #hash present at the second value\n",
    "            #append in the list\n",
    "            hashes.append(details[1])\n",
    "            \n",
    "    return hashes"
   ]
  },
  {
   "cell_type": "code",
   "execution_count": 4,
   "id": "baeeb401",
   "metadata": {},
   "outputs": [
    {
     "name": "stderr",
     "output_type": "stream",
     "text": [
      "100%|██████████████████████████████████████████| 12/12 [00:00<00:00, 130.14it/s]\n"
     ]
    }
   ],
   "source": [
    "#as there is data file for each month\n",
    "month = 12\n",
    "\n",
    "#calling the above function parallely for inputs\n",
    "input_hash = Parallel(n_jobs=-1)(delayed(get_lists)(\"inputs\", i) for i in tqdm(range(month)))"
   ]
  },
  {
   "cell_type": "code",
   "execution_count": 5,
   "id": "eacebfb1",
   "metadata": {},
   "outputs": [
    {
     "name": "stdout",
     "output_type": "stream",
     "text": [
      "Total unique input hashes are: 117483\n"
     ]
    }
   ],
   "source": [
    "for hashes in input_hash:\n",
    "    input_hashes.extend(hashes)\n",
    "        \n",
    "print(\"Total unique input hashes are: {}\".format(len(input_hashes)))"
   ]
  },
  {
   "cell_type": "code",
   "execution_count": 6,
   "id": "657d85d8",
   "metadata": {},
   "outputs": [
    {
     "name": "stderr",
     "output_type": "stream",
     "text": [
      "100%|█████████████████████████████████████████| 12/12 [00:00<00:00, 6285.17it/s]\n"
     ]
    }
   ],
   "source": [
    "#calling the above function parallely for outputs\n",
    "output_hash = Parallel(n_jobs=-1)(delayed(get_lists)(\"outputs\", i) for i in tqdm(range(month)))"
   ]
  },
  {
   "cell_type": "code",
   "execution_count": 7,
   "id": "209db457",
   "metadata": {},
   "outputs": [
    {
     "name": "stdout",
     "output_type": "stream",
     "text": [
      "Total unique output hashes are: 117483\n"
     ]
    }
   ],
   "source": [
    "for hashes in output_hash:\n",
    "    output_hashes.extend(hashes)\n",
    "        \n",
    "print(\"Total unique output hashes are: {}\".format(len(output_hashes)))"
   ]
  },
  {
   "cell_type": "code",
   "execution_count": 8,
   "id": "a36d574a",
   "metadata": {},
   "outputs": [
    {
     "data": {
      "text/plain": [
       "117483"
      ]
     },
     "execution_count": 8,
     "metadata": {},
     "output_type": "execute_result"
    }
   ],
   "source": [
    "len(list(set(input_hashes) & set(output_hashes)))"
   ]
  },
  {
   "cell_type": "code",
   "execution_count": 9,
   "id": "a9868a98",
   "metadata": {},
   "outputs": [],
   "source": [
    "#create mapping\n",
    "mapping = dict(zip(set(output_hashes), range(len(output_hashes))))"
   ]
  },
  {
   "cell_type": "code",
   "execution_count": 10,
   "id": "77216885",
   "metadata": {},
   "outputs": [],
   "source": [
    "#create a updated folder to store the updated text files\n",
    "folder_name = \"./Data/edges2010/updated\"\n",
    "if not os.path.exists(folder_name):\n",
    "    os.makedirs(folder_name)"
   ]
  },
  {
   "cell_type": "code",
   "execution_count": 11,
   "id": "f9483f3d",
   "metadata": {},
   "outputs": [],
   "source": [
    "def update_files(input_type, month):\n",
    "    \n",
    "    #read files\n",
    "    if input_type == \"inputs\":\n",
    "        filename = \"./Data/edges2010/inputs2010_{}.txt\".format(str(month+1))\n",
    "        updated_filename = \"./Data/edges2010/updated/inputs2010_{}.txt\".format(str(month+1))\n",
    "\n",
    "    if input_type == \"outputs\":\n",
    "        filename = \"./Data/edges2010/outputs2010_{}.txt\".format(str(month+1))\n",
    "        updated_filename = \"./Data/edges2010/updated/outputs2010_{}.txt\".format(str(month+1))\n",
    "\n",
    "    file = open(filename, 'r')\n",
    "    contents = file.read()\n",
    "    \n",
    "    for key, value in mapping.items():\n",
    "        contents = contents.replace(key, str(value))\n",
    "    \n",
    "    updated_file = open(updated_filename, 'w')\n",
    "    updated_file.write(contents)\n",
    "    \n",
    "    file.close()\n",
    "    updated_file.close()"
   ]
  },
  {
   "cell_type": "code",
   "execution_count": 12,
   "id": "7828d518",
   "metadata": {},
   "outputs": [
    {
     "name": "stderr",
     "output_type": "stream",
     "text": [
      "100%|██████████████████████████████████████████| 12/12 [00:00<00:00, 164.30it/s]\n"
     ]
    }
   ],
   "source": [
    "#updated inputs\n",
    "jobs = []\n",
    "for i in tqdm(range(12)):\n",
    "    p = Process(target=update_files, args=(\"inputs\",i,))\n",
    "    jobs.append(p)\n",
    "    p.start() \n",
    "#Parallel(n_jobs=-1)(delayed(update_files)(\"inputs\", i) for i in tqdm(range(month)))"
   ]
  },
  {
   "cell_type": "code",
   "execution_count": 13,
   "id": "1ff97503",
   "metadata": {},
   "outputs": [
    {
     "name": "stderr",
     "output_type": "stream",
     "text": [
      "100%|███████████████████████████████████████████| 12/12 [00:00<00:00, 69.47it/s]\n"
     ]
    }
   ],
   "source": [
    "#updated outputs\n",
    "jobs = []\n",
    "for i in tqdm(range(12)):\n",
    "    p = Process(target=update_files, args=(\"outputs\",i,))\n",
    "    jobs.append(p)\n",
    "    p.start() \n",
    "#Parallel(n_jobs=-1)(delayed(update_files)(\"inputs\", i) for i in tqdm(range(month)))"
   ]
  }
 ],
 "metadata": {
  "kernelspec": {
   "display_name": "Python 3 (ipykernel)",
   "language": "python",
   "name": "python3"
  },
  "language_info": {
   "codemirror_mode": {
    "name": "ipython",
    "version": 3
   },
   "file_extension": ".py",
   "mimetype": "text/x-python",
   "name": "python",
   "nbconvert_exporter": "python",
   "pygments_lexer": "ipython3",
   "version": "3.8.10"
  }
 },
 "nbformat": 4,
 "nbformat_minor": 5
}
