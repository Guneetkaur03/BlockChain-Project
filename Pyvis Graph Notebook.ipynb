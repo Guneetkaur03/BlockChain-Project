{
 "cells": [
  {
   "cell_type": "code",
   "execution_count": 6,
   "metadata": {
    "colab": {
     "base_uri": "https://localhost:8080/"
    },
    "id": "rAb5MdbWPBn-",
    "outputId": "2ea4622a-fdf0-4c3c-d36e-670868447c18"
   },
   "outputs": [
    {
     "name": "stdout",
     "output_type": "stream",
     "text": [
      "Mounted at /content/drive\n"
     ]
    }
   ],
   "source": [
    "from google.colab import drive\n",
    "drive.mount('/content/drive')"
   ]
  },
  {
   "cell_type": "code",
   "execution_count": 8,
   "metadata": {
    "id": "wg-o91-GPJm6"
   },
   "outputs": [],
   "source": [
    "#import necessary libraries\n",
    "from igraph import *\n",
    "import networkx as nx\n",
    "from tqdm import tqdm\n",
    "from joblib import Parallel, delayed\n",
    "from datetime import datetime\n",
    "from matplotlib import pyplot as plt"
   ]
  },
  {
   "cell_type": "code",
   "execution_count": 9,
   "metadata": {
    "id": "luK5wr2OPUxx"
   },
   "outputs": [],
   "source": [
    "# g = Graph(directed=True)\n",
    "#directed graph\n",
    "g = nx.DiGraph()"
   ]
  },
  {
   "cell_type": "code",
   "execution_count": 10,
   "metadata": {
    "colab": {
     "base_uri": "https://localhost:8080/"
    },
    "id": "IlLlZEXhPlR3",
    "outputId": "2fbb72fb-fbb5-4a0a-e4e5-406a1ef2bb91"
   },
   "outputs": [
    {
     "name": "stdout",
     "output_type": "stream",
     "text": [
      "DiGraph with 0 nodes and 0 edges\n"
     ]
    }
   ],
   "source": [
    "print(g)"
   ]
  },
  {
   "cell_type": "code",
   "execution_count": 11,
   "metadata": {
    "id": "iFWYm8ofPz9j"
   },
   "outputs": [],
   "source": [
    "def humanize_unixtime(unix_time):\n",
    "    time = datetime.fromtimestamp(int(unix_time)).strftime('%d-%m-%Y %H.%M.%S')\n",
    "    return time"
   ]
  },
  {
   "cell_type": "code",
   "execution_count": 12,
   "metadata": {
    "id": "RWssgBtHQUMk"
   },
   "outputs": [],
   "source": [
    "def get_details(input_type, month):\n",
    "    \n",
    "    #hashes list to store all the hashes\n",
    "    details_dict = dict()\n",
    "    \n",
    "    #read files\n",
    "    if input_type == \"inputs\":\n",
    "        filename = \"/content/drive/MyDrive/Colab Notebooks/Blockchain Data/edges2010/updated/inputs2010_{}.txt\".format(str(month+2))\n",
    "    if input_type == \"outputs\":\n",
    "        filename = \"/content/drive/MyDrive/Colab Notebooks/Blockchain Data/edges2010/updated/outputs2010_{}.txt\".format(str(month+2))\n",
    "\n",
    "    with open(filename) as file:\n",
    "        for line in file:\n",
    "            #split by tab char to get the details present\n",
    "            line = line.replace('\\n', '')\n",
    "            details = line.split(\"\\t\")\n",
    "\n",
    "            #hash present at the second value\n",
    "            #append in the list\n",
    "            details_dict[details[1]] = dict()\n",
    "            \n",
    "            if input_type == \"inputs\":\n",
    "                details_dict[details[1]]['time'] = details[0]\n",
    "                details_dict[details[1]][\"input\"] = details[2:]\n",
    "                details_dict[details[1]][\"human\"] = humanize_unixtime(details[0])\n",
    "                \n",
    "            if input_type == \"outputs\":\n",
    "                details_dict[details[1]][\"output\"] = details[2:]\n",
    "                details_dict[details[1]][\"time\"] = details[0]\n",
    "                details_dict[details[1]][\"human\"] = humanize_unixtime(details[0])\n",
    "            \n",
    "    return details_dict"
   ]
  },
  {
   "cell_type": "code",
   "execution_count": 13,
   "metadata": {
    "id": "ryXSGMVLREKT"
   },
   "outputs": [],
   "source": [
    "#as there is data file for each month\n",
    "month = 1\n",
    "\n",
    "#input dict to store all the input details\n",
    "input_dict = dict()\n",
    "\n",
    "#output dict to store all the output details\n",
    "output_dict = dict()"
   ]
  },
  {
   "cell_type": "code",
   "execution_count": 14,
   "metadata": {
    "colab": {
     "base_uri": "https://localhost:8080/"
    },
    "id": "JGylkTaiRQex",
    "outputId": "ecd3c07a-8ec4-4cf0-d85c-9ff61785b5e1"
   },
   "outputs": [
    {
     "name": "stderr",
     "output_type": "stream",
     "text": [
      "100%|██████████| 1/1 [00:00<00:00, 82.27it/s]\n"
     ]
    },
    {
     "name": "stdout",
     "output_type": "stream",
     "text": [
      "Time taken to read the input file data is 2.0204403400421143\n"
     ]
    }
   ],
   "source": [
    "import time\n",
    "start_time = time.time()\n",
    "\n",
    "#calling function\n",
    "inp = Parallel(n_jobs=-1)(delayed(get_details)(\"inputs\", i) for i in tqdm(range(month)))\n",
    "for d in inp:\n",
    "    input_dict.update(d)\n",
    "\n",
    "end_time = time.time()\n",
    "print(\"Time taken to read the input file data is {}\".format(end_time - start_time))"
   ]
  },
  {
   "cell_type": "code",
   "execution_count": 15,
   "metadata": {
    "colab": {
     "base_uri": "https://localhost:8080/"
    },
    "id": "_3ehiHy_RXDt",
    "outputId": "996e31ac-d0f7-4cdb-b4ad-8cda895f953d"
   },
   "outputs": [
    {
     "name": "stdout",
     "output_type": "stream",
     "text": [
      "Total details in input dict is: 142\n"
     ]
    }
   ],
   "source": [
    "print(\"Total details in input dict is: {}\".format(len(input_dict)))"
   ]
  },
  {
   "cell_type": "code",
   "execution_count": 2,
   "metadata": {
    "colab": {
     "base_uri": "https://localhost:8080/"
    },
    "id": "Xj_mfB76Rbnm",
    "outputId": "cdbbbb45-118d-4d49-b372-f9e6235848a1"
   },
   "outputs": [],
   "source": [
    "# input_dict"
   ]
  },
  {
   "cell_type": "code",
   "execution_count": 17,
   "metadata": {
    "colab": {
     "base_uri": "https://localhost:8080/"
    },
    "id": "M3TuGupgTHQT",
    "outputId": "2adb2fd9-b1ed-47dc-a4de-3d19a1145d88"
   },
   "outputs": [
    {
     "name": "stderr",
     "output_type": "stream",
     "text": [
      "100%|██████████| 1/1 [00:00<00:00, 1184.16it/s]\n"
     ]
    },
    {
     "name": "stdout",
     "output_type": "stream",
     "text": [
      "Time taken to read the output file data is 0.31162524223327637\n"
     ]
    }
   ],
   "source": [
    "import time\n",
    "start_time = time.time()\n",
    "\n",
    "#calling function\n",
    "inp = Parallel(n_jobs=-1)(delayed(get_details)(\"outputs\", i) for i in tqdm(range(month)))\n",
    "for d in inp:\n",
    "    output_dict.update(d)\n",
    "\n",
    "end_time = time.time()\n",
    "print(\"Time taken to read the output file data is {}\".format(end_time - start_time))"
   ]
  },
  {
   "cell_type": "code",
   "execution_count": 18,
   "metadata": {
    "colab": {
     "base_uri": "https://localhost:8080/"
    },
    "id": "hlm8JiJbT023",
    "outputId": "9d362c90-2eb9-45f8-d3db-c9c9706374e6"
   },
   "outputs": [
    {
     "name": "stdout",
     "output_type": "stream",
     "text": [
      "Total details in output dict is: 142\n"
     ]
    }
   ],
   "source": [
    "print(\"Total details in output dict is: {}\".format(len(output_dict)))"
   ]
  },
  {
   "cell_type": "code",
   "execution_count": 19,
   "metadata": {
    "colab": {
     "base_uri": "https://localhost:8080/"
    },
    "id": "fAfNze-KT6Ml",
    "outputId": "612fa367-3b6e-4225-c111-79a70280654c"
   },
   "outputs": [
    {
     "name": "stdout",
     "output_type": "stream",
     "text": [
      "Total details in linked dict is: 142\n"
     ]
    }
   ],
   "source": [
    "#merge input and output data\n",
    "for key, value in output_dict.items():\n",
    "    input_details = input_dict[key]\n",
    "    output_dict[key][\"input\"] = input_details[\"input\"]\n",
    "\n",
    "print(\"Total details in linked dict is: {}\".format(len(output_dict)))"
   ]
  },
  {
   "cell_type": "code",
   "execution_count": 1,
   "metadata": {
    "colab": {
     "base_uri": "https://localhost:8080/"
    },
    "id": "p6S6YqBPT89n",
    "outputId": "89f42442-b590-47fa-f9e1-beb6d44d8c70"
   },
   "outputs": [],
   "source": [
    "# output_dict"
   ]
  },
  {
   "cell_type": "code",
   "execution_count": 21,
   "metadata": {
    "id": "0FeajX8JUKNu"
   },
   "outputs": [],
   "source": [
    "updated_dict = dict(sorted(output_dict.items(), key=lambda item: item[1]['time']))"
   ]
  },
  {
   "cell_type": "code",
   "execution_count": 22,
   "metadata": {
    "colab": {
     "base_uri": "https://localhost:8080/"
    },
    "id": "sN8E6eWOUOym",
    "outputId": "75a9639b-497b-4e48-8633-d6271a6500d9"
   },
   "outputs": [
    {
     "name": "stderr",
     "output_type": "stream",
     "text": [
      "100%|██████████| 142/142 [00:00<00:00, 15510.99it/s]\n"
     ]
    }
   ],
   "source": [
    "for key, value in tqdm(updated_dict.items()):\n",
    "    \n",
    "    #print(\"Current transaction hash {}\".format(key))\n",
    "    hash_of_transc = key\n",
    "    \n",
    "    \n",
    "    input_details_of_hash_of_transc = value[\"input\"]\n",
    "    output_details_of_hash_of_transc = value[\"output\"]\n",
    "    \n",
    "    #print(\"Transaction input details {}\".format(input_details_of_hash_of_transc))\n",
    "    #print(\"Transaction output details {}\".format(output_details_of_hash_of_transc))\n",
    "    \n",
    "    #going over all input transactions\n",
    "    for i in range(0, len(input_details_of_hash_of_transc), 2):\n",
    "        \n",
    "        input_hash = input_details_of_hash_of_transc[i]\n",
    "        output_index = input_details_of_hash_of_transc[i+1]\n",
    "        \n",
    "        #print(input_hash)\n",
    "        #print(output_index)\n",
    "        if input_hash not in updated_dict.keys():\n",
    "            #g.add_vertex(input_hash)\n",
    "            #print(\"no address\")\n",
    "            pass\n",
    "        else:\n",
    "            #g.add_vertex(input_hash)\n",
    "            #get output details of that input transaction\n",
    "            get_amounts = updated_dict[input_hash][\"output\"]\n",
    "            \n",
    "            #print(get_amounts)\n",
    "            address = get_amounts[int(output_index)]\n",
    "            amount = get_amounts[2*int(output_index)+1]\n",
    "            \n",
    "            \n",
    "            #add input transaction node\n",
    "            g.add_node(input_hash, s='s', label='transaction', color=\"r\")\n",
    "            \n",
    "            #add address node\n",
    "            g.add_node(address, s ='s', label='address', color=\"b\")\n",
    "            \n",
    "            #add output transaction node\n",
    "            g.add_node(hash_of_transc, s='o', label='transaction', color=\"r\")\n",
    "            \n",
    "            #add edge between input transaction and address\n",
    "            g.add_edge(input_hash, address, weight=int(amount))\n",
    "            \n",
    "            #add edge between address and output transaction\n",
    "            g.add_edge(address, key, weight=int(amount))\n",
    "\n",
    "        \n",
    "            #g.add_edge(input_hash, key, weight=amount)\n",
    "            #g.add_edge(input_hash, key)\n",
    "            #g.es[\"weights\"] = amount"
   ]
  },
  {
   "cell_type": "code",
   "execution_count": 23,
   "metadata": {
    "colab": {
     "base_uri": "https://localhost:8080/",
     "height": 319
    },
    "id": "4kovoz79UXDo",
    "outputId": "15d77c53-38f7-4596-a9a1-177dad2b5ad4"
   },
   "outputs": [
    {
     "data": {
      "image/png": "[encoded data removed]",
      "text/plain": [
       "<Figure size 432x288 with 1 Axes>"
      ]
     },
     "metadata": {},
     "output_type": "display_data"
    }
   ],
   "source": [
    "import matplotlib.pyplot as plt\n",
    "nx.draw(g)"
   ]
  },
  {
   "cell_type": "markdown",
   "metadata": {
    "id": "6GfEyzkzgwmx"
   },
   "source": [
    "import pyvis"
   ]
  },
  {
   "cell_type": "code",
   "execution_count": 28,
   "metadata": {
    "id": "sWxLlVzyUpZt"
   },
   "outputs": [],
   "source": [
    "from pyvis.network import Network"
   ]
  },
  {
   "cell_type": "code",
   "execution_count": 29,
   "metadata": {
    "id": "aH1BXO9Mdcdm"
   },
   "outputs": [],
   "source": [
    "net = Network(notebook = True)"
   ]
  },
  {
   "cell_type": "code",
   "execution_count": 30,
   "metadata": {
    "id": "ejlnlt_JdeQd"
   },
   "outputs": [],
   "source": [
    "net.from_nx(g)"
   ]
  },
  {
   "cell_type": "code",
   "execution_count": 37,
   "metadata": {
    "colab": {
     "base_uri": "https://localhost:8080/",
     "height": 522
    },
    "id": "Vbu3PLiwd5vX",
    "outputId": "5ca02f34-f6b1-4ec7-eb38-3ca7b684744d"
   },
   "outputs": [
    {
     "data": {
      "text/html": [
       "\n",
       "        <iframe\n",
       "            width=\"500px\"\n",
       "            height=\"500px\"\n",
       "            src=\"/content/drive/MyDrive/bitcoinAddressTransactionGraph.html\"\n",
       "            frameborder=\"0\"\n",
       "            allowfullscreen\n",
       "        ></iframe>\n",
       "        "
      ],
      "text/plain": [
       "<IPython.lib.display.IFrame at 0x7f238b44d110>"
      ]
     },
     "execution_count": 37,
     "metadata": {},
     "output_type": "execute_result"
    }
   ],
   "source": [
    "net.show(\"/content/drive/MyDrive/bitcoinAddressTransactionGraph.html\")"
   ]
  },
  {
   "cell_type": "code",
   "execution_count": null,
   "metadata": {
    "id": "zXUHfPHzeVqm"
   },
   "outputs": [],
   "source": []
  }
 ],
 "metadata": {
  "colab": {
   "name": "Blockchain Project S2.ipynb",
   "provenance": []
  },
  "kernelspec": {
   "display_name": "Python 3",
   "language": "python",
   "name": "python3"
  },
  "language_info": {
   "codemirror_mode": {
    "name": "ipython",
    "version": 3
   },
   "file_extension": ".py",
   "mimetype": "text/x-python",
   "name": "python",
   "nbconvert_exporter": "python",
   "pygments_lexer": "ipython3",
   "version": "3.8.8"
  }
 },
 "nbformat": 4,
 "nbformat_minor": 1
}
