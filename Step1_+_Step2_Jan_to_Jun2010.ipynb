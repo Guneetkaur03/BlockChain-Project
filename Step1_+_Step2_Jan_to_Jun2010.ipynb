{
  "nbformat": 4,
  "nbformat_minor": 0,
  "metadata": {
    "colab": {
      "name": "Step1_+_Step2_Jan_to_Jun2010.ipynb",
      "provenance": []
    },
    "kernelspec": {
      "name": "python3",
      "display_name": "Python 3"
    },
    "language_info": {
      "name": "python"
    }
  },
  "cells": [
    {
      "cell_type": "code",
      "source": [
        "from google.colab import drive\n",
        "drive.mount('/content/drive')"
      ],
      "metadata": {
        "colab": {
          "base_uri": "https://localhost:8080/"
        },
        "id": "0xC4VGCsLwUF",
        "outputId": "c3b41005-3cab-432e-efd4-9fbcf6ad4ee7"
      },
      "execution_count": 1,
      "outputs": [
        {
          "output_type": "stream",
          "name": "stdout",
          "text": [
            "Mounted at /content/drive\n"
          ]
        }
      ]
    },
    {
      "cell_type": "code",
      "source": [
        "pip install igraph"
      ],
      "metadata": {
        "id": "RzFaVBd-nkpD",
        "colab": {
          "base_uri": "https://localhost:8080/"
        },
        "outputId": "f8e9927d-07c3-4792-ab6c-e8110e8213a2"
      },
      "execution_count": 2,
      "outputs": [
        {
          "output_type": "stream",
          "name": "stdout",
          "text": [
            "Collecting igraph\n",
            "  Downloading igraph-0.9.8-cp37-cp37m-manylinux_2_12_x86_64.manylinux2010_x86_64.whl (3.2 MB)\n",
            "\u001b[K     |████████████████████████████████| 3.2 MB 5.3 MB/s \n",
            "\u001b[?25hCollecting texttable>=1.6.2\n",
            "  Downloading texttable-1.6.4-py2.py3-none-any.whl (10 kB)\n",
            "Installing collected packages: texttable, igraph\n",
            "Successfully installed igraph-0.9.8 texttable-1.6.4\n"
          ]
        }
      ]
    },
    {
      "cell_type": "code",
      "source": [
        "pip install stellargraph"
      ],
      "metadata": {
        "id": "hMC-PSS5tfP_",
        "colab": {
          "base_uri": "https://localhost:8080/"
        },
        "outputId": "3c827c49-2483-4505-ff7a-9bd0633c613b"
      },
      "execution_count": 3,
      "outputs": [
        {
          "output_type": "stream",
          "name": "stdout",
          "text": [
            "Collecting stellargraph\n",
            "  Downloading stellargraph-1.2.1-py3-none-any.whl (435 kB)\n",
            "\u001b[?25l\r\u001b[K     |▊                               | 10 kB 25.2 MB/s eta 0:00:01\r\u001b[K     |█▌                              | 20 kB 26.3 MB/s eta 0:00:01\r\u001b[K     |██▎                             | 30 kB 17.9 MB/s eta 0:00:01\r\u001b[K     |███                             | 40 kB 15.3 MB/s eta 0:00:01\r\u001b[K     |███▊                            | 51 kB 5.4 MB/s eta 0:00:01\r\u001b[K     |████▌                           | 61 kB 6.0 MB/s eta 0:00:01\r\u001b[K     |█████▎                          | 71 kB 5.5 MB/s eta 0:00:01\r\u001b[K     |██████                          | 81 kB 6.2 MB/s eta 0:00:01\r\u001b[K     |██████▊                         | 92 kB 6.1 MB/s eta 0:00:01\r\u001b[K     |███████▌                        | 102 kB 5.3 MB/s eta 0:00:01\r\u001b[K     |████████▎                       | 112 kB 5.3 MB/s eta 0:00:01\r\u001b[K     |█████████                       | 122 kB 5.3 MB/s eta 0:00:01\r\u001b[K     |█████████▉                      | 133 kB 5.3 MB/s eta 0:00:01\r\u001b[K     |██████████▌                     | 143 kB 5.3 MB/s eta 0:00:01\r\u001b[K     |███████████▎                    | 153 kB 5.3 MB/s eta 0:00:01\r\u001b[K     |████████████                    | 163 kB 5.3 MB/s eta 0:00:01\r\u001b[K     |████████████▉                   | 174 kB 5.3 MB/s eta 0:00:01\r\u001b[K     |█████████████▌                  | 184 kB 5.3 MB/s eta 0:00:01\r\u001b[K     |██████████████▎                 | 194 kB 5.3 MB/s eta 0:00:01\r\u001b[K     |███████████████                 | 204 kB 5.3 MB/s eta 0:00:01\r\u001b[K     |███████████████▉                | 215 kB 5.3 MB/s eta 0:00:01\r\u001b[K     |████████████████▋               | 225 kB 5.3 MB/s eta 0:00:01\r\u001b[K     |█████████████████▎              | 235 kB 5.3 MB/s eta 0:00:01\r\u001b[K     |██████████████████              | 245 kB 5.3 MB/s eta 0:00:01\r\u001b[K     |██████████████████▉             | 256 kB 5.3 MB/s eta 0:00:01\r\u001b[K     |███████████████████▋            | 266 kB 5.3 MB/s eta 0:00:01\r\u001b[K     |████████████████████▎           | 276 kB 5.3 MB/s eta 0:00:01\r\u001b[K     |█████████████████████           | 286 kB 5.3 MB/s eta 0:00:01\r\u001b[K     |█████████████████████▉          | 296 kB 5.3 MB/s eta 0:00:01\r\u001b[K     |██████████████████████▋         | 307 kB 5.3 MB/s eta 0:00:01\r\u001b[K     |███████████████████████▍        | 317 kB 5.3 MB/s eta 0:00:01\r\u001b[K     |████████████████████████        | 327 kB 5.3 MB/s eta 0:00:01\r\u001b[K     |████████████████████████▉       | 337 kB 5.3 MB/s eta 0:00:01\r\u001b[K     |█████████████████████████▋      | 348 kB 5.3 MB/s eta 0:00:01\r\u001b[K     |██████████████████████████▍     | 358 kB 5.3 MB/s eta 0:00:01\r\u001b[K     |███████████████████████████     | 368 kB 5.3 MB/s eta 0:00:01\r\u001b[K     |███████████████████████████▉    | 378 kB 5.3 MB/s eta 0:00:01\r\u001b[K     |████████████████████████████▋   | 389 kB 5.3 MB/s eta 0:00:01\r\u001b[K     |█████████████████████████████▍  | 399 kB 5.3 MB/s eta 0:00:01\r\u001b[K     |██████████████████████████████▏ | 409 kB 5.3 MB/s eta 0:00:01\r\u001b[K     |██████████████████████████████▉ | 419 kB 5.3 MB/s eta 0:00:01\r\u001b[K     |███████████████████████████████▋| 430 kB 5.3 MB/s eta 0:00:01\r\u001b[K     |████████████████████████████████| 435 kB 5.3 MB/s \n",
            "\u001b[?25hRequirement already satisfied: networkx>=2.2 in /usr/local/lib/python3.7/dist-packages (from stellargraph) (2.6.3)\n",
            "Requirement already satisfied: scikit-learn>=0.20 in /usr/local/lib/python3.7/dist-packages (from stellargraph) (1.0.1)\n",
            "Requirement already satisfied: numpy>=1.14 in /usr/local/lib/python3.7/dist-packages (from stellargraph) (1.19.5)\n",
            "Requirement already satisfied: tensorflow>=2.1.0 in /usr/local/lib/python3.7/dist-packages (from stellargraph) (2.7.0)\n",
            "Requirement already satisfied: gensim>=3.4.0 in /usr/local/lib/python3.7/dist-packages (from stellargraph) (3.6.0)\n",
            "Requirement already satisfied: matplotlib>=2.2 in /usr/local/lib/python3.7/dist-packages (from stellargraph) (3.2.2)\n",
            "Requirement already satisfied: pandas>=0.24 in /usr/local/lib/python3.7/dist-packages (from stellargraph) (1.1.5)\n",
            "Requirement already satisfied: scipy>=1.1.0 in /usr/local/lib/python3.7/dist-packages (from stellargraph) (1.4.1)\n",
            "Requirement already satisfied: six>=1.5.0 in /usr/local/lib/python3.7/dist-packages (from gensim>=3.4.0->stellargraph) (1.15.0)\n",
            "Requirement already satisfied: smart-open>=1.2.1 in /usr/local/lib/python3.7/dist-packages (from gensim>=3.4.0->stellargraph) (5.2.1)\n",
            "Requirement already satisfied: cycler>=0.10 in /usr/local/lib/python3.7/dist-packages (from matplotlib>=2.2->stellargraph) (0.11.0)\n",
            "Requirement already satisfied: python-dateutil>=2.1 in /usr/local/lib/python3.7/dist-packages (from matplotlib>=2.2->stellargraph) (2.8.2)\n",
            "Requirement already satisfied: pyparsing!=2.0.4,!=2.1.2,!=2.1.6,>=2.0.1 in /usr/local/lib/python3.7/dist-packages (from matplotlib>=2.2->stellargraph) (3.0.6)\n",
            "Requirement already satisfied: kiwisolver>=1.0.1 in /usr/local/lib/python3.7/dist-packages (from matplotlib>=2.2->stellargraph) (1.3.2)\n",
            "Requirement already satisfied: pytz>=2017.2 in /usr/local/lib/python3.7/dist-packages (from pandas>=0.24->stellargraph) (2018.9)\n",
            "Requirement already satisfied: threadpoolctl>=2.0.0 in /usr/local/lib/python3.7/dist-packages (from scikit-learn>=0.20->stellargraph) (3.0.0)\n",
            "Requirement already satisfied: joblib>=0.11 in /usr/local/lib/python3.7/dist-packages (from scikit-learn>=0.20->stellargraph) (1.1.0)\n",
            "Requirement already satisfied: flatbuffers<3.0,>=1.12 in /usr/local/lib/python3.7/dist-packages (from tensorflow>=2.1.0->stellargraph) (2.0)\n",
            "Requirement already satisfied: tensorboard~=2.6 in /usr/local/lib/python3.7/dist-packages (from tensorflow>=2.1.0->stellargraph) (2.7.0)\n",
            "Requirement already satisfied: termcolor>=1.1.0 in /usr/local/lib/python3.7/dist-packages (from tensorflow>=2.1.0->stellargraph) (1.1.0)\n",
            "Requirement already satisfied: typing-extensions>=3.6.6 in /usr/local/lib/python3.7/dist-packages (from tensorflow>=2.1.0->stellargraph) (3.10.0.2)\n",
            "Requirement already satisfied: astunparse>=1.6.0 in /usr/local/lib/python3.7/dist-packages (from tensorflow>=2.1.0->stellargraph) (1.6.3)\n",
            "Requirement already satisfied: absl-py>=0.4.0 in /usr/local/lib/python3.7/dist-packages (from tensorflow>=2.1.0->stellargraph) (0.12.0)\n",
            "Requirement already satisfied: grpcio<2.0,>=1.24.3 in /usr/local/lib/python3.7/dist-packages (from tensorflow>=2.1.0->stellargraph) (1.42.0)\n",
            "Requirement already satisfied: google-pasta>=0.1.1 in /usr/local/lib/python3.7/dist-packages (from tensorflow>=2.1.0->stellargraph) (0.2.0)\n",
            "Requirement already satisfied: tensorflow-estimator<2.8,~=2.7.0rc0 in /usr/local/lib/python3.7/dist-packages (from tensorflow>=2.1.0->stellargraph) (2.7.0)\n",
            "Requirement already satisfied: gast<0.5.0,>=0.2.1 in /usr/local/lib/python3.7/dist-packages (from tensorflow>=2.1.0->stellargraph) (0.4.0)\n",
            "Requirement already satisfied: keras<2.8,>=2.7.0rc0 in /usr/local/lib/python3.7/dist-packages (from tensorflow>=2.1.0->stellargraph) (2.7.0)\n",
            "Requirement already satisfied: wheel<1.0,>=0.32.0 in /usr/local/lib/python3.7/dist-packages (from tensorflow>=2.1.0->stellargraph) (0.37.0)\n",
            "Requirement already satisfied: keras-preprocessing>=1.1.1 in /usr/local/lib/python3.7/dist-packages (from tensorflow>=2.1.0->stellargraph) (1.1.2)\n",
            "Requirement already satisfied: opt-einsum>=2.3.2 in /usr/local/lib/python3.7/dist-packages (from tensorflow>=2.1.0->stellargraph) (3.3.0)\n",
            "Requirement already satisfied: wrapt>=1.11.0 in /usr/local/lib/python3.7/dist-packages (from tensorflow>=2.1.0->stellargraph) (1.13.3)\n",
            "Requirement already satisfied: protobuf>=3.9.2 in /usr/local/lib/python3.7/dist-packages (from tensorflow>=2.1.0->stellargraph) (3.17.3)\n",
            "Requirement already satisfied: tensorflow-io-gcs-filesystem>=0.21.0 in /usr/local/lib/python3.7/dist-packages (from tensorflow>=2.1.0->stellargraph) (0.22.0)\n",
            "Requirement already satisfied: h5py>=2.9.0 in /usr/local/lib/python3.7/dist-packages (from tensorflow>=2.1.0->stellargraph) (3.1.0)\n",
            "Requirement already satisfied: libclang>=9.0.1 in /usr/local/lib/python3.7/dist-packages (from tensorflow>=2.1.0->stellargraph) (12.0.0)\n",
            "Requirement already satisfied: cached-property in /usr/local/lib/python3.7/dist-packages (from h5py>=2.9.0->tensorflow>=2.1.0->stellargraph) (1.5.2)\n",
            "Requirement already satisfied: google-auth-oauthlib<0.5,>=0.4.1 in /usr/local/lib/python3.7/dist-packages (from tensorboard~=2.6->tensorflow>=2.1.0->stellargraph) (0.4.6)\n",
            "Requirement already satisfied: tensorboard-data-server<0.7.0,>=0.6.0 in /usr/local/lib/python3.7/dist-packages (from tensorboard~=2.6->tensorflow>=2.1.0->stellargraph) (0.6.1)\n",
            "Requirement already satisfied: google-auth<3,>=1.6.3 in /usr/local/lib/python3.7/dist-packages (from tensorboard~=2.6->tensorflow>=2.1.0->stellargraph) (1.35.0)\n",
            "Requirement already satisfied: werkzeug>=0.11.15 in /usr/local/lib/python3.7/dist-packages (from tensorboard~=2.6->tensorflow>=2.1.0->stellargraph) (1.0.1)\n",
            "Requirement already satisfied: markdown>=2.6.8 in /usr/local/lib/python3.7/dist-packages (from tensorboard~=2.6->tensorflow>=2.1.0->stellargraph) (3.3.6)\n",
            "Requirement already satisfied: tensorboard-plugin-wit>=1.6.0 in /usr/local/lib/python3.7/dist-packages (from tensorboard~=2.6->tensorflow>=2.1.0->stellargraph) (1.8.0)\n",
            "Requirement already satisfied: setuptools>=41.0.0 in /usr/local/lib/python3.7/dist-packages (from tensorboard~=2.6->tensorflow>=2.1.0->stellargraph) (57.4.0)\n",
            "Requirement already satisfied: requests<3,>=2.21.0 in /usr/local/lib/python3.7/dist-packages (from tensorboard~=2.6->tensorflow>=2.1.0->stellargraph) (2.23.0)\n",
            "Requirement already satisfied: cachetools<5.0,>=2.0.0 in /usr/local/lib/python3.7/dist-packages (from google-auth<3,>=1.6.3->tensorboard~=2.6->tensorflow>=2.1.0->stellargraph) (4.2.4)\n",
            "Requirement already satisfied: rsa<5,>=3.1.4 in /usr/local/lib/python3.7/dist-packages (from google-auth<3,>=1.6.3->tensorboard~=2.6->tensorflow>=2.1.0->stellargraph) (4.8)\n",
            "Requirement already satisfied: pyasn1-modules>=0.2.1 in /usr/local/lib/python3.7/dist-packages (from google-auth<3,>=1.6.3->tensorboard~=2.6->tensorflow>=2.1.0->stellargraph) (0.2.8)\n",
            "Requirement already satisfied: requests-oauthlib>=0.7.0 in /usr/local/lib/python3.7/dist-packages (from google-auth-oauthlib<0.5,>=0.4.1->tensorboard~=2.6->tensorflow>=2.1.0->stellargraph) (1.3.0)\n",
            "Requirement already satisfied: importlib-metadata>=4.4 in /usr/local/lib/python3.7/dist-packages (from markdown>=2.6.8->tensorboard~=2.6->tensorflow>=2.1.0->stellargraph) (4.8.2)\n",
            "Requirement already satisfied: zipp>=0.5 in /usr/local/lib/python3.7/dist-packages (from importlib-metadata>=4.4->markdown>=2.6.8->tensorboard~=2.6->tensorflow>=2.1.0->stellargraph) (3.6.0)\n",
            "Requirement already satisfied: pyasn1<0.5.0,>=0.4.6 in /usr/local/lib/python3.7/dist-packages (from pyasn1-modules>=0.2.1->google-auth<3,>=1.6.3->tensorboard~=2.6->tensorflow>=2.1.0->stellargraph) (0.4.8)\n",
            "Requirement already satisfied: chardet<4,>=3.0.2 in /usr/local/lib/python3.7/dist-packages (from requests<3,>=2.21.0->tensorboard~=2.6->tensorflow>=2.1.0->stellargraph) (3.0.4)\n",
            "Requirement already satisfied: certifi>=2017.4.17 in /usr/local/lib/python3.7/dist-packages (from requests<3,>=2.21.0->tensorboard~=2.6->tensorflow>=2.1.0->stellargraph) (2021.10.8)\n",
            "Requirement already satisfied: idna<3,>=2.5 in /usr/local/lib/python3.7/dist-packages (from requests<3,>=2.21.0->tensorboard~=2.6->tensorflow>=2.1.0->stellargraph) (2.10)\n",
            "Requirement already satisfied: urllib3!=1.25.0,!=1.25.1,<1.26,>=1.21.1 in /usr/local/lib/python3.7/dist-packages (from requests<3,>=2.21.0->tensorboard~=2.6->tensorflow>=2.1.0->stellargraph) (1.24.3)\n",
            "Requirement already satisfied: oauthlib>=3.0.0 in /usr/local/lib/python3.7/dist-packages (from requests-oauthlib>=0.7.0->google-auth-oauthlib<0.5,>=0.4.1->tensorboard~=2.6->tensorflow>=2.1.0->stellargraph) (3.1.1)\n",
            "Installing collected packages: stellargraph\n",
            "Successfully installed stellargraph-1.2.1\n"
          ]
        }
      ]
    },
    {
      "cell_type": "code",
      "source": [
        "from joblib import Parallel, delayed\n",
        "from datetime import time, datetime\n",
        "from tqdm import tqdm\n",
        "\n",
        "import time\n",
        "from datetime import datetime\n",
        "\n",
        "from igraph import *\n",
        "import networkx as nx\n",
        "from matplotlib import pyplot as plt\n",
        "import pandas as pd\n",
        "\n",
        "from stellargraph import StellarGraph\n",
        "\n",
        "import numpy as np\n",
        "\n",
        "import math"
      ],
      "metadata": {
        "id": "bo8iIntYgxU0"
      },
      "execution_count": 4,
      "outputs": []
    },
    {
      "cell_type": "code",
      "source": [
        "def humanize_unixtime(unix_time):\n",
        "    time = datetime.fromtimestamp(int(unix_time)).strftime('%d-%m-%Y %H.%M.%S')\n",
        "    return time"
      ],
      "metadata": {
        "id": "P2pRiQpgtESJ"
      },
      "execution_count": 5,
      "outputs": []
    },
    {
      "cell_type": "code",
      "source": [
        "def get_24hr_details(input_type, month,unix_time):\n",
        "    \n",
        "    #hashes list to store all the hashes\n",
        "    details_dict = dict()\n",
        "    \n",
        "    #read files\n",
        "    if input_type == \"inputs\":\n",
        "        filename = \"/content/drive/MyDrive/edges2010/updated/inputs2010_{}.txt\".format(str(month+1))\n",
        "    if input_type == \"outputs\":\n",
        "        filename = \"/content/drive/MyDrive/edges2010/updated/outputs2010_{}.txt\".format(str(month+1))\n",
        "\n",
        "    with open(filename) as file:\n",
        "        for line in file:\n",
        "            #split by tab char to get the details present\n",
        "            line = line.replace('\\n', '')\n",
        "            print(\"line\",line)\n",
        "            details = line.split(\"\\t\")\n",
        "\n",
        "            #hash present at the second value\n",
        "            #append in the list\n",
        "            #details_dict[details[1]] = dict()\n",
        "            unix_time_24 = unix_time + 24 * 60 * 60\n",
        "            print(\"unix_time\",unix_time)\n",
        "            print(\"unix_time_24\",unix_time_24)\n",
        "\n",
        "            if details[0] >= str(unix_time) and details[0] <= str(unix_time_24):\n",
        "                details_dict[details[1]] = dict()\n",
        "                if input_type == \"inputs\":\n",
        "                    #details_dict[details[1]][\"input\"] = details[2:]\n",
        "                    details_dict[details[1]]['time'] = details[0]\n",
        "                    details_dict[details[1]][\"input\"] = details[2:]\n",
        "                    details_dict[details[1]][\"human\"] = humanize_unixtime(details[0])\n",
        "                \n",
        "                if input_type == \"outputs\":\n",
        "                    #details_dict[details[1]][\"output\"] = details[2:]\n",
        "                    details_dict[details[1]][\"output\"] = details[2:]\n",
        "                    details_dict[details[1]][\"time\"] = details[0]\n",
        "                    details_dict[details[1]][\"human\"] = humanize_unixtime(details[0])\n",
        "            \n",
        "    return details_dict"
      ],
      "metadata": {
        "id": "R0VWAEdLtJWr"
      },
      "execution_count": 6,
      "outputs": []
    },
    {
      "cell_type": "code",
      "source": [
        "def get_addr_node_details(g,addr_list):\n",
        "    \n",
        "    #defining lists to be added to df\n",
        "    total_neighbours_count_list = []\n",
        "    successor_neighbours_count_list = []\n",
        "    predecessor_neighbours_count_list = []\n",
        "    Income_list = []\n",
        "    Expenditure_list = []\n",
        "    Balance_list = []\n",
        "\n",
        "    for i in range(len(addr_list)):\n",
        "        total_neighbours_count_list.append(g.degree[addr_list[i]])\n",
        "        successor_neighbours_count_list.append(len(list(g.successors(addr_list[i]))))\n",
        "        predecessor_neighbours_count_list.append(len(list(g.predecessors(addr_list[i]))))\n",
        "        #print(\"neighbours done for:\",addr_list[i])\n",
        "\n",
        "\n",
        "        #successsors nodes and weights\n",
        "        my_node_successors_list = []\n",
        "        my_node_successors_list= list(g.successors(addr_list[i]))\n",
        "        sum_of_successor_amount = 0\n",
        "\n",
        "        for j in range (0,len(my_node_successors_list)):\n",
        "            #print(\"successor for loop entered for:\",addr_list[i])\n",
        "            my_node_successors = my_node_successors_list[j]\n",
        "            #print(\"checking for succssor node:\",my_node_successors,\" of \",addr_list[i])\n",
        "            my_node_weight = g[addr_list[i]][my_node_successors]['weight'] #getting weight of directed edge from my_node to successors\n",
        "            #print(\"checked for weight: \",my_node_weight, \" of succssor node: \",my_node_successors,\" of \",addr_list[i])\n",
        "            sum_of_successor_amount += my_node_weight #adding up weights\n",
        "            #print(\"added weights\",sum_of_successor_amount, \"for\",addr_list[i])\n",
        "        #print(\"successor done for:\",addr_list[i])\n",
        "    \n",
        "        #predecessors nodes and weights\n",
        "        my_node_predecessors_list = []\n",
        "        my_node_predecessors_list= list(g.predecessors(addr_list[i]))\n",
        "        sum_of_predecessor_amount = 0\n",
        "\n",
        "        for j in range (0,len(my_node_predecessors_list)):\n",
        "            my_node_predecessors = my_node_predecessors_list[j]\n",
        "            my_node_weight = g[my_node_predecessors][addr_list[i]]['weight'] #getting weight of directed edge from predecessors to my_node\n",
        "            sum_of_predecessor_amount += my_node_weight\n",
        "        #print(\"predecessor done for:\",addr_list[i])\n",
        "\n",
        "        Income_list.append(sum_of_predecessor_amount)\n",
        "        Expenditure_list.append(sum_of_successor_amount)\n",
        "        Balance_list.append(sum_of_predecessor_amount-sum_of_successor_amount)    \n",
        "        #print(\"amounts done:\",addr_list[i])\n",
        "\n",
        "    \n",
        "    \n",
        "    #subgraph for my_node\n",
        "    #nodelist = [my_node]\n",
        "    #nodelist.extend(my_node_successors_list)\n",
        "    #nodelist.extend(my_node_predecessors_list)\n",
        "    #g2 = g.subgraph(nodelist)\n",
        "    #pos=nx.circular_layout(g2)\n",
        "    ##pos = nx.spring_layout(g2, seed=7)\n",
        "    #nx.draw(g2, pos, with_labels=True)\n",
        "\n",
        "    return total_neighbours_count_list,successor_neighbours_count_list,predecessor_neighbours_count_list,Income_list,Expenditure_list,Balance_list"
      ],
      "metadata": {
        "id": "mMVp9c4BuFgl"
      },
      "execution_count": 7,
      "outputs": []
    },
    {
      "cell_type": "code",
      "source": [
        "def create_graph(g,updated_dict):\n",
        "  \n",
        "      for key, value in tqdm(updated_dict.items()):\n",
        "        \n",
        "        #print(\"Current transaction hash {}\".format(key))\n",
        "        hash_of_transc = key\n",
        "        \n",
        "        \n",
        "        input_details_of_hash_of_transc = value[\"input\"]\n",
        "        output_details_of_hash_of_transc = value[\"output\"]\n",
        "        \n",
        "        #print(\"Transaction input details {}\".format(input_details_of_hash_of_transc))\n",
        "        #print(\"Transaction output details {}\".format(output_details_of_hash_of_transc))\n",
        "        \n",
        "        #going over all input transactions\n",
        "        for i in range(0, len(input_details_of_hash_of_transc), 2):\n",
        "            \n",
        "            input_hash = input_details_of_hash_of_transc[i]\n",
        "            output_index = input_details_of_hash_of_transc[i+1]\n",
        "            \n",
        "            #print(input_hash)\n",
        "            #print(output_index)\n",
        "            if input_hash not in updated_dict.keys():\n",
        "                #g.add_vertex(input_hash)\n",
        "                #print(\"no address\")\n",
        "                pass\n",
        "            else:\n",
        "                #g.add_vertex(input_hash)\n",
        "                #get output details of that input transaction\n",
        "                get_amounts = updated_dict[input_hash][\"output\"]\n",
        "                \n",
        "                #print(get_amounts)\n",
        "                address = get_amounts[int(output_index)]\n",
        "                amount = get_amounts[2*int(output_index)+1]\n",
        "                \n",
        "                \n",
        "                #add input transaction node\n",
        "                g.add_node(input_hash, s='s', label='transaction', color=\"r\")\n",
        "                \n",
        "                #add address node\n",
        "                g.add_node(address, s ='s', label='address', color=\"b\")\n",
        "                \n",
        "                #add output transaction node\n",
        "                g.add_node(hash_of_transc, s='o', label='transaction', color=\"r\")\n",
        "                \n",
        "                #add edge between input transaction and address\n",
        "                g.add_edge(input_hash, address, weight=int(amount))\n",
        "                \n",
        "                #add edge between address and output transaction\n",
        "                g.add_edge(address, key, weight=int(amount))\n",
        "\n",
        "      return g"
      ],
      "metadata": {
        "id": "xFsTLVFkG7bz"
      },
      "execution_count": 8,
      "outputs": []
    },
    {
      "cell_type": "code",
      "source": [
        "#intitating graph\n",
        "g = nx.DiGraph()\n",
        "\n",
        "#considering data files till this month\n",
        "month = 6\n",
        "\n",
        "#input dict to store all the input details\n",
        "input_dict = dict()\n",
        "\n",
        "#output dict to store all the output details\n",
        "output_dict = dict()\n",
        "\n",
        "\n",
        "#dt = datetime(2010,1,23,20,17,11)\n",
        "day1 = datetime(2010,1,1)\n",
        "unixtimestamp_start = int((day1 - datetime(1970,1,1)).total_seconds())\n",
        "\n",
        "if month==12:\n",
        "    day_end = datetime(2011,1,1)\n",
        "else:\n",
        "    day_end = datetime(2010,month+1,1)\n",
        "\n",
        "unixtimestamp_end = int((day_end - datetime(1970,1,1)).total_seconds())\n",
        "\n",
        "\n",
        "\n",
        "\n",
        "iteration_count = math.ceil((unixtimestamp_end - unixtimestamp_start)/(24 * 60 * 60))\n",
        "print(\"iteration_count = \",iteration_count)\n",
        "\n",
        "df = [None] * iteration_count\n",
        "j = 0\n",
        "for unixtimestamp in range(unixtimestamp_start,unixtimestamp_end,24 * 60 * 60):\n",
        "          #calling function for input\n",
        "          start_time = time.time()\n",
        "          inp = Parallel(n_jobs=-1)(delayed(get_24hr_details)(\"inputs\", i,unixtimestamp) for i in tqdm(range(month)))\n",
        "          for d in inp:\n",
        "              input_dict.update(d)\n",
        "\n",
        "          end_time = time.time()\n",
        "          print(\"Time taken to read the input file data is {}\".format(end_time - start_time))\n",
        "\n",
        "          #print input_dict\n",
        "          print(\"Total details in input dict is: {}\".format(len(input_dict)))\n",
        "\n",
        "          #calling function for output\n",
        "          start_time = time.time()\n",
        "          inp = Parallel(n_jobs=-1)(delayed(get_24hr_details)(\"outputs\", o,unixtimestamp) for o in tqdm(range(month)))\n",
        "          for d in inp:\n",
        "              output_dict.update(d)\n",
        "\n",
        "          end_time = time.time()\n",
        "          print(\"Time taken to read the output file data is {}\".format(end_time - start_time))\n",
        "\n",
        "          #print output_dict\n",
        "          print(\"Total details in output dict is: {}\".format(len(output_dict)))\n",
        "\n",
        "          #merge input and output data\n",
        "          for key, value in output_dict.items():\n",
        "              input_details = input_dict[key]\n",
        "              output_dict[key][\"input\"] = input_details[\"input\"]\n",
        "\n",
        "          print(\"Total details in linked dict is: {}\".format(len(output_dict)))\n",
        "\n",
        "          updated_dict = dict(sorted(output_dict.items(), key=lambda item: item[1]['time']))\n",
        "\n",
        "\n",
        "          #create the graph\n",
        "          g = nx.DiGraph()\n",
        "          g = create_graph(g,updated_dict)\n",
        "          \n",
        "          #plot the graph for each g\n",
        "          square_foo_bar = StellarGraph.from_networkx(g)\n",
        "          print(square_foo_bar.info())\n",
        "\n",
        "\n",
        "          #pick only the address nodes from each g\n",
        "          all_node_list = []\n",
        "          addr_list = []\n",
        "          all_node_list = list(g.nodes)\n",
        "          i=0\n",
        "          for i in range(len(all_node_list)):\n",
        "              if g.nodes[all_node_list[i]]['label'] == \"address\":\n",
        "                  addr_list.append(all_node_list[i])\n",
        "          \n",
        "          print(\"len of addr_list:\",len(addr_list))\n",
        "\n",
        "          #call address node function for features\n",
        "          total_neighbours_count_list,successor_neighbours_count_list,predecessor_neighbours_count_list,Income_list,Expenditure_list,Balance_list = get_addr_node_details(g,addr_list)\n",
        "\n",
        "\n",
        "          #converting address features into dataframe\n",
        "          df[j] = pd.DataFrame(np.column_stack([addr_list, predecessor_neighbours_count_list, successor_neighbours_count_list,total_neighbours_count_list,Income_list,Expenditure_list,Balance_list]), \n",
        "                                columns=['Address','Predecessor_Neighbours', 'Successor_Neighbours','Total_neighbours','Income','Expenditure','Balance'])\n",
        "          j+=1\n",
        "\n",
        "#append all the df\n",
        "print (\"lendght of df = \",len(df))\n",
        "for i in range(0,len(df)):\n",
        "    if i ==0:\n",
        "        result_df = df[i].copy()\n",
        "    else:\n",
        "        result_df = result_df.append(df[i])\n",
        "\n",
        "#convert df into csv file\n",
        "result_df.to_csv('/content/drive/MyDrive/Blockchain Output CSVs/Jan_to_Jun_2010_24hrDivision.csv')"
      ],
      "metadata": {
        "colab": {
          "base_uri": "https://localhost:8080/"
        },
        "id": "6yzVtXMNUHlS",
        "outputId": "ca7c3fb3-1b29-437f-e7d3-5e14c8963a5f"
      },
      "execution_count": 9,
      "outputs": [
        {
          "output_type": "stream",
          "name": "stdout",
          "text": [
            "iteration_count =  181\n"
          ]
        },
        {
          "output_type": "stream",
          "name": "stderr",
          "text": [
            "100%|██████████| 6/6 [00:01<00:00,  5.70it/s]\n"
          ]
        },
        {
          "output_type": "stream",
          "name": "stdout",
          "text": [
            "Time taken to read the input file data is 2.698425531387329\n",
            "Total details in input dict is: 2\n"
          ]
        },
        {
          "output_type": "stream",
          "name": "stderr",
          "text": [
            "100%|██████████| 6/6 [00:00<00:00, 37.14it/s]\n"
          ]
        },
        {
          "output_type": "stream",
          "name": "stdout",
          "text": [
            "Time taken to read the output file data is 1.1890888214111328\n",
            "Total details in output dict is: 2\n",
            "Total details in linked dict is: 2\n"
          ]
        },
        {
          "output_type": "stream",
          "name": "stderr",
          "text": [
            "100%|██████████| 2/2 [00:00<00:00, 15252.01it/s]\n"
          ]
        },
        {
          "output_type": "stream",
          "name": "stdout",
          "text": [
            "StellarDiGraph: Directed multigraph\n",
            " Nodes: 0, Edges: 0\n",
            "\n",
            " Node types:\n",
            "\n",
            " Edge types:\n",
            "len of addr_list: 0\n"
          ]
        },
        {
          "output_type": "stream",
          "name": "stderr",
          "text": [
            "100%|██████████| 6/6 [00:00<00:00, 556.57it/s]\n"
          ]
        },
        {
          "output_type": "stream",
          "name": "stdout",
          "text": [
            "Time taken to read the input file data is 0.6041080951690674\n",
            "Total details in input dict is: 2\n"
          ]
        },
        {
          "output_type": "stream",
          "name": "stderr",
          "text": [
            "100%|██████████| 6/6 [00:00<00:00, 248.95it/s]\n"
          ]
        },
        {
          "output_type": "stream",
          "name": "stdout",
          "text": [
            "Time taken to read the output file data is 0.43428945541381836\n",
            "Total details in output dict is: 2\n",
            "Total details in linked dict is: 2\n"
          ]
        },
        {
          "output_type": "stream",
          "name": "stderr",
          "text": [
            "100%|██████████| 2/2 [00:00<00:00, 19599.55it/s]\n"
          ]
        },
        {
          "output_type": "stream",
          "name": "stdout",
          "text": [
            "StellarDiGraph: Directed multigraph\n",
            " Nodes: 0, Edges: 0\n",
            "\n",
            " Node types:\n",
            "\n",
            " Edge types:\n",
            "len of addr_list: 0\n"
          ]
        },
        {
          "output_type": "stream",
          "name": "stderr",
          "text": [
            "100%|██████████| 6/6 [00:00<00:00, 337.49it/s]\n"
          ]
        },
        {
          "output_type": "stream",
          "name": "stdout",
          "text": [
            "Time taken to read the input file data is 0.2041165828704834\n",
            "Total details in input dict is: 2\n"
          ]
        },
        {
          "output_type": "stream",
          "name": "stderr",
          "text": [
            "100%|██████████| 6/6 [00:00<00:00, 318.43it/s]\n"
          ]
        },
        {
          "output_type": "stream",
          "name": "stdout",
          "text": [
            "Time taken to read the output file data is 0.20879912376403809\n",
            "Total details in output dict is: 2\n",
            "Total details in linked dict is: 2\n"
          ]
        },
        {
          "output_type": "stream",
          "name": "stderr",
          "text": [
            "100%|██████████| 2/2 [00:00<00:00, 18236.10it/s]\n"
          ]
        },
        {
          "output_type": "stream",
          "name": "stdout",
          "text": [
            "StellarDiGraph: Directed multigraph\n",
            " Nodes: 0, Edges: 0\n",
            "\n",
            " Node types:\n",
            "\n",
            " Edge types:\n",
            "len of addr_list: 0\n"
          ]
        },
        {
          "output_type": "stream",
          "name": "stderr",
          "text": [
            "100%|██████████| 6/6 [00:00<00:00, 490.56it/s]\n"
          ]
        },
        {
          "output_type": "stream",
          "name": "stdout",
          "text": [
            "Time taken to read the input file data is 0.2668421268463135\n",
            "Total details in input dict is: 4\n"
          ]
        },
        {
          "output_type": "stream",
          "name": "stderr",
          "text": [
            "100%|██████████| 6/6 [00:00<00:00, 281.86it/s]\n"
          ]
        },
        {
          "output_type": "stream",
          "name": "stdout",
          "text": [
            "Time taken to read the output file data is 0.16076421737670898\n",
            "Total details in output dict is: 4\n",
            "Total details in linked dict is: 4\n"
          ]
        },
        {
          "output_type": "stream",
          "name": "stderr",
          "text": [
            "100%|██████████| 4/4 [00:00<00:00, 26757.92it/s]\n"
          ]
        },
        {
          "output_type": "stream",
          "name": "stdout",
          "text": [
            "StellarDiGraph: Directed multigraph\n",
            " Nodes: 0, Edges: 0\n",
            "\n",
            " Node types:\n",
            "\n",
            " Edge types:\n",
            "len of addr_list: 0\n"
          ]
        },
        {
          "output_type": "stream",
          "name": "stderr",
          "text": [
            "100%|██████████| 6/6 [00:00<00:00, 503.40it/s]\n"
          ]
        },
        {
          "output_type": "stream",
          "name": "stdout",
          "text": [
            "Time taken to read the input file data is 0.1974337100982666\n",
            "Total details in input dict is: 4\n"
          ]
        },
        {
          "output_type": "stream",
          "name": "stderr",
          "text": [
            "100%|██████████| 6/6 [00:00<00:00, 326.35it/s]\n"
          ]
        },
        {
          "output_type": "stream",
          "name": "stdout",
          "text": [
            "Time taken to read the output file data is 0.19898271560668945\n",
            "Total details in output dict is: 4\n",
            "Total details in linked dict is: 4\n"
          ]
        },
        {
          "output_type": "stream",
          "name": "stderr",
          "text": [
            "100%|██████████| 4/4 [00:00<00:00, 24174.66it/s]\n"
          ]
        },
        {
          "output_type": "stream",
          "name": "stdout",
          "text": [
            "StellarDiGraph: Directed multigraph\n",
            " Nodes: 0, Edges: 0\n",
            "\n",
            " Node types:\n",
            "\n",
            " Edge types:\n",
            "len of addr_list: 0\n"
          ]
        },
        {
          "output_type": "stream",
          "name": "stderr",
          "text": [
            "100%|██████████| 6/6 [00:00<00:00, 222.48it/s]\n"
          ]
        },
        {
          "output_type": "stream",
          "name": "stdout",
          "text": [
            "Time taken to read the input file data is 0.3369100093841553\n",
            "Total details in input dict is: 4\n"
          ]
        },
        {
          "output_type": "stream",
          "name": "stderr",
          "text": [
            "100%|██████████| 6/6 [00:00<00:00, 389.97it/s]\n"
          ]
        },
        {
          "output_type": "stream",
          "name": "stdout",
          "text": [
            "Time taken to read the output file data is 0.18557167053222656\n",
            "Total details in output dict is: 4\n",
            "Total details in linked dict is: 4\n"
          ]
        },
        {
          "output_type": "stream",
          "name": "stderr",
          "text": [
            "100%|██████████| 4/4 [00:00<00:00, 28777.39it/s]\n"
          ]
        },
        {
          "output_type": "stream",
          "name": "stdout",
          "text": [
            "StellarDiGraph: Directed multigraph\n",
            " Nodes: 0, Edges: 0\n",
            "\n",
            " Node types:\n",
            "\n",
            " Edge types:\n",
            "len of addr_list: 0\n"
          ]
        },
        {
          "output_type": "stream",
          "name": "stderr",
          "text": [
            "100%|██████████| 6/6 [00:00<00:00, 438.06it/s]\n"
          ]
        },
        {
          "output_type": "stream",
          "name": "stdout",
          "text": [
            "Time taken to read the input file data is 0.4551551342010498\n",
            "Total details in input dict is: 4\n"
          ]
        },
        {
          "output_type": "stream",
          "name": "stderr",
          "text": [
            "100%|██████████| 6/6 [00:00<00:00, 303.96it/s]\n"
          ]
        },
        {
          "output_type": "stream",
          "name": "stdout",
          "text": [
            "Time taken to read the output file data is 0.1715085506439209\n",
            "Total details in output dict is: 4\n",
            "Total details in linked dict is: 4\n"
          ]
        },
        {
          "output_type": "stream",
          "name": "stderr",
          "text": [
            "100%|██████████| 4/4 [00:00<00:00, 28630.06it/s]\n"
          ]
        },
        {
          "output_type": "stream",
          "name": "stdout",
          "text": [
            "StellarDiGraph: Directed multigraph\n",
            " Nodes: 0, Edges: 0\n",
            "\n",
            " Node types:\n",
            "\n",
            " Edge types:\n",
            "len of addr_list: 0\n"
          ]
        },
        {
          "output_type": "stream",
          "name": "stderr",
          "text": [
            "100%|██████████| 6/6 [00:00<00:00, 318.22it/s]\n"
          ]
        },
        {
          "output_type": "stream",
          "name": "stdout",
          "text": [
            "Time taken to read the input file data is 0.18398165702819824\n",
            "Total details in input dict is: 4\n"
          ]
        },
        {
          "output_type": "stream",
          "name": "stderr",
          "text": [
            "100%|██████████| 6/6 [00:00<00:00, 247.08it/s]\n"
          ]
        },
        {
          "output_type": "stream",
          "name": "stdout",
          "text": [
            "Time taken to read the output file data is 0.1726856231689453\n",
            "Total details in output dict is: 4\n",
            "Total details in linked dict is: 4\n"
          ]
        },
        {
          "output_type": "stream",
          "name": "stderr",
          "text": [
            "100%|██████████| 4/4 [00:00<00:00, 1557.77it/s]\n"
          ]
        },
        {
          "output_type": "stream",
          "name": "stdout",
          "text": [
            "StellarDiGraph: Directed multigraph\n",
            " Nodes: 0, Edges: 0\n",
            "\n",
            " Node types:\n",
            "\n",
            " Edge types:\n",
            "len of addr_list: 0\n"
          ]
        },
        {
          "output_type": "stream",
          "name": "stderr",
          "text": [
            "100%|██████████| 6/6 [00:00<00:00, 342.47it/s]\n"
          ]
        },
        {
          "output_type": "stream",
          "name": "stdout",
          "text": [
            "Time taken to read the input file data is 0.18195819854736328\n",
            "Total details in input dict is: 4\n"
          ]
        },
        {
          "output_type": "stream",
          "name": "stderr",
          "text": [
            "100%|██████████| 6/6 [00:00<00:00, 357.15it/s]\n"
          ]
        },
        {
          "output_type": "stream",
          "name": "stdout",
          "text": [
            "Time taken to read the output file data is 0.17673444747924805\n",
            "Total details in output dict is: 4\n",
            "Total details in linked dict is: 4\n"
          ]
        },
        {
          "output_type": "stream",
          "name": "stderr",
          "text": [
            "100%|██████████| 4/4 [00:00<00:00, 19691.57it/s]\n"
          ]
        },
        {
          "output_type": "stream",
          "name": "stdout",
          "text": [
            "StellarDiGraph: Directed multigraph\n",
            " Nodes: 0, Edges: 0\n",
            "\n",
            " Node types:\n",
            "\n",
            " Edge types:\n",
            "len of addr_list: 0\n"
          ]
        },
        {
          "output_type": "stream",
          "name": "stderr",
          "text": [
            "100%|██████████| 6/6 [00:00<00:00, 165.77it/s]\n"
          ]
        },
        {
          "output_type": "stream",
          "name": "stdout",
          "text": [
            "Time taken to read the input file data is 0.22049808502197266\n",
            "Total details in input dict is: 4\n"
          ]
        },
        {
          "output_type": "stream",
          "name": "stderr",
          "text": [
            "100%|██████████| 6/6 [00:00<00:00, 332.66it/s]\n"
          ]
        },
        {
          "output_type": "stream",
          "name": "stdout",
          "text": [
            "Time taken to read the output file data is 0.35735201835632324\n",
            "Total details in output dict is: 4\n",
            "Total details in linked dict is: 4\n"
          ]
        },
        {
          "output_type": "stream",
          "name": "stderr",
          "text": [
            "100%|██████████| 4/4 [00:00<00:00, 28055.55it/s]\n"
          ]
        },
        {
          "output_type": "stream",
          "name": "stdout",
          "text": [
            "StellarDiGraph: Directed multigraph\n",
            " Nodes: 0, Edges: 0\n",
            "\n",
            " Node types:\n",
            "\n",
            " Edge types:\n",
            "len of addr_list: 0\n"
          ]
        },
        {
          "output_type": "stream",
          "name": "stderr",
          "text": [
            "100%|██████████| 6/6 [00:00<00:00, 498.26it/s]\n"
          ]
        },
        {
          "output_type": "stream",
          "name": "stdout",
          "text": [
            "Time taken to read the input file data is 0.1809391975402832\n",
            "Total details in input dict is: 4\n"
          ]
        },
        {
          "output_type": "stream",
          "name": "stderr",
          "text": [
            "100%|██████████| 6/6 [00:00<00:00, 412.14it/s]\n"
          ]
        },
        {
          "output_type": "stream",
          "name": "stdout",
          "text": [
            "Time taken to read the output file data is 0.5050680637359619\n",
            "Total details in output dict is: 4\n",
            "Total details in linked dict is: 4\n"
          ]
        },
        {
          "output_type": "stream",
          "name": "stderr",
          "text": [
            "100%|██████████| 4/4 [00:00<00:00, 24528.09it/s]\n"
          ]
        },
        {
          "output_type": "stream",
          "name": "stdout",
          "text": [
            "StellarDiGraph: Directed multigraph\n",
            " Nodes: 0, Edges: 0\n",
            "\n",
            " Node types:\n",
            "\n",
            " Edge types:\n",
            "len of addr_list: 0\n"
          ]
        },
        {
          "output_type": "stream",
          "name": "stderr",
          "text": [
            "100%|██████████| 6/6 [00:00<00:00, 148.60it/s]\n"
          ]
        },
        {
          "output_type": "stream",
          "name": "stdout",
          "text": [
            "Time taken to read the input file data is 0.31841373443603516\n",
            "Total details in input dict is: 6\n"
          ]
        },
        {
          "output_type": "stream",
          "name": "stderr",
          "text": [
            "100%|██████████| 6/6 [00:00<00:00, 403.58it/s]\n"
          ]
        },
        {
          "output_type": "stream",
          "name": "stdout",
          "text": [
            "Time taken to read the output file data is 0.17884135246276855\n",
            "Total details in output dict is: 6\n",
            "Total details in linked dict is: 6\n"
          ]
        },
        {
          "output_type": "stream",
          "name": "stderr",
          "text": [
            "100%|██████████| 6/6 [00:00<00:00, 18724.57it/s]\n"
          ]
        },
        {
          "output_type": "stream",
          "name": "stdout",
          "text": [
            "StellarDiGraph: Directed multigraph\n",
            " Nodes: 3, Edges: 2\n",
            "\n",
            " Node types:\n",
            "  transaction: [2]\n",
            "    Features: none\n",
            "    Edge types: transaction-default->address\n",
            "  address: [1]\n",
            "    Features: none\n",
            "    Edge types: address-default->transaction\n",
            "\n",
            " Edge types:\n",
            "    transaction-default->address: [1]\n",
            "        Weights: all 4.988e+09\n",
            "        Features: none\n",
            "    address-default->transaction: [1]\n",
            "        Weights: all 4.988e+09\n",
            "        Features: none\n",
            "len of addr_list: 1\n"
          ]
        },
        {
          "output_type": "stream",
          "name": "stderr",
          "text": [
            "100%|██████████| 6/6 [00:00<00:00, 143.78it/s]\n"
          ]
        },
        {
          "output_type": "stream",
          "name": "stdout",
          "text": [
            "Time taken to read the input file data is 0.22833609580993652\n",
            "Total details in input dict is: 8\n"
          ]
        },
        {
          "output_type": "stream",
          "name": "stderr",
          "text": [
            "100%|██████████| 6/6 [00:00<00:00, 258.97it/s]\n"
          ]
        },
        {
          "output_type": "stream",
          "name": "stdout",
          "text": [
            "Time taken to read the output file data is 0.3145761489868164\n",
            "Total details in output dict is: 8\n",
            "Total details in linked dict is: 8\n"
          ]
        },
        {
          "output_type": "stream",
          "name": "stderr",
          "text": [
            "100%|██████████| 8/8 [00:00<00:00, 26908.13it/s]\n"
          ]
        },
        {
          "output_type": "stream",
          "name": "stdout",
          "text": [
            "StellarDiGraph: Directed multigraph\n",
            " Nodes: 3, Edges: 2\n",
            "\n",
            " Node types:\n",
            "  transaction: [2]\n",
            "    Features: none\n",
            "    Edge types: transaction-default->address\n",
            "  address: [1]\n",
            "    Features: none\n",
            "    Edge types: address-default->transaction\n",
            "\n",
            " Edge types:\n",
            "    transaction-default->address: [1]\n",
            "        Weights: all 4.988e+09\n",
            "        Features: none\n",
            "    address-default->transaction: [1]\n",
            "        Weights: all 4.988e+09\n",
            "        Features: none\n",
            "len of addr_list: 1\n"
          ]
        },
        {
          "output_type": "stream",
          "name": "stderr",
          "text": [
            "100%|██████████| 6/6 [00:00<00:00, 260.80it/s]\n"
          ]
        },
        {
          "output_type": "stream",
          "name": "stdout",
          "text": [
            "Time taken to read the input file data is 0.17777729034423828\n",
            "Total details in input dict is: 10\n"
          ]
        },
        {
          "output_type": "stream",
          "name": "stderr",
          "text": [
            "100%|██████████| 6/6 [00:00<00:00, 420.96it/s]\n"
          ]
        },
        {
          "output_type": "stream",
          "name": "stdout",
          "text": [
            "Time taken to read the output file data is 0.1851358413696289\n",
            "Total details in output dict is: 10\n",
            "Total details in linked dict is: 10\n"
          ]
        },
        {
          "output_type": "stream",
          "name": "stderr",
          "text": [
            "100%|██████████| 10/10 [00:00<00:00, 37583.37it/s]\n"
          ]
        },
        {
          "output_type": "stream",
          "name": "stdout",
          "text": [
            "StellarDiGraph: Directed multigraph\n",
            " Nodes: 6, Edges: 4\n",
            "\n",
            " Node types:\n",
            "  transaction: [4]\n",
            "    Features: none\n",
            "    Edge types: transaction-default->address\n",
            "  address: [2]\n",
            "    Features: none\n",
            "    Edge types: address-default->transaction\n",
            "\n",
            " Edge types:\n",
            "    transaction-default->address: [2]\n",
            "        Weights: range=[5e+08, 4.988e+09], mean=2.744e+09, std=3.1735e+09\n",
            "        Features: none\n",
            "    address-default->transaction: [2]\n",
            "        Weights: range=[5e+08, 4.988e+09], mean=2.744e+09, std=3.1735e+09\n",
            "        Features: none\n",
            "len of addr_list: 2\n"
          ]
        },
        {
          "output_type": "stream",
          "name": "stderr",
          "text": [
            "100%|██████████| 6/6 [00:00<00:00, 279.82it/s]\n"
          ]
        },
        {
          "output_type": "stream",
          "name": "stdout",
          "text": [
            "Time taken to read the input file data is 0.18659591674804688\n",
            "Total details in input dict is: 11\n"
          ]
        },
        {
          "output_type": "stream",
          "name": "stderr",
          "text": [
            "100%|██████████| 6/6 [00:00<00:00, 258.51it/s]\n"
          ]
        },
        {
          "output_type": "stream",
          "name": "stdout",
          "text": [
            "Time taken to read the output file data is 0.1689138412475586\n",
            "Total details in output dict is: 11\n",
            "Total details in linked dict is: 11\n"
          ]
        },
        {
          "output_type": "stream",
          "name": "stderr",
          "text": [
            "100%|██████████| 11/11 [00:00<00:00, 33949.48it/s]\n"
          ]
        },
        {
          "output_type": "stream",
          "name": "stdout",
          "text": [
            "StellarDiGraph: Directed multigraph\n",
            " Nodes: 8, Edges: 6\n",
            "\n",
            " Node types:\n",
            "  transaction: [5]\n",
            "    Features: none\n",
            "    Edge types: transaction-default->address\n",
            "  address: [3]\n",
            "    Features: none\n",
            "    Edge types: address-default->transaction\n",
            "\n",
            " Edge types:\n",
            "    transaction-default->address: [3]\n",
            "        Weights: range=[7.4e+07, 4.988e+09], mean=1.854e+09, std=2.72247e+09\n",
            "        Features: none\n",
            "    address-default->transaction: [3]\n",
            "        Weights: range=[7.4e+07, 4.988e+09], mean=1.854e+09, std=2.72247e+09\n",
            "        Features: none\n",
            "len of addr_list: 3\n"
          ]
        },
        {
          "output_type": "stream",
          "name": "stderr",
          "text": [
            "100%|██████████| 6/6 [00:00<00:00, 289.20it/s]\n"
          ]
        },
        {
          "output_type": "stream",
          "name": "stdout",
          "text": [
            "Time taken to read the input file data is 0.17980694770812988\n",
            "Total details in input dict is: 12\n"
          ]
        },
        {
          "output_type": "stream",
          "name": "stderr",
          "text": [
            "100%|██████████| 6/6 [00:00<00:00, 323.69it/s]\n"
          ]
        },
        {
          "output_type": "stream",
          "name": "stdout",
          "text": [
            "Time taken to read the output file data is 0.16498589515686035\n",
            "Total details in output dict is: 12\n",
            "Total details in linked dict is: 12\n"
          ]
        },
        {
          "output_type": "stream",
          "name": "stderr",
          "text": [
            "100%|██████████| 12/12 [00:00<00:00, 35345.26it/s]\n"
          ]
        },
        {
          "output_type": "stream",
          "name": "stdout",
          "text": [
            "StellarDiGraph: Directed multigraph\n",
            " Nodes: 11, Edges: 8\n",
            "\n",
            " Node types:\n",
            "  transaction: [7]\n",
            "    Features: none\n",
            "    Edge types: transaction-default->address\n",
            "  address: [4]\n",
            "    Features: none\n",
            "    Edge types: address-default->transaction\n",
            "\n",
            " Edge types:\n",
            "    transaction-default->address: [4]\n",
            "        Weights: range=[7.4e+07, 4.988e+09], mean=1.4155e+09, std=2.38963e+09\n",
            "        Features: none\n",
            "    address-default->transaction: [4]\n",
            "        Weights: range=[7.4e+07, 4.988e+09], mean=1.4155e+09, std=2.38963e+09\n",
            "        Features: none\n",
            "len of addr_list: 4\n"
          ]
        },
        {
          "output_type": "stream",
          "name": "stderr",
          "text": [
            "100%|██████████| 6/6 [00:00<00:00, 168.54it/s]\n"
          ]
        },
        {
          "output_type": "stream",
          "name": "stdout",
          "text": [
            "Time taken to read the input file data is 0.1939685344696045\n",
            "Total details in input dict is: 12\n"
          ]
        },
        {
          "output_type": "stream",
          "name": "stderr",
          "text": [
            "100%|██████████| 6/6 [00:00<00:00, 296.45it/s]\n"
          ]
        },
        {
          "output_type": "stream",
          "name": "stdout",
          "text": [
            "Time taken to read the output file data is 0.396099328994751\n",
            "Total details in output dict is: 12\n",
            "Total details in linked dict is: 12\n"
          ]
        },
        {
          "output_type": "stream",
          "name": "stderr",
          "text": [
            "100%|██████████| 12/12 [00:00<00:00, 33442.96it/s]\n"
          ]
        },
        {
          "output_type": "stream",
          "name": "stdout",
          "text": [
            "StellarDiGraph: Directed multigraph\n",
            " Nodes: 11, Edges: 8\n",
            "\n",
            " Node types:\n",
            "  transaction: [7]\n",
            "    Features: none\n",
            "    Edge types: transaction-default->address\n",
            "  address: [4]\n",
            "    Features: none\n",
            "    Edge types: address-default->transaction\n",
            "\n",
            " Edge types:\n",
            "    transaction-default->address: [4]\n",
            "        Weights: range=[7.4e+07, 4.988e+09], mean=1.4155e+09, std=2.38963e+09\n",
            "        Features: none\n",
            "    address-default->transaction: [4]\n",
            "        Weights: range=[7.4e+07, 4.988e+09], mean=1.4155e+09, std=2.38963e+09\n",
            "        Features: none\n",
            "len of addr_list: 4\n"
          ]
        },
        {
          "output_type": "stream",
          "name": "stderr",
          "text": [
            "100%|██████████| 6/6 [00:00<00:00, 138.85it/s]\n"
          ]
        },
        {
          "output_type": "stream",
          "name": "stdout",
          "text": [
            "Time taken to read the input file data is 0.20229101181030273\n",
            "Total details in input dict is: 13\n"
          ]
        },
        {
          "output_type": "stream",
          "name": "stderr",
          "text": [
            "100%|██████████| 6/6 [00:00<00:00, 620.87it/s]\n"
          ]
        },
        {
          "output_type": "stream",
          "name": "stdout",
          "text": [
            "Time taken to read the output file data is 0.17224884033203125\n",
            "Total details in output dict is: 13\n",
            "Total details in linked dict is: 13\n"
          ]
        },
        {
          "output_type": "stream",
          "name": "stderr",
          "text": [
            "100%|██████████| 13/13 [00:00<00:00, 40691.01it/s]\n"
          ]
        },
        {
          "output_type": "stream",
          "name": "stdout",
          "text": [
            "StellarDiGraph: Directed multigraph\n",
            " Nodes: 11, Edges: 8\n",
            "\n",
            " Node types:\n",
            "  transaction: [7]\n",
            "    Features: none\n",
            "    Edge types: transaction-default->address\n",
            "  address: [4]\n",
            "    Features: none\n",
            "    Edge types: address-default->transaction\n",
            "\n",
            " Edge types:\n",
            "    transaction-default->address: [4]\n",
            "        Weights: range=[7.4e+07, 4.988e+09], mean=1.4155e+09, std=2.38963e+09\n",
            "        Features: none\n",
            "    address-default->transaction: [4]\n",
            "        Weights: range=[7.4e+07, 4.988e+09], mean=1.4155e+09, std=2.38963e+09\n",
            "        Features: none\n",
            "len of addr_list: 4\n"
          ]
        },
        {
          "output_type": "stream",
          "name": "stderr",
          "text": [
            "100%|██████████| 6/6 [00:00<00:00, 385.56it/s]\n"
          ]
        },
        {
          "output_type": "stream",
          "name": "stdout",
          "text": [
            "Time taken to read the input file data is 0.16654157638549805\n",
            "Total details in input dict is: 13\n"
          ]
        },
        {
          "output_type": "stream",
          "name": "stderr",
          "text": [
            "100%|██████████| 6/6 [00:00<00:00, 482.00it/s]\n"
          ]
        },
        {
          "output_type": "stream",
          "name": "stdout",
          "text": [
            "Time taken to read the output file data is 0.17249464988708496\n",
            "Total details in output dict is: 13\n",
            "Total details in linked dict is: 13\n"
          ]
        },
        {
          "output_type": "stream",
          "name": "stderr",
          "text": [
            "100%|██████████| 13/13 [00:00<00:00, 37067.27it/s]\n"
          ]
        },
        {
          "output_type": "stream",
          "name": "stdout",
          "text": [
            "StellarDiGraph: Directed multigraph\n",
            " Nodes: 11, Edges: 8\n",
            "\n",
            " Node types:\n",
            "  transaction: [7]\n",
            "    Features: none\n",
            "    Edge types: transaction-default->address\n",
            "  address: [4]\n",
            "    Features: none\n",
            "    Edge types: address-default->transaction\n",
            "\n",
            " Edge types:\n",
            "    transaction-default->address: [4]\n",
            "        Weights: range=[7.4e+07, 4.988e+09], mean=1.4155e+09, std=2.38963e+09\n",
            "        Features: none\n",
            "    address-default->transaction: [4]\n",
            "        Weights: range=[7.4e+07, 4.988e+09], mean=1.4155e+09, std=2.38963e+09\n",
            "        Features: none\n",
            "len of addr_list: 4\n"
          ]
        },
        {
          "output_type": "stream",
          "name": "stderr",
          "text": [
            "100%|██████████| 6/6 [00:00<00:00, 338.71it/s]\n"
          ]
        },
        {
          "output_type": "stream",
          "name": "stdout",
          "text": [
            "Time taken to read the input file data is 0.1802966594696045\n",
            "Total details in input dict is: 13\n"
          ]
        },
        {
          "output_type": "stream",
          "name": "stderr",
          "text": [
            "100%|██████████| 6/6 [00:00<00:00, 302.18it/s]\n"
          ]
        },
        {
          "output_type": "stream",
          "name": "stdout",
          "text": [
            "Time taken to read the output file data is 0.1722393035888672\n",
            "Total details in output dict is: 13\n",
            "Total details in linked dict is: 13\n"
          ]
        },
        {
          "output_type": "stream",
          "name": "stderr",
          "text": [
            "100%|██████████| 13/13 [00:00<00:00, 36062.14it/s]\n"
          ]
        },
        {
          "output_type": "stream",
          "name": "stdout",
          "text": [
            "StellarDiGraph: Directed multigraph\n",
            " Nodes: 11, Edges: 8\n",
            "\n",
            " Node types:\n",
            "  transaction: [7]\n",
            "    Features: none\n",
            "    Edge types: transaction-default->address\n",
            "  address: [4]\n",
            "    Features: none\n",
            "    Edge types: address-default->transaction\n",
            "\n",
            " Edge types:\n",
            "    transaction-default->address: [4]\n",
            "        Weights: range=[7.4e+07, 4.988e+09], mean=1.4155e+09, std=2.38963e+09\n",
            "        Features: none\n",
            "    address-default->transaction: [4]\n",
            "        Weights: range=[7.4e+07, 4.988e+09], mean=1.4155e+09, std=2.38963e+09\n",
            "        Features: none\n",
            "len of addr_list: 4\n"
          ]
        },
        {
          "output_type": "stream",
          "name": "stderr",
          "text": [
            "100%|██████████| 6/6 [00:00<00:00, 306.79it/s]\n"
          ]
        },
        {
          "output_type": "stream",
          "name": "stdout",
          "text": [
            "Time taken to read the input file data is 0.17656159400939941\n",
            "Total details in input dict is: 22\n"
          ]
        },
        {
          "output_type": "stream",
          "name": "stderr",
          "text": [
            "100%|██████████| 6/6 [00:00<00:00, 770.89it/s]\n"
          ]
        },
        {
          "output_type": "stream",
          "name": "stdout",
          "text": [
            "Time taken to read the output file data is 0.16604208946228027\n",
            "Total details in output dict is: 22\n",
            "Total details in linked dict is: 22\n"
          ]
        },
        {
          "output_type": "stream",
          "name": "stderr",
          "text": [
            "100%|██████████| 22/22 [00:00<00:00, 36602.41it/s]\n"
          ]
        },
        {
          "output_type": "stream",
          "name": "stdout",
          "text": [
            "StellarDiGraph: Directed multigraph\n",
            " Nodes: 29, Edges: 34\n",
            "\n",
            " Node types:\n",
            "  transaction: [16]\n",
            "    Features: none\n",
            "    Edge types: transaction-default->address\n",
            "  address: [13]\n",
            "    Features: none\n",
            "    Edge types: address-default->transaction\n",
            "\n",
            " Edge types:\n",
            "    transaction-default->address: [18]\n",
            "        Weights: range=[1e+06, 2e+10], mean=3.02728e+09, std=4.78776e+09\n",
            "        Features: none\n",
            "    address-default->transaction: [16]\n",
            "        Weights: range=[1e+06, 2e+10], mean=3.39788e+09, std=4.96589e+09\n",
            "        Features: none\n",
            "len of addr_list: 13\n"
          ]
        },
        {
          "output_type": "stream",
          "name": "stderr",
          "text": [
            "100%|██████████| 6/6 [00:00<00:00, 309.30it/s]\n"
          ]
        },
        {
          "output_type": "stream",
          "name": "stdout",
          "text": [
            "Time taken to read the input file data is 0.28168654441833496\n",
            "Total details in input dict is: 25\n"
          ]
        },
        {
          "output_type": "stream",
          "name": "stderr",
          "text": [
            "100%|██████████| 6/6 [00:00<00:00, 209.12it/s]\n"
          ]
        },
        {
          "output_type": "stream",
          "name": "stdout",
          "text": [
            "Time taken to read the output file data is 0.17526507377624512\n",
            "Total details in output dict is: 25\n",
            "Total details in linked dict is: 25\n"
          ]
        },
        {
          "output_type": "stream",
          "name": "stderr",
          "text": [
            "100%|██████████| 25/25 [00:00<00:00, 44563.37it/s]\n"
          ]
        },
        {
          "output_type": "stream",
          "name": "stdout",
          "text": [
            "StellarDiGraph: Directed multigraph\n",
            " Nodes: 29, Edges: 34\n",
            "\n",
            " Node types:\n",
            "  transaction: [16]\n",
            "    Features: none\n",
            "    Edge types: transaction-default->address\n",
            "  address: [13]\n",
            "    Features: none\n",
            "    Edge types: address-default->transaction\n",
            "\n",
            " Edge types:\n",
            "    transaction-default->address: [18]\n",
            "        Weights: range=[1e+06, 2e+10], mean=3.02728e+09, std=4.78776e+09\n",
            "        Features: none\n",
            "    address-default->transaction: [16]\n",
            "        Weights: range=[1e+06, 2e+10], mean=3.39788e+09, std=4.96589e+09\n",
            "        Features: none\n",
            "len of addr_list: 13\n"
          ]
        },
        {
          "output_type": "stream",
          "name": "stderr",
          "text": [
            "100%|██████████| 6/6 [00:00<00:00, 274.09it/s]\n"
          ]
        },
        {
          "output_type": "stream",
          "name": "stdout",
          "text": [
            "Time taken to read the input file data is 0.19524145126342773\n",
            "Total details in input dict is: 27\n"
          ]
        },
        {
          "output_type": "stream",
          "name": "stderr",
          "text": [
            "100%|██████████| 6/6 [00:00<00:00, 324.06it/s]\n"
          ]
        },
        {
          "output_type": "stream",
          "name": "stdout",
          "text": [
            "Time taken to read the output file data is 0.17859387397766113\n",
            "Total details in output dict is: 27\n",
            "Total details in linked dict is: 27\n"
          ]
        },
        {
          "output_type": "stream",
          "name": "stderr",
          "text": [
            "100%|██████████| 27/27 [00:00<00:00, 46450.45it/s]\n"
          ]
        },
        {
          "output_type": "stream",
          "name": "stdout",
          "text": [
            "StellarDiGraph: Directed multigraph\n",
            " Nodes: 32, Edges: 38\n",
            "\n",
            " Node types:\n",
            "  transaction: [19]\n",
            "    Features: none\n",
            "    Edge types: transaction-default->address\n",
            "  address: [13]\n",
            "    Features: none\n",
            "    Edge types: address-default->transaction\n",
            "\n",
            " Edge types:\n",
            "    transaction-default->address: [20]\n",
            "        Weights: range=[1e+06, 2e+10], mean=2.97955e+09, std=4.59485e+09\n",
            "        Features: none\n",
            "    address-default->transaction: [18]\n",
            "        Weights: range=[1e+06, 2e+10], mean=3.30367e+09, std=4.7417e+09\n",
            "        Features: none\n",
            "len of addr_list: 13\n"
          ]
        },
        {
          "output_type": "stream",
          "name": "stderr",
          "text": [
            "100%|██████████| 6/6 [00:00<00:00, 228.27it/s]\n"
          ]
        },
        {
          "output_type": "stream",
          "name": "stdout",
          "text": [
            "Time taken to read the input file data is 0.21920299530029297\n",
            "Total details in input dict is: 28\n"
          ]
        },
        {
          "output_type": "stream",
          "name": "stderr",
          "text": [
            "100%|██████████| 6/6 [00:00<00:00, 313.22it/s]\n"
          ]
        },
        {
          "output_type": "stream",
          "name": "stdout",
          "text": [
            "Time taken to read the output file data is 0.2960169315338135\n",
            "Total details in output dict is: 28\n",
            "Total details in linked dict is: 28\n"
          ]
        },
        {
          "output_type": "stream",
          "name": "stderr",
          "text": [
            "100%|██████████| 28/28 [00:00<00:00, 39568.91it/s]\n"
          ]
        },
        {
          "output_type": "stream",
          "name": "stdout",
          "text": [
            "StellarDiGraph: Directed multigraph\n",
            " Nodes: 32, Edges: 38\n",
            "\n",
            " Node types:\n",
            "  transaction: [19]\n",
            "    Features: none\n",
            "    Edge types: transaction-default->address\n",
            "  address: [13]\n",
            "    Features: none\n",
            "    Edge types: address-default->transaction\n",
            "\n",
            " Edge types:\n",
            "    transaction-default->address: [20]\n",
            "        Weights: range=[1e+06, 2e+10], mean=2.97955e+09, std=4.59485e+09\n",
            "        Features: none\n",
            "    address-default->transaction: [18]\n",
            "        Weights: range=[1e+06, 2e+10], mean=3.30367e+09, std=4.7417e+09\n",
            "        Features: none\n",
            "len of addr_list: 13\n"
          ]
        },
        {
          "output_type": "stream",
          "name": "stderr",
          "text": [
            "100%|██████████| 6/6 [00:00<00:00, 336.31it/s]\n"
          ]
        },
        {
          "output_type": "stream",
          "name": "stdout",
          "text": [
            "Time taken to read the input file data is 0.19756007194519043\n",
            "Total details in input dict is: 32\n"
          ]
        },
        {
          "output_type": "stream",
          "name": "stderr",
          "text": [
            "100%|██████████| 6/6 [00:00<00:00, 295.18it/s]\n"
          ]
        },
        {
          "output_type": "stream",
          "name": "stdout",
          "text": [
            "Time taken to read the output file data is 0.19119930267333984\n",
            "Total details in output dict is: 32\n",
            "Total details in linked dict is: 32\n"
          ]
        },
        {
          "output_type": "stream",
          "name": "stderr",
          "text": [
            "100%|██████████| 32/32 [00:00<00:00, 43534.78it/s]\n"
          ]
        },
        {
          "output_type": "stream",
          "name": "stdout",
          "text": [
            "StellarDiGraph: Directed multigraph\n",
            " Nodes: 39, Edges: 45\n",
            "\n",
            " Node types:\n",
            "  transaction: [25]\n",
            "    Features: none\n",
            "    Edge types: transaction-default->address\n",
            "  address: [14]\n",
            "    Features: none\n",
            "    Edge types: address-default->transaction\n",
            "\n",
            " Edge types:\n",
            "    transaction-default->address: [25]\n",
            "        Weights: range=[1e+06, 2e+10], mean=4.38364e+09, std=5.58378e+09\n",
            "        Features: none\n",
            "    address-default->transaction: [20]\n",
            "        Weights: range=[1e+06, 2e+10], mean=3.4733e+09, std=4.51549e+09\n",
            "        Features: none\n",
            "len of addr_list: 14\n"
          ]
        },
        {
          "output_type": "stream",
          "name": "stderr",
          "text": [
            "100%|██████████| 6/6 [00:00<00:00, 306.19it/s]\n"
          ]
        },
        {
          "output_type": "stream",
          "name": "stdout",
          "text": [
            "Time taken to read the input file data is 0.19107341766357422\n",
            "Total details in input dict is: 38\n"
          ]
        },
        {
          "output_type": "stream",
          "name": "stderr",
          "text": [
            "100%|██████████| 6/6 [00:00<00:00, 500.72it/s]\n"
          ]
        },
        {
          "output_type": "stream",
          "name": "stdout",
          "text": [
            "Time taken to read the output file data is 0.2001972198486328\n",
            "Total details in output dict is: 38\n",
            "Total details in linked dict is: 38\n"
          ]
        },
        {
          "output_type": "stream",
          "name": "stderr",
          "text": [
            "100%|██████████| 38/38 [00:00<00:00, 42209.63it/s]\n"
          ]
        },
        {
          "output_type": "stream",
          "name": "stdout",
          "text": [
            "StellarDiGraph: Directed multigraph\n",
            " Nodes: 47, Edges: 57\n",
            "\n",
            " Node types:\n",
            "  transaction: [30]\n",
            "    Features: none\n",
            "    Edge types: transaction-default->address\n",
            "  address: [17]\n",
            "    Features: none\n",
            "    Edge types: address-default->transaction\n",
            "\n",
            " Edge types:\n",
            "    transaction-default->address: [31]\n",
            "        Weights: range=[1e+06, 2e+10], mean=4.25455e+09, std=5.18474e+09\n",
            "        Features: none\n",
            "    address-default->transaction: [26]\n",
            "        Weights: range=[1e+06, 2e+10], mean=3.52946e+09, std=4.21277e+09\n",
            "        Features: none\n",
            "len of addr_list: 17\n"
          ]
        },
        {
          "output_type": "stream",
          "name": "stderr",
          "text": [
            "100%|██████████| 6/6 [00:00<00:00, 241.09it/s]\n"
          ]
        },
        {
          "output_type": "stream",
          "name": "stdout",
          "text": [
            "Time taken to read the input file data is 0.3098459243774414\n",
            "Total details in input dict is: 40\n"
          ]
        },
        {
          "output_type": "stream",
          "name": "stderr",
          "text": [
            "100%|██████████| 6/6 [00:00<00:00, 485.27it/s]\n"
          ]
        },
        {
          "output_type": "stream",
          "name": "stdout",
          "text": [
            "Time taken to read the output file data is 0.18175601959228516\n",
            "Total details in output dict is: 40\n",
            "Total details in linked dict is: 40\n"
          ]
        },
        {
          "output_type": "stream",
          "name": "stderr",
          "text": [
            "100%|██████████| 40/40 [00:00<00:00, 50824.65it/s]\n"
          ]
        },
        {
          "output_type": "stream",
          "name": "stdout",
          "text": [
            "StellarDiGraph: Directed multigraph\n",
            " Nodes: 47, Edges: 57\n",
            "\n",
            " Node types:\n",
            "  transaction: [30]\n",
            "    Features: none\n",
            "    Edge types: transaction-default->address\n",
            "  address: [17]\n",
            "    Features: none\n",
            "    Edge types: address-default->transaction\n",
            "\n",
            " Edge types:\n",
            "    transaction-default->address: [31]\n",
            "        Weights: range=[1e+06, 2e+10], mean=4.25455e+09, std=5.18474e+09\n",
            "        Features: none\n",
            "    address-default->transaction: [26]\n",
            "        Weights: range=[1e+06, 2e+10], mean=3.52946e+09, std=4.21277e+09\n",
            "        Features: none\n",
            "len of addr_list: 17\n"
          ]
        },
        {
          "output_type": "stream",
          "name": "stderr",
          "text": [
            "100%|██████████| 6/6 [00:00<00:00, 228.73it/s]\n"
          ]
        },
        {
          "output_type": "stream",
          "name": "stdout",
          "text": [
            "Time taken to read the input file data is 0.2032175064086914\n",
            "Total details in input dict is: 42\n"
          ]
        },
        {
          "output_type": "stream",
          "name": "stderr",
          "text": [
            "100%|██████████| 6/6 [00:00<00:00, 310.54it/s]\n"
          ]
        },
        {
          "output_type": "stream",
          "name": "stdout",
          "text": [
            "Time taken to read the output file data is 0.46596384048461914\n",
            "Total details in output dict is: 42\n",
            "Total details in linked dict is: 42\n"
          ]
        },
        {
          "output_type": "stream",
          "name": "stderr",
          "text": [
            "100%|██████████| 42/42 [00:00<00:00, 48355.96it/s]\n"
          ]
        },
        {
          "output_type": "stream",
          "name": "stdout",
          "text": [
            "StellarDiGraph: Directed multigraph\n",
            " Nodes: 47, Edges: 57\n",
            "\n",
            " Node types:\n",
            "  transaction: [30]\n",
            "    Features: none\n",
            "    Edge types: transaction-default->address\n",
            "  address: [17]\n",
            "    Features: none\n",
            "    Edge types: address-default->transaction\n",
            "\n",
            " Edge types:\n",
            "    transaction-default->address: [31]\n",
            "        Weights: range=[1e+06, 2e+10], mean=4.25455e+09, std=5.18474e+09\n",
            "        Features: none\n",
            "    address-default->transaction: [26]\n",
            "        Weights: range=[1e+06, 2e+10], mean=3.52946e+09, std=4.21277e+09\n",
            "        Features: none\n",
            "len of addr_list: 17\n"
          ]
        },
        {
          "output_type": "stream",
          "name": "stderr",
          "text": [
            "100%|██████████| 6/6 [00:00<00:00, 263.81it/s]\n"
          ]
        },
        {
          "output_type": "stream",
          "name": "stdout",
          "text": [
            "Time taken to read the input file data is 0.18536996841430664\n",
            "Total details in input dict is: 46\n"
          ]
        },
        {
          "output_type": "stream",
          "name": "stderr",
          "text": [
            "100%|██████████| 6/6 [00:00<00:00, 336.51it/s]\n"
          ]
        },
        {
          "output_type": "stream",
          "name": "stdout",
          "text": [
            "Time taken to read the output file data is 0.18141865730285645\n",
            "Total details in output dict is: 46\n",
            "Total details in linked dict is: 46\n"
          ]
        },
        {
          "output_type": "stream",
          "name": "stderr",
          "text": [
            "100%|██████████| 46/46 [00:00<00:00, 31655.12it/s]\n"
          ]
        },
        {
          "output_type": "stream",
          "name": "stdout",
          "text": [
            "StellarDiGraph: Directed multigraph\n",
            " Nodes: 47, Edges: 57\n",
            "\n",
            " Node types:\n",
            "  transaction: [30]\n",
            "    Features: none\n",
            "    Edge types: transaction-default->address\n",
            "  address: [17]\n",
            "    Features: none\n",
            "    Edge types: address-default->transaction\n",
            "\n",
            " Edge types:\n",
            "    transaction-default->address: [31]\n",
            "        Weights: range=[1e+06, 2e+10], mean=4.25455e+09, std=5.18474e+09\n",
            "        Features: none\n",
            "    address-default->transaction: [26]\n",
            "        Weights: range=[1e+06, 2e+10], mean=3.52946e+09, std=4.21277e+09\n",
            "        Features: none\n",
            "len of addr_list: 17\n"
          ]
        },
        {
          "output_type": "stream",
          "name": "stderr",
          "text": [
            "100%|██████████| 6/6 [00:00<00:00, 190.29it/s]\n"
          ]
        },
        {
          "output_type": "stream",
          "name": "stdout",
          "text": [
            "Time taken to read the input file data is 0.20934367179870605\n",
            "Total details in input dict is: 50\n"
          ]
        },
        {
          "output_type": "stream",
          "name": "stderr",
          "text": [
            "100%|██████████| 6/6 [00:00<00:00, 306.61it/s]\n"
          ]
        },
        {
          "output_type": "stream",
          "name": "stdout",
          "text": [
            "Time taken to read the output file data is 0.2032628059387207\n",
            "Total details in output dict is: 50\n",
            "Total details in linked dict is: 50\n"
          ]
        },
        {
          "output_type": "stream",
          "name": "stderr",
          "text": [
            "100%|██████████| 50/50 [00:00<00:00, 17081.96it/s]\n"
          ]
        },
        {
          "output_type": "stream",
          "name": "stdout",
          "text": [
            "StellarDiGraph: Directed multigraph\n",
            " Nodes: 47, Edges: 57\n",
            "\n",
            " Node types:\n",
            "  transaction: [30]\n",
            "    Features: none\n",
            "    Edge types: transaction-default->address\n",
            "  address: [17]\n",
            "    Features: none\n",
            "    Edge types: address-default->transaction\n",
            "\n",
            " Edge types:\n",
            "    transaction-default->address: [31]\n",
            "        Weights: range=[1e+06, 2e+10], mean=4.25455e+09, std=5.18474e+09\n",
            "        Features: none\n",
            "    address-default->transaction: [26]\n",
            "        Weights: range=[1e+06, 2e+10], mean=3.52946e+09, std=4.21277e+09\n",
            "        Features: none\n",
            "len of addr_list: 17\n"
          ]
        },
        {
          "output_type": "stream",
          "name": "stderr",
          "text": [
            "100%|██████████| 6/6 [00:00<00:00, 218.80it/s]\n"
          ]
        },
        {
          "output_type": "stream",
          "name": "stdout",
          "text": [
            "Time taken to read the input file data is 0.19083523750305176\n",
            "Total details in input dict is: 52\n"
          ]
        },
        {
          "output_type": "stream",
          "name": "stderr",
          "text": [
            "100%|██████████| 6/6 [00:00<00:00, 481.02it/s]\n"
          ]
        },
        {
          "output_type": "stream",
          "name": "stdout",
          "text": [
            "Time taken to read the output file data is 0.19632625579833984\n",
            "Total details in output dict is: 52\n",
            "Total details in linked dict is: 52\n"
          ]
        },
        {
          "output_type": "stream",
          "name": "stderr",
          "text": [
            "100%|██████████| 52/52 [00:00<00:00, 14617.24it/s]\n"
          ]
        },
        {
          "output_type": "stream",
          "name": "stdout",
          "text": [
            "StellarDiGraph: Directed multigraph\n",
            " Nodes: 50, Edges: 60\n",
            "\n",
            " Node types:\n",
            "  transaction: [33]\n",
            "    Features: none\n",
            "    Edge types: transaction-default->address\n",
            "  address: [17]\n",
            "    Features: none\n",
            "    Edge types: address-default->transaction\n",
            "\n",
            " Edge types:\n",
            "    transaction-default->address: [33]\n",
            "        Weights: range=[1e+06, 2.5e+10], mean=4.90579e+09, std=6.18309e+09\n",
            "        Features: none\n",
            "    address-default->transaction: [27]\n",
            "        Weights: range=[1e+06, 2e+10], mean=3.58393e+09, std=4.14064e+09\n",
            "        Features: none\n",
            "len of addr_list: 17\n"
          ]
        },
        {
          "output_type": "stream",
          "name": "stderr",
          "text": [
            "100%|██████████| 6/6 [00:00<00:00, 559.80it/s]\n"
          ]
        },
        {
          "output_type": "stream",
          "name": "stdout",
          "text": [
            "Time taken to read the input file data is 0.2640349864959717\n",
            "Total details in input dict is: 61\n"
          ]
        },
        {
          "output_type": "stream",
          "name": "stderr",
          "text": [
            "100%|██████████| 6/6 [00:00<00:00, 279.94it/s]\n"
          ]
        },
        {
          "output_type": "stream",
          "name": "stdout",
          "text": [
            "Time taken to read the output file data is 0.17815637588500977\n",
            "Total details in output dict is: 61\n",
            "Total details in linked dict is: 61\n"
          ]
        },
        {
          "output_type": "stream",
          "name": "stderr",
          "text": [
            "100%|██████████| 61/61 [00:00<00:00, 52851.18it/s]\n"
          ]
        },
        {
          "output_type": "stream",
          "name": "stdout",
          "text": [
            "StellarDiGraph: Directed multigraph\n",
            " Nodes: 64, Edges: 80\n",
            "\n",
            " Node types:\n",
            "  transaction: [41]\n",
            "    Features: none\n",
            "    Edge types: transaction-default->address\n",
            "  address: [23]\n",
            "    Features: none\n",
            "    Edge types: address-default->transaction\n",
            "\n",
            " Edge types:\n",
            "    transaction-default->address: [44]\n",
            "        Weights: range=[1e+06, 4e+10], mean=8.5657e+09, std=1.06796e+10\n",
            "        Features: none\n",
            "    address-default->transaction: [36]\n",
            "        Weights: range=[1e+06, 3.5e+10], mean=7.54628e+09, std=9.64743e+09\n",
            "        Features: none\n",
            "len of addr_list: 23\n"
          ]
        },
        {
          "output_type": "stream",
          "name": "stderr",
          "text": [
            "100%|██████████| 6/6 [00:00<00:00, 216.66it/s]\n"
          ]
        },
        {
          "output_type": "stream",
          "name": "stdout",
          "text": [
            "Time taken to read the input file data is 0.23788022994995117\n",
            "Total details in input dict is: 62\n"
          ]
        },
        {
          "output_type": "stream",
          "name": "stderr",
          "text": [
            "100%|██████████| 6/6 [00:00<00:00, 399.37it/s]\n"
          ]
        },
        {
          "output_type": "stream",
          "name": "stdout",
          "text": [
            "Time taken to read the output file data is 0.21648859977722168\n",
            "Total details in output dict is: 62\n",
            "Total details in linked dict is: 62\n"
          ]
        },
        {
          "output_type": "stream",
          "name": "stderr",
          "text": [
            "100%|██████████| 62/62 [00:00<00:00, 50999.58it/s]\n"
          ]
        },
        {
          "output_type": "stream",
          "name": "stdout",
          "text": [
            "StellarDiGraph: Directed multigraph\n",
            " Nodes: 64, Edges: 80\n",
            "\n",
            " Node types:\n",
            "  transaction: [41]\n",
            "    Features: none\n",
            "    Edge types: transaction-default->address\n",
            "  address: [23]\n",
            "    Features: none\n",
            "    Edge types: address-default->transaction\n",
            "\n",
            " Edge types:\n",
            "    transaction-default->address: [44]\n",
            "        Weights: range=[1e+06, 4e+10], mean=8.5657e+09, std=1.06796e+10\n",
            "        Features: none\n",
            "    address-default->transaction: [36]\n",
            "        Weights: range=[1e+06, 3.5e+10], mean=7.54628e+09, std=9.64743e+09\n",
            "        Features: none\n",
            "len of addr_list: 23\n"
          ]
        },
        {
          "output_type": "stream",
          "name": "stderr",
          "text": [
            "100%|██████████| 6/6 [00:00<00:00, 245.00it/s]\n"
          ]
        },
        {
          "output_type": "stream",
          "name": "stdout",
          "text": [
            "Time taken to read the input file data is 0.2918097972869873\n",
            "Total details in input dict is: 64\n"
          ]
        },
        {
          "output_type": "stream",
          "name": "stderr",
          "text": [
            "100%|██████████| 6/6 [00:00<00:00, 370.95it/s]\n"
          ]
        },
        {
          "output_type": "stream",
          "name": "stdout",
          "text": [
            "Time taken to read the output file data is 0.22566795349121094\n",
            "Total details in output dict is: 64\n",
            "Total details in linked dict is: 64\n"
          ]
        },
        {
          "output_type": "stream",
          "name": "stderr",
          "text": [
            "100%|██████████| 64/64 [00:00<00:00, 52748.17it/s]\n"
          ]
        },
        {
          "output_type": "stream",
          "name": "stdout",
          "text": [
            "StellarDiGraph: Directed multigraph\n",
            " Nodes: 64, Edges: 80\n",
            "\n",
            " Node types:\n",
            "  transaction: [41]\n",
            "    Features: none\n",
            "    Edge types: transaction-default->address\n",
            "  address: [23]\n",
            "    Features: none\n",
            "    Edge types: address-default->transaction\n",
            "\n",
            " Edge types:\n",
            "    transaction-default->address: [44]\n",
            "        Weights: range=[1e+06, 4e+10], mean=8.5657e+09, std=1.06796e+10\n",
            "        Features: none\n",
            "    address-default->transaction: [36]\n",
            "        Weights: range=[1e+06, 3.5e+10], mean=7.54628e+09, std=9.64743e+09\n",
            "        Features: none\n",
            "len of addr_list: 23\n"
          ]
        },
        {
          "output_type": "stream",
          "name": "stderr",
          "text": [
            "100%|██████████| 6/6 [00:00<00:00, 139.79it/s]\n"
          ]
        },
        {
          "output_type": "stream",
          "name": "stdout",
          "text": [
            "Time taken to read the input file data is 0.22693228721618652\n",
            "Total details in input dict is: 69\n"
          ]
        },
        {
          "output_type": "stream",
          "name": "stderr",
          "text": [
            "100%|██████████| 6/6 [00:00<00:00, 531.81it/s]\n"
          ]
        },
        {
          "output_type": "stream",
          "name": "stdout",
          "text": [
            "Time taken to read the output file data is 0.2094271183013916\n",
            "Total details in output dict is: 69\n",
            "Total details in linked dict is: 69\n"
          ]
        },
        {
          "output_type": "stream",
          "name": "stderr",
          "text": [
            "100%|██████████| 69/69 [00:00<00:00, 55114.64it/s]\n"
          ]
        },
        {
          "output_type": "stream",
          "name": "stdout",
          "text": [
            "StellarDiGraph: Directed multigraph\n",
            " Nodes: 66, Edges: 82\n",
            "\n",
            " Node types:\n",
            "  transaction: [43]\n",
            "    Features: none\n",
            "    Edge types: transaction-default->address\n",
            "  address: [23]\n",
            "    Features: none\n",
            "    Edge types: address-default->transaction\n",
            "\n",
            " Edge types:\n",
            "    transaction-default->address: [45]\n",
            "        Weights: range=[1e+06, 4e+10], mean=8.48644e+09, std=1.05709e+10\n",
            "        Features: none\n",
            "    address-default->transaction: [37]\n",
            "        Weights: range=[1e+06, 3.5e+10], mean=7.47743e+09, std=9.52171e+09\n",
            "        Features: none\n",
            "len of addr_list: 23\n"
          ]
        },
        {
          "output_type": "stream",
          "name": "stderr",
          "text": [
            "100%|██████████| 6/6 [00:00<00:00, 413.54it/s]\n"
          ]
        },
        {
          "output_type": "stream",
          "name": "stdout",
          "text": [
            "Time taken to read the input file data is 0.23421025276184082\n",
            "Total details in input dict is: 73\n"
          ]
        },
        {
          "output_type": "stream",
          "name": "stderr",
          "text": [
            "100%|██████████| 6/6 [00:00<00:00, 134.77it/s]\n"
          ]
        },
        {
          "output_type": "stream",
          "name": "stdout",
          "text": [
            "Time taken to read the output file data is 0.2932720184326172\n",
            "Total details in output dict is: 73\n",
            "Total details in linked dict is: 73\n"
          ]
        },
        {
          "output_type": "stream",
          "name": "stderr",
          "text": [
            "100%|██████████| 73/73 [00:00<00:00, 51124.43it/s]\n"
          ]
        },
        {
          "output_type": "stream",
          "name": "stdout",
          "text": [
            "StellarDiGraph: Directed multigraph\n",
            " Nodes: 71, Edges: 86\n",
            "\n",
            " Node types:\n",
            "  transaction: [47]\n",
            "    Features: none\n",
            "    Edge types: transaction-default->address\n",
            "  address: [24]\n",
            "    Features: none\n",
            "    Edge types: address-default->transaction\n",
            "\n",
            " Edge types:\n",
            "    transaction-default->address: [47]\n",
            "        Weights: range=[1e+06, 4e+10], mean=8.33596e+09, std=1.03637e+10\n",
            "        Features: none\n",
            "    address-default->transaction: [39]\n",
            "        Weights: range=[1e+06, 3.5e+10], mean=7.34782e+09, std=9.28495e+09\n",
            "        Features: none\n",
            "len of addr_list: 24\n"
          ]
        },
        {
          "output_type": "stream",
          "name": "stderr",
          "text": [
            "100%|██████████| 6/6 [00:00<00:00, 277.47it/s]\n"
          ]
        },
        {
          "output_type": "stream",
          "name": "stdout",
          "text": [
            "Time taken to read the input file data is 0.24906110763549805\n",
            "Total details in input dict is: 87\n"
          ]
        },
        {
          "output_type": "stream",
          "name": "stderr",
          "text": [
            "100%|██████████| 6/6 [00:00<00:00, 465.09it/s]\n"
          ]
        },
        {
          "output_type": "stream",
          "name": "stdout",
          "text": [
            "Time taken to read the output file data is 0.24325156211853027\n",
            "Total details in output dict is: 87\n",
            "Total details in linked dict is: 87\n"
          ]
        },
        {
          "output_type": "stream",
          "name": "stderr",
          "text": [
            "100%|██████████| 87/87 [00:00<00:00, 46478.72it/s]\n"
          ]
        },
        {
          "output_type": "stream",
          "name": "stdout",
          "text": [
            "StellarDiGraph: Directed multigraph\n",
            " Nodes: 73, Edges: 88\n",
            "\n",
            " Node types:\n",
            "  transaction: [48]\n",
            "    Features: none\n",
            "    Edge types: transaction-default->address\n",
            "  address: [25]\n",
            "    Features: none\n",
            "    Edge types: address-default->transaction\n",
            "\n",
            " Edge types:\n",
            "    transaction-default->address: [48]\n",
            "        Weights: range=[1e+06, 6.5e+10], mean=9.51646e+09, std=1.31154e+10\n",
            "        Features: none\n",
            "    address-default->transaction: [40]\n",
            "        Weights: range=[1e+06, 6.5e+10], mean=8.78912e+09, std=1.29265e+10\n",
            "        Features: none\n",
            "len of addr_list: 25\n"
          ]
        },
        {
          "output_type": "stream",
          "name": "stderr",
          "text": [
            "100%|██████████| 6/6 [00:00<00:00, 37.19it/s]\n"
          ]
        },
        {
          "output_type": "stream",
          "name": "stdout",
          "text": [
            "Time taken to read the input file data is 0.3696329593658447\n",
            "Total details in input dict is: 92\n"
          ]
        },
        {
          "output_type": "stream",
          "name": "stderr",
          "text": [
            "100%|██████████| 6/6 [00:00<00:00, 451.70it/s]\n"
          ]
        },
        {
          "output_type": "stream",
          "name": "stdout",
          "text": [
            "Time taken to read the output file data is 0.21816205978393555\n",
            "Total details in output dict is: 92\n",
            "Total details in linked dict is: 92\n"
          ]
        },
        {
          "output_type": "stream",
          "name": "stderr",
          "text": [
            "100%|██████████| 92/92 [00:00<00:00, 62147.84it/s]\n"
          ]
        },
        {
          "output_type": "stream",
          "name": "stdout",
          "text": [
            "StellarDiGraph: Directed multigraph\n",
            " Nodes: 75, Edges: 90\n",
            "\n",
            " Node types:\n",
            "  transaction: [50]\n",
            "    Features: none\n",
            "    Edge types: transaction-default->address\n",
            "  address: [25]\n",
            "    Features: none\n",
            "    Edge types: address-default->transaction\n",
            "\n",
            " Edge types:\n",
            "    transaction-default->address: [49]\n",
            "        Weights: range=[1e+06, 6.5e+10], mean=9.42224e+09, std=1.29948e+10\n",
            "        Features: none\n",
            "    address-default->transaction: [41]\n",
            "        Weights: range=[1e+06, 6.5e+10], mean=8.69427e+09, std=1.27783e+10\n",
            "        Features: none\n",
            "len of addr_list: 25\n"
          ]
        },
        {
          "output_type": "stream",
          "name": "stderr",
          "text": [
            "100%|██████████| 6/6 [00:00<00:00, 409.29it/s]\n"
          ]
        },
        {
          "output_type": "stream",
          "name": "stdout",
          "text": [
            "Time taken to read the input file data is 0.22925043106079102\n",
            "Total details in input dict is: 100\n"
          ]
        },
        {
          "output_type": "stream",
          "name": "stderr",
          "text": [
            "100%|██████████| 6/6 [00:00<00:00, 181.53it/s]\n"
          ]
        },
        {
          "output_type": "stream",
          "name": "stdout",
          "text": [
            "Time taken to read the output file data is 0.45227479934692383\n",
            "Total details in output dict is: 100\n",
            "Total details in linked dict is: 100\n"
          ]
        },
        {
          "output_type": "stream",
          "name": "stderr",
          "text": [
            "100%|██████████| 100/100 [00:00<00:00, 65803.33it/s]\n"
          ]
        },
        {
          "output_type": "stream",
          "name": "stdout",
          "text": [
            "StellarDiGraph: Directed multigraph\n",
            " Nodes: 83, Edges: 102\n",
            "\n",
            " Node types:\n",
            "  transaction: [55]\n",
            "    Features: none\n",
            "    Edge types: transaction-default->address\n",
            "  address: [28]\n",
            "    Features: none\n",
            "    Edge types: address-default->transaction\n",
            "\n",
            " Edge types:\n",
            "    transaction-default->address: [55]\n",
            "        Weights: range=[1e+06, 7e+10], mean=9.76345e+09, std=1.49913e+10\n",
            "        Features: none\n",
            "    address-default->transaction: [47]\n",
            "        Weights: range=[1e+06, 7e+10], mean=9.18649e+09, std=1.5171e+10\n",
            "        Features: none\n",
            "len of addr_list: 28\n"
          ]
        },
        {
          "output_type": "stream",
          "name": "stderr",
          "text": [
            "100%|██████████| 6/6 [00:00<00:00, 637.22it/s]\n"
          ]
        },
        {
          "output_type": "stream",
          "name": "stdout",
          "text": [
            "Time taken to read the input file data is 0.20499444007873535\n",
            "Total details in input dict is: 103\n"
          ]
        },
        {
          "output_type": "stream",
          "name": "stderr",
          "text": [
            "100%|██████████| 6/6 [00:00<00:00, 261.12it/s]\n"
          ]
        },
        {
          "output_type": "stream",
          "name": "stdout",
          "text": [
            "Time taken to read the output file data is 0.17507362365722656\n",
            "Total details in output dict is: 103\n",
            "Total details in linked dict is: 103\n"
          ]
        },
        {
          "output_type": "stream",
          "name": "stderr",
          "text": [
            "100%|██████████| 103/103 [00:00<00:00, 71549.07it/s]\n"
          ]
        },
        {
          "output_type": "stream",
          "name": "stdout",
          "text": [
            "StellarDiGraph: Directed multigraph\n",
            " Nodes: 83, Edges: 102\n",
            "\n",
            " Node types:\n",
            "  transaction: [55]\n",
            "    Features: none\n",
            "    Edge types: transaction-default->address\n",
            "  address: [28]\n",
            "    Features: none\n",
            "    Edge types: address-default->transaction\n",
            "\n",
            " Edge types:\n",
            "    transaction-default->address: [55]\n",
            "        Weights: range=[1e+06, 7e+10], mean=9.76345e+09, std=1.49913e+10\n",
            "        Features: none\n",
            "    address-default->transaction: [47]\n",
            "        Weights: range=[1e+06, 7e+10], mean=9.18649e+09, std=1.5171e+10\n",
            "        Features: none\n",
            "len of addr_list: 28\n"
          ]
        },
        {
          "output_type": "stream",
          "name": "stderr",
          "text": [
            "100%|██████████| 6/6 [00:00<00:00, 357.01it/s]\n"
          ]
        },
        {
          "output_type": "stream",
          "name": "stdout",
          "text": [
            "Time taken to read the input file data is 0.19475007057189941\n",
            "Total details in input dict is: 108\n"
          ]
        },
        {
          "output_type": "stream",
          "name": "stderr",
          "text": [
            "100%|██████████| 6/6 [00:00<00:00, 331.50it/s]\n"
          ]
        },
        {
          "output_type": "stream",
          "name": "stdout",
          "text": [
            "Time taken to read the output file data is 0.19543886184692383\n",
            "Total details in output dict is: 108\n",
            "Total details in linked dict is: 108\n"
          ]
        },
        {
          "output_type": "stream",
          "name": "stderr",
          "text": [
            "100%|██████████| 108/108 [00:00<00:00, 53824.24it/s]\n"
          ]
        },
        {
          "output_type": "stream",
          "name": "stdout",
          "text": [
            "StellarDiGraph: Directed multigraph\n",
            " Nodes: 86, Edges: 104\n",
            "\n",
            " Node types:\n",
            "  transaction: [57]\n",
            "    Features: none\n",
            "    Edge types: transaction-default->address\n",
            "  address: [29]\n",
            "    Features: none\n",
            "    Edge types: address-default->transaction\n",
            "\n",
            " Edge types:\n",
            "    transaction-default->address: [56]\n",
            "        Weights: range=[1e+06, 7e+10], mean=9.67839e+09, std=1.4868e+10\n",
            "        Features: none\n",
            "    address-default->transaction: [48]\n",
            "        Weights: range=[1e+06, 7e+10], mean=9.09927e+09, std=1.50209e+10\n",
            "        Features: none\n",
            "len of addr_list: 29\n"
          ]
        },
        {
          "output_type": "stream",
          "name": "stderr",
          "text": [
            "100%|██████████| 6/6 [00:00<00:00, 233.85it/s]\n"
          ]
        },
        {
          "output_type": "stream",
          "name": "stdout",
          "text": [
            "Time taken to read the input file data is 0.19213271141052246\n",
            "Total details in input dict is: 113\n"
          ]
        },
        {
          "output_type": "stream",
          "name": "stderr",
          "text": [
            "100%|██████████| 6/6 [00:00<00:00, 280.45it/s]\n"
          ]
        },
        {
          "output_type": "stream",
          "name": "stdout",
          "text": [
            "Time taken to read the output file data is 0.19697189331054688\n",
            "Total details in output dict is: 113\n",
            "Total details in linked dict is: 113\n"
          ]
        },
        {
          "output_type": "stream",
          "name": "stderr",
          "text": [
            "100%|██████████| 113/113 [00:00<00:00, 27007.60it/s]\n"
          ]
        },
        {
          "output_type": "stream",
          "name": "stdout",
          "text": [
            "StellarDiGraph: Directed multigraph\n",
            " Nodes: 86, Edges: 104\n",
            "\n",
            " Node types:\n",
            "  transaction: [57]\n",
            "    Features: none\n",
            "    Edge types: transaction-default->address\n",
            "  address: [29]\n",
            "    Features: none\n",
            "    Edge types: address-default->transaction\n",
            "\n",
            " Edge types:\n",
            "    transaction-default->address: [56]\n",
            "        Weights: range=[1e+06, 7e+10], mean=9.67839e+09, std=1.4868e+10\n",
            "        Features: none\n",
            "    address-default->transaction: [48]\n",
            "        Weights: range=[1e+06, 7e+10], mean=9.09927e+09, std=1.50209e+10\n",
            "        Features: none\n",
            "len of addr_list: 29\n"
          ]
        },
        {
          "output_type": "stream",
          "name": "stderr",
          "text": [
            "100%|██████████| 6/6 [00:00<00:00, 376.31it/s]\n"
          ]
        },
        {
          "output_type": "stream",
          "name": "stdout",
          "text": [
            "Time taken to read the input file data is 0.2043285369873047\n",
            "Total details in input dict is: 118\n"
          ]
        },
        {
          "output_type": "stream",
          "name": "stderr",
          "text": [
            "100%|██████████| 6/6 [00:00<00:00, 420.83it/s]\n"
          ]
        },
        {
          "output_type": "stream",
          "name": "stdout",
          "text": [
            "Time taken to read the output file data is 0.16985344886779785\n",
            "Total details in output dict is: 118\n",
            "Total details in linked dict is: 118\n"
          ]
        },
        {
          "output_type": "stream",
          "name": "stderr",
          "text": [
            "100%|██████████| 118/118 [00:00<00:00, 51447.80it/s]\n"
          ]
        },
        {
          "output_type": "stream",
          "name": "stdout",
          "text": [
            "StellarDiGraph: Directed multigraph\n",
            " Nodes: 103, Edges: 123\n",
            "\n",
            " Node types:\n",
            "  transaction: [73]\n",
            "    Features: none\n",
            "    Edge types: transaction-default->address\n",
            "  address: [30]\n",
            "    Features: none\n",
            "    Edge types: address-default->transaction\n",
            "\n",
            " Edge types:\n",
            "    transaction-default->address: [72]\n",
            "        Weights: range=[1e+06, 2e+11], mean=1.55832e+10, std=3.45534e+10\n",
            "        Features: none\n",
            "    address-default->transaction: [51]\n",
            "        Weights: range=[1e+06, 2e+11], mean=1.63091e+10, std=3.92781e+10\n",
            "        Features: none\n",
            "len of addr_list: 30\n"
          ]
        },
        {
          "output_type": "stream",
          "name": "stderr",
          "text": [
            "100%|██████████| 6/6 [00:00<00:00, 47.40it/s]\n"
          ]
        },
        {
          "output_type": "stream",
          "name": "stdout",
          "text": [
            "Time taken to read the input file data is 0.28784632682800293\n",
            "Total details in input dict is: 121\n"
          ]
        },
        {
          "output_type": "stream",
          "name": "stderr",
          "text": [
            "100%|██████████| 6/6 [00:00<00:00, 375.10it/s]\n"
          ]
        },
        {
          "output_type": "stream",
          "name": "stdout",
          "text": [
            "Time taken to read the output file data is 0.16905879974365234\n",
            "Total details in output dict is: 121\n",
            "Total details in linked dict is: 121\n"
          ]
        },
        {
          "output_type": "stream",
          "name": "stderr",
          "text": [
            "100%|██████████| 121/121 [00:00<00:00, 45787.69it/s]\n"
          ]
        },
        {
          "output_type": "stream",
          "name": "stdout",
          "text": [
            "StellarDiGraph: Directed multigraph\n",
            " Nodes: 106, Edges: 127\n",
            "\n",
            " Node types:\n",
            "  transaction: [75]\n",
            "    Features: none\n",
            "    Edge types: transaction-default->address\n",
            "  address: [31]\n",
            "    Features: none\n",
            "    Edge types: address-default->transaction\n",
            "\n",
            " Edge types:\n",
            "    transaction-default->address: [74]\n",
            "        Weights: range=[1e+06, 2e+11], mean=1.79309e+10, std=4.02876e+10\n",
            "        Features: none\n",
            "    address-default->transaction: [53]\n",
            "        Weights: range=[1e+06, 2e+11], mean=1.95597e+10, std=4.60875e+10\n",
            "        Features: none\n",
            "len of addr_list: 31\n"
          ]
        },
        {
          "output_type": "stream",
          "name": "stderr",
          "text": [
            "100%|██████████| 6/6 [00:00<00:00, 492.19it/s]\n"
          ]
        },
        {
          "output_type": "stream",
          "name": "stdout",
          "text": [
            "Time taken to read the input file data is 0.18337035179138184\n",
            "Total details in input dict is: 132\n"
          ]
        },
        {
          "output_type": "stream",
          "name": "stderr",
          "text": [
            "100%|██████████| 6/6 [00:00<00:00, 229.32it/s]\n"
          ]
        },
        {
          "output_type": "stream",
          "name": "stdout",
          "text": [
            "Time taken to read the output file data is 0.17001748085021973\n",
            "Total details in output dict is: 132\n",
            "Total details in linked dict is: 132\n"
          ]
        },
        {
          "output_type": "stream",
          "name": "stderr",
          "text": [
            "100%|██████████| 132/132 [00:00<00:00, 52859.28it/s]\n"
          ]
        },
        {
          "output_type": "stream",
          "name": "stdout",
          "text": [
            "StellarDiGraph: Directed multigraph\n",
            " Nodes: 119, Edges: 143\n",
            "\n",
            " Node types:\n",
            "  transaction: [84]\n",
            "    Features: none\n",
            "    Edge types: transaction-default->address\n",
            "  address: [35]\n",
            "    Features: none\n",
            "    Edge types: address-default->transaction\n",
            "\n",
            " Edge types:\n",
            "    transaction-default->address: [83]\n",
            "        Weights: range=[1e+06, 5.68317e+11], mean=3.66788e+10, std=1.09786e+11\n",
            "        Features: none\n",
            "    address-default->transaction: [60]\n",
            "        Weights: range=[1e+06, 5.68317e+11], mean=3.64716e+10, std=1.08246e+11\n",
            "        Features: none\n",
            "len of addr_list: 35\n"
          ]
        },
        {
          "output_type": "stream",
          "name": "stderr",
          "text": [
            "100%|██████████| 6/6 [00:00<00:00, 140.94it/s]\n"
          ]
        },
        {
          "output_type": "stream",
          "name": "stdout",
          "text": [
            "Time taken to read the input file data is 0.20687603950500488\n",
            "Total details in input dict is: 141\n"
          ]
        },
        {
          "output_type": "stream",
          "name": "stderr",
          "text": [
            "100%|██████████| 6/6 [00:00<00:00, 379.90it/s]\n"
          ]
        },
        {
          "output_type": "stream",
          "name": "stdout",
          "text": [
            "Time taken to read the output file data is 0.20258283615112305\n",
            "Total details in output dict is: 141\n",
            "Total details in linked dict is: 141\n"
          ]
        },
        {
          "output_type": "stream",
          "name": "stderr",
          "text": [
            "100%|██████████| 141/141 [00:00<00:00, 53030.57it/s]\n"
          ]
        },
        {
          "output_type": "stream",
          "name": "stdout",
          "text": [
            "StellarDiGraph: Directed multigraph\n",
            " Nodes: 120, Edges: 145\n",
            "\n",
            " Node types:\n",
            "  transaction: [85]\n",
            "    Features: none\n",
            "    Edge types: transaction-default->address\n",
            "  address: [35]\n",
            "    Features: none\n",
            "    Edge types: address-default->transaction\n",
            "\n",
            " Edge types:\n",
            "    transaction-default->address: [84]\n",
            "        Weights: range=[1e+06, 5.68317e+11], mean=3.63017e+10, std=1.09177e+11\n",
            "        Features: none\n",
            "    address-default->transaction: [61]\n",
            "        Weights: range=[1e+06, 5.68317e+11], mean=3.59557e+10, std=1.07416e+11\n",
            "        Features: none\n",
            "len of addr_list: 35\n"
          ]
        },
        {
          "output_type": "stream",
          "name": "stderr",
          "text": [
            "100%|██████████| 6/6 [00:00<00:00, 443.17it/s]\n"
          ]
        },
        {
          "output_type": "stream",
          "name": "stdout",
          "text": [
            "Time taken to read the input file data is 0.47191810607910156\n",
            "Total details in input dict is: 147\n"
          ]
        },
        {
          "output_type": "stream",
          "name": "stderr",
          "text": [
            "100%|██████████| 6/6 [00:00<00:00, 295.66it/s]\n"
          ]
        },
        {
          "output_type": "stream",
          "name": "stdout",
          "text": [
            "Time taken to read the output file data is 0.17944884300231934\n",
            "Total details in output dict is: 147\n",
            "Total details in linked dict is: 147\n"
          ]
        },
        {
          "output_type": "stream",
          "name": "stderr",
          "text": [
            "100%|██████████| 147/147 [00:00<00:00, 43191.78it/s]\n"
          ]
        },
        {
          "output_type": "stream",
          "name": "stdout",
          "text": [
            "StellarDiGraph: Directed multigraph\n",
            " Nodes: 123, Edges: 147\n",
            "\n",
            " Node types:\n",
            "  transaction: [87]\n",
            "    Features: none\n",
            "    Edge types: transaction-default->address\n",
            "  address: [36]\n",
            "    Features: none\n",
            "    Edge types: address-default->transaction\n",
            "\n",
            " Edge types:\n",
            "    transaction-default->address: [85]\n",
            "        Weights: range=[1e+06, 5.68317e+11], mean=3.58903e+10, std=1.08592e+11\n",
            "        Features: none\n",
            "    address-default->transaction: [62]\n",
            "        Weights: range=[1e+06, 5.68317e+11], mean=3.53973e+10, std=1.06622e+11\n",
            "        Features: none\n",
            "len of addr_list: 36\n"
          ]
        },
        {
          "output_type": "stream",
          "name": "stderr",
          "text": [
            "100%|██████████| 6/6 [00:00<00:00, 216.25it/s]\n"
          ]
        },
        {
          "output_type": "stream",
          "name": "stdout",
          "text": [
            "Time taken to read the input file data is 0.19121432304382324\n",
            "Total details in input dict is: 158\n"
          ]
        },
        {
          "output_type": "stream",
          "name": "stderr",
          "text": [
            "100%|██████████| 6/6 [00:00<00:00, 245.16it/s]\n"
          ]
        },
        {
          "output_type": "stream",
          "name": "stdout",
          "text": [
            "Time taken to read the output file data is 0.18976140022277832\n",
            "Total details in output dict is: 158\n",
            "Total details in linked dict is: 158\n"
          ]
        },
        {
          "output_type": "stream",
          "name": "stderr",
          "text": [
            "100%|██████████| 158/158 [00:00<00:00, 43547.12it/s]\n"
          ]
        },
        {
          "output_type": "stream",
          "name": "stdout",
          "text": [
            "StellarDiGraph: Directed multigraph\n",
            " Nodes: 138, Edges: 163\n",
            "\n",
            " Node types:\n",
            "  transaction: [97]\n",
            "    Features: none\n",
            "    Edge types: transaction-default->address\n",
            "  address: [41]\n",
            "    Features: none\n",
            "    Edge types: address-default->transaction\n",
            "\n",
            " Edge types:\n",
            "    transaction-default->address: [93]\n",
            "        Weights: range=[1e+06, 1.9e+12], mean=9.48702e+10, std=3.01069e+11\n",
            "        Features: none\n",
            "    address-default->transaction: [70]\n",
            "        Weights: range=[1e+06, 1.9e+12], mean=1.13813e+11, std=3.39235e+11\n",
            "        Features: none\n",
            "len of addr_list: 41\n"
          ]
        },
        {
          "output_type": "stream",
          "name": "stderr",
          "text": [
            "100%|██████████| 6/6 [00:00<00:00, 780.14it/s]\n"
          ]
        },
        {
          "output_type": "stream",
          "name": "stdout",
          "text": [
            "Time taken to read the input file data is 0.26726555824279785\n",
            "Total details in input dict is: 165\n"
          ]
        },
        {
          "output_type": "stream",
          "name": "stderr",
          "text": [
            "100%|██████████| 6/6 [00:00<00:00, 572.16it/s]\n"
          ]
        },
        {
          "output_type": "stream",
          "name": "stdout",
          "text": [
            "Time taken to read the output file data is 1.1015517711639404\n",
            "Total details in output dict is: 165\n",
            "Total details in linked dict is: 165\n"
          ]
        },
        {
          "output_type": "stream",
          "name": "stderr",
          "text": [
            "100%|██████████| 165/165 [00:00<00:00, 29107.51it/s]\n"
          ]
        },
        {
          "output_type": "stream",
          "name": "stdout",
          "text": [
            "StellarDiGraph: Directed multigraph\n",
            " Nodes: 140, Edges: 165\n",
            "\n",
            " Node types:\n",
            "  transaction: [99]\n",
            "    Features: none\n",
            "    Edge types: transaction-default->address\n",
            "  address: [41]\n",
            "    Features: none\n",
            "    Edge types: address-default->transaction\n",
            "\n",
            " Edge types:\n",
            "    transaction-default->address: [94]\n",
            "        Weights: range=[1e+06, 1.9e+12], mean=9.3913e+10, std=2.9959e+11\n",
            "        Features: none\n",
            "    address-default->transaction: [71]\n",
            "        Weights: range=[1e+06, 1.9e+12], mean=1.12279e+11, std=3.37051e+11\n",
            "        Features: none\n",
            "len of addr_list: 41\n"
          ]
        },
        {
          "output_type": "stream",
          "name": "stderr",
          "text": [
            "100%|██████████| 6/6 [00:00<00:00, 676.32it/s]\n"
          ]
        },
        {
          "output_type": "stream",
          "name": "stdout",
          "text": [
            "Time taken to read the input file data is 0.20415902137756348\n",
            "Total details in input dict is: 168\n"
          ]
        },
        {
          "output_type": "stream",
          "name": "stderr",
          "text": [
            "100%|██████████| 6/6 [00:00<00:00, 261.23it/s]\n"
          ]
        },
        {
          "output_type": "stream",
          "name": "stdout",
          "text": [
            "Time taken to read the output file data is 0.18379473686218262\n",
            "Total details in output dict is: 168\n",
            "Total details in linked dict is: 168\n"
          ]
        },
        {
          "output_type": "stream",
          "name": "stderr",
          "text": [
            "100%|██████████| 168/168 [00:00<00:00, 47332.78it/s]\n"
          ]
        },
        {
          "output_type": "stream",
          "name": "stdout",
          "text": [
            "StellarDiGraph: Directed multigraph\n",
            " Nodes: 145, Edges: 171\n",
            "\n",
            " Node types:\n",
            "  transaction: [102]\n",
            "    Features: none\n",
            "    Edge types: transaction-default->address\n",
            "  address: [43]\n",
            "    Features: none\n",
            "    Edge types: address-default->transaction\n",
            "\n",
            " Edge types:\n",
            "    transaction-default->address: [97]\n",
            "        Weights: range=[1e+06, 1.9e+12], mean=9.10601e+10, std=2.95308e+11\n",
            "        Features: none\n",
            "    address-default->transaction: [74]\n",
            "        Weights: range=[1e+06, 1.9e+12], mean=1.07794e+11, std=3.30783e+11\n",
            "        Features: none\n",
            "len of addr_list: 43\n"
          ]
        },
        {
          "output_type": "stream",
          "name": "stderr",
          "text": [
            "100%|██████████| 6/6 [00:00<00:00, 239.94it/s]\n"
          ]
        },
        {
          "output_type": "stream",
          "name": "stdout",
          "text": [
            "Time taken to read the input file data is 0.1587071418762207\n",
            "Total details in input dict is: 170\n"
          ]
        },
        {
          "output_type": "stream",
          "name": "stderr",
          "text": [
            "100%|██████████| 6/6 [00:00<00:00, 361.75it/s]\n"
          ]
        },
        {
          "output_type": "stream",
          "name": "stdout",
          "text": [
            "Time taken to read the output file data is 0.2063603401184082\n",
            "Total details in output dict is: 170\n",
            "Total details in linked dict is: 170\n"
          ]
        },
        {
          "output_type": "stream",
          "name": "stderr",
          "text": [
            "100%|██████████| 170/170 [00:00<00:00, 52023.32it/s]\n"
          ]
        },
        {
          "output_type": "stream",
          "name": "stdout",
          "text": [
            "StellarDiGraph: Directed multigraph\n",
            " Nodes: 145, Edges: 171\n",
            "\n",
            " Node types:\n",
            "  transaction: [102]\n",
            "    Features: none\n",
            "    Edge types: transaction-default->address\n",
            "  address: [43]\n",
            "    Features: none\n",
            "    Edge types: address-default->transaction\n",
            "\n",
            " Edge types:\n",
            "    transaction-default->address: [97]\n",
            "        Weights: range=[1e+06, 1.9e+12], mean=9.10601e+10, std=2.95308e+11\n",
            "        Features: none\n",
            "    address-default->transaction: [74]\n",
            "        Weights: range=[1e+06, 1.9e+12], mean=1.07794e+11, std=3.30783e+11\n",
            "        Features: none\n",
            "len of addr_list: 43\n"
          ]
        },
        {
          "output_type": "stream",
          "name": "stderr",
          "text": [
            "100%|██████████| 6/6 [00:00<00:00, 346.49it/s]\n"
          ]
        },
        {
          "output_type": "stream",
          "name": "stdout",
          "text": [
            "Time taken to read the input file data is 0.21452021598815918\n",
            "Total details in input dict is: 174\n"
          ]
        },
        {
          "output_type": "stream",
          "name": "stderr",
          "text": [
            "100%|██████████| 6/6 [00:00<00:00, 303.90it/s]\n"
          ]
        },
        {
          "output_type": "stream",
          "name": "stdout",
          "text": [
            "Time taken to read the output file data is 0.4100773334503174\n",
            "Total details in output dict is: 174\n",
            "Total details in linked dict is: 174\n"
          ]
        },
        {
          "output_type": "stream",
          "name": "stderr",
          "text": [
            "100%|██████████| 174/174 [00:00<00:00, 54329.55it/s]\n"
          ]
        },
        {
          "output_type": "stream",
          "name": "stdout",
          "text": [
            "StellarDiGraph: Directed multigraph\n",
            " Nodes: 146, Edges: 173\n",
            "\n",
            " Node types:\n",
            "  transaction: [103]\n",
            "    Features: none\n",
            "    Edge types: transaction-default->address\n",
            "  address: [43]\n",
            "    Features: none\n",
            "    Edge types: address-default->transaction\n",
            "\n",
            " Edge types:\n",
            "    transaction-default->address: [98]\n",
            "        Weights: range=[1e+06, 1.9e+12], mean=9.01481e+10, std=2.93921e+11\n",
            "        Features: none\n",
            "    address-default->transaction: [75]\n",
            "        Weights: range=[1e+06, 1.9e+12], mean=1.0638e+11, std=3.28768e+11\n",
            "        Features: none\n",
            "len of addr_list: 43\n"
          ]
        },
        {
          "output_type": "stream",
          "name": "stderr",
          "text": [
            "100%|██████████| 6/6 [00:00<00:00, 378.47it/s]\n"
          ]
        },
        {
          "output_type": "stream",
          "name": "stdout",
          "text": [
            "Time taken to read the input file data is 0.17819833755493164\n",
            "Total details in input dict is: 179\n"
          ]
        },
        {
          "output_type": "stream",
          "name": "stderr",
          "text": [
            "100%|██████████| 6/6 [00:00<00:00, 750.26it/s]\n"
          ]
        },
        {
          "output_type": "stream",
          "name": "stdout",
          "text": [
            "Time taken to read the output file data is 0.1694028377532959\n",
            "Total details in output dict is: 179\n",
            "Total details in linked dict is: 179\n"
          ]
        },
        {
          "output_type": "stream",
          "name": "stderr",
          "text": [
            "100%|██████████| 179/179 [00:00<00:00, 27249.58it/s]\n"
          ]
        },
        {
          "output_type": "stream",
          "name": "stdout",
          "text": [
            "StellarDiGraph: Directed multigraph\n",
            " Nodes: 148, Edges: 175\n",
            "\n",
            " Node types:\n",
            "  transaction: [105]\n",
            "    Features: none\n",
            "    Edge types: transaction-default->address\n",
            "  address: [43]\n",
            "    Features: none\n",
            "    Edge types: address-default->transaction\n",
            "\n",
            " Edge types:\n",
            "    transaction-default->address: [99]\n",
            "        Weights: range=[1e+06, 1.9e+12], mean=9.02476e+10, std=2.92419e+11\n",
            "        Features: none\n",
            "    address-default->transaction: [76]\n",
            "        Weights: range=[1e+06, 1.9e+12], mean=1.06296e+11, std=3.2657e+11\n",
            "        Features: none\n",
            "len of addr_list: 43\n"
          ]
        },
        {
          "output_type": "stream",
          "name": "stderr",
          "text": [
            "100%|██████████| 6/6 [00:00<00:00, 672.06it/s]\n"
          ]
        },
        {
          "output_type": "stream",
          "name": "stdout",
          "text": [
            "Time taken to read the input file data is 0.22148394584655762\n",
            "Total details in input dict is: 180\n"
          ]
        },
        {
          "output_type": "stream",
          "name": "stderr",
          "text": [
            "100%|██████████| 6/6 [00:00<00:00, 326.98it/s]\n"
          ]
        },
        {
          "output_type": "stream",
          "name": "stdout",
          "text": [
            "Time taken to read the output file data is 1.8858320713043213\n",
            "Total details in output dict is: 180\n",
            "Total details in linked dict is: 180\n"
          ]
        },
        {
          "output_type": "stream",
          "name": "stderr",
          "text": [
            "100%|██████████| 180/180 [00:00<00:00, 53681.37it/s]\n"
          ]
        },
        {
          "output_type": "stream",
          "name": "stdout",
          "text": [
            "StellarDiGraph: Directed multigraph\n",
            " Nodes: 148, Edges: 175\n",
            "\n",
            " Node types:\n",
            "  transaction: [105]\n",
            "    Features: none\n",
            "    Edge types: transaction-default->address\n",
            "  address: [43]\n",
            "    Features: none\n",
            "    Edge types: address-default->transaction\n",
            "\n",
            " Edge types:\n",
            "    transaction-default->address: [99]\n",
            "        Weights: range=[1e+06, 1.9e+12], mean=9.02476e+10, std=2.92419e+11\n",
            "        Features: none\n",
            "    address-default->transaction: [76]\n",
            "        Weights: range=[1e+06, 1.9e+12], mean=1.06296e+11, std=3.2657e+11\n",
            "        Features: none\n",
            "len of addr_list: 43\n"
          ]
        },
        {
          "output_type": "stream",
          "name": "stderr",
          "text": [
            "100%|██████████| 6/6 [00:00<00:00, 188.30it/s]\n"
          ]
        },
        {
          "output_type": "stream",
          "name": "stdout",
          "text": [
            "Time taken to read the input file data is 0.2157130241394043\n",
            "Total details in input dict is: 186\n"
          ]
        },
        {
          "output_type": "stream",
          "name": "stderr",
          "text": [
            "100%|██████████| 6/6 [00:00<00:00, 317.94it/s]\n"
          ]
        },
        {
          "output_type": "stream",
          "name": "stdout",
          "text": [
            "Time taken to read the output file data is 0.37114953994750977\n",
            "Total details in output dict is: 186\n",
            "Total details in linked dict is: 186\n"
          ]
        },
        {
          "output_type": "stream",
          "name": "stderr",
          "text": [
            "100%|██████████| 186/186 [00:00<00:00, 40075.03it/s]\n"
          ]
        },
        {
          "output_type": "stream",
          "name": "stdout",
          "text": [
            "StellarDiGraph: Directed multigraph\n",
            " Nodes: 149, Edges: 179\n",
            "\n",
            " Node types:\n",
            "  transaction: [106]\n",
            "    Features: none\n",
            "    Edge types: transaction-default->address\n",
            "  address: [43]\n",
            "    Features: none\n",
            "    Edge types: address-default->transaction\n",
            "\n",
            " Edge types:\n",
            "    transaction-default->address: [101]\n",
            "        Weights: range=[1e+06, 1.9e+12], mean=8.851e+10, std=2.89741e+11\n",
            "        Features: none\n",
            "    address-default->transaction: [78]\n",
            "        Weights: range=[1e+06, 1.9e+12], mean=1.03634e+11, std=3.22724e+11\n",
            "        Features: none\n",
            "len of addr_list: 43\n"
          ]
        },
        {
          "output_type": "stream",
          "name": "stderr",
          "text": [
            "100%|██████████| 6/6 [00:00<00:00, 213.65it/s]\n"
          ]
        },
        {
          "output_type": "stream",
          "name": "stdout",
          "text": [
            "Time taken to read the input file data is 0.19965648651123047\n",
            "Total details in input dict is: 190\n"
          ]
        },
        {
          "output_type": "stream",
          "name": "stderr",
          "text": [
            "100%|██████████| 6/6 [00:00<00:00, 453.46it/s]\n"
          ]
        },
        {
          "output_type": "stream",
          "name": "stdout",
          "text": [
            "Time taken to read the output file data is 0.19241738319396973\n",
            "Total details in output dict is: 190\n",
            "Total details in linked dict is: 190\n"
          ]
        },
        {
          "output_type": "stream",
          "name": "stderr",
          "text": [
            "100%|██████████| 190/190 [00:00<00:00, 49295.91it/s]\n"
          ]
        },
        {
          "output_type": "stream",
          "name": "stdout",
          "text": [
            "StellarDiGraph: Directed multigraph\n",
            " Nodes: 152, Edges: 181\n",
            "\n",
            " Node types:\n",
            "  transaction: [108]\n",
            "    Features: none\n",
            "    Edge types: transaction-default->address\n",
            "  address: [44]\n",
            "    Features: none\n",
            "    Edge types: address-default->transaction\n",
            "\n",
            " Edge types:\n",
            "    transaction-default->address: [102]\n",
            "        Weights: range=[1e+06, 1.9e+12], mean=9.10736e+10, std=2.89463e+11\n",
            "        Features: none\n",
            "    address-default->transaction: [79]\n",
            "        Weights: range=[1e+06, 1.9e+12], mean=1.06753e+11, std=3.21844e+11\n",
            "        Features: none\n",
            "len of addr_list: 44\n"
          ]
        },
        {
          "output_type": "stream",
          "name": "stderr",
          "text": [
            "100%|██████████| 6/6 [00:00<00:00, 363.00it/s]\n"
          ]
        },
        {
          "output_type": "stream",
          "name": "stdout",
          "text": [
            "Time taken to read the input file data is 0.1641676425933838\n",
            "Total details in input dict is: 194\n"
          ]
        },
        {
          "output_type": "stream",
          "name": "stderr",
          "text": [
            "100%|██████████| 6/6 [00:00<00:00, 443.39it/s]\n"
          ]
        },
        {
          "output_type": "stream",
          "name": "stdout",
          "text": [
            "Time taken to read the output file data is 0.17630434036254883\n",
            "Total details in output dict is: 194\n",
            "Total details in linked dict is: 194\n"
          ]
        },
        {
          "output_type": "stream",
          "name": "stderr",
          "text": [
            "100%|██████████| 194/194 [00:00<00:00, 31227.50it/s]\n"
          ]
        },
        {
          "output_type": "stream",
          "name": "stdout",
          "text": [
            "StellarDiGraph: Directed multigraph\n",
            " Nodes: 156, Edges: 185\n",
            "\n",
            " Node types:\n",
            "  transaction: [111]\n",
            "    Features: none\n",
            "    Edge types: transaction-default->address\n",
            "  address: [45]\n",
            "    Features: none\n",
            "    Edge types: address-default->transaction\n",
            "\n",
            " Edge types:\n",
            "    transaction-default->address: [104]\n",
            "        Weights: range=[1e+06, 1.9e+12], mean=9.89847e+10, std=3.00319e+11\n",
            "        Features: none\n",
            "    address-default->transaction: [81]\n",
            "        Weights: range=[1e+06, 1.9e+12], mean=1.16523e+11, std=3.33168e+11\n",
            "        Features: none\n",
            "len of addr_list: 45\n"
          ]
        },
        {
          "output_type": "stream",
          "name": "stderr",
          "text": [
            "100%|██████████| 6/6 [00:00<00:00, 396.40it/s]\n"
          ]
        },
        {
          "output_type": "stream",
          "name": "stdout",
          "text": [
            "Time taken to read the input file data is 0.18080449104309082\n",
            "Total details in input dict is: 197\n"
          ]
        },
        {
          "output_type": "stream",
          "name": "stderr",
          "text": [
            "100%|██████████| 6/6 [00:00<00:00, 241.45it/s]\n"
          ]
        },
        {
          "output_type": "stream",
          "name": "stdout",
          "text": [
            "Time taken to read the output file data is 0.20229482650756836\n",
            "Total details in output dict is: 197\n",
            "Total details in linked dict is: 197\n"
          ]
        },
        {
          "output_type": "stream",
          "name": "stderr",
          "text": [
            "100%|██████████| 197/197 [00:00<00:00, 58885.25it/s]\n"
          ]
        },
        {
          "output_type": "stream",
          "name": "stdout",
          "text": [
            "StellarDiGraph: Directed multigraph\n",
            " Nodes: 157, Edges: 187\n",
            "\n",
            " Node types:\n",
            "  transaction: [112]\n",
            "    Features: none\n",
            "    Edge types: transaction-default->address\n",
            "  address: [45]\n",
            "    Features: none\n",
            "    Edge types: address-default->transaction\n",
            "\n",
            " Edge types:\n",
            "    transaction-default->address: [105]\n",
            "        Weights: range=[1e+06, 1.9e+12], mean=9.8043e+10, std=2.99028e+11\n",
            "        Features: none\n",
            "    address-default->transaction: [82]\n",
            "        Weights: range=[1e+06, 1.9e+12], mean=1.15103e+11, std=3.31354e+11\n",
            "        Features: none\n",
            "len of addr_list: 45\n"
          ]
        },
        {
          "output_type": "stream",
          "name": "stderr",
          "text": [
            "100%|██████████| 6/6 [00:00<00:00, 653.90it/s]\n"
          ]
        },
        {
          "output_type": "stream",
          "name": "stdout",
          "text": [
            "Time taken to read the input file data is 0.27106690406799316\n",
            "Total details in input dict is: 200\n"
          ]
        },
        {
          "output_type": "stream",
          "name": "stderr",
          "text": [
            "100%|██████████| 6/6 [00:00<00:00, 803.61it/s]\n"
          ]
        },
        {
          "output_type": "stream",
          "name": "stdout",
          "text": [
            "Time taken to read the output file data is 0.1914365291595459\n",
            "Total details in output dict is: 200\n",
            "Total details in linked dict is: 200\n"
          ]
        },
        {
          "output_type": "stream",
          "name": "stderr",
          "text": [
            "100%|██████████| 200/200 [00:00<00:00, 47412.02it/s]\n"
          ]
        },
        {
          "output_type": "stream",
          "name": "stdout",
          "text": [
            "StellarDiGraph: Directed multigraph\n",
            " Nodes: 159, Edges: 189\n",
            "\n",
            " Node types:\n",
            "  transaction: [114]\n",
            "    Features: none\n",
            "    Edge types: transaction-default->address\n",
            "  address: [45]\n",
            "    Features: none\n",
            "    Edge types: address-default->transaction\n",
            "\n",
            " Edge types:\n",
            "    transaction-default->address: [106]\n",
            "        Weights: range=[1e+06, 1.9e+12], mean=9.71642e+10, std=2.97738e+11\n",
            "        Features: none\n",
            "    address-default->transaction: [83]\n",
            "        Weights: range=[1e+06, 1.9e+12], mean=1.13776e+11, std=3.2955e+11\n",
            "        Features: none\n",
            "len of addr_list: 45\n"
          ]
        },
        {
          "output_type": "stream",
          "name": "stderr",
          "text": [
            "100%|██████████| 6/6 [00:00<00:00, 314.62it/s]\n"
          ]
        },
        {
          "output_type": "stream",
          "name": "stdout",
          "text": [
            "Time taken to read the input file data is 0.20418167114257812\n",
            "Total details in input dict is: 204\n"
          ]
        },
        {
          "output_type": "stream",
          "name": "stderr",
          "text": [
            "100%|██████████| 6/6 [00:00<00:00, 516.09it/s]\n"
          ]
        },
        {
          "output_type": "stream",
          "name": "stdout",
          "text": [
            "Time taken to read the output file data is 0.2325904369354248\n",
            "Total details in output dict is: 204\n",
            "Total details in linked dict is: 204\n"
          ]
        },
        {
          "output_type": "stream",
          "name": "stderr",
          "text": [
            "100%|██████████| 204/204 [00:00<00:00, 33095.00it/s]\n"
          ]
        },
        {
          "output_type": "stream",
          "name": "stdout",
          "text": [
            "StellarDiGraph: Directed multigraph\n",
            " Nodes: 159, Edges: 189\n",
            "\n",
            " Node types:\n",
            "  transaction: [114]\n",
            "    Features: none\n",
            "    Edge types: transaction-default->address\n",
            "  address: [45]\n",
            "    Features: none\n",
            "    Edge types: address-default->transaction\n",
            "\n",
            " Edge types:\n",
            "    transaction-default->address: [106]\n",
            "        Weights: range=[1e+06, 1.9e+12], mean=9.71642e+10, std=2.97738e+11\n",
            "        Features: none\n",
            "    address-default->transaction: [83]\n",
            "        Weights: range=[1e+06, 1.9e+12], mean=1.13776e+11, std=3.2955e+11\n",
            "        Features: none\n",
            "len of addr_list: 45\n"
          ]
        },
        {
          "output_type": "stream",
          "name": "stderr",
          "text": [
            "100%|██████████| 6/6 [00:00<00:00, 238.33it/s]\n"
          ]
        },
        {
          "output_type": "stream",
          "name": "stdout",
          "text": [
            "Time taken to read the input file data is 0.20022797584533691\n",
            "Total details in input dict is: 209\n"
          ]
        },
        {
          "output_type": "stream",
          "name": "stderr",
          "text": [
            "100%|██████████| 6/6 [00:00<00:00, 240.98it/s]\n"
          ]
        },
        {
          "output_type": "stream",
          "name": "stdout",
          "text": [
            "Time taken to read the output file data is 0.1999349594116211\n",
            "Total details in output dict is: 209\n",
            "Total details in linked dict is: 209\n"
          ]
        },
        {
          "output_type": "stream",
          "name": "stderr",
          "text": [
            "100%|██████████| 209/209 [00:00<00:00, 32056.23it/s]\n"
          ]
        },
        {
          "output_type": "stream",
          "name": "stdout",
          "text": [
            "StellarDiGraph: Directed multigraph\n",
            " Nodes: 159, Edges: 189\n",
            "\n",
            " Node types:\n",
            "  transaction: [114]\n",
            "    Features: none\n",
            "    Edge types: transaction-default->address\n",
            "  address: [45]\n",
            "    Features: none\n",
            "    Edge types: address-default->transaction\n",
            "\n",
            " Edge types:\n",
            "    transaction-default->address: [106]\n",
            "        Weights: range=[1e+06, 1.9e+12], mean=9.71642e+10, std=2.97738e+11\n",
            "        Features: none\n",
            "    address-default->transaction: [83]\n",
            "        Weights: range=[1e+06, 1.9e+12], mean=1.13776e+11, std=3.2955e+11\n",
            "        Features: none\n",
            "len of addr_list: 45\n"
          ]
        },
        {
          "output_type": "stream",
          "name": "stderr",
          "text": [
            "100%|██████████| 6/6 [00:00<00:00, 297.73it/s]\n"
          ]
        },
        {
          "output_type": "stream",
          "name": "stdout",
          "text": [
            "Time taken to read the input file data is 0.23813939094543457\n",
            "Total details in input dict is: 215\n"
          ]
        },
        {
          "output_type": "stream",
          "name": "stderr",
          "text": [
            "100%|██████████| 6/6 [00:00<00:00, 308.55it/s]\n"
          ]
        },
        {
          "output_type": "stream",
          "name": "stdout",
          "text": [
            "Time taken to read the output file data is 0.20111823081970215\n",
            "Total details in output dict is: 215\n",
            "Total details in linked dict is: 215\n"
          ]
        },
        {
          "output_type": "stream",
          "name": "stderr",
          "text": [
            "100%|██████████| 215/215 [00:00<00:00, 21045.91it/s]\n"
          ]
        },
        {
          "output_type": "stream",
          "name": "stdout",
          "text": [
            "StellarDiGraph: Directed multigraph\n",
            " Nodes: 173, Edges: 206\n",
            "\n",
            " Node types:\n",
            "  transaction: [126]\n",
            "    Features: none\n",
            "    Edge types: transaction-default->address\n",
            "  address: [47]\n",
            "    Features: none\n",
            "    Edge types: address-default->transaction\n",
            "\n",
            " Edge types:\n",
            "    transaction-default->address: [119]\n",
            "        Weights: range=[1e+06, 1.9e+12], mean=9.07934e+10, std=2.82061e+11\n",
            "        Features: none\n",
            "    address-default->transaction: [87]\n",
            "        Weights: range=[1e+06, 1.9e+12], mean=1.11074e+11, std=3.22539e+11\n",
            "        Features: none\n",
            "len of addr_list: 47\n"
          ]
        },
        {
          "output_type": "stream",
          "name": "stderr",
          "text": [
            "100%|██████████| 6/6 [00:00<00:00, 294.48it/s]\n"
          ]
        },
        {
          "output_type": "stream",
          "name": "stdout",
          "text": [
            "Time taken to read the input file data is 0.25960254669189453\n",
            "Total details in input dict is: 218\n"
          ]
        },
        {
          "output_type": "stream",
          "name": "stderr",
          "text": [
            "100%|██████████| 6/6 [00:00<00:00, 292.98it/s]\n"
          ]
        },
        {
          "output_type": "stream",
          "name": "stdout",
          "text": [
            "Time taken to read the output file data is 0.182647705078125\n",
            "Total details in output dict is: 218\n",
            "Total details in linked dict is: 218\n"
          ]
        },
        {
          "output_type": "stream",
          "name": "stderr",
          "text": [
            "100%|██████████| 218/218 [00:00<00:00, 45035.62it/s]\n"
          ]
        },
        {
          "output_type": "stream",
          "name": "stdout",
          "text": [
            "StellarDiGraph: Directed multigraph\n",
            " Nodes: 173, Edges: 206\n",
            "\n",
            " Node types:\n",
            "  transaction: [126]\n",
            "    Features: none\n",
            "    Edge types: transaction-default->address\n",
            "  address: [47]\n",
            "    Features: none\n",
            "    Edge types: address-default->transaction\n",
            "\n",
            " Edge types:\n",
            "    transaction-default->address: [119]\n",
            "        Weights: range=[1e+06, 1.9e+12], mean=9.07934e+10, std=2.82061e+11\n",
            "        Features: none\n",
            "    address-default->transaction: [87]\n",
            "        Weights: range=[1e+06, 1.9e+12], mean=1.11074e+11, std=3.22539e+11\n",
            "        Features: none\n",
            "len of addr_list: 47\n"
          ]
        },
        {
          "output_type": "stream",
          "name": "stderr",
          "text": [
            "100%|██████████| 6/6 [00:00<00:00, 258.35it/s]\n"
          ]
        },
        {
          "output_type": "stream",
          "name": "stdout",
          "text": [
            "Time taken to read the input file data is 0.1954655647277832\n",
            "Total details in input dict is: 220\n"
          ]
        },
        {
          "output_type": "stream",
          "name": "stderr",
          "text": [
            "100%|██████████| 6/6 [00:00<00:00, 295.39it/s]\n"
          ]
        },
        {
          "output_type": "stream",
          "name": "stdout",
          "text": [
            "Time taken to read the output file data is 0.2011580467224121\n",
            "Total details in output dict is: 220\n",
            "Total details in linked dict is: 220\n"
          ]
        },
        {
          "output_type": "stream",
          "name": "stderr",
          "text": [
            "100%|██████████| 220/220 [00:00<00:00, 49050.97it/s]\n"
          ]
        },
        {
          "output_type": "stream",
          "name": "stdout",
          "text": [
            "StellarDiGraph: Directed multigraph\n",
            " Nodes: 176, Edges: 208\n",
            "\n",
            " Node types:\n",
            "  transaction: [128]\n",
            "    Features: none\n",
            "    Edge types: transaction-default->address\n",
            "  address: [48]\n",
            "    Features: none\n",
            "    Edge types: address-default->transaction\n",
            "\n",
            " Edge types:\n",
            "    transaction-default->address: [120]\n",
            "        Weights: range=[1e+06, 1.9e+12], mean=9.01201e+10, std=2.80971e+11\n",
            "        Features: none\n",
            "    address-default->transaction: [88]\n",
            "        Weights: range=[1e+06, 1.9e+12], mean=1.09926e+11, std=3.20861e+11\n",
            "        Features: none\n",
            "len of addr_list: 48\n"
          ]
        },
        {
          "output_type": "stream",
          "name": "stderr",
          "text": [
            "100%|██████████| 6/6 [00:00<00:00, 189.51it/s]\n"
          ]
        },
        {
          "output_type": "stream",
          "name": "stdout",
          "text": [
            "Time taken to read the input file data is 0.3959817886352539\n",
            "Total details in input dict is: 226\n"
          ]
        },
        {
          "output_type": "stream",
          "name": "stderr",
          "text": [
            "100%|██████████| 6/6 [00:00<00:00, 403.84it/s]\n"
          ]
        },
        {
          "output_type": "stream",
          "name": "stdout",
          "text": [
            "Time taken to read the output file data is 0.19096779823303223\n",
            "Total details in output dict is: 226\n",
            "Total details in linked dict is: 226\n"
          ]
        },
        {
          "output_type": "stream",
          "name": "stderr",
          "text": [
            "100%|██████████| 226/226 [00:00<00:00, 40187.93it/s]\n"
          ]
        },
        {
          "output_type": "stream",
          "name": "stdout",
          "text": [
            "StellarDiGraph: Directed multigraph\n",
            " Nodes: 183, Edges: 218\n",
            "\n",
            " Node types:\n",
            "  transaction: [132]\n",
            "    Features: none\n",
            "    Edge types: transaction-default->address\n",
            "  address: [51]\n",
            "    Features: none\n",
            "    Edge types: address-default->transaction\n",
            "\n",
            " Edge types:\n",
            "    transaction-default->address: [126]\n",
            "        Weights: range=[1e+06, 1.9e+12], mean=1.01223e+11, std=3.18608e+11\n",
            "        Features: none\n",
            "    address-default->transaction: [92]\n",
            "        Weights: range=[1e+06, 1.9e+12], mean=1.26175e+11, std=3.65646e+11\n",
            "        Features: none\n",
            "len of addr_list: 51\n"
          ]
        },
        {
          "output_type": "stream",
          "name": "stderr",
          "text": [
            "100%|██████████| 6/6 [00:00<00:00, 276.56it/s]\n"
          ]
        },
        {
          "output_type": "stream",
          "name": "stdout",
          "text": [
            "Time taken to read the input file data is 0.18237972259521484\n",
            "Total details in input dict is: 230\n"
          ]
        },
        {
          "output_type": "stream",
          "name": "stderr",
          "text": [
            "100%|██████████| 6/6 [00:00<00:00, 267.75it/s]\n"
          ]
        },
        {
          "output_type": "stream",
          "name": "stdout",
          "text": [
            "Time taken to read the output file data is 0.18803763389587402\n",
            "Total details in output dict is: 230\n",
            "Total details in linked dict is: 230\n"
          ]
        },
        {
          "output_type": "stream",
          "name": "stderr",
          "text": [
            "100%|██████████| 230/230 [00:00<00:00, 26175.99it/s]\n"
          ]
        },
        {
          "output_type": "stream",
          "name": "stdout",
          "text": [
            "StellarDiGraph: Directed multigraph\n",
            " Nodes: 185, Edges: 220\n",
            "\n",
            " Node types:\n",
            "  transaction: [134]\n",
            "    Features: none\n",
            "    Edge types: transaction-default->address\n",
            "  address: [51]\n",
            "    Features: none\n",
            "    Edge types: address-default->transaction\n",
            "\n",
            " Edge types:\n",
            "    transaction-default->address: [127]\n",
            "        Weights: range=[1e+06, 1.9e+12], mean=1.01844e+11, std=3.17418e+11\n",
            "        Features: none\n",
            "    address-default->transaction: [93]\n",
            "        Weights: range=[1e+06, 1.9e+12], mean=1.26754e+11, std=3.63696e+11\n",
            "        Features: none\n",
            "len of addr_list: 51\n"
          ]
        },
        {
          "output_type": "stream",
          "name": "stderr",
          "text": [
            "100%|██████████| 6/6 [00:00<00:00, 268.18it/s]\n"
          ]
        },
        {
          "output_type": "stream",
          "name": "stdout",
          "text": [
            "Time taken to read the input file data is 0.186936616897583\n",
            "Total details in input dict is: 235\n"
          ]
        },
        {
          "output_type": "stream",
          "name": "stderr",
          "text": [
            "100%|██████████| 6/6 [00:00<00:00, 521.54it/s]\n"
          ]
        },
        {
          "output_type": "stream",
          "name": "stdout",
          "text": [
            "Time taken to read the output file data is 0.1755073070526123\n",
            "Total details in output dict is: 235\n",
            "Total details in linked dict is: 235\n"
          ]
        },
        {
          "output_type": "stream",
          "name": "stderr",
          "text": [
            "100%|██████████| 235/235 [00:00<00:00, 43234.56it/s]\n"
          ]
        },
        {
          "output_type": "stream",
          "name": "stdout",
          "text": [
            "StellarDiGraph: Directed multigraph\n",
            " Nodes: 187, Edges: 222\n",
            "\n",
            " Node types:\n",
            "  transaction: [136]\n",
            "    Features: none\n",
            "    Edge types: transaction-default->address\n",
            "  address: [51]\n",
            "    Features: none\n",
            "    Edge types: address-default->transaction\n",
            "\n",
            " Edge types:\n",
            "    transaction-default->address: [128]\n",
            "        Weights: range=[1e+06, 1.9e+12], mean=1.01083e+11, std=3.16283e+11\n",
            "        Features: none\n",
            "    address-default->transaction: [94]\n",
            "        Weights: range=[1e+06, 1.9e+12], mean=1.25454e+11, std=3.61955e+11\n",
            "        Features: none\n",
            "len of addr_list: 51\n"
          ]
        },
        {
          "output_type": "stream",
          "name": "stderr",
          "text": [
            "100%|██████████| 6/6 [00:00<00:00, 263.25it/s]\n"
          ]
        },
        {
          "output_type": "stream",
          "name": "stdout",
          "text": [
            "Time taken to read the input file data is 0.17378830909729004\n",
            "Total details in input dict is: 237\n"
          ]
        },
        {
          "output_type": "stream",
          "name": "stderr",
          "text": [
            "100%|██████████| 6/6 [00:00<00:00, 577.53it/s]\n"
          ]
        },
        {
          "output_type": "stream",
          "name": "stdout",
          "text": [
            "Time taken to read the output file data is 0.1757187843322754\n",
            "Total details in output dict is: 237\n",
            "Total details in linked dict is: 237\n"
          ]
        },
        {
          "output_type": "stream",
          "name": "stderr",
          "text": [
            "100%|██████████| 237/237 [00:00<00:00, 38447.11it/s]\n"
          ]
        },
        {
          "output_type": "stream",
          "name": "stdout",
          "text": [
            "StellarDiGraph: Directed multigraph\n",
            " Nodes: 187, Edges: 222\n",
            "\n",
            " Node types:\n",
            "  transaction: [136]\n",
            "    Features: none\n",
            "    Edge types: transaction-default->address\n",
            "  address: [51]\n",
            "    Features: none\n",
            "    Edge types: address-default->transaction\n",
            "\n",
            " Edge types:\n",
            "    transaction-default->address: [128]\n",
            "        Weights: range=[1e+06, 1.9e+12], mean=1.01083e+11, std=3.16283e+11\n",
            "        Features: none\n",
            "    address-default->transaction: [94]\n",
            "        Weights: range=[1e+06, 1.9e+12], mean=1.25454e+11, std=3.61955e+11\n",
            "        Features: none\n",
            "len of addr_list: 51\n"
          ]
        },
        {
          "output_type": "stream",
          "name": "stderr",
          "text": [
            "100%|██████████| 6/6 [00:00<00:00, 311.64it/s]\n"
          ]
        },
        {
          "output_type": "stream",
          "name": "stdout",
          "text": [
            "Time taken to read the input file data is 0.22117853164672852\n",
            "Total details in input dict is: 244\n"
          ]
        },
        {
          "output_type": "stream",
          "name": "stderr",
          "text": [
            "100%|██████████| 6/6 [00:00<00:00, 432.84it/s]\n"
          ]
        },
        {
          "output_type": "stream",
          "name": "stdout",
          "text": [
            "Time taken to read the output file data is 0.30025458335876465\n",
            "Total details in output dict is: 244\n",
            "Total details in linked dict is: 244\n"
          ]
        },
        {
          "output_type": "stream",
          "name": "stderr",
          "text": [
            "100%|██████████| 244/244 [00:00<00:00, 29710.57it/s]\n"
          ]
        },
        {
          "output_type": "stream",
          "name": "stdout",
          "text": [
            "StellarDiGraph: Directed multigraph\n",
            " Nodes: 196, Edges: 228\n",
            "\n",
            " Node types:\n",
            "  transaction: [142]\n",
            "    Features: none\n",
            "    Edge types: transaction-default->address\n",
            "  address: [54]\n",
            "    Features: none\n",
            "    Edge types: address-default->transaction\n",
            "\n",
            " Edge types:\n",
            "    transaction-default->address: [131]\n",
            "        Weights: range=[1e+06, 1.9e+12], mean=9.92646e+10, std=3.12855e+11\n",
            "        Features: none\n",
            "    address-default->transaction: [97]\n",
            "        Weights: range=[1e+06, 1.9e+12], mean=1.22244e+11, std=3.5673e+11\n",
            "        Features: none\n",
            "len of addr_list: 54\n"
          ]
        },
        {
          "output_type": "stream",
          "name": "stderr",
          "text": [
            "100%|██████████| 6/6 [00:00<00:00, 285.47it/s]\n"
          ]
        },
        {
          "output_type": "stream",
          "name": "stdout",
          "text": [
            "Time taken to read the input file data is 0.3408629894256592\n",
            "Total details in input dict is: 247\n"
          ]
        },
        {
          "output_type": "stream",
          "name": "stderr",
          "text": [
            "100%|██████████| 6/6 [00:00<00:00, 508.72it/s]\n"
          ]
        },
        {
          "output_type": "stream",
          "name": "stdout",
          "text": [
            "Time taken to read the output file data is 0.6814901828765869\n",
            "Total details in output dict is: 247\n",
            "Total details in linked dict is: 247\n"
          ]
        },
        {
          "output_type": "stream",
          "name": "stderr",
          "text": [
            "100%|██████████| 247/247 [00:00<00:00, 27896.52it/s]\n"
          ]
        },
        {
          "output_type": "stream",
          "name": "stdout",
          "text": [
            "StellarDiGraph: Directed multigraph\n",
            " Nodes: 196, Edges: 228\n",
            "\n",
            " Node types:\n",
            "  transaction: [142]\n",
            "    Features: none\n",
            "    Edge types: transaction-default->address\n",
            "  address: [54]\n",
            "    Features: none\n",
            "    Edge types: address-default->transaction\n",
            "\n",
            " Edge types:\n",
            "    transaction-default->address: [131]\n",
            "        Weights: range=[1e+06, 1.9e+12], mean=9.92646e+10, std=3.12855e+11\n",
            "        Features: none\n",
            "    address-default->transaction: [97]\n",
            "        Weights: range=[1e+06, 1.9e+12], mean=1.22244e+11, std=3.5673e+11\n",
            "        Features: none\n",
            "len of addr_list: 54\n"
          ]
        },
        {
          "output_type": "stream",
          "name": "stderr",
          "text": [
            "100%|██████████| 6/6 [00:00<00:00, 235.12it/s]\n"
          ]
        },
        {
          "output_type": "stream",
          "name": "stdout",
          "text": [
            "Time taken to read the input file data is 0.23244810104370117\n",
            "Total details in input dict is: 249\n"
          ]
        },
        {
          "output_type": "stream",
          "name": "stderr",
          "text": [
            "100%|██████████| 6/6 [00:00<00:00, 271.82it/s]\n"
          ]
        },
        {
          "output_type": "stream",
          "name": "stdout",
          "text": [
            "Time taken to read the output file data is 0.16194748878479004\n",
            "Total details in output dict is: 249\n",
            "Total details in linked dict is: 249\n"
          ]
        },
        {
          "output_type": "stream",
          "name": "stderr",
          "text": [
            "100%|██████████| 249/249 [00:00<00:00, 52075.88it/s]\n"
          ]
        },
        {
          "output_type": "stream",
          "name": "stdout",
          "text": [
            "StellarDiGraph: Directed multigraph\n",
            " Nodes: 196, Edges: 228\n",
            "\n",
            " Node types:\n",
            "  transaction: [142]\n",
            "    Features: none\n",
            "    Edge types: transaction-default->address\n",
            "  address: [54]\n",
            "    Features: none\n",
            "    Edge types: address-default->transaction\n",
            "\n",
            " Edge types:\n",
            "    transaction-default->address: [131]\n",
            "        Weights: range=[1e+06, 1.9e+12], mean=9.92646e+10, std=3.12855e+11\n",
            "        Features: none\n",
            "    address-default->transaction: [97]\n",
            "        Weights: range=[1e+06, 1.9e+12], mean=1.22244e+11, std=3.5673e+11\n",
            "        Features: none\n",
            "len of addr_list: 54\n"
          ]
        },
        {
          "output_type": "stream",
          "name": "stderr",
          "text": [
            "100%|██████████| 6/6 [00:00<00:00, 128.71it/s]\n"
          ]
        },
        {
          "output_type": "stream",
          "name": "stdout",
          "text": [
            "Time taken to read the input file data is 0.20960664749145508\n",
            "Total details in input dict is: 250\n"
          ]
        },
        {
          "output_type": "stream",
          "name": "stderr",
          "text": [
            "100%|██████████| 6/6 [00:00<00:00, 437.45it/s]\n"
          ]
        },
        {
          "output_type": "stream",
          "name": "stdout",
          "text": [
            "Time taken to read the output file data is 0.17235708236694336\n",
            "Total details in output dict is: 250\n",
            "Total details in linked dict is: 250\n"
          ]
        },
        {
          "output_type": "stream",
          "name": "stderr",
          "text": [
            "100%|██████████| 250/250 [00:00<00:00, 33888.44it/s]\n"
          ]
        },
        {
          "output_type": "stream",
          "name": "stdout",
          "text": [
            "StellarDiGraph: Directed multigraph\n",
            " Nodes: 196, Edges: 228\n",
            "\n",
            " Node types:\n",
            "  transaction: [142]\n",
            "    Features: none\n",
            "    Edge types: transaction-default->address\n",
            "  address: [54]\n",
            "    Features: none\n",
            "    Edge types: address-default->transaction\n",
            "\n",
            " Edge types:\n",
            "    transaction-default->address: [131]\n",
            "        Weights: range=[1e+06, 1.9e+12], mean=9.92646e+10, std=3.12855e+11\n",
            "        Features: none\n",
            "    address-default->transaction: [97]\n",
            "        Weights: range=[1e+06, 1.9e+12], mean=1.22244e+11, std=3.5673e+11\n",
            "        Features: none\n",
            "len of addr_list: 54\n"
          ]
        },
        {
          "output_type": "stream",
          "name": "stderr",
          "text": [
            "100%|██████████| 6/6 [00:00<00:00, 276.99it/s]\n"
          ]
        },
        {
          "output_type": "stream",
          "name": "stdout",
          "text": [
            "Time taken to read the input file data is 0.18758320808410645\n",
            "Total details in input dict is: 252\n"
          ]
        },
        {
          "output_type": "stream",
          "name": "stderr",
          "text": [
            "100%|██████████| 6/6 [00:00<00:00, 369.47it/s]\n"
          ]
        },
        {
          "output_type": "stream",
          "name": "stdout",
          "text": [
            "Time taken to read the output file data is 0.21291756629943848\n",
            "Total details in output dict is: 252\n",
            "Total details in linked dict is: 252\n"
          ]
        },
        {
          "output_type": "stream",
          "name": "stderr",
          "text": [
            "100%|██████████| 252/252 [00:00<00:00, 31663.66it/s]\n"
          ]
        },
        {
          "output_type": "stream",
          "name": "stdout",
          "text": [
            "StellarDiGraph: Directed multigraph\n",
            " Nodes: 200, Edges: 232\n",
            "\n",
            " Node types:\n",
            "  transaction: [146]\n",
            "    Features: none\n",
            "    Edge types: transaction-default->address\n",
            "  address: [54]\n",
            "    Features: none\n",
            "    Edge types: address-default->transaction\n",
            "\n",
            " Edge types:\n",
            "    transaction-default->address: [134]\n",
            "        Weights: range=[1e+06, 1.9e+12], mean=9.79378e+10, std=3.09432e+11\n",
            "        Features: none\n",
            "    address-default->transaction: [98]\n",
            "        Weights: range=[1e+06, 1.9e+12], mean=1.21353e+11, std=3.54996e+11\n",
            "        Features: none\n",
            "len of addr_list: 54\n"
          ]
        },
        {
          "output_type": "stream",
          "name": "stderr",
          "text": [
            "100%|██████████| 6/6 [00:00<00:00, 358.09it/s]\n"
          ]
        },
        {
          "output_type": "stream",
          "name": "stdout",
          "text": [
            "Time taken to read the input file data is 0.34444141387939453\n",
            "Total details in input dict is: 257\n"
          ]
        },
        {
          "output_type": "stream",
          "name": "stderr",
          "text": [
            "100%|██████████| 6/6 [00:00<00:00, 371.68it/s]\n"
          ]
        },
        {
          "output_type": "stream",
          "name": "stdout",
          "text": [
            "Time taken to read the output file data is 0.17705988883972168\n",
            "Total details in output dict is: 257\n",
            "Total details in linked dict is: 257\n"
          ]
        },
        {
          "output_type": "stream",
          "name": "stderr",
          "text": [
            "100%|██████████| 257/257 [00:00<00:00, 36516.69it/s]\n"
          ]
        },
        {
          "output_type": "stream",
          "name": "stdout",
          "text": [
            "StellarDiGraph: Directed multigraph\n",
            " Nodes: 206, Edges: 238\n",
            "\n",
            " Node types:\n",
            "  transaction: [150]\n",
            "    Features: none\n",
            "    Edge types: transaction-default->address\n",
            "  address: [56]\n",
            "    Features: none\n",
            "    Edge types: address-default->transaction\n",
            "\n",
            " Edge types:\n",
            "    transaction-default->address: [137]\n",
            "        Weights: range=[1e+06, 1.9e+12], mean=9.58311e+10, std=3.06327e+11\n",
            "        Features: none\n",
            "    address-default->transaction: [101]\n",
            "        Weights: range=[1e+06, 1.9e+12], mean=1.178e+11, std=3.50226e+11\n",
            "        Features: none\n",
            "len of addr_list: 56\n"
          ]
        },
        {
          "output_type": "stream",
          "name": "stderr",
          "text": [
            "100%|██████████| 6/6 [00:00<00:00, 360.85it/s]\n"
          ]
        },
        {
          "output_type": "stream",
          "name": "stdout",
          "text": [
            "Time taken to read the input file data is 0.18645548820495605\n",
            "Total details in input dict is: 260\n"
          ]
        },
        {
          "output_type": "stream",
          "name": "stderr",
          "text": [
            "100%|██████████| 6/6 [00:00<00:00, 472.24it/s]\n"
          ]
        },
        {
          "output_type": "stream",
          "name": "stdout",
          "text": [
            "Time taken to read the output file data is 0.17212486267089844\n",
            "Total details in output dict is: 260\n",
            "Total details in linked dict is: 260\n"
          ]
        },
        {
          "output_type": "stream",
          "name": "stderr",
          "text": [
            "100%|██████████| 260/260 [00:00<00:00, 41947.88it/s]\n"
          ]
        },
        {
          "output_type": "stream",
          "name": "stdout",
          "text": [
            "StellarDiGraph: Directed multigraph\n",
            " Nodes: 207, Edges: 240\n",
            "\n",
            " Node types:\n",
            "  transaction: [151]\n",
            "    Features: none\n",
            "    Edge types: transaction-default->address\n",
            "  address: [56]\n",
            "    Features: none\n",
            "    Edge types: address-default->transaction\n",
            "\n",
            " Edge types:\n",
            "    transaction-default->address: [138]\n",
            "        Weights: range=[1e+06, 1.9e+12], mean=9.51374e+10, std=3.05315e+11\n",
            "        Features: none\n",
            "    address-default->transaction: [102]\n",
            "        Weights: range=[1e+06, 1.9e+12], mean=1.16646e+11, std=3.48682e+11\n",
            "        Features: none\n",
            "len of addr_list: 56\n"
          ]
        },
        {
          "output_type": "stream",
          "name": "stderr",
          "text": [
            "100%|██████████| 6/6 [00:00<00:00, 299.59it/s]\n"
          ]
        },
        {
          "output_type": "stream",
          "name": "stdout",
          "text": [
            "Time taken to read the input file data is 0.21982550621032715\n",
            "Total details in input dict is: 263\n"
          ]
        },
        {
          "output_type": "stream",
          "name": "stderr",
          "text": [
            "100%|██████████| 6/6 [00:00<00:00, 375.61it/s]\n"
          ]
        },
        {
          "output_type": "stream",
          "name": "stdout",
          "text": [
            "Time taken to read the output file data is 0.1869359016418457\n",
            "Total details in output dict is: 263\n",
            "Total details in linked dict is: 263\n"
          ]
        },
        {
          "output_type": "stream",
          "name": "stderr",
          "text": [
            "100%|██████████| 263/263 [00:00<00:00, 55650.39it/s]\n"
          ]
        },
        {
          "output_type": "stream",
          "name": "stdout",
          "text": [
            "StellarDiGraph: Directed multigraph\n",
            " Nodes: 207, Edges: 240\n",
            "\n",
            " Node types:\n",
            "  transaction: [151]\n",
            "    Features: none\n",
            "    Edge types: transaction-default->address\n",
            "  address: [56]\n",
            "    Features: none\n",
            "    Edge types: address-default->transaction\n",
            "\n",
            " Edge types:\n",
            "    transaction-default->address: [138]\n",
            "        Weights: range=[1e+06, 1.9e+12], mean=9.51374e+10, std=3.05315e+11\n",
            "        Features: none\n",
            "    address-default->transaction: [102]\n",
            "        Weights: range=[1e+06, 1.9e+12], mean=1.16646e+11, std=3.48682e+11\n",
            "        Features: none\n",
            "len of addr_list: 56\n"
          ]
        },
        {
          "output_type": "stream",
          "name": "stderr",
          "text": [
            "100%|██████████| 6/6 [00:00<00:00, 243.00it/s]\n"
          ]
        },
        {
          "output_type": "stream",
          "name": "stdout",
          "text": [
            "Time taken to read the input file data is 0.2074897289276123\n",
            "Total details in input dict is: 272\n"
          ]
        },
        {
          "output_type": "stream",
          "name": "stderr",
          "text": [
            "100%|██████████| 6/6 [00:00<00:00, 422.47it/s]\n"
          ]
        },
        {
          "output_type": "stream",
          "name": "stdout",
          "text": [
            "Time taken to read the output file data is 0.16928410530090332\n",
            "Total details in output dict is: 272\n",
            "Total details in linked dict is: 272\n"
          ]
        },
        {
          "output_type": "stream",
          "name": "stderr",
          "text": [
            "100%|██████████| 272/272 [00:00<00:00, 20217.45it/s]\n"
          ]
        },
        {
          "output_type": "stream",
          "name": "stdout",
          "text": [
            "StellarDiGraph: Directed multigraph\n",
            " Nodes: 213, Edges: 248\n",
            "\n",
            " Node types:\n",
            "  transaction: [156]\n",
            "    Features: none\n",
            "    Edge types: transaction-default->address\n",
            "  address: [57]\n",
            "    Features: none\n",
            "    Edge types: address-default->transaction\n",
            "\n",
            " Edge types:\n",
            "    transaction-default->address: [142]\n",
            "        Weights: range=[1e+06, 1.9e+12], mean=9.25279e+10, std=3.01346e+11\n",
            "        Features: none\n",
            "    address-default->transaction: [106]\n",
            "        Weights: range=[1e+06, 1.9e+12], mean=1.12339e+11, std=3.42674e+11\n",
            "        Features: none\n",
            "len of addr_list: 57\n"
          ]
        },
        {
          "output_type": "stream",
          "name": "stderr",
          "text": [
            "100%|██████████| 6/6 [00:00<00:00, 534.29it/s]\n"
          ]
        },
        {
          "output_type": "stream",
          "name": "stdout",
          "text": [
            "Time taken to read the input file data is 0.20324277877807617\n",
            "Total details in input dict is: 281\n"
          ]
        },
        {
          "output_type": "stream",
          "name": "stderr",
          "text": [
            "100%|██████████| 6/6 [00:00<00:00, 402.51it/s]\n"
          ]
        },
        {
          "output_type": "stream",
          "name": "stdout",
          "text": [
            "Time taken to read the output file data is 0.20770955085754395\n",
            "Total details in output dict is: 281\n",
            "Total details in linked dict is: 281\n"
          ]
        },
        {
          "output_type": "stream",
          "name": "stderr",
          "text": [
            "100%|██████████| 281/281 [00:00<00:00, 24860.25it/s]\n"
          ]
        },
        {
          "output_type": "stream",
          "name": "stdout",
          "text": [
            "StellarDiGraph: Directed multigraph\n",
            " Nodes: 214, Edges: 250\n",
            "\n",
            " Node types:\n",
            "  transaction: [157]\n",
            "    Features: none\n",
            "    Edge types: transaction-default->address\n",
            "  address: [57]\n",
            "    Features: none\n",
            "    Edge types: address-default->transaction\n",
            "\n",
            " Edge types:\n",
            "    transaction-default->address: [143]\n",
            "        Weights: range=[1e+06, 1.9e+12], mean=9.1913e+10, std=3.00373e+11\n",
            "        Features: none\n",
            "    address-default->transaction: [107]\n",
            "        Weights: range=[1e+06, 1.9e+12], mean=1.11332e+11, std=3.41213e+11\n",
            "        Features: none\n",
            "len of addr_list: 57\n"
          ]
        },
        {
          "output_type": "stream",
          "name": "stderr",
          "text": [
            "100%|██████████| 6/6 [00:00<00:00, 788.75it/s]\n"
          ]
        },
        {
          "output_type": "stream",
          "name": "stdout",
          "text": [
            "Time taken to read the input file data is 0.2259366512298584\n",
            "Total details in input dict is: 293\n"
          ]
        },
        {
          "output_type": "stream",
          "name": "stderr",
          "text": [
            "100%|██████████| 6/6 [00:00<00:00, 401.48it/s]\n"
          ]
        },
        {
          "output_type": "stream",
          "name": "stdout",
          "text": [
            "Time taken to read the output file data is 0.2290031909942627\n",
            "Total details in output dict is: 293\n",
            "Total details in linked dict is: 293\n"
          ]
        },
        {
          "output_type": "stream",
          "name": "stderr",
          "text": [
            "100%|██████████| 293/293 [00:00<00:00, 28004.08it/s]\n"
          ]
        },
        {
          "output_type": "stream",
          "name": "stdout",
          "text": [
            "StellarDiGraph: Directed multigraph\n",
            " Nodes: 222, Edges: 262\n",
            "\n",
            " Node types:\n",
            "  transaction: [164]\n",
            "    Features: none\n",
            "    Edge types: transaction-default->address\n",
            "  address: [58]\n",
            "    Features: none\n",
            "    Edge types: address-default->transaction\n",
            "\n",
            " Edge types:\n",
            "    transaction-default->address: [150]\n",
            "        Weights: range=[1e+06, 1.9e+12], mean=8.87238e+10, std=2.93679e+11\n",
            "        Features: none\n",
            "    address-default->transaction: [112]\n",
            "        Weights: range=[1e+06, 1.9e+12], mean=1.07777e+11, std=3.33939e+11\n",
            "        Features: none\n",
            "len of addr_list: 58\n"
          ]
        },
        {
          "output_type": "stream",
          "name": "stderr",
          "text": [
            "100%|██████████| 6/6 [00:00<00:00, 347.13it/s]\n"
          ]
        },
        {
          "output_type": "stream",
          "name": "stdout",
          "text": [
            "Time taken to read the input file data is 0.20367717742919922\n",
            "Total details in input dict is: 300\n"
          ]
        },
        {
          "output_type": "stream",
          "name": "stderr",
          "text": [
            "100%|██████████| 6/6 [00:00<00:00, 393.73it/s]\n"
          ]
        },
        {
          "output_type": "stream",
          "name": "stdout",
          "text": [
            "Time taken to read the output file data is 0.2537367343902588\n",
            "Total details in output dict is: 300\n",
            "Total details in linked dict is: 300\n"
          ]
        },
        {
          "output_type": "stream",
          "name": "stderr",
          "text": [
            "100%|██████████| 300/300 [00:00<00:00, 53819.13it/s]\n"
          ]
        },
        {
          "output_type": "stream",
          "name": "stdout",
          "text": [
            "StellarDiGraph: Directed multigraph\n",
            " Nodes: 226, Edges: 266\n",
            "\n",
            " Node types:\n",
            "  transaction: [167]\n",
            "    Features: none\n",
            "    Edge types: transaction-default->address\n",
            "  address: [59]\n",
            "    Features: none\n",
            "    Edge types: address-default->transaction\n",
            "\n",
            " Edge types:\n",
            "    transaction-default->address: [152]\n",
            "        Weights: range=[1e+06, 1.9e+12], mean=8.76235e+10, std=2.91885e+11\n",
            "        Features: none\n",
            "    address-default->transaction: [114]\n",
            "        Weights: range=[1e+06, 1.9e+12], mean=1.05976e+11, std=3.31248e+11\n",
            "        Features: none\n",
            "len of addr_list: 59\n"
          ]
        },
        {
          "output_type": "stream",
          "name": "stderr",
          "text": [
            "100%|██████████| 6/6 [00:00<00:00, 419.50it/s]\n"
          ]
        },
        {
          "output_type": "stream",
          "name": "stdout",
          "text": [
            "Time taken to read the input file data is 0.18155622482299805\n",
            "Total details in input dict is: 307\n"
          ]
        },
        {
          "output_type": "stream",
          "name": "stderr",
          "text": [
            "100%|██████████| 6/6 [00:00<00:00, 391.00it/s]\n"
          ]
        },
        {
          "output_type": "stream",
          "name": "stdout",
          "text": [
            "Time taken to read the output file data is 0.17844820022583008\n",
            "Total details in output dict is: 307\n",
            "Total details in linked dict is: 307\n"
          ]
        },
        {
          "output_type": "stream",
          "name": "stderr",
          "text": [
            "100%|██████████| 307/307 [00:00<00:00, 23187.97it/s]\n"
          ]
        },
        {
          "output_type": "stream",
          "name": "stdout",
          "text": [
            "StellarDiGraph: Directed multigraph\n",
            " Nodes: 228, Edges: 268\n",
            "\n",
            " Node types:\n",
            "  transaction: [169]\n",
            "    Features: none\n",
            "    Edge types: transaction-default->address\n",
            "  address: [59]\n",
            "    Features: none\n",
            "    Edge types: address-default->transaction\n",
            "\n",
            " Edge types:\n",
            "    transaction-default->address: [153]\n",
            "        Weights: range=[1e+06, 1.9e+12], mean=8.73776e+10, std=2.90939e+11\n",
            "        Features: none\n",
            "    address-default->transaction: [115]\n",
            "        Weights: range=[1e+06, 1.9e+12], mean=1.05489e+11, std=3.29833e+11\n",
            "        Features: none\n",
            "len of addr_list: 59\n"
          ]
        },
        {
          "output_type": "stream",
          "name": "stderr",
          "text": [
            "100%|██████████| 6/6 [00:00<00:00, 270.39it/s]\n"
          ]
        },
        {
          "output_type": "stream",
          "name": "stdout",
          "text": [
            "Time taken to read the input file data is 0.21380996704101562\n",
            "Total details in input dict is: 320\n"
          ]
        },
        {
          "output_type": "stream",
          "name": "stderr",
          "text": [
            "100%|██████████| 6/6 [00:00<00:00, 408.31it/s]\n"
          ]
        },
        {
          "output_type": "stream",
          "name": "stdout",
          "text": [
            "Time taken to read the output file data is 0.3364424705505371\n",
            "Total details in output dict is: 320\n",
            "Total details in linked dict is: 320\n"
          ]
        },
        {
          "output_type": "stream",
          "name": "stderr",
          "text": [
            "100%|██████████| 320/320 [00:00<00:00, 54288.61it/s]\n"
          ]
        },
        {
          "output_type": "stream",
          "name": "stdout",
          "text": [
            "StellarDiGraph: Directed multigraph\n",
            " Nodes: 234, Edges: 274\n",
            "\n",
            " Node types:\n",
            "  transaction: [173]\n",
            "    Features: none\n",
            "    Edge types: transaction-default->address\n",
            "  address: [61]\n",
            "    Features: none\n",
            "    Edge types: address-default->transaction\n",
            "\n",
            " Edge types:\n",
            "    transaction-default->address: [156]\n",
            "        Weights: range=[1e+06, 1.9e+12], mean=8.58811e+10, std=2.88313e+11\n",
            "        Features: none\n",
            "    address-default->transaction: [118]\n",
            "        Weights: range=[1e+06, 1.9e+12], mean=1.0305e+11, std=3.25934e+11\n",
            "        Features: none\n",
            "len of addr_list: 61\n"
          ]
        },
        {
          "output_type": "stream",
          "name": "stderr",
          "text": [
            "100%|██████████| 6/6 [00:00<00:00, 615.89it/s]\n"
          ]
        },
        {
          "output_type": "stream",
          "name": "stdout",
          "text": [
            "Time taken to read the input file data is 0.18502163887023926\n",
            "Total details in input dict is: 331\n"
          ]
        },
        {
          "output_type": "stream",
          "name": "stderr",
          "text": [
            "100%|██████████| 6/6 [00:00<00:00, 440.37it/s]\n"
          ]
        },
        {
          "output_type": "stream",
          "name": "stdout",
          "text": [
            "Time taken to read the output file data is 0.1772758960723877\n",
            "Total details in output dict is: 331\n",
            "Total details in linked dict is: 331\n"
          ]
        },
        {
          "output_type": "stream",
          "name": "stderr",
          "text": [
            "100%|██████████| 331/331 [00:00<00:00, 40293.56it/s]\n"
          ]
        },
        {
          "output_type": "stream",
          "name": "stdout",
          "text": [
            "StellarDiGraph: Directed multigraph\n",
            " Nodes: 245, Edges: 284\n",
            "\n",
            " Node types:\n",
            "  transaction: [181]\n",
            "    Features: none\n",
            "    Edge types: transaction-default->address\n",
            "  address: [64]\n",
            "    Features: none\n",
            "    Edge types: address-default->transaction\n",
            "\n",
            " Edge types:\n",
            "    transaction-default->address: [162]\n",
            "        Weights: range=[1e+06, 1.9e+12], mean=8.29781e+10, std=2.83282e+11\n",
            "        Features: none\n",
            "    address-default->transaction: [122]\n",
            "        Weights: range=[1e+06, 1.9e+12], mean=9.99174e+10, std=3.2096e+11\n",
            "        Features: none\n",
            "len of addr_list: 64\n"
          ]
        },
        {
          "output_type": "stream",
          "name": "stderr",
          "text": [
            "100%|██████████| 6/6 [00:00<00:00, 440.05it/s]\n"
          ]
        },
        {
          "output_type": "stream",
          "name": "stdout",
          "text": [
            "Time taken to read the input file data is 0.20006179809570312\n",
            "Total details in input dict is: 346\n"
          ]
        },
        {
          "output_type": "stream",
          "name": "stderr",
          "text": [
            "100%|██████████| 6/6 [00:00<00:00, 450.60it/s]\n"
          ]
        },
        {
          "output_type": "stream",
          "name": "stdout",
          "text": [
            "Time taken to read the output file data is 0.1868891716003418\n",
            "Total details in output dict is: 346\n",
            "Total details in linked dict is: 346\n"
          ]
        },
        {
          "output_type": "stream",
          "name": "stderr",
          "text": [
            "100%|██████████| 346/346 [00:00<00:00, 29772.47it/s]\n"
          ]
        },
        {
          "output_type": "stream",
          "name": "stdout",
          "text": [
            "StellarDiGraph: Directed multigraph\n",
            " Nodes: 249, Edges: 288\n",
            "\n",
            " Node types:\n",
            "  transaction: [185]\n",
            "    Features: none\n",
            "    Edge types: transaction-default->address\n",
            "  address: [64]\n",
            "    Features: none\n",
            "    Edge types: address-default->transaction\n",
            "\n",
            " Edge types:\n",
            "    transaction-default->address: [164]\n",
            "        Weights: range=[1e+06, 1.9e+12], mean=8.62351e+10, std=2.85711e+11\n",
            "        Features: none\n",
            "    address-default->transaction: [124]\n",
            "        Weights: range=[1e+06, 1.9e+12], mean=1.03952e+11, std=3.23005e+11\n",
            "        Features: none\n",
            "len of addr_list: 64\n"
          ]
        },
        {
          "output_type": "stream",
          "name": "stderr",
          "text": [
            "100%|██████████| 6/6 [00:00<00:00, 623.95it/s]\n"
          ]
        },
        {
          "output_type": "stream",
          "name": "stdout",
          "text": [
            "Time taken to read the input file data is 0.19530057907104492\n",
            "Total details in input dict is: 362\n"
          ]
        },
        {
          "output_type": "stream",
          "name": "stderr",
          "text": [
            "100%|██████████| 6/6 [00:00<00:00, 378.27it/s]\n"
          ]
        },
        {
          "output_type": "stream",
          "name": "stdout",
          "text": [
            "Time taken to read the output file data is 0.18676161766052246\n",
            "Total details in output dict is: 362\n",
            "Total details in linked dict is: 362\n"
          ]
        },
        {
          "output_type": "stream",
          "name": "stderr",
          "text": [
            "100%|██████████| 362/362 [00:00<00:00, 43272.29it/s]\n"
          ]
        },
        {
          "output_type": "stream",
          "name": "stdout",
          "text": [
            "StellarDiGraph: Directed multigraph\n",
            " Nodes: 254, Edges: 292\n",
            "\n",
            " Node types:\n",
            "  transaction: [189]\n",
            "    Features: none\n",
            "    Edge types: transaction-default->address\n",
            "  address: [65]\n",
            "    Features: none\n",
            "    Edge types: address-default->transaction\n",
            "\n",
            " Edge types:\n",
            "    transaction-default->address: [166]\n",
            "        Weights: range=[1e+06, 1.9e+12], mean=8.53769e+10, std=2.84082e+11\n",
            "        Features: none\n",
            "    address-default->transaction: [126]\n",
            "        Weights: range=[1e+06, 1.9e+12], mean=1.0254e+11, std=3.20605e+11\n",
            "        Features: none\n",
            "len of addr_list: 65\n"
          ]
        },
        {
          "output_type": "stream",
          "name": "stderr",
          "text": [
            "100%|██████████| 6/6 [00:00<00:00, 196.86it/s]\n"
          ]
        },
        {
          "output_type": "stream",
          "name": "stdout",
          "text": [
            "Time taken to read the input file data is 0.32891249656677246\n",
            "Total details in input dict is: 368\n"
          ]
        },
        {
          "output_type": "stream",
          "name": "stderr",
          "text": [
            "100%|██████████| 6/6 [00:00<00:00, 282.25it/s]\n"
          ]
        },
        {
          "output_type": "stream",
          "name": "stdout",
          "text": [
            "Time taken to read the output file data is 0.18365955352783203\n",
            "Total details in output dict is: 368\n",
            "Total details in linked dict is: 368\n"
          ]
        },
        {
          "output_type": "stream",
          "name": "stderr",
          "text": [
            "100%|██████████| 368/368 [00:00<00:00, 36692.43it/s]\n"
          ]
        },
        {
          "output_type": "stream",
          "name": "stdout",
          "text": [
            "StellarDiGraph: Directed multigraph\n",
            " Nodes: 258, Edges: 297\n",
            "\n",
            " Node types:\n",
            "  transaction: [193]\n",
            "    Features: none\n",
            "    Edge types: transaction-default->address\n",
            "  address: [65]\n",
            "    Features: none\n",
            "    Edge types: address-default->transaction\n",
            "\n",
            " Edge types:\n",
            "    transaction-default->address: [169]\n",
            "        Weights: range=[1e+06, 1.9e+12], mean=8.47785e+10, std=2.81576e+11\n",
            "        Features: none\n",
            "    address-default->transaction: [128]\n",
            "        Weights: range=[1e+06, 1.9e+12], mean=1.01758e+11, std=3.18139e+11\n",
            "        Features: none\n",
            "len of addr_list: 65\n"
          ]
        },
        {
          "output_type": "stream",
          "name": "stderr",
          "text": [
            "100%|██████████| 6/6 [00:00<00:00, 242.49it/s]\n"
          ]
        },
        {
          "output_type": "stream",
          "name": "stdout",
          "text": [
            "Time taken to read the input file data is 0.2343895435333252\n",
            "Total details in input dict is: 374\n"
          ]
        },
        {
          "output_type": "stream",
          "name": "stderr",
          "text": [
            "100%|██████████| 6/6 [00:00<00:00, 498.47it/s]\n"
          ]
        },
        {
          "output_type": "stream",
          "name": "stdout",
          "text": [
            "Time taken to read the output file data is 0.21771502494812012\n",
            "Total details in output dict is: 374\n",
            "Total details in linked dict is: 374\n"
          ]
        },
        {
          "output_type": "stream",
          "name": "stderr",
          "text": [
            "100%|██████████| 374/374 [00:00<00:00, 31195.58it/s]\n"
          ]
        },
        {
          "output_type": "stream",
          "name": "stdout",
          "text": [
            "StellarDiGraph: Directed multigraph\n",
            " Nodes: 265, Edges: 304\n",
            "\n",
            " Node types:\n",
            "  transaction: [198]\n",
            "    Features: none\n",
            "    Edge types: transaction-default->address\n",
            "  address: [67]\n",
            "    Features: none\n",
            "    Edge types: address-default->transaction\n",
            "\n",
            " Edge types:\n",
            "    transaction-default->address: [173]\n",
            "        Weights: range=[1e+06, 1.9e+12], mean=8.36275e+10, std=2.78429e+11\n",
            "        Features: none\n",
            "    address-default->transaction: [131]\n",
            "        Weights: range=[1e+06, 1.9e+12], mean=9.99238e+10, std=3.14704e+11\n",
            "        Features: none\n",
            "len of addr_list: 67\n"
          ]
        },
        {
          "output_type": "stream",
          "name": "stderr",
          "text": [
            "100%|██████████| 6/6 [00:00<00:00, 325.54it/s]\n"
          ]
        },
        {
          "output_type": "stream",
          "name": "stdout",
          "text": [
            "Time taken to read the input file data is 0.32755279541015625\n",
            "Total details in input dict is: 386\n"
          ]
        },
        {
          "output_type": "stream",
          "name": "stderr",
          "text": [
            "100%|██████████| 6/6 [00:00<00:00, 310.05it/s]\n"
          ]
        },
        {
          "output_type": "stream",
          "name": "stdout",
          "text": [
            "Time taken to read the output file data is 0.25183892250061035\n",
            "Total details in output dict is: 386\n",
            "Total details in linked dict is: 386\n"
          ]
        },
        {
          "output_type": "stream",
          "name": "stderr",
          "text": [
            "100%|██████████| 386/386 [00:00<00:00, 51037.18it/s]\n"
          ]
        },
        {
          "output_type": "stream",
          "name": "stdout",
          "text": [
            "StellarDiGraph: Directed multigraph\n",
            " Nodes: 267, Edges: 306\n",
            "\n",
            " Node types:\n",
            "  transaction: [200]\n",
            "    Features: none\n",
            "    Edge types: transaction-default->address\n",
            "  address: [67]\n",
            "    Features: none\n",
            "    Edge types: address-default->transaction\n",
            "\n",
            " Edge types:\n",
            "    transaction-default->address: [174]\n",
            "        Weights: range=[1e+06, 1.9e+12], mean=8.32044e+10, std=2.77679e+11\n",
            "        Features: none\n",
            "    address-default->transaction: [132]\n",
            "        Weights: range=[1e+06, 1.9e+12], mean=9.92426e+10, std=3.13598e+11\n",
            "        Features: none\n",
            "len of addr_list: 67\n"
          ]
        },
        {
          "output_type": "stream",
          "name": "stderr",
          "text": [
            "100%|██████████| 6/6 [00:00<00:00, 414.18it/s]\n"
          ]
        },
        {
          "output_type": "stream",
          "name": "stdout",
          "text": [
            "Time taken to read the input file data is 0.40492916107177734\n",
            "Total details in input dict is: 392\n"
          ]
        },
        {
          "output_type": "stream",
          "name": "stderr",
          "text": [
            "100%|██████████| 6/6 [00:00<00:00, 278.40it/s]\n"
          ]
        },
        {
          "output_type": "stream",
          "name": "stdout",
          "text": [
            "Time taken to read the output file data is 0.18990540504455566\n",
            "Total details in output dict is: 392\n",
            "Total details in linked dict is: 392\n"
          ]
        },
        {
          "output_type": "stream",
          "name": "stderr",
          "text": [
            "100%|██████████| 392/392 [00:00<00:00, 30182.05it/s]\n"
          ]
        },
        {
          "output_type": "stream",
          "name": "stdout",
          "text": [
            "StellarDiGraph: Directed multigraph\n",
            " Nodes: 267, Edges: 306\n",
            "\n",
            " Node types:\n",
            "  transaction: [200]\n",
            "    Features: none\n",
            "    Edge types: transaction-default->address\n",
            "  address: [67]\n",
            "    Features: none\n",
            "    Edge types: address-default->transaction\n",
            "\n",
            " Edge types:\n",
            "    transaction-default->address: [174]\n",
            "        Weights: range=[1e+06, 1.9e+12], mean=8.32044e+10, std=2.77679e+11\n",
            "        Features: none\n",
            "    address-default->transaction: [132]\n",
            "        Weights: range=[1e+06, 1.9e+12], mean=9.92426e+10, std=3.13598e+11\n",
            "        Features: none\n",
            "len of addr_list: 67\n"
          ]
        },
        {
          "output_type": "stream",
          "name": "stderr",
          "text": [
            "100%|██████████| 6/6 [00:00<00:00, 314.39it/s]\n"
          ]
        },
        {
          "output_type": "stream",
          "name": "stdout",
          "text": [
            "Time taken to read the input file data is 0.22210335731506348\n",
            "Total details in input dict is: 397\n"
          ]
        },
        {
          "output_type": "stream",
          "name": "stderr",
          "text": [
            "100%|██████████| 6/6 [00:00<00:00, 203.98it/s]\n"
          ]
        },
        {
          "output_type": "stream",
          "name": "stdout",
          "text": [
            "Time taken to read the output file data is 0.21979188919067383\n",
            "Total details in output dict is: 397\n",
            "Total details in linked dict is: 397\n"
          ]
        },
        {
          "output_type": "stream",
          "name": "stderr",
          "text": [
            "100%|██████████| 397/397 [00:00<00:00, 27975.18it/s]\n"
          ]
        },
        {
          "output_type": "stream",
          "name": "stdout",
          "text": [
            "StellarDiGraph: Directed multigraph\n",
            " Nodes: 271, Edges: 312\n",
            "\n",
            " Node types:\n",
            "  transaction: [202]\n",
            "    Features: none\n",
            "    Edge types: transaction-default->address\n",
            "  address: [69]\n",
            "    Features: none\n",
            "    Edge types: address-default->transaction\n",
            "\n",
            " Edge types:\n",
            "    transaction-default->address: [177]\n",
            "        Weights: range=[1e+06, 1.9e+12], mean=8.20055e+10, std=2.75462e+11\n",
            "        Features: none\n",
            "    address-default->transaction: [135]\n",
            "        Weights: range=[1e+06, 1.9e+12], mean=9.73144e+10, std=3.10343e+11\n",
            "        Features: none\n",
            "len of addr_list: 69\n"
          ]
        },
        {
          "output_type": "stream",
          "name": "stderr",
          "text": [
            "100%|██████████| 6/6 [00:00<00:00, 313.34it/s]\n"
          ]
        },
        {
          "output_type": "stream",
          "name": "stdout",
          "text": [
            "Time taken to read the input file data is 0.2939326763153076\n",
            "Total details in input dict is: 408\n"
          ]
        },
        {
          "output_type": "stream",
          "name": "stderr",
          "text": [
            "100%|██████████| 6/6 [00:00<00:00, 408.68it/s]\n"
          ]
        },
        {
          "output_type": "stream",
          "name": "stdout",
          "text": [
            "Time taken to read the output file data is 0.22134923934936523\n",
            "Total details in output dict is: 408\n",
            "Total details in linked dict is: 408\n"
          ]
        },
        {
          "output_type": "stream",
          "name": "stderr",
          "text": [
            "100%|██████████| 408/408 [00:00<00:00, 43574.97it/s]\n"
          ]
        },
        {
          "output_type": "stream",
          "name": "stdout",
          "text": [
            "StellarDiGraph: Directed multigraph\n",
            " Nodes: 271, Edges: 312\n",
            "\n",
            " Node types:\n",
            "  transaction: [202]\n",
            "    Features: none\n",
            "    Edge types: transaction-default->address\n",
            "  address: [69]\n",
            "    Features: none\n",
            "    Edge types: address-default->transaction\n",
            "\n",
            " Edge types:\n",
            "    transaction-default->address: [177]\n",
            "        Weights: range=[1e+06, 1.9e+12], mean=8.20055e+10, std=2.75462e+11\n",
            "        Features: none\n",
            "    address-default->transaction: [135]\n",
            "        Weights: range=[1e+06, 1.9e+12], mean=9.73144e+10, std=3.10343e+11\n",
            "        Features: none\n",
            "len of addr_list: 69\n"
          ]
        },
        {
          "output_type": "stream",
          "name": "stderr",
          "text": [
            "100%|██████████| 6/6 [00:00<00:00, 165.76it/s]\n"
          ]
        },
        {
          "output_type": "stream",
          "name": "stdout",
          "text": [
            "Time taken to read the input file data is 0.3032515048980713\n",
            "Total details in input dict is: 413\n"
          ]
        },
        {
          "output_type": "stream",
          "name": "stderr",
          "text": [
            "100%|██████████| 6/6 [00:00<00:00, 283.98it/s]\n"
          ]
        },
        {
          "output_type": "stream",
          "name": "stdout",
          "text": [
            "Time taken to read the output file data is 0.2068474292755127\n",
            "Total details in output dict is: 413\n",
            "Total details in linked dict is: 413\n"
          ]
        },
        {
          "output_type": "stream",
          "name": "stderr",
          "text": [
            "100%|██████████| 413/413 [00:00<00:00, 39425.71it/s]\n"
          ]
        },
        {
          "output_type": "stream",
          "name": "stdout",
          "text": [
            "StellarDiGraph: Directed multigraph\n",
            " Nodes: 271, Edges: 312\n",
            "\n",
            " Node types:\n",
            "  transaction: [202]\n",
            "    Features: none\n",
            "    Edge types: transaction-default->address\n",
            "  address: [69]\n",
            "    Features: none\n",
            "    Edge types: address-default->transaction\n",
            "\n",
            " Edge types:\n",
            "    transaction-default->address: [177]\n",
            "        Weights: range=[1e+06, 1.9e+12], mean=8.20055e+10, std=2.75462e+11\n",
            "        Features: none\n",
            "    address-default->transaction: [135]\n",
            "        Weights: range=[1e+06, 1.9e+12], mean=9.73144e+10, std=3.10343e+11\n",
            "        Features: none\n",
            "len of addr_list: 69\n"
          ]
        },
        {
          "output_type": "stream",
          "name": "stderr",
          "text": [
            "100%|██████████| 6/6 [00:00<00:00, 334.23it/s]\n"
          ]
        },
        {
          "output_type": "stream",
          "name": "stdout",
          "text": [
            "Time taken to read the input file data is 0.18680071830749512\n",
            "Total details in input dict is: 418\n"
          ]
        },
        {
          "output_type": "stream",
          "name": "stderr",
          "text": [
            "100%|██████████| 6/6 [00:00<00:00, 234.71it/s]\n"
          ]
        },
        {
          "output_type": "stream",
          "name": "stdout",
          "text": [
            "Time taken to read the output file data is 0.1932520866394043\n",
            "Total details in output dict is: 418\n",
            "Total details in linked dict is: 418\n"
          ]
        },
        {
          "output_type": "stream",
          "name": "stderr",
          "text": [
            "100%|██████████| 418/418 [00:00<00:00, 33960.66it/s]\n"
          ]
        },
        {
          "output_type": "stream",
          "name": "stdout",
          "text": [
            "StellarDiGraph: Directed multigraph\n",
            " Nodes: 273, Edges: 314\n",
            "\n",
            " Node types:\n",
            "  transaction: [203]\n",
            "    Features: none\n",
            "    Edge types: transaction-default->address\n",
            "  address: [70]\n",
            "    Features: none\n",
            "    Edge types: address-default->transaction\n",
            "\n",
            " Edge types:\n",
            "    transaction-default->address: [178]\n",
            "        Weights: range=[1e+06, 1.9e+12], mean=8.18389e+10, std=2.74692e+11\n",
            "        Features: none\n",
            "    address-default->transaction: [136]\n",
            "        Weights: range=[1e+06, 1.9e+12], mean=9.69838e+10, std=3.09215e+11\n",
            "        Features: none\n",
            "len of addr_list: 70\n"
          ]
        },
        {
          "output_type": "stream",
          "name": "stderr",
          "text": [
            "100%|██████████| 6/6 [00:00<00:00, 284.00it/s]\n"
          ]
        },
        {
          "output_type": "stream",
          "name": "stdout",
          "text": [
            "Time taken to read the input file data is 0.23672914505004883\n",
            "Total details in input dict is: 430\n"
          ]
        },
        {
          "output_type": "stream",
          "name": "stderr",
          "text": [
            "100%|██████████| 6/6 [00:00<00:00, 295.49it/s]\n"
          ]
        },
        {
          "output_type": "stream",
          "name": "stdout",
          "text": [
            "Time taken to read the output file data is 0.18113207817077637\n",
            "Total details in output dict is: 430\n",
            "Total details in linked dict is: 430\n"
          ]
        },
        {
          "output_type": "stream",
          "name": "stderr",
          "text": [
            "100%|██████████| 430/430 [00:00<00:00, 50371.48it/s]\n"
          ]
        },
        {
          "output_type": "stream",
          "name": "stdout",
          "text": [
            "StellarDiGraph: Directed multigraph\n",
            " Nodes: 273, Edges: 314\n",
            "\n",
            " Node types:\n",
            "  transaction: [203]\n",
            "    Features: none\n",
            "    Edge types: transaction-default->address\n",
            "  address: [70]\n",
            "    Features: none\n",
            "    Edge types: address-default->transaction\n",
            "\n",
            " Edge types:\n",
            "    transaction-default->address: [178]\n",
            "        Weights: range=[1e+06, 1.9e+12], mean=8.18389e+10, std=2.74692e+11\n",
            "        Features: none\n",
            "    address-default->transaction: [136]\n",
            "        Weights: range=[1e+06, 1.9e+12], mean=9.69838e+10, std=3.09215e+11\n",
            "        Features: none\n",
            "len of addr_list: 70\n"
          ]
        },
        {
          "output_type": "stream",
          "name": "stderr",
          "text": [
            "100%|██████████| 6/6 [00:00<00:00, 322.44it/s]\n"
          ]
        },
        {
          "output_type": "stream",
          "name": "stdout",
          "text": [
            "Time taken to read the input file data is 0.30736231803894043\n",
            "Total details in input dict is: 458\n"
          ]
        },
        {
          "output_type": "stream",
          "name": "stderr",
          "text": [
            "100%|██████████| 6/6 [00:00<00:00, 302.36it/s]\n"
          ]
        },
        {
          "output_type": "stream",
          "name": "stdout",
          "text": [
            "Time taken to read the output file data is 0.17787909507751465\n",
            "Total details in output dict is: 458\n",
            "Total details in linked dict is: 458\n"
          ]
        },
        {
          "output_type": "stream",
          "name": "stderr",
          "text": [
            "100%|██████████| 458/458 [00:00<00:00, 48944.95it/s]\n"
          ]
        },
        {
          "output_type": "stream",
          "name": "stdout",
          "text": [
            "StellarDiGraph: Directed multigraph\n",
            " Nodes: 301, Edges: 353\n",
            "\n",
            " Node types:\n",
            "  transaction: [219]\n",
            "    Features: none\n",
            "    Edge types: transaction-default->address\n",
            "  address: [82]\n",
            "    Features: none\n",
            "    Edge types: address-default->transaction\n",
            "\n",
            " Edge types:\n",
            "    transaction-default->address: [198]\n",
            "        Weights: range=[1e+06, 1.9e+12], mean=7.57881e+10, std=2.61172e+11\n",
            "        Features: none\n",
            "    address-default->transaction: [155]\n",
            "        Weights: range=[1e+06, 1.9e+12], mean=8.78461e+10, std=2.90742e+11\n",
            "        Features: none\n",
            "len of addr_list: 82\n"
          ]
        },
        {
          "output_type": "stream",
          "name": "stderr",
          "text": [
            "100%|██████████| 6/6 [00:00<00:00, 342.61it/s]\n"
          ]
        },
        {
          "output_type": "stream",
          "name": "stdout",
          "text": [
            "Time taken to read the input file data is 0.20554780960083008\n",
            "Total details in input dict is: 473\n"
          ]
        },
        {
          "output_type": "stream",
          "name": "stderr",
          "text": [
            "100%|██████████| 6/6 [00:00<00:00, 227.98it/s]\n"
          ]
        },
        {
          "output_type": "stream",
          "name": "stdout",
          "text": [
            "Time taken to read the output file data is 0.2003767490386963\n",
            "Total details in output dict is: 473\n",
            "Total details in linked dict is: 473\n"
          ]
        },
        {
          "output_type": "stream",
          "name": "stderr",
          "text": [
            "100%|██████████| 473/473 [00:00<00:00, 30731.55it/s]\n"
          ]
        },
        {
          "output_type": "stream",
          "name": "stdout",
          "text": [
            "StellarDiGraph: Directed multigraph\n",
            " Nodes: 307, Edges: 363\n",
            "\n",
            " Node types:\n",
            "  transaction: [223]\n",
            "    Features: none\n",
            "    Edge types: transaction-default->address\n",
            "  address: [84]\n",
            "    Features: none\n",
            "    Edge types: address-default->transaction\n",
            "\n",
            " Edge types:\n",
            "    transaction-default->address: [204]\n",
            "        Weights: range=[1e+06, 1.9e+12], mean=7.36037e+10, std=2.57591e+11\n",
            "        Features: none\n",
            "    address-default->transaction: [159]\n",
            "        Weights: range=[1e+06, 1.9e+12], mean=8.56877e+10, std=2.87354e+11\n",
            "        Features: none\n",
            "len of addr_list: 84\n"
          ]
        },
        {
          "output_type": "stream",
          "name": "stderr",
          "text": [
            "100%|██████████| 6/6 [00:00<00:00, 344.79it/s]\n"
          ]
        },
        {
          "output_type": "stream",
          "name": "stdout",
          "text": [
            "Time taken to read the input file data is 0.21658587455749512\n",
            "Total details in input dict is: 484\n"
          ]
        },
        {
          "output_type": "stream",
          "name": "stderr",
          "text": [
            "100%|██████████| 6/6 [00:00<00:00, 324.44it/s]\n"
          ]
        },
        {
          "output_type": "stream",
          "name": "stdout",
          "text": [
            "Time taken to read the output file data is 0.19910216331481934\n",
            "Total details in output dict is: 484\n",
            "Total details in linked dict is: 484\n"
          ]
        },
        {
          "output_type": "stream",
          "name": "stderr",
          "text": [
            "100%|██████████| 484/484 [00:00<00:00, 33104.11it/s]\n"
          ]
        },
        {
          "output_type": "stream",
          "name": "stdout",
          "text": [
            "StellarDiGraph: Directed multigraph\n",
            " Nodes: 319, Edges: 377\n",
            "\n",
            " Node types:\n",
            "  transaction: [232]\n",
            "    Features: none\n",
            "    Edge types: transaction-default->address\n",
            "  address: [87]\n",
            "    Features: none\n",
            "    Edge types: address-default->transaction\n",
            "\n",
            " Edge types:\n",
            "    transaction-default->address: [212]\n",
            "        Weights: range=[1e+06, 1.9e+12], mean=7.11342e+10, std=2.52972e+11\n",
            "        Features: none\n",
            "    address-default->transaction: [165]\n",
            "        Weights: range=[1e+06, 1.9e+12], mean=8.28131e+10, std=2.82442e+11\n",
            "        Features: none\n",
            "len of addr_list: 87\n"
          ]
        },
        {
          "output_type": "stream",
          "name": "stderr",
          "text": [
            "100%|██████████| 6/6 [00:00<00:00, 209.38it/s]\n"
          ]
        },
        {
          "output_type": "stream",
          "name": "stdout",
          "text": [
            "Time taken to read the input file data is 0.1849076747894287\n",
            "Total details in input dict is: 496\n"
          ]
        },
        {
          "output_type": "stream",
          "name": "stderr",
          "text": [
            "100%|██████████| 6/6 [00:00<00:00, 227.23it/s]\n"
          ]
        },
        {
          "output_type": "stream",
          "name": "stdout",
          "text": [
            "Time taken to read the output file data is 0.2127394676208496\n",
            "Total details in output dict is: 496\n",
            "Total details in linked dict is: 496\n"
          ]
        },
        {
          "output_type": "stream",
          "name": "stderr",
          "text": [
            "100%|██████████| 496/496 [00:00<00:00, 33111.17it/s]\n"
          ]
        },
        {
          "output_type": "stream",
          "name": "stdout",
          "text": [
            "StellarDiGraph: Directed multigraph\n",
            " Nodes: 356, Edges: 414\n",
            "\n",
            " Node types:\n",
            "  transaction: [266]\n",
            "    Features: none\n",
            "    Edge types: transaction-default->address\n",
            "  address: [90]\n",
            "    Features: none\n",
            "    Edge types: address-default->transaction\n",
            "\n",
            " Edge types:\n",
            "    transaction-default->address: [243]\n",
            "        Weights: range=[1e+06, 1.9e+12], mean=6.29191e+10, std=2.37196e+11\n",
            "        Features: none\n",
            "    address-default->transaction: [171]\n",
            "        Weights: range=[1e+06, 1.9e+12], mean=8.01639e+10, std=2.77765e+11\n",
            "        Features: none\n",
            "len of addr_list: 90\n"
          ]
        },
        {
          "output_type": "stream",
          "name": "stderr",
          "text": [
            "100%|██████████| 6/6 [00:00<00:00, 139.04it/s]\n"
          ]
        },
        {
          "output_type": "stream",
          "name": "stdout",
          "text": [
            "Time taken to read the input file data is 0.20356225967407227\n",
            "Total details in input dict is: 531\n"
          ]
        },
        {
          "output_type": "stream",
          "name": "stderr",
          "text": [
            "100%|██████████| 6/6 [00:00<00:00, 398.94it/s]\n"
          ]
        },
        {
          "output_type": "stream",
          "name": "stdout",
          "text": [
            "Time taken to read the output file data is 0.19493842124938965\n",
            "Total details in output dict is: 531\n",
            "Total details in linked dict is: 531\n"
          ]
        },
        {
          "output_type": "stream",
          "name": "stderr",
          "text": [
            "100%|██████████| 531/531 [00:00<00:00, 30364.09it/s]\n"
          ]
        },
        {
          "output_type": "stream",
          "name": "stdout",
          "text": [
            "StellarDiGraph: Directed multigraph\n",
            " Nodes: 447, Edges: 525\n",
            "\n",
            " Node types:\n",
            "  transaction: [343]\n",
            "    Features: none\n",
            "    Edge types: transaction-default->address\n",
            "  address: [104]\n",
            "    Features: none\n",
            "    Edge types: address-default->transaction\n",
            "\n",
            " Edge types:\n",
            "    transaction-default->address: [321]\n",
            "        Weights: range=[1e+06, 1.9e+12], mean=5.55456e+10, std=2.09945e+11\n",
            "        Features: none\n",
            "    address-default->transaction: [204]\n",
            "        Weights: range=[1e+06, 1.9e+12], mean=7.83763e+10, std=2.57666e+11\n",
            "        Features: none\n",
            "len of addr_list: 104\n"
          ]
        },
        {
          "output_type": "stream",
          "name": "stderr",
          "text": [
            "100%|██████████| 6/6 [00:00<00:00, 193.22it/s]\n"
          ]
        },
        {
          "output_type": "stream",
          "name": "stdout",
          "text": [
            "Time taken to read the input file data is 0.29027795791625977\n",
            "Total details in input dict is: 569\n"
          ]
        },
        {
          "output_type": "stream",
          "name": "stderr",
          "text": [
            "100%|██████████| 6/6 [00:00<00:00, 302.46it/s]\n"
          ]
        },
        {
          "output_type": "stream",
          "name": "stdout",
          "text": [
            "Time taken to read the output file data is 0.18340706825256348\n",
            "Total details in output dict is: 569\n",
            "Total details in linked dict is: 569\n"
          ]
        },
        {
          "output_type": "stream",
          "name": "stderr",
          "text": [
            "100%|██████████| 569/569 [00:00<00:00, 28408.37it/s]\n"
          ]
        },
        {
          "output_type": "stream",
          "name": "stdout",
          "text": [
            "StellarDiGraph: Directed multigraph\n",
            " Nodes: 472, Edges: 553\n",
            "\n",
            " Node types:\n",
            "  transaction: [357]\n",
            "    Features: none\n",
            "    Edge types: transaction-default->address\n",
            "  address: [115]\n",
            "    Features: none\n",
            "    Edge types: address-default->transaction\n",
            "\n",
            " Edge types:\n",
            "    transaction-default->address: [335]\n",
            "        Weights: range=[1e+06, 1.9e+12], mean=5.36747e+10, std=2.05717e+11\n",
            "        Features: none\n",
            "    address-default->transaction: [218]\n",
            "        Weights: range=[1e+06, 1.9e+12], mean=7.40351e+10, std=2.49799e+11\n",
            "        Features: none\n",
            "len of addr_list: 115\n"
          ]
        },
        {
          "output_type": "stream",
          "name": "stderr",
          "text": [
            "100%|██████████| 6/6 [00:00<00:00, 565.17it/s]\n"
          ]
        },
        {
          "output_type": "stream",
          "name": "stdout",
          "text": [
            "Time taken to read the input file data is 0.31973814964294434\n",
            "Total details in input dict is: 611\n"
          ]
        },
        {
          "output_type": "stream",
          "name": "stderr",
          "text": [
            "100%|██████████| 6/6 [00:00<00:00, 487.94it/s]\n"
          ]
        },
        {
          "output_type": "stream",
          "name": "stdout",
          "text": [
            "Time taken to read the output file data is 0.21358537673950195\n",
            "Total details in output dict is: 611\n",
            "Total details in linked dict is: 611\n"
          ]
        },
        {
          "output_type": "stream",
          "name": "stderr",
          "text": [
            "100%|██████████| 611/611 [00:00<00:00, 31392.41it/s]\n"
          ]
        },
        {
          "output_type": "stream",
          "name": "stdout",
          "text": [
            "StellarDiGraph: Directed multigraph\n",
            " Nodes: 530, Edges: 618\n",
            "\n",
            " Node types:\n",
            "  transaction: [396]\n",
            "    Features: none\n",
            "    Edge types: transaction-default->address\n",
            "  address: [134]\n",
            "    Features: none\n",
            "    Edge types: address-default->transaction\n",
            "\n",
            " Edge types:\n",
            "    transaction-default->address: [372]\n",
            "        Weights: range=[1e+06, 1.9e+12], mean=5.08214e+10, std=1.96603e+11\n",
            "        Features: none\n",
            "    address-default->transaction: [246]\n",
            "        Weights: range=[1e+06, 1.9e+12], mean=6.91019e+10, std=2.36999e+11\n",
            "        Features: none\n",
            "len of addr_list: 134\n"
          ]
        },
        {
          "output_type": "stream",
          "name": "stderr",
          "text": [
            "100%|██████████| 6/6 [00:00<00:00, 208.36it/s]\n"
          ]
        },
        {
          "output_type": "stream",
          "name": "stdout",
          "text": [
            "Time taken to read the input file data is 0.26009202003479004\n",
            "Total details in input dict is: 655\n"
          ]
        },
        {
          "output_type": "stream",
          "name": "stderr",
          "text": [
            "100%|██████████| 6/6 [00:00<00:00, 404.88it/s]\n"
          ]
        },
        {
          "output_type": "stream",
          "name": "stdout",
          "text": [
            "Time taken to read the output file data is 0.17786645889282227\n",
            "Total details in output dict is: 655\n",
            "Total details in linked dict is: 655\n"
          ]
        },
        {
          "output_type": "stream",
          "name": "stderr",
          "text": [
            "100%|██████████| 655/655 [00:00<00:00, 49791.92it/s]\n"
          ]
        },
        {
          "output_type": "stream",
          "name": "stdout",
          "text": [
            "StellarDiGraph: Directed multigraph\n",
            " Nodes: 582, Edges: 699\n",
            "\n",
            " Node types:\n",
            "  transaction: [441]\n",
            "    Features: none\n",
            "    Edge types: transaction-default->address\n",
            "  address: [141]\n",
            "    Features: none\n",
            "    Edge types: address-default->transaction\n",
            "\n",
            " Edge types:\n",
            "    transaction-default->address: [427]\n",
            "        Weights: range=[1e+06, 1.9e+12], mean=4.95647e+10, std=1.89219e+11\n",
            "        Features: none\n",
            "    address-default->transaction: [272]\n",
            "        Weights: range=[1e+06, 1.9e+12], mean=6.86657e+10, std=2.32089e+11\n",
            "        Features: none\n",
            "len of addr_list: 141\n"
          ]
        },
        {
          "output_type": "stream",
          "name": "stderr",
          "text": [
            "100%|██████████| 6/6 [00:00<00:00, 254.38it/s]\n"
          ]
        },
        {
          "output_type": "stream",
          "name": "stdout",
          "text": [
            "Time taken to read the input file data is 0.1738901138305664\n",
            "Total details in input dict is: 675\n"
          ]
        },
        {
          "output_type": "stream",
          "name": "stderr",
          "text": [
            "100%|██████████| 6/6 [00:00<00:00, 303.77it/s]\n"
          ]
        },
        {
          "output_type": "stream",
          "name": "stdout",
          "text": [
            "Time taken to read the output file data is 0.21867036819458008\n",
            "Total details in output dict is: 675\n",
            "Total details in linked dict is: 675\n"
          ]
        },
        {
          "output_type": "stream",
          "name": "stderr",
          "text": [
            "100%|██████████| 675/675 [00:00<00:00, 46788.99it/s]\n"
          ]
        },
        {
          "output_type": "stream",
          "name": "stdout",
          "text": [
            "StellarDiGraph: Directed multigraph\n",
            " Nodes: 588, Edges: 705\n",
            "\n",
            " Node types:\n",
            "  transaction: [444]\n",
            "    Features: none\n",
            "    Edge types: transaction-default->address\n",
            "  address: [144]\n",
            "    Features: none\n",
            "    Edge types: address-default->transaction\n",
            "\n",
            " Edge types:\n",
            "    transaction-default->address: [430]\n",
            "        Weights: range=[1e+06, 1.9e+12], mean=4.93608e+10, std=1.88587e+11\n",
            "        Features: none\n",
            "    address-default->transaction: [275]\n",
            "        Weights: range=[1e+06, 1.9e+12], mean=6.81384e+10, std=2.30889e+11\n",
            "        Features: none\n",
            "len of addr_list: 144\n"
          ]
        },
        {
          "output_type": "stream",
          "name": "stderr",
          "text": [
            "100%|██████████| 6/6 [00:00<00:00, 647.02it/s]\n"
          ]
        },
        {
          "output_type": "stream",
          "name": "stdout",
          "text": [
            "Time taken to read the input file data is 0.24708223342895508\n",
            "Total details in input dict is: 718\n"
          ]
        },
        {
          "output_type": "stream",
          "name": "stderr",
          "text": [
            "100%|██████████| 6/6 [00:00<00:00, 402.56it/s]\n"
          ]
        },
        {
          "output_type": "stream",
          "name": "stdout",
          "text": [
            "Time taken to read the output file data is 0.20110774040222168\n",
            "Total details in output dict is: 718\n",
            "Total details in linked dict is: 718\n"
          ]
        },
        {
          "output_type": "stream",
          "name": "stderr",
          "text": [
            "100%|██████████| 718/718 [00:00<00:00, 43297.44it/s]\n"
          ]
        },
        {
          "output_type": "stream",
          "name": "stdout",
          "text": [
            "StellarDiGraph: Directed multigraph\n",
            " Nodes: 635, Edges: 767\n",
            "\n",
            " Node types:\n",
            "  transaction: [477]\n",
            "    Features: none\n",
            "    Edge types: transaction-default->address\n",
            "  address: [158]\n",
            "    Features: none\n",
            "    Edge types: address-default->transaction\n",
            "\n",
            " Edge types:\n",
            "    transaction-default->address: [462]\n",
            "        Weights: range=[1e+06, 1.9e+12], mean=4.64503e+10, std=1.82273e+11\n",
            "        Features: none\n",
            "    address-default->transaction: [305]\n",
            "        Weights: range=[1e+06, 1.9e+12], mean=6.21408e+10, std=2.19998e+11\n",
            "        Features: none\n",
            "len of addr_list: 158\n"
          ]
        },
        {
          "output_type": "stream",
          "name": "stderr",
          "text": [
            "100%|██████████| 6/6 [00:00<00:00, 342.36it/s]\n"
          ]
        },
        {
          "output_type": "stream",
          "name": "stdout",
          "text": [
            "Time taken to read the input file data is 0.23814725875854492\n",
            "Total details in input dict is: 792\n"
          ]
        },
        {
          "output_type": "stream",
          "name": "stderr",
          "text": [
            "100%|██████████| 6/6 [00:00<00:00, 360.02it/s]\n"
          ]
        },
        {
          "output_type": "stream",
          "name": "stdout",
          "text": [
            "Time taken to read the output file data is 0.1680741310119629\n",
            "Total details in output dict is: 792\n",
            "Total details in linked dict is: 792\n"
          ]
        },
        {
          "output_type": "stream",
          "name": "stderr",
          "text": [
            "100%|██████████| 792/792 [00:00<00:00, 25408.75it/s]\n"
          ]
        },
        {
          "output_type": "stream",
          "name": "stdout",
          "text": [
            "StellarDiGraph: Directed multigraph\n",
            " Nodes: 716, Edges: 880\n",
            "\n",
            " Node types:\n",
            "  transaction: [534]\n",
            "    Features: none\n",
            "    Edge types: transaction-default->address\n",
            "  address: [182]\n",
            "    Features: none\n",
            "    Edge types: address-default->transaction\n",
            "\n",
            " Edge types:\n",
            "    transaction-default->address: [520]\n",
            "        Weights: range=[1e+06, 1.9e+12], mean=5.48415e+10, std=1.82447e+11\n",
            "        Features: none\n",
            "    address-default->transaction: [360]\n",
            "        Weights: range=[1e+06, 1.9e+12], mean=7.20967e+10, std=2.14678e+11\n",
            "        Features: none\n",
            "len of addr_list: 182\n"
          ]
        },
        {
          "output_type": "stream",
          "name": "stderr",
          "text": [
            "100%|██████████| 6/6 [00:00<00:00, 315.04it/s]\n"
          ]
        },
        {
          "output_type": "stream",
          "name": "stdout",
          "text": [
            "Time taken to read the input file data is 0.21488714218139648\n",
            "Total details in input dict is: 824\n"
          ]
        },
        {
          "output_type": "stream",
          "name": "stderr",
          "text": [
            "100%|██████████| 6/6 [00:00<00:00, 438.54it/s]\n"
          ]
        },
        {
          "output_type": "stream",
          "name": "stdout",
          "text": [
            "Time taken to read the output file data is 0.4727013111114502\n",
            "Total details in output dict is: 824\n",
            "Total details in linked dict is: 824\n"
          ]
        },
        {
          "output_type": "stream",
          "name": "stderr",
          "text": [
            "100%|██████████| 824/824 [00:00<00:00, 44007.77it/s]\n"
          ]
        },
        {
          "output_type": "stream",
          "name": "stdout",
          "text": [
            "StellarDiGraph: Directed multigraph\n",
            " Nodes: 745, Edges: 926\n",
            "\n",
            " Node types:\n",
            "  transaction: [556]\n",
            "    Features: none\n",
            "    Edge types: transaction-default->address\n",
            "  address: [189]\n",
            "    Features: none\n",
            "    Edge types: address-default->transaction\n",
            "\n",
            " Edge types:\n",
            "    transaction-default->address: [544]\n",
            "        Weights: range=[1e+06, 1.9e+12], mean=5.2985e+10, std=1.78735e+11\n",
            "        Features: none\n",
            "    address-default->transaction: [382]\n",
            "        Weights: range=[1e+06, 1.9e+12], mean=6.87201e+10, std=2.09026e+11\n",
            "        Features: none\n",
            "len of addr_list: 189\n"
          ]
        },
        {
          "output_type": "stream",
          "name": "stderr",
          "text": [
            "100%|██████████| 6/6 [00:00<00:00, 466.29it/s]\n"
          ]
        },
        {
          "output_type": "stream",
          "name": "stdout",
          "text": [
            "Time taken to read the input file data is 0.8729522228240967\n",
            "Total details in input dict is: 853\n"
          ]
        },
        {
          "output_type": "stream",
          "name": "stderr",
          "text": [
            "100%|██████████| 6/6 [00:00<00:00, 271.32it/s]\n"
          ]
        },
        {
          "output_type": "stream",
          "name": "stdout",
          "text": [
            "Time taken to read the output file data is 1.1174187660217285\n",
            "Total details in output dict is: 853\n",
            "Total details in linked dict is: 853\n"
          ]
        },
        {
          "output_type": "stream",
          "name": "stderr",
          "text": [
            "100%|██████████| 853/853 [00:00<00:00, 27084.81it/s]\n"
          ]
        },
        {
          "output_type": "stream",
          "name": "stdout",
          "text": [
            "StellarDiGraph: Directed multigraph\n",
            " Nodes: 774, Edges: 965\n",
            "\n",
            " Node types:\n",
            "  transaction: [580]\n",
            "    Features: none\n",
            "    Edge types: transaction-default->address\n",
            "  address: [194]\n",
            "    Features: none\n",
            "    Edge types: address-default->transaction\n",
            "\n",
            " Edge types:\n",
            "    transaction-default->address: [569]\n",
            "        Weights: range=[1e+06, 1.9e+12], mean=5.08579e+10, std=1.75042e+11\n",
            "        Features: none\n",
            "    address-default->transaction: [396]\n",
            "        Weights: range=[1e+06, 1.9e+12], mean=6.63772e+10, std=2.05655e+11\n",
            "        Features: none\n",
            "len of addr_list: 194\n"
          ]
        },
        {
          "output_type": "stream",
          "name": "stderr",
          "text": [
            "100%|██████████| 6/6 [00:00<00:00, 319.45it/s]\n"
          ]
        },
        {
          "output_type": "stream",
          "name": "stdout",
          "text": [
            "Time taken to read the input file data is 0.4268310070037842\n",
            "Total details in input dict is: 3959\n"
          ]
        },
        {
          "output_type": "stream",
          "name": "stderr",
          "text": [
            "100%|██████████| 6/6 [00:00<00:00, 290.05it/s]\n"
          ]
        },
        {
          "output_type": "stream",
          "name": "stdout",
          "text": [
            "Time taken to read the output file data is 0.45610642433166504\n",
            "Total details in output dict is: 3959\n",
            "Total details in linked dict is: 3959\n"
          ]
        },
        {
          "output_type": "stream",
          "name": "stderr",
          "text": [
            "100%|██████████| 3959/3959 [00:00<00:00, 12374.73it/s]\n"
          ]
        },
        {
          "output_type": "stream",
          "name": "stdout",
          "text": [
            "StellarDiGraph: Directed multigraph\n",
            " Nodes: 5461, Edges: 7347\n",
            "\n",
            " Node types:\n",
            "  transaction: [3677]\n",
            "    Features: none\n",
            "    Edge types: transaction-default->address\n",
            "  address: [1784]\n",
            "    Features: none\n",
            "    Edge types: address-default->transaction\n",
            "\n",
            " Edge types:\n",
            "    transaction-default->address: [3796]\n",
            "        Weights: range=[1e+06, 1.9e+12], mean=8.45633e+09, std=7.00706e+10\n",
            "        Features: none\n",
            "    address-default->transaction: [3551]\n",
            "        Weights: range=[1e+06, 1.9e+12], mean=8.25063e+09, std=7.16726e+10\n",
            "        Features: none\n",
            "len of addr_list: 1784\n"
          ]
        },
        {
          "output_type": "stream",
          "name": "stderr",
          "text": [
            "100%|██████████| 6/6 [00:00<00:00, 162.95it/s]\n"
          ]
        },
        {
          "output_type": "stream",
          "name": "stdout",
          "text": [
            "Time taken to read the input file data is 0.25045061111450195\n",
            "Total details in input dict is: 4003\n"
          ]
        },
        {
          "output_type": "stream",
          "name": "stderr",
          "text": [
            "100%|██████████| 6/6 [00:00<00:00, 525.35it/s]\n"
          ]
        },
        {
          "output_type": "stream",
          "name": "stdout",
          "text": [
            "Time taken to read the output file data is 0.19013094902038574\n",
            "Total details in output dict is: 4003\n",
            "Total details in linked dict is: 4003\n"
          ]
        },
        {
          "output_type": "stream",
          "name": "stderr",
          "text": [
            "100%|██████████| 4003/4003 [00:00<00:00, 52109.87it/s]"
          ]
        },
        {
          "output_type": "stream",
          "name": "stdout",
          "text": [
            "StellarDiGraph: Directed multigraph\n",
            " Nodes: 5504, Edges: 7407\n",
            "\n",
            " Node types:\n",
            "  transaction: [3706]\n",
            "    Features: none\n",
            "    Edge types: transaction-default->address\n",
            "  address: [1798]\n",
            "    Features: none\n",
            "    Edge types: address-default->transaction\n",
            "\n",
            " Edge types:\n",
            "    transaction-default->address: [3828]\n",
            "        Weights: range=[1e+06, 1.9e+12], mean=8.66573e+09, std=7.09606e+10\n",
            "        Features: none\n",
            "    address-default->transaction: [3579]\n",
            "        Weights: range=[1e+06, 1.9e+12], mean=8.47588e+09, std=7.26292e+10\n",
            "        Features: none\n",
            "len of addr_list:"
          ]
        },
        {
          "output_type": "stream",
          "name": "stderr",
          "text": [
            "\n"
          ]
        },
        {
          "output_type": "stream",
          "name": "stdout",
          "text": [
            " 1798\n"
          ]
        },
        {
          "output_type": "stream",
          "name": "stderr",
          "text": [
            "100%|██████████| 6/6 [00:00<00:00, 333.72it/s]\n"
          ]
        },
        {
          "output_type": "stream",
          "name": "stdout",
          "text": [
            "Time taken to read the input file data is 0.3452432155609131\n",
            "Total details in input dict is: 4041\n"
          ]
        },
        {
          "output_type": "stream",
          "name": "stderr",
          "text": [
            "100%|██████████| 6/6 [00:00<00:00, 351.00it/s]\n"
          ]
        },
        {
          "output_type": "stream",
          "name": "stdout",
          "text": [
            "Time taken to read the output file data is 0.16953587532043457\n",
            "Total details in output dict is: 4041\n",
            "Total details in linked dict is: 4041\n"
          ]
        },
        {
          "output_type": "stream",
          "name": "stderr",
          "text": [
            "100%|██████████| 4041/4041 [00:00<00:00, 33785.79it/s]\n"
          ]
        },
        {
          "output_type": "stream",
          "name": "stdout",
          "text": [
            "StellarDiGraph: Directed multigraph\n",
            " Nodes: 5531, Edges: 7442\n",
            "\n",
            " Node types:\n",
            "  transaction: [3731]\n",
            "    Features: none\n",
            "    Edge types: transaction-default->address\n",
            "  address: [1800]\n",
            "    Features: none\n",
            "    Edge types: address-default->transaction\n",
            "\n",
            " Edge types:\n",
            "    transaction-default->address: [3851]\n",
            "        Weights: range=[1e+06, 1.9e+12], mean=8.73303e+09, std=7.09221e+10\n",
            "        Features: none\n",
            "    address-default->transaction: [3591]\n",
            "        Weights: range=[1e+06, 1.9e+12], mean=8.54878e+09, std=7.26885e+10\n",
            "        Features: none\n",
            "len of addr_list: 1800\n"
          ]
        },
        {
          "output_type": "stream",
          "name": "stderr",
          "text": [
            "100%|██████████| 6/6 [00:00<00:00, 181.38it/s]\n"
          ]
        },
        {
          "output_type": "stream",
          "name": "stdout",
          "text": [
            "Time taken to read the input file data is 0.199493408203125\n",
            "Total details in input dict is: 4073\n"
          ]
        },
        {
          "output_type": "stream",
          "name": "stderr",
          "text": [
            "100%|██████████| 6/6 [00:00<00:00, 375.08it/s]\n"
          ]
        },
        {
          "output_type": "stream",
          "name": "stdout",
          "text": [
            "Time taken to read the output file data is 0.1889336109161377\n",
            "Total details in output dict is: 4073\n",
            "Total details in linked dict is: 4073\n"
          ]
        },
        {
          "output_type": "stream",
          "name": "stderr",
          "text": [
            "100%|██████████| 4073/4073 [00:00<00:00, 31091.54it/s]\n"
          ]
        },
        {
          "output_type": "stream",
          "name": "stdout",
          "text": [
            "StellarDiGraph: Directed multigraph\n",
            " Nodes: 5551, Edges: 7467\n",
            "\n",
            " Node types:\n",
            "  transaction: [3747]\n",
            "    Features: none\n",
            "    Edge types: transaction-default->address\n",
            "  address: [1804]\n",
            "    Features: none\n",
            "    Edge types: address-default->transaction\n",
            "\n",
            " Edge types:\n",
            "    transaction-default->address: [3866]\n",
            "        Weights: range=[1e+06, 1.9e+12], mean=8.72835e+09, std=7.07862e+10\n",
            "        Features: none\n",
            "    address-default->transaction: [3601]\n",
            "        Weights: range=[1e+06, 1.9e+12], mean=8.55081e+09, std=7.25892e+10\n",
            "        Features: none\n",
            "len of addr_list: 1804\n"
          ]
        },
        {
          "output_type": "stream",
          "name": "stderr",
          "text": [
            "100%|██████████| 6/6 [00:00<00:00, 47.67it/s]\n"
          ]
        },
        {
          "output_type": "stream",
          "name": "stdout",
          "text": [
            "Time taken to read the input file data is 0.29983067512512207\n",
            "Total details in input dict is: 4113\n"
          ]
        },
        {
          "output_type": "stream",
          "name": "stderr",
          "text": [
            "100%|██████████| 6/6 [00:00<00:00, 267.42it/s]\n"
          ]
        },
        {
          "output_type": "stream",
          "name": "stdout",
          "text": [
            "Time taken to read the output file data is 0.16874051094055176\n",
            "Total details in output dict is: 4113\n",
            "Total details in linked dict is: 4113\n"
          ]
        },
        {
          "output_type": "stream",
          "name": "stderr",
          "text": [
            "100%|██████████| 4113/4113 [00:00<00:00, 48886.10it/s]"
          ]
        },
        {
          "output_type": "stream",
          "name": "stdout",
          "text": [
            "StellarDiGraph: Directed multigraph\n",
            " Nodes: 5584, Edges: 7515\n",
            "\n",
            " Node types:\n",
            "  transaction: [3770]\n",
            "    Features: none\n",
            "    Edge types: transaction-default->address\n",
            "  address: [1814]\n",
            "    Features: none\n",
            "    Edge types: address-default->transaction\n",
            "\n",
            " Edge types:\n",
            "    transaction-default->address: [3890]\n",
            "        Weights: range=[1e+06, 1.9e+12], mean=9.18203e+09, std=7.25201e+10\n",
            "        Features: none\n",
            "    address-default->transaction: [3625]\n",
            "        Weights: range=[1e+06, 1.9e+12], mean=9.03882e+09, std=7.43928e+10\n",
            "        Features: none\n",
            "len of addr_list: 1814\n"
          ]
        },
        {
          "output_type": "stream",
          "name": "stderr",
          "text": [
            "\n",
            "100%|██████████| 6/6 [00:00<00:00, 179.74it/s]\n"
          ]
        },
        {
          "output_type": "stream",
          "name": "stdout",
          "text": [
            "Time taken to read the input file data is 0.21678662300109863\n",
            "Total details in input dict is: 4163\n"
          ]
        },
        {
          "output_type": "stream",
          "name": "stderr",
          "text": [
            "100%|██████████| 6/6 [00:00<00:00, 706.98it/s]\n"
          ]
        },
        {
          "output_type": "stream",
          "name": "stdout",
          "text": [
            "Time taken to read the output file data is 0.21203923225402832\n",
            "Total details in output dict is: 4163\n",
            "Total details in linked dict is: 4163\n"
          ]
        },
        {
          "output_type": "stream",
          "name": "stderr",
          "text": [
            "100%|██████████| 4163/4163 [00:00<00:00, 50881.46it/s]\n"
          ]
        },
        {
          "output_type": "stream",
          "name": "stdout",
          "text": [
            "StellarDiGraph: Directed multigraph\n",
            " Nodes: 5627, Edges: 7595\n",
            "\n",
            " Node types:\n",
            "  transaction: [3811]\n",
            "    Features: none\n",
            "    Edge types: transaction-default->address\n",
            "  address: [1816]\n",
            "    Features: none\n",
            "    Edge types: address-default->transaction\n",
            "\n",
            " Edge types:\n",
            "    transaction-default->address: [3931]\n",
            "        Weights: range=[1e+06, 1.9e+12], mean=9.14233e+09, std=7.21428e+10\n",
            "        Features: none\n",
            "    address-default->transaction: [3664]\n",
            "        Weights: range=[1e+06, 1.9e+12], mean=9.00004e+09, std=7.39976e+10\n",
            "        Features: none\n",
            "len of addr_list: 1816\n"
          ]
        },
        {
          "output_type": "stream",
          "name": "stderr",
          "text": [
            "100%|██████████| 6/6 [00:00<00:00, 55.77it/s]\n"
          ]
        },
        {
          "output_type": "stream",
          "name": "stdout",
          "text": [
            "Time taken to read the input file data is 0.2510409355163574\n",
            "Total details in input dict is: 4197\n"
          ]
        },
        {
          "output_type": "stream",
          "name": "stderr",
          "text": [
            "100%|██████████| 6/6 [00:00<00:00, 135.48it/s]\n"
          ]
        },
        {
          "output_type": "stream",
          "name": "stdout",
          "text": [
            "Time taken to read the output file data is 0.2177753448486328\n",
            "Total details in output dict is: 4197\n",
            "Total details in linked dict is: 4197\n"
          ]
        },
        {
          "output_type": "stream",
          "name": "stderr",
          "text": [
            "100%|██████████| 4197/4197 [00:00<00:00, 13286.93it/s]\n"
          ]
        },
        {
          "output_type": "stream",
          "name": "stdout",
          "text": [
            "StellarDiGraph: Directed multigraph\n",
            " Nodes: 5681, Edges: 7694\n",
            "\n",
            " Node types:\n",
            "  transaction: [3852]\n",
            "    Features: none\n",
            "    Edge types: transaction-default->address\n",
            "  address: [1829]\n",
            "    Features: none\n",
            "    Edge types: address-default->transaction\n",
            "\n",
            " Edge types:\n",
            "    transaction-default->address: [3998]\n",
            "        Weights: range=[1e+06, 1.9e+12], mean=9.18254e+09, std=7.15918e+10\n",
            "        Features: none\n",
            "    address-default->transaction: [3696]\n",
            "        Weights: range=[1e+06, 1.9e+12], mean=8.98343e+09, std=7.36874e+10\n",
            "        Features: none\n",
            "len of addr_list: 1829\n"
          ]
        },
        {
          "output_type": "stream",
          "name": "stderr",
          "text": [
            "100%|██████████| 6/6 [00:00<00:00, 256.68it/s]\n"
          ]
        },
        {
          "output_type": "stream",
          "name": "stdout",
          "text": [
            "Time taken to read the input file data is 0.2599327564239502\n",
            "Total details in input dict is: 4244\n"
          ]
        },
        {
          "output_type": "stream",
          "name": "stderr",
          "text": [
            "100%|██████████| 6/6 [00:00<00:00, 508.85it/s]\n"
          ]
        },
        {
          "output_type": "stream",
          "name": "stdout",
          "text": [
            "Time taken to read the output file data is 0.22236895561218262\n",
            "Total details in output dict is: 4244\n",
            "Total details in linked dict is: 4244\n"
          ]
        },
        {
          "output_type": "stream",
          "name": "stderr",
          "text": [
            "100%|██████████| 4244/4244 [00:00<00:00, 32555.07it/s]\n"
          ]
        },
        {
          "output_type": "stream",
          "name": "stdout",
          "text": [
            "StellarDiGraph: Directed multigraph\n",
            " Nodes: 5712, Edges: 7741\n",
            "\n",
            " Node types:\n",
            "  transaction: [3875]\n",
            "    Features: none\n",
            "    Edge types: transaction-default->address\n",
            "  address: [1837]\n",
            "    Features: none\n",
            "    Edge types: address-default->transaction\n",
            "\n",
            " Edge types:\n",
            "    transaction-default->address: [4024]\n",
            "        Weights: range=[1e+06, 1.9e+12], mean=9.32688e+09, std=7.19459e+10\n",
            "        Features: none\n",
            "    address-default->transaction: [3717]\n",
            "        Weights: range=[1e+06, 1.9e+12], mean=9.14497e+09, std=7.4095e+10\n",
            "        Features: none\n",
            "len of addr_list: 1837\n"
          ]
        },
        {
          "output_type": "stream",
          "name": "stderr",
          "text": [
            "100%|██████████| 6/6 [00:00<00:00, 368.57it/s]\n"
          ]
        },
        {
          "output_type": "stream",
          "name": "stdout",
          "text": [
            "Time taken to read the input file data is 0.22502374649047852\n",
            "Total details in input dict is: 4291\n"
          ]
        },
        {
          "output_type": "stream",
          "name": "stderr",
          "text": [
            "100%|██████████| 6/6 [00:00<00:00, 281.90it/s]\n"
          ]
        },
        {
          "output_type": "stream",
          "name": "stdout",
          "text": [
            "Time taken to read the output file data is 0.2056293487548828\n",
            "Total details in output dict is: 4291\n",
            "Total details in linked dict is: 4291\n"
          ]
        },
        {
          "output_type": "stream",
          "name": "stderr",
          "text": [
            "100%|██████████| 4291/4291 [00:00<00:00, 37750.46it/s]\n"
          ]
        },
        {
          "output_type": "stream",
          "name": "stdout",
          "text": [
            "StellarDiGraph: Directed multigraph\n",
            " Nodes: 5765, Edges: 7799\n",
            "\n",
            " Node types:\n",
            "  transaction: [3916]\n",
            "    Features: none\n",
            "    Edge types: transaction-default->address\n",
            "  address: [1849]\n",
            "    Features: none\n",
            "    Edge types: address-default->transaction\n",
            "\n",
            " Edge types:\n",
            "    transaction-default->address: [4060]\n",
            "        Weights: range=[1e+06, 1.9e+12], mean=9.45712e+09, std=7.18674e+10\n",
            "        Features: none\n",
            "    address-default->transaction: [3739]\n",
            "        Weights: range=[1e+06, 1.9e+12], mean=9.19387e+09, std=7.39245e+10\n",
            "        Features: none\n",
            "len of addr_list: 1849\n"
          ]
        },
        {
          "output_type": "stream",
          "name": "stderr",
          "text": [
            "100%|██████████| 6/6 [00:00<00:00, 170.68it/s]\n"
          ]
        },
        {
          "output_type": "stream",
          "name": "stdout",
          "text": [
            "Time taken to read the input file data is 0.2599363327026367\n",
            "Total details in input dict is: 4344\n"
          ]
        },
        {
          "output_type": "stream",
          "name": "stderr",
          "text": [
            "100%|██████████| 6/6 [00:00<00:00, 341.01it/s]\n"
          ]
        },
        {
          "output_type": "stream",
          "name": "stdout",
          "text": [
            "Time taken to read the output file data is 0.2173459529876709\n",
            "Total details in output dict is: 4344\n",
            "Total details in linked dict is: 4344\n"
          ]
        },
        {
          "output_type": "stream",
          "name": "stderr",
          "text": [
            "100%|██████████| 4344/4344 [00:00<00:00, 40849.31it/s]\n"
          ]
        },
        {
          "output_type": "stream",
          "name": "stdout",
          "text": [
            "StellarDiGraph: Directed multigraph\n",
            " Nodes: 5815, Edges: 7872\n",
            "\n",
            " Node types:\n",
            "  transaction: [3953]\n",
            "    Features: none\n",
            "    Edge types: transaction-default->address\n",
            "  address: [1862]\n",
            "    Features: none\n",
            "    Edge types: address-default->transaction\n",
            "\n",
            " Edge types:\n",
            "    transaction-default->address: [4098]\n",
            "        Weights: range=[1e+06, 1.9e+12], mean=9.5142e+09, std=7.19462e+10\n",
            "        Features: none\n",
            "    address-default->transaction: [3774]\n",
            "        Weights: range=[1e+06, 1.9e+12], mean=9.26184e+09, std=7.40167e+10\n",
            "        Features: none\n",
            "len of addr_list: 1862\n"
          ]
        },
        {
          "output_type": "stream",
          "name": "stderr",
          "text": [
            "100%|██████████| 6/6 [00:00<00:00, 78.75it/s]\n"
          ]
        },
        {
          "output_type": "stream",
          "name": "stdout",
          "text": [
            "Time taken to read the input file data is 0.2732267379760742\n",
            "Total details in input dict is: 4391\n"
          ]
        },
        {
          "output_type": "stream",
          "name": "stderr",
          "text": [
            "100%|██████████| 6/6 [00:00<00:00, 386.10it/s]"
          ]
        },
        {
          "output_type": "stream",
          "name": "stdout",
          "text": [
            "Time taken to read the output file data is 0.1945955753326416\n",
            "Total details in output dict is: 4391\n"
          ]
        },
        {
          "output_type": "stream",
          "name": "stderr",
          "text": [
            "\n"
          ]
        },
        {
          "output_type": "stream",
          "name": "stdout",
          "text": [
            "Total details in linked dict is: 4391\n"
          ]
        },
        {
          "output_type": "stream",
          "name": "stderr",
          "text": [
            "100%|██████████| 4391/4391 [00:00<00:00, 52929.95it/s]\n"
          ]
        },
        {
          "output_type": "stream",
          "name": "stdout",
          "text": [
            "StellarDiGraph: Directed multigraph\n",
            " Nodes: 5862, Edges: 7934\n",
            "\n",
            " Node types:\n",
            "  transaction: [3987]\n",
            "    Features: none\n",
            "    Edge types: transaction-default->address\n",
            "  address: [1875]\n",
            "    Features: none\n",
            "    Edge types: address-default->transaction\n",
            "\n",
            " Edge types:\n",
            "    transaction-default->address: [4133]\n",
            "        Weights: range=[1e+06, 1.9e+12], mean=9.51402e+09, std=7.16634e+10\n",
            "        Features: none\n",
            "    address-default->transaction: [3801]\n",
            "        Weights: range=[1e+06, 1.9e+12], mean=9.26984e+09, std=7.37769e+10\n",
            "        Features: none\n",
            "len of addr_list: 1875\n"
          ]
        },
        {
          "output_type": "stream",
          "name": "stderr",
          "text": [
            "100%|██████████| 6/6 [00:00<00:00, 422.86it/s]\n"
          ]
        },
        {
          "output_type": "stream",
          "name": "stdout",
          "text": [
            "Time taken to read the input file data is 0.2030034065246582\n",
            "Total details in input dict is: 4424\n"
          ]
        },
        {
          "output_type": "stream",
          "name": "stderr",
          "text": [
            "100%|██████████| 6/6 [00:00<00:00, 434.15it/s]\n"
          ]
        },
        {
          "output_type": "stream",
          "name": "stdout",
          "text": [
            "Time taken to read the output file data is 0.20958948135375977\n",
            "Total details in output dict is: 4424\n",
            "Total details in linked dict is: 4424\n"
          ]
        },
        {
          "output_type": "stream",
          "name": "stderr",
          "text": [
            "100%|██████████| 4424/4424 [00:00<00:00, 43916.61it/s]\n"
          ]
        },
        {
          "output_type": "stream",
          "name": "stdout",
          "text": [
            "StellarDiGraph: Directed multigraph\n",
            " Nodes: 5882, Edges: 7963\n",
            "\n",
            " Node types:\n",
            "  transaction: [4004]\n",
            "    Features: none\n",
            "    Edge types: transaction-default->address\n",
            "  address: [1878]\n",
            "    Features: none\n",
            "    Edge types: address-default->transaction\n",
            "\n",
            " Edge types:\n",
            "    transaction-default->address: [4150]\n",
            "        Weights: range=[1e+06, 1.9e+12], mean=9.56e+09, std=7.15556e+10\n",
            "        Features: none\n",
            "    address-default->transaction: [3813]\n",
            "        Weights: range=[1e+06, 1.9e+12], mean=9.32656e+09, std=7.37021e+10\n",
            "        Features: none\n",
            "len of addr_list: 1878\n"
          ]
        },
        {
          "output_type": "stream",
          "name": "stderr",
          "text": [
            "100%|██████████| 6/6 [00:00<00:00, 331.53it/s]\n"
          ]
        },
        {
          "output_type": "stream",
          "name": "stdout",
          "text": [
            "Time taken to read the input file data is 0.23201751708984375\n",
            "Total details in input dict is: 4450\n"
          ]
        },
        {
          "output_type": "stream",
          "name": "stderr",
          "text": [
            "100%|██████████| 6/6 [00:00<00:00, 276.79it/s]\n"
          ]
        },
        {
          "output_type": "stream",
          "name": "stdout",
          "text": [
            "Time taken to read the output file data is 0.21137452125549316\n",
            "Total details in output dict is: 4450\n",
            "Total details in linked dict is: 4450\n"
          ]
        },
        {
          "output_type": "stream",
          "name": "stderr",
          "text": [
            "100%|██████████| 4450/4450 [00:00<00:00, 37373.18it/s]\n"
          ]
        },
        {
          "output_type": "stream",
          "name": "stdout",
          "text": [
            "StellarDiGraph: Directed multigraph\n",
            " Nodes: 5920, Edges: 8013\n",
            "\n",
            " Node types:\n",
            "  transaction: [4027]\n",
            "    Features: none\n",
            "    Edge types: transaction-default->address\n",
            "  address: [1893]\n",
            "    Features: none\n",
            "    Edge types: address-default->transaction\n",
            "\n",
            " Edge types:\n",
            "    transaction-default->address: [4176]\n",
            "        Weights: range=[1e+06, 2.3e+12], mean=1.09473e+10, std=8.19747e+10\n",
            "        Features: none\n",
            "    address-default->transaction: [3837]\n",
            "        Weights: range=[1e+06, 2.3e+12], mean=1.08416e+10, std=8.47007e+10\n",
            "        Features: none\n",
            "len of addr_list: 1893\n"
          ]
        },
        {
          "output_type": "stream",
          "name": "stderr",
          "text": [
            "100%|██████████| 6/6 [00:00<00:00, 397.97it/s]\n"
          ]
        },
        {
          "output_type": "stream",
          "name": "stdout",
          "text": [
            "Time taken to read the input file data is 0.24308180809020996\n",
            "Total details in input dict is: 4477\n"
          ]
        },
        {
          "output_type": "stream",
          "name": "stderr",
          "text": [
            "100%|██████████| 6/6 [00:00<00:00, 289.33it/s]\n"
          ]
        },
        {
          "output_type": "stream",
          "name": "stdout",
          "text": [
            "Time taken to read the output file data is 0.18792390823364258\n",
            "Total details in output dict is: 4477\n",
            "Total details in linked dict is: 4477\n"
          ]
        },
        {
          "output_type": "stream",
          "name": "stderr",
          "text": [
            "100%|██████████| 4477/4477 [00:00<00:00, 40765.16it/s]\n"
          ]
        },
        {
          "output_type": "stream",
          "name": "stdout",
          "text": [
            "StellarDiGraph: Directed multigraph\n",
            " Nodes: 5938, Edges: 8034\n",
            "\n",
            " Node types:\n",
            "  transaction: [4040]\n",
            "    Features: none\n",
            "    Edge types: transaction-default->address\n",
            "  address: [1898]\n",
            "    Features: none\n",
            "    Edge types: address-default->transaction\n",
            "\n",
            " Edge types:\n",
            "    transaction-default->address: [4189]\n",
            "        Weights: range=[1e+06, 2.3e+12], mean=1.09694e+10, std=8.189e+10\n",
            "        Features: none\n",
            "    address-default->transaction: [3845]\n",
            "        Weights: range=[1e+06, 2.3e+12], mean=1.08697e+10, std=8.46574e+10\n",
            "        Features: none\n",
            "len of addr_list: 1898\n"
          ]
        },
        {
          "output_type": "stream",
          "name": "stderr",
          "text": [
            "100%|██████████| 6/6 [00:00<00:00, 326.71it/s]\n"
          ]
        },
        {
          "output_type": "stream",
          "name": "stdout",
          "text": [
            "Time taken to read the input file data is 0.20303988456726074\n",
            "Total details in input dict is: 4502\n"
          ]
        },
        {
          "output_type": "stream",
          "name": "stderr",
          "text": [
            "100%|██████████| 6/6 [00:00<00:00, 454.37it/s]\n"
          ]
        },
        {
          "output_type": "stream",
          "name": "stdout",
          "text": [
            "Time taken to read the output file data is 0.21092700958251953\n",
            "Total details in output dict is: 4502\n",
            "Total details in linked dict is: 4502\n"
          ]
        },
        {
          "output_type": "stream",
          "name": "stderr",
          "text": [
            "100%|██████████| 4502/4502 [00:00<00:00, 43062.16it/s]\n"
          ]
        },
        {
          "output_type": "stream",
          "name": "stdout",
          "text": [
            "StellarDiGraph: Directed multigraph\n",
            " Nodes: 5946, Edges: 8045\n",
            "\n",
            " Node types:\n",
            "  transaction: [4048]\n",
            "    Features: none\n",
            "    Edge types: transaction-default->address\n",
            "  address: [1898]\n",
            "    Features: none\n",
            "    Edge types: address-default->transaction\n",
            "\n",
            " Edge types:\n",
            "    transaction-default->address: [4196]\n",
            "        Weights: range=[1e+06, 2.3e+12], mean=1.09618e+10, std=8.1822e+10\n",
            "        Features: none\n",
            "    address-default->transaction: [3849]\n",
            "        Weights: range=[1e+06, 2.3e+12], mean=1.08649e+10, std=8.46136e+10\n",
            "        Features: none\n",
            "len of addr_list: 1898\n"
          ]
        },
        {
          "output_type": "stream",
          "name": "stderr",
          "text": [
            "100%|██████████| 6/6 [00:00<00:00, 501.85it/s]\n"
          ]
        },
        {
          "output_type": "stream",
          "name": "stdout",
          "text": [
            "Time taken to read the input file data is 0.2506833076477051\n",
            "Total details in input dict is: 4531\n"
          ]
        },
        {
          "output_type": "stream",
          "name": "stderr",
          "text": [
            "100%|██████████| 6/6 [00:00<00:00, 236.32it/s]\n"
          ]
        },
        {
          "output_type": "stream",
          "name": "stdout",
          "text": [
            "Time taken to read the output file data is 0.2045423984527588\n",
            "Total details in output dict is: 4531\n",
            "Total details in linked dict is: 4531\n"
          ]
        },
        {
          "output_type": "stream",
          "name": "stderr",
          "text": [
            "100%|██████████| 4531/4531 [00:00<00:00, 41600.67it/s]\n"
          ]
        },
        {
          "output_type": "stream",
          "name": "stdout",
          "text": [
            "StellarDiGraph: Directed multigraph\n",
            " Nodes: 5981, Edges: 8081\n",
            "\n",
            " Node types:\n",
            "  transaction: [4079]\n",
            "    Features: none\n",
            "    Edge types: transaction-default->address\n",
            "  address: [1902]\n",
            "    Features: none\n",
            "    Edge types: address-default->transaction\n",
            "\n",
            " Edge types:\n",
            "    transaction-default->address: [4220]\n",
            "        Weights: range=[1e+06, 2.3e+12], mean=1.09789e+10, std=8.15949e+10\n",
            "        Features: none\n",
            "    address-default->transaction: [3861]\n",
            "        Weights: range=[1e+06, 2.3e+12], mean=1.08752e+10, std=8.44864e+10\n",
            "        Features: none\n",
            "len of addr_list: 1902\n"
          ]
        },
        {
          "output_type": "stream",
          "name": "stderr",
          "text": [
            "100%|██████████| 6/6 [00:00<00:00, 401.18it/s]\n"
          ]
        },
        {
          "output_type": "stream",
          "name": "stdout",
          "text": [
            "Time taken to read the input file data is 0.3743875026702881\n",
            "Total details in input dict is: 4572\n"
          ]
        },
        {
          "output_type": "stream",
          "name": "stderr",
          "text": [
            "100%|██████████| 6/6 [00:00<00:00, 337.69it/s]"
          ]
        },
        {
          "output_type": "stream",
          "name": "stdout",
          "text": [
            "Time taken to read the output file data is 0.19195127487182617\n",
            "Total details in output dict is: 4572\n",
            "Total details in linked dict is: 4572\n"
          ]
        },
        {
          "output_type": "stream",
          "name": "stderr",
          "text": [
            "\n",
            "100%|██████████| 4572/4572 [00:00<00:00, 29157.85it/s]\n"
          ]
        },
        {
          "output_type": "stream",
          "name": "stdout",
          "text": [
            "StellarDiGraph: Directed multigraph\n",
            " Nodes: 6035, Edges: 8155\n",
            "\n",
            " Node types:\n",
            "  transaction: [4125]\n",
            "    Features: none\n",
            "    Edge types: transaction-default->address\n",
            "  address: [1910]\n",
            "    Features: none\n",
            "    Edge types: address-default->transaction\n",
            "\n",
            " Edge types:\n",
            "    transaction-default->address: [4268]\n",
            "        Weights: range=[1e+06, 2.3e+12], mean=1.11108e+10, std=8.13461e+10\n",
            "        Features: none\n",
            "    address-default->transaction: [3887]\n",
            "        Weights: range=[1e+06, 2.3e+12], mean=1.09581e+10, std=8.4353e+10\n",
            "        Features: none\n",
            "len of addr_list: 1910\n"
          ]
        },
        {
          "output_type": "stream",
          "name": "stderr",
          "text": [
            "100%|██████████| 6/6 [00:00<00:00, 375.73it/s]\n"
          ]
        },
        {
          "output_type": "stream",
          "name": "stdout",
          "text": [
            "Time taken to read the input file data is 0.25945615768432617\n",
            "Total details in input dict is: 4597\n"
          ]
        },
        {
          "output_type": "stream",
          "name": "stderr",
          "text": [
            "100%|██████████| 6/6 [00:00<00:00, 181.73it/s]\n"
          ]
        },
        {
          "output_type": "stream",
          "name": "stdout",
          "text": [
            "Time taken to read the output file data is 0.4438362121582031\n",
            "Total details in output dict is: 4597\n",
            "Total details in linked dict is: 4597\n"
          ]
        },
        {
          "output_type": "stream",
          "name": "stderr",
          "text": [
            "100%|██████████| 4597/4597 [00:00<00:00, 15100.66it/s]\n"
          ]
        },
        {
          "output_type": "stream",
          "name": "stdout",
          "text": [
            "StellarDiGraph: Directed multigraph\n",
            " Nodes: 6088, Edges: 8237\n",
            "\n",
            " Node types:\n",
            "  transaction: [4167]\n",
            "    Features: none\n",
            "    Edge types: transaction-default->address\n",
            "  address: [1921]\n",
            "    Features: none\n",
            "    Edge types: address-default->transaction\n",
            "\n",
            " Edge types:\n",
            "    transaction-default->address: [4324]\n",
            "        Weights: range=[1e+06, 2.3e+12], mean=1.12689e+10, std=8.10098e+10\n",
            "        Features: none\n",
            "    address-default->transaction: [3913]\n",
            "        Weights: range=[1e+06, 2.3e+12], mean=1.11003e+10, std=8.42368e+10\n",
            "        Features: none\n",
            "len of addr_list: 1921\n"
          ]
        },
        {
          "output_type": "stream",
          "name": "stderr",
          "text": [
            "100%|██████████| 6/6 [00:00<00:00, 487.46it/s]\n"
          ]
        },
        {
          "output_type": "stream",
          "name": "stdout",
          "text": [
            "Time taken to read the input file data is 0.5580482482910156\n",
            "Total details in input dict is: 4625\n"
          ]
        },
        {
          "output_type": "stream",
          "name": "stderr",
          "text": [
            "100%|██████████| 6/6 [00:00<00:00, 194.89it/s]\n"
          ]
        },
        {
          "output_type": "stream",
          "name": "stdout",
          "text": [
            "Time taken to read the output file data is 1.2389070987701416\n",
            "Total details in output dict is: 4625\n",
            "Total details in linked dict is: 4625\n"
          ]
        },
        {
          "output_type": "stream",
          "name": "stderr",
          "text": [
            "100%|██████████| 4625/4625 [00:00<00:00, 34852.50it/s]\n"
          ]
        },
        {
          "output_type": "stream",
          "name": "stdout",
          "text": [
            "StellarDiGraph: Directed multigraph\n",
            " Nodes: 6104, Edges: 8255\n",
            "\n",
            " Node types:\n",
            "  transaction: [4182]\n",
            "    Features: none\n",
            "    Edge types: transaction-default->address\n",
            "  address: [1922]\n",
            "    Features: none\n",
            "    Edge types: address-default->transaction\n",
            "\n",
            " Edge types:\n",
            "    transaction-default->address: [4335]\n",
            "        Weights: range=[1e+06, 2.3e+12], mean=1.12923e+10, std=8.09178e+10\n",
            "        Features: none\n",
            "    address-default->transaction: [3920]\n",
            "        Weights: range=[1e+06, 2.3e+12], mean=1.11251e+10, std=8.4173e+10\n",
            "        Features: none\n",
            "len of addr_list: 1922\n"
          ]
        },
        {
          "output_type": "stream",
          "name": "stderr",
          "text": [
            "100%|██████████| 6/6 [00:00<00:00, 325.03it/s]\n"
          ]
        },
        {
          "output_type": "stream",
          "name": "stdout",
          "text": [
            "Time taken to read the input file data is 0.6712672710418701\n",
            "Total details in input dict is: 4651\n"
          ]
        },
        {
          "output_type": "stream",
          "name": "stderr",
          "text": [
            "100%|██████████| 6/6 [00:00<00:00, 264.54it/s]\n"
          ]
        },
        {
          "output_type": "stream",
          "name": "stdout",
          "text": [
            "Time taken to read the output file data is 0.5186467170715332\n",
            "Total details in output dict is: 4651\n",
            "Total details in linked dict is: 4651\n"
          ]
        },
        {
          "output_type": "stream",
          "name": "stderr",
          "text": [
            "100%|██████████| 4651/4651 [00:00<00:00, 35393.98it/s]\n"
          ]
        },
        {
          "output_type": "stream",
          "name": "stdout",
          "text": [
            "StellarDiGraph: Directed multigraph\n",
            " Nodes: 6121, Edges: 8289\n",
            "\n",
            " Node types:\n",
            "  transaction: [4193]\n",
            "    Features: none\n",
            "    Edge types: transaction-default->address\n",
            "  address: [1928]\n",
            "    Features: none\n",
            "    Edge types: address-default->transaction\n",
            "\n",
            " Edge types:\n",
            "    transaction-default->address: [4353]\n",
            "        Weights: range=[1e+06, 2.3e+12], mean=1.19358e+10, std=8.2868e+10\n",
            "        Features: none\n",
            "    address-default->transaction: [3936]\n",
            "        Weights: range=[1e+06, 2.3e+12], mean=1.18192e+10, std=8.62485e+10\n",
            "        Features: none\n",
            "len of addr_list: 1928\n"
          ]
        },
        {
          "output_type": "stream",
          "name": "stderr",
          "text": [
            "100%|██████████| 6/6 [00:00<00:00, 455.55it/s]\n"
          ]
        },
        {
          "output_type": "stream",
          "name": "stdout",
          "text": [
            "Time taken to read the input file data is 0.2728543281555176\n",
            "Total details in input dict is: 4679\n"
          ]
        },
        {
          "output_type": "stream",
          "name": "stderr",
          "text": [
            "100%|██████████| 6/6 [00:00<00:00, 320.50it/s]"
          ]
        },
        {
          "output_type": "stream",
          "name": "stdout",
          "text": [
            "Time taken to read the output file data is 0.18837547302246094\n",
            "Total details in output dict is: 4679\n",
            "Total details in linked dict is: 4679\n"
          ]
        },
        {
          "output_type": "stream",
          "name": "stderr",
          "text": [
            "\n",
            "100%|██████████| 4679/4679 [00:00<00:00, 38131.15it/s]\n"
          ]
        },
        {
          "output_type": "stream",
          "name": "stdout",
          "text": [
            "StellarDiGraph: Directed multigraph\n",
            " Nodes: 6138, Edges: 8308\n",
            "\n",
            " Node types:\n",
            "  transaction: [4207]\n",
            "    Features: none\n",
            "    Edge types: transaction-default->address\n",
            "  address: [1931]\n",
            "    Features: none\n",
            "    Edge types: address-default->transaction\n",
            "\n",
            " Edge types:\n",
            "    transaction-default->address: [4363]\n",
            "        Weights: range=[1e+06, 2.3e+12], mean=1.20008e+10, std=8.28886e+10\n",
            "        Features: none\n",
            "    address-default->transaction: [3945]\n",
            "        Weights: range=[1e+06, 2.3e+12], mean=1.18918e+10, std=8.62729e+10\n",
            "        Features: none\n",
            "len of addr_list: 1931\n"
          ]
        },
        {
          "output_type": "stream",
          "name": "stderr",
          "text": [
            "100%|██████████| 6/6 [00:00<00:00, 287.05it/s]\n"
          ]
        },
        {
          "output_type": "stream",
          "name": "stdout",
          "text": [
            "Time taken to read the input file data is 0.24081969261169434\n",
            "Total details in input dict is: 4719\n"
          ]
        },
        {
          "output_type": "stream",
          "name": "stderr",
          "text": [
            "100%|██████████| 6/6 [00:00<00:00, 502.46it/s]\n"
          ]
        },
        {
          "output_type": "stream",
          "name": "stdout",
          "text": [
            "Time taken to read the output file data is 0.176771879196167\n",
            "Total details in output dict is: 4719\n",
            "Total details in linked dict is: 4719\n"
          ]
        },
        {
          "output_type": "stream",
          "name": "stderr",
          "text": [
            "100%|██████████| 4719/4719 [00:00<00:00, 35487.27it/s]\n"
          ]
        },
        {
          "output_type": "stream",
          "name": "stdout",
          "text": [
            "StellarDiGraph: Directed multigraph\n",
            " Nodes: 6194, Edges: 8414\n",
            "\n",
            " Node types:\n",
            "  transaction: [4238]\n",
            "    Features: none\n",
            "    Edge types: transaction-default->address\n",
            "  address: [1956]\n",
            "    Features: none\n",
            "    Edge types: address-default->transaction\n",
            "\n",
            " Edge types:\n",
            "    transaction-default->address: [4418]\n",
            "        Weights: range=[1e+06, 2.3e+12], mean=1.20082e+10, std=8.23942e+10\n",
            "        Features: none\n",
            "    address-default->transaction: [3996]\n",
            "        Weights: range=[1e+06, 2.3e+12], mean=1.19109e+10, std=8.57447e+10\n",
            "        Features: none\n",
            "len of addr_list: 1956\n"
          ]
        },
        {
          "output_type": "stream",
          "name": "stderr",
          "text": [
            "100%|██████████| 6/6 [00:00<00:00, 553.14it/s]\n"
          ]
        },
        {
          "output_type": "stream",
          "name": "stdout",
          "text": [
            "Time taken to read the input file data is 0.22078204154968262\n",
            "Total details in input dict is: 4748\n"
          ]
        },
        {
          "output_type": "stream",
          "name": "stderr",
          "text": [
            "100%|██████████| 6/6 [00:00<00:00, 480.86it/s]\n"
          ]
        },
        {
          "output_type": "stream",
          "name": "stdout",
          "text": [
            "Time taken to read the output file data is 0.1815807819366455\n",
            "Total details in output dict is: 4748\n",
            "Total details in linked dict is: 4748\n"
          ]
        },
        {
          "output_type": "stream",
          "name": "stderr",
          "text": [
            "100%|██████████| 4748/4748 [00:00<00:00, 50138.11it/s]\n"
          ]
        },
        {
          "output_type": "stream",
          "name": "stdout",
          "text": [
            "StellarDiGraph: Directed multigraph\n",
            " Nodes: 6208, Edges: 8436\n",
            "\n",
            " Node types:\n",
            "  transaction: [4250]\n",
            "    Features: none\n",
            "    Edge types: transaction-default->address\n",
            "  address: [1958]\n",
            "    Features: none\n",
            "    Edge types: address-default->transaction\n",
            "\n",
            " Edge types:\n",
            "    transaction-default->address: [4430]\n",
            "        Weights: range=[1e+06, 2.3e+12], mean=1.20144e+10, std=8.22882e+10\n",
            "        Features: none\n",
            "    address-default->transaction: [4006]\n",
            "        Weights: range=[1e+06, 2.3e+12], mean=1.19132e+10, std=8.56429e+10\n",
            "        Features: none\n",
            "len of addr_list: 1958\n"
          ]
        },
        {
          "output_type": "stream",
          "name": "stderr",
          "text": [
            "100%|██████████| 6/6 [00:00<00:00, 475.03it/s]\n"
          ]
        },
        {
          "output_type": "stream",
          "name": "stdout",
          "text": [
            "Time taken to read the input file data is 0.2415614128112793\n",
            "Total details in input dict is: 4767\n"
          ]
        },
        {
          "output_type": "stream",
          "name": "stderr",
          "text": [
            "100%|██████████| 6/6 [00:00<00:00, 532.33it/s]\n"
          ]
        },
        {
          "output_type": "stream",
          "name": "stdout",
          "text": [
            "Time taken to read the output file data is 0.22483038902282715\n",
            "Total details in output dict is: 4767\n",
            "Total details in linked dict is: 4767\n"
          ]
        },
        {
          "output_type": "stream",
          "name": "stderr",
          "text": [
            "100%|██████████| 4767/4767 [00:00<00:00, 44174.95it/s]\n"
          ]
        },
        {
          "output_type": "stream",
          "name": "stdout",
          "text": [
            "StellarDiGraph: Directed multigraph\n",
            " Nodes: 6216, Edges: 8450\n",
            "\n",
            " Node types:\n",
            "  transaction: [4258]\n",
            "    Features: none\n",
            "    Edge types: transaction-default->address\n",
            "  address: [1958]\n",
            "    Features: none\n",
            "    Edge types: address-default->transaction\n",
            "\n",
            " Edge types:\n",
            "    transaction-default->address: [4438]\n",
            "        Weights: range=[1e+06, 2.3e+12], mean=1.20017e+10, std=8.22153e+10\n",
            "        Features: none\n",
            "    address-default->transaction: [4012]\n",
            "        Weights: range=[1e+06, 2.3e+12], mean=1.19028e+10, std=8.558e+10\n",
            "        Features: none\n",
            "len of addr_list: 1958\n"
          ]
        },
        {
          "output_type": "stream",
          "name": "stderr",
          "text": [
            "100%|██████████| 6/6 [00:00<00:00, 302.70it/s]\n"
          ]
        },
        {
          "output_type": "stream",
          "name": "stdout",
          "text": [
            "Time taken to read the input file data is 6.876182794570923\n",
            "Total details in input dict is: 4799\n"
          ]
        },
        {
          "output_type": "stream",
          "name": "stderr",
          "text": [
            "100%|██████████| 6/6 [00:00<00:00, 443.84it/s]\n"
          ]
        },
        {
          "output_type": "stream",
          "name": "stdout",
          "text": [
            "Time taken to read the output file data is 0.22965764999389648\n",
            "Total details in output dict is: 4799\n",
            "Total details in linked dict is: 4799\n"
          ]
        },
        {
          "output_type": "stream",
          "name": "stderr",
          "text": [
            "100%|██████████| 4799/4799 [00:00<00:00, 38587.92it/s]\n"
          ]
        },
        {
          "output_type": "stream",
          "name": "stdout",
          "text": [
            "StellarDiGraph: Directed multigraph\n",
            " Nodes: 6252, Edges: 8507\n",
            "\n",
            " Node types:\n",
            "  transaction: [4284]\n",
            "    Features: none\n",
            "    Edge types: transaction-default->address\n",
            "  address: [1968]\n",
            "    Features: none\n",
            "    Edge types: address-default->transaction\n",
            "\n",
            " Edge types:\n",
            "    transaction-default->address: [4472]\n",
            "        Weights: range=[1e+06, 2.3e+12], mean=1.2281e+10, std=8.2352e+10\n",
            "        Features: none\n",
            "    address-default->transaction: [4035]\n",
            "        Weights: range=[1e+06, 2.3e+12], mean=1.21361e+10, std=8.57389e+10\n",
            "        Features: none\n",
            "len of addr_list: 1968\n"
          ]
        },
        {
          "output_type": "stream",
          "name": "stderr",
          "text": [
            "100%|██████████| 6/6 [00:00<00:00, 69.91it/s]\n"
          ]
        },
        {
          "output_type": "stream",
          "name": "stdout",
          "text": [
            "Time taken to read the input file data is 0.2786245346069336\n",
            "Total details in input dict is: 4838\n"
          ]
        },
        {
          "output_type": "stream",
          "name": "stderr",
          "text": [
            "100%|██████████| 6/6 [00:00<00:00, 267.39it/s]\n"
          ]
        },
        {
          "output_type": "stream",
          "name": "stdout",
          "text": [
            "Time taken to read the output file data is 0.17765593528747559\n",
            "Total details in output dict is: 4838\n",
            "Total details in linked dict is: 4838\n"
          ]
        },
        {
          "output_type": "stream",
          "name": "stderr",
          "text": [
            "100%|██████████| 4838/4838 [00:00<00:00, 39454.73it/s]\n"
          ]
        },
        {
          "output_type": "stream",
          "name": "stdout",
          "text": [
            "StellarDiGraph: Directed multigraph\n",
            " Nodes: 6281, Edges: 8541\n",
            "\n",
            " Node types:\n",
            "  transaction: [4308]\n",
            "    Features: none\n",
            "    Edge types: transaction-default->address\n",
            "  address: [1973]\n",
            "    Features: none\n",
            "    Edge types: address-default->transaction\n",
            "\n",
            " Edge types:\n",
            "    transaction-default->address: [4493]\n",
            "        Weights: range=[1e+06, 2.3e+12], mean=1.23595e+10, std=8.22284e+10\n",
            "        Features: none\n",
            "    address-default->transaction: [4048]\n",
            "        Weights: range=[1e+06, 2.3e+12], mean=1.2221e+10, std=8.56741e+10\n",
            "        Features: none\n",
            "len of addr_list: 1973\n"
          ]
        },
        {
          "output_type": "stream",
          "name": "stderr",
          "text": [
            "100%|██████████| 6/6 [00:00<00:00, 483.08it/s]\n"
          ]
        },
        {
          "output_type": "stream",
          "name": "stdout",
          "text": [
            "Time taken to read the input file data is 0.23389172554016113\n",
            "Total details in input dict is: 4868\n"
          ]
        },
        {
          "output_type": "stream",
          "name": "stderr",
          "text": [
            "100%|██████████| 6/6 [00:00<00:00, 262.08it/s]\n"
          ]
        },
        {
          "output_type": "stream",
          "name": "stdout",
          "text": [
            "Time taken to read the output file data is 0.17165684700012207\n",
            "Total details in output dict is: 4868\n",
            "Total details in linked dict is: 4868\n"
          ]
        },
        {
          "output_type": "stream",
          "name": "stderr",
          "text": [
            "100%|██████████| 4868/4868 [00:00<00:00, 35546.81it/s]\n"
          ]
        },
        {
          "output_type": "stream",
          "name": "stdout",
          "text": [
            "StellarDiGraph: Directed multigraph\n",
            " Nodes: 6631, Edges: 9782\n",
            "\n",
            " Node types:\n",
            "  transaction: [4325]\n",
            "    Features: none\n",
            "    Edge types: transaction-default->address\n",
            "  address: [2306]\n",
            "    Features: none\n",
            "    Edge types: address-default->transaction\n",
            "\n",
            " Edge types:\n",
            "    transaction-default->address: [5339]\n",
            "        Weights: range=[1e+06, 2.3e+12], mean=1.06073e+10, std=7.61203e+10\n",
            "        Features: none\n",
            "    address-default->transaction: [4443]\n",
            "        Weights: range=[1e+06, 2.3e+12], mean=1.13757e+10, std=8.24625e+10\n",
            "        Features: none\n",
            "len of addr_list: 2306\n"
          ]
        },
        {
          "output_type": "stream",
          "name": "stderr",
          "text": [
            "100%|██████████| 6/6 [00:00<00:00, 594.88it/s]\n"
          ]
        },
        {
          "output_type": "stream",
          "name": "stdout",
          "text": [
            "Time taken to read the input file data is 0.29279351234436035\n",
            "Total details in input dict is: 4890\n"
          ]
        },
        {
          "output_type": "stream",
          "name": "stderr",
          "text": [
            "100%|██████████| 6/6 [00:00<00:00, 449.74it/s]\n"
          ]
        },
        {
          "output_type": "stream",
          "name": "stdout",
          "text": [
            "Time taken to read the output file data is 0.21805644035339355\n",
            "Total details in output dict is: 4890\n",
            "Total details in linked dict is: 4890\n"
          ]
        },
        {
          "output_type": "stream",
          "name": "stderr",
          "text": [
            "100%|██████████| 4890/4890 [00:00<00:00, 30378.56it/s]\n"
          ]
        },
        {
          "output_type": "stream",
          "name": "stdout",
          "text": [
            "StellarDiGraph: Directed multigraph\n",
            " Nodes: 6960, Edges: 11179\n",
            "\n",
            " Node types:\n",
            "  transaction: [4334]\n",
            "    Features: none\n",
            "    Edge types: transaction-default->address\n",
            "  address: [2626]\n",
            "    Features: none\n",
            "    Edge types: address-default->transaction\n",
            "\n",
            " Edge types:\n",
            "    transaction-default->address: [6310]\n",
            "        Weights: range=[1e+06, 2.3e+12], mean=8.98338e+09, std=7.01222e+10\n",
            "        Features: none\n",
            "    address-default->transaction: [4869]\n",
            "        Weights: range=[1e+06, 2.3e+12], mean=1.03839e+10, std=7.8837e+10\n",
            "        Features: none\n",
            "len of addr_list: 2626\n"
          ]
        },
        {
          "output_type": "stream",
          "name": "stderr",
          "text": [
            "100%|██████████| 6/6 [00:00<00:00, 346.82it/s]\n"
          ]
        },
        {
          "output_type": "stream",
          "name": "stdout",
          "text": [
            "Time taken to read the input file data is 0.2595217227935791\n",
            "Total details in input dict is: 4910\n"
          ]
        },
        {
          "output_type": "stream",
          "name": "stderr",
          "text": [
            "100%|██████████| 6/6 [00:00<00:00, 579.10it/s]\n"
          ]
        },
        {
          "output_type": "stream",
          "name": "stdout",
          "text": [
            "Time taken to read the output file data is 0.17986154556274414\n",
            "Total details in output dict is: 4910\n",
            "Total details in linked dict is: 4910\n"
          ]
        },
        {
          "output_type": "stream",
          "name": "stderr",
          "text": [
            "100%|██████████| 4910/4910 [00:00<00:00, 13591.63it/s]\n"
          ]
        },
        {
          "output_type": "stream",
          "name": "stdout",
          "text": [
            "StellarDiGraph: Directed multigraph\n",
            " Nodes: 6970, Edges: 11190\n",
            "\n",
            " Node types:\n",
            "  transaction: [4343]\n",
            "    Features: none\n",
            "    Edge types: transaction-default->address\n",
            "  address: [2627]\n",
            "    Features: none\n",
            "    Edge types: address-default->transaction\n",
            "\n",
            " Edge types:\n",
            "    transaction-default->address: [6316]\n",
            "        Weights: range=[1e+06, 2.3e+12], mean=8.98096e+09, std=7.00891e+10\n",
            "        Features: none\n",
            "    address-default->transaction: [4874]\n",
            "        Weights: range=[1e+06, 2.3e+12], mean=1.03802e+10, std=7.87968e+10\n",
            "        Features: none\n",
            "len of addr_list: 2627\n"
          ]
        },
        {
          "output_type": "stream",
          "name": "stderr",
          "text": [
            "100%|██████████| 6/6 [00:00<00:00, 528.16it/s]\n"
          ]
        },
        {
          "output_type": "stream",
          "name": "stdout",
          "text": [
            "Time taken to read the input file data is 0.269031286239624\n",
            "Total details in input dict is: 4945\n"
          ]
        },
        {
          "output_type": "stream",
          "name": "stderr",
          "text": [
            "100%|██████████| 6/6 [00:00<00:00, 462.79it/s]\n"
          ]
        },
        {
          "output_type": "stream",
          "name": "stdout",
          "text": [
            "Time taken to read the output file data is 0.20037412643432617\n",
            "Total details in output dict is: 4945\n",
            "Total details in linked dict is: 4945\n"
          ]
        },
        {
          "output_type": "stream",
          "name": "stderr",
          "text": [
            "100%|██████████| 4945/4945 [00:00<00:00, 30876.10it/s]\n"
          ]
        },
        {
          "output_type": "stream",
          "name": "stdout",
          "text": [
            "StellarDiGraph: Directed multigraph\n",
            " Nodes: 6997, Edges: 11233\n",
            "\n",
            " Node types:\n",
            "  transaction: [4355]\n",
            "    Features: none\n",
            "    Edge types: transaction-default->address\n",
            "  address: [2642]\n",
            "    Features: none\n",
            "    Edge types: address-default->transaction\n",
            "\n",
            " Edge types:\n",
            "    transaction-default->address: [6339]\n",
            "        Weights: range=[1e+06, 2.3e+12], mean=9.02767e+09, std=6.9985e+10\n",
            "        Features: none\n",
            "    address-default->transaction: [4894]\n",
            "        Weights: range=[1e+06, 2.3e+12], mean=1.04333e+10, std=7.86612e+10\n",
            "        Features: none\n",
            "len of addr_list: 2642\n"
          ]
        },
        {
          "output_type": "stream",
          "name": "stderr",
          "text": [
            "100%|██████████| 6/6 [00:00<00:00, 433.75it/s]\n"
          ]
        },
        {
          "output_type": "stream",
          "name": "stdout",
          "text": [
            "Time taken to read the input file data is 0.3500850200653076\n",
            "Total details in input dict is: 5000\n"
          ]
        },
        {
          "output_type": "stream",
          "name": "stderr",
          "text": [
            "100%|██████████| 6/6 [00:00<00:00, 270.03it/s]\n"
          ]
        },
        {
          "output_type": "stream",
          "name": "stdout",
          "text": [
            "Time taken to read the output file data is 0.17897868156433105\n",
            "Total details in output dict is: 5000\n",
            "Total details in linked dict is: 5000\n"
          ]
        },
        {
          "output_type": "stream",
          "name": "stderr",
          "text": [
            "100%|██████████| 5000/5000 [00:00<00:00, 38855.94it/s]\n"
          ]
        },
        {
          "output_type": "stream",
          "name": "stdout",
          "text": [
            "StellarDiGraph: Directed multigraph\n",
            " Nodes: 7050, Edges: 11299\n",
            "\n",
            " Node types:\n",
            "  transaction: [4399]\n",
            "    Features: none\n",
            "    Edge types: transaction-default->address\n",
            "  address: [2651]\n",
            "    Features: none\n",
            "    Edge types: address-default->transaction\n",
            "\n",
            " Edge types:\n",
            "    transaction-default->address: [6375]\n",
            "        Weights: range=[1e+06, 2.3e+12], mean=9.04447e+09, std=6.98061e+10\n",
            "        Features: none\n",
            "    address-default->transaction: [4924]\n",
            "        Weights: range=[1e+06, 2.3e+12], mean=1.04423e+10, std=7.84414e+10\n",
            "        Features: none\n",
            "len of addr_list: 2651\n"
          ]
        },
        {
          "output_type": "stream",
          "name": "stderr",
          "text": [
            "100%|██████████| 6/6 [00:00<00:00, 374.44it/s]\n"
          ]
        },
        {
          "output_type": "stream",
          "name": "stdout",
          "text": [
            "Time taken to read the input file data is 0.2231886386871338\n",
            "Total details in input dict is: 5043\n"
          ]
        },
        {
          "output_type": "stream",
          "name": "stderr",
          "text": [
            "100%|██████████| 6/6 [00:00<00:00, 595.73it/s]\n"
          ]
        },
        {
          "output_type": "stream",
          "name": "stdout",
          "text": [
            "Time taken to read the output file data is 0.8311014175415039\n",
            "Total details in output dict is: 5043\n",
            "Total details in linked dict is: 5043\n"
          ]
        },
        {
          "output_type": "stream",
          "name": "stderr",
          "text": [
            "100%|██████████| 5043/5043 [00:00<00:00, 25639.13it/s]\n"
          ]
        },
        {
          "output_type": "stream",
          "name": "stdout",
          "text": [
            "StellarDiGraph: Directed multigraph\n",
            " Nodes: 7098, Edges: 11368\n",
            "\n",
            " Node types:\n",
            "  transaction: [4433]\n",
            "    Features: none\n",
            "    Edge types: transaction-default->address\n",
            "  address: [2665]\n",
            "    Features: none\n",
            "    Edge types: address-default->transaction\n",
            "\n",
            " Edge types:\n",
            "    transaction-default->address: [6412]\n",
            "        Weights: range=[1e+06, 2.3e+12], mean=9.15299e+09, std=6.97857e+10\n",
            "        Features: none\n",
            "    address-default->transaction: [4956]\n",
            "        Weights: range=[1e+06, 2.3e+12], mean=1.05513e+10, std=7.83782e+10\n",
            "        Features: none\n",
            "len of addr_list: 2665\n"
          ]
        },
        {
          "output_type": "stream",
          "name": "stderr",
          "text": [
            "100%|██████████| 6/6 [00:00<00:00, 471.87it/s]\n"
          ]
        },
        {
          "output_type": "stream",
          "name": "stdout",
          "text": [
            "Time taken to read the input file data is 0.27553820610046387\n",
            "Total details in input dict is: 5077\n"
          ]
        },
        {
          "output_type": "stream",
          "name": "stderr",
          "text": [
            "100%|██████████| 6/6 [00:00<00:00, 426.01it/s]"
          ]
        },
        {
          "output_type": "stream",
          "name": "stdout",
          "text": [
            "Time taken to read the output file data is 0.1906881332397461\n",
            "Total details in output dict is: 5077\n",
            "Total details in linked dict is: 5077\n"
          ]
        },
        {
          "output_type": "stream",
          "name": "stderr",
          "text": [
            "\n",
            "100%|██████████| 5077/5077 [00:00<00:00, 31900.84it/s]\n"
          ]
        },
        {
          "output_type": "stream",
          "name": "stdout",
          "text": [
            "StellarDiGraph: Directed multigraph\n",
            " Nodes: 7123, Edges: 11403\n",
            "\n",
            " Node types:\n",
            "  transaction: [4452]\n",
            "    Features: none\n",
            "    Edge types: transaction-default->address\n",
            "  address: [2671]\n",
            "    Features: none\n",
            "    Edge types: address-default->transaction\n",
            "\n",
            " Edge types:\n",
            "    transaction-default->address: [6430]\n",
            "        Weights: range=[1e+06, 2.3e+12], mean=9.13957e+09, std=6.96892e+10\n",
            "        Features: none\n",
            "    address-default->transaction: [4973]\n",
            "        Weights: range=[1e+06, 2.3e+12], mean=1.0528e+10, std=7.82458e+10\n",
            "        Features: none\n",
            "len of addr_list: 2671\n"
          ]
        },
        {
          "output_type": "stream",
          "name": "stderr",
          "text": [
            "100%|██████████| 6/6 [00:00<00:00, 395.24it/s]\n"
          ]
        },
        {
          "output_type": "stream",
          "name": "stdout",
          "text": [
            "Time taken to read the input file data is 0.23388171195983887\n",
            "Total details in input dict is: 5136\n"
          ]
        },
        {
          "output_type": "stream",
          "name": "stderr",
          "text": [
            "100%|██████████| 6/6 [00:00<00:00, 346.65it/s]\n"
          ]
        },
        {
          "output_type": "stream",
          "name": "stdout",
          "text": [
            "Time taken to read the output file data is 0.5062682628631592\n",
            "Total details in output dict is: 5136\n",
            "Total details in linked dict is: 5136\n"
          ]
        },
        {
          "output_type": "stream",
          "name": "stderr",
          "text": [
            "100%|██████████| 5136/5136 [00:00<00:00, 36421.03it/s]\n"
          ]
        },
        {
          "output_type": "stream",
          "name": "stdout",
          "text": [
            "StellarDiGraph: Directed multigraph\n",
            " Nodes: 7175, Edges: 11498\n",
            "\n",
            " Node types:\n",
            "  transaction: [4496]\n",
            "    Features: none\n",
            "    Edge types: transaction-default->address\n",
            "  address: [2679]\n",
            "    Features: none\n",
            "    Edge types: address-default->transaction\n",
            "\n",
            " Edge types:\n",
            "    transaction-default->address: [6495]\n",
            "        Weights: range=[1e+06, 2.3e+12], mean=9.56968e+09, std=7.113e+10\n",
            "        Features: none\n",
            "    address-default->transaction: [5003]\n",
            "        Weights: range=[1e+06, 2.3e+12], mean=1.08281e+10, std=7.9699e+10\n",
            "        Features: none\n",
            "len of addr_list: 2679\n"
          ]
        },
        {
          "output_type": "stream",
          "name": "stderr",
          "text": [
            "100%|██████████| 6/6 [00:00<00:00, 373.38it/s]\n"
          ]
        },
        {
          "output_type": "stream",
          "name": "stdout",
          "text": [
            "Time taken to read the input file data is 0.1944437026977539\n",
            "Total details in input dict is: 5167\n"
          ]
        },
        {
          "output_type": "stream",
          "name": "stderr",
          "text": [
            "100%|██████████| 6/6 [00:00<00:00, 402.67it/s]\n"
          ]
        },
        {
          "output_type": "stream",
          "name": "stdout",
          "text": [
            "Time taken to read the output file data is 0.19760489463806152\n",
            "Total details in output dict is: 5167\n",
            "Total details in linked dict is: 5167\n"
          ]
        },
        {
          "output_type": "stream",
          "name": "stderr",
          "text": [
            "100%|██████████| 5167/5167 [00:00<00:00, 33517.12it/s]\n"
          ]
        },
        {
          "output_type": "stream",
          "name": "stdout",
          "text": [
            "StellarDiGraph: Directed multigraph\n",
            " Nodes: 7243, Edges: 11716\n",
            "\n",
            " Node types:\n",
            "  transaction: [4527]\n",
            "    Features: none\n",
            "    Edge types: transaction-default->address\n",
            "  address: [2716]\n",
            "    Features: none\n",
            "    Edge types: address-default->transaction\n",
            "\n",
            " Edge types:\n",
            "    transaction-default->address: [6642]\n",
            "        Weights: range=[1e+06, 2.3e+12], mean=9.9401e+09, std=7.29467e+10\n",
            "        Features: none\n",
            "    address-default->transaction: [5074]\n",
            "        Weights: range=[1e+06, 2.3e+12], mean=1.12491e+10, std=8.19728e+10\n",
            "        Features: none\n",
            "len of addr_list: 2716\n"
          ]
        },
        {
          "output_type": "stream",
          "name": "stderr",
          "text": [
            "100%|██████████| 6/6 [00:00<00:00, 421.55it/s]\n"
          ]
        },
        {
          "output_type": "stream",
          "name": "stdout",
          "text": [
            "Time taken to read the input file data is 0.2439870834350586\n",
            "Total details in input dict is: 5265\n"
          ]
        },
        {
          "output_type": "stream",
          "name": "stderr",
          "text": [
            "100%|██████████| 6/6 [00:00<00:00, 422.17it/s]"
          ]
        },
        {
          "output_type": "stream",
          "name": "stdout",
          "text": [
            "Time taken to read the output file data is 0.1864149570465088\n",
            "Total details in output dict is: 5265\n"
          ]
        },
        {
          "output_type": "stream",
          "name": "stderr",
          "text": [
            "\n"
          ]
        },
        {
          "output_type": "stream",
          "name": "stdout",
          "text": [
            "Total details in linked dict is: 5265\n"
          ]
        },
        {
          "output_type": "stream",
          "name": "stderr",
          "text": [
            "100%|██████████| 5265/5265 [00:00<00:00, 35310.73it/s]\n"
          ]
        },
        {
          "output_type": "stream",
          "name": "stdout",
          "text": [
            "StellarDiGraph: Directed multigraph\n",
            " Nodes: 7313, Edges: 11800\n",
            "\n",
            " Node types:\n",
            "  transaction: [4588]\n",
            "    Features: none\n",
            "    Edge types: transaction-default->address\n",
            "  address: [2725]\n",
            "    Features: none\n",
            "    Edge types: address-default->transaction\n",
            "\n",
            " Edge types:\n",
            "    transaction-default->address: [6690]\n",
            "        Weights: range=[1e+06, 2.3e+12], mean=1.00839e+10, std=7.36878e+10\n",
            "        Features: none\n",
            "    address-default->transaction: [5110]\n",
            "        Weights: range=[1e+06, 2.3e+12], mean=1.14289e+10, std=8.28488e+10\n",
            "        Features: none\n",
            "len of addr_list: 2725\n"
          ]
        },
        {
          "output_type": "stream",
          "name": "stderr",
          "text": [
            "100%|██████████| 6/6 [00:00<00:00, 639.15it/s]\n"
          ]
        },
        {
          "output_type": "stream",
          "name": "stdout",
          "text": [
            "Time taken to read the input file data is 0.2019178867340088\n",
            "Total details in input dict is: 5327\n"
          ]
        },
        {
          "output_type": "stream",
          "name": "stderr",
          "text": [
            "100%|██████████| 6/6 [00:00<00:00, 401.32it/s]\n"
          ]
        },
        {
          "output_type": "stream",
          "name": "stdout",
          "text": [
            "Time taken to read the output file data is 0.22272253036499023\n",
            "Total details in output dict is: 5327\n",
            "Total details in linked dict is: 5327\n"
          ]
        },
        {
          "output_type": "stream",
          "name": "stderr",
          "text": [
            "100%|██████████| 5327/5327 [00:00<00:00, 32338.36it/s]\n"
          ]
        },
        {
          "output_type": "stream",
          "name": "stdout",
          "text": [
            "StellarDiGraph: Directed multigraph\n",
            " Nodes: 7331, Edges: 11822\n",
            "\n",
            " Node types:\n",
            "  transaction: [4606]\n",
            "    Features: none\n",
            "    Edge types: transaction-default->address\n",
            "  address: [2725]\n",
            "    Features: none\n",
            "    Edge types: address-default->transaction\n",
            "\n",
            " Edge types:\n",
            "    transaction-default->address: [6703]\n",
            "        Weights: range=[1e+06, 2.3e+12], mean=1.008e+10, std=7.36177e+10\n",
            "        Features: none\n",
            "    address-default->transaction: [5119]\n",
            "        Weights: range=[1e+06, 2.3e+12], mean=1.14236e+10, std=8.27774e+10\n",
            "        Features: none\n",
            "len of addr_list: 2725\n"
          ]
        },
        {
          "output_type": "stream",
          "name": "stderr",
          "text": [
            "100%|██████████| 6/6 [00:00<00:00, 430.96it/s]\n"
          ]
        },
        {
          "output_type": "stream",
          "name": "stdout",
          "text": [
            "Time taken to read the input file data is 0.2982795238494873\n",
            "Total details in input dict is: 5371\n"
          ]
        },
        {
          "output_type": "stream",
          "name": "stderr",
          "text": [
            "100%|██████████| 6/6 [00:00<00:00, 234.65it/s]\n"
          ]
        },
        {
          "output_type": "stream",
          "name": "stdout",
          "text": [
            "Time taken to read the output file data is 0.20778536796569824\n",
            "Total details in output dict is: 5371\n",
            "Total details in linked dict is: 5371\n"
          ]
        },
        {
          "output_type": "stream",
          "name": "stderr",
          "text": [
            "100%|██████████| 5371/5371 [00:00<00:00, 34312.04it/s]\n"
          ]
        },
        {
          "output_type": "stream",
          "name": "stdout",
          "text": [
            "StellarDiGraph: Directed multigraph\n",
            " Nodes: 7350, Edges: 11842\n",
            "\n",
            " Node types:\n",
            "  transaction: [4624]\n",
            "    Features: none\n",
            "    Edge types: transaction-default->address\n",
            "  address: [2726]\n",
            "    Features: none\n",
            "    Edge types: address-default->transaction\n",
            "\n",
            " Edge types:\n",
            "    transaction-default->address: [6715]\n",
            "        Weights: range=[1e+06, 2.3e+12], mean=1.00933e+10, std=7.35586e+10\n",
            "        Features: none\n",
            "    address-default->transaction: [5127]\n",
            "        Weights: range=[1e+06, 2.3e+12], mean=1.14389e+10, std=8.27201e+10\n",
            "        Features: none\n",
            "len of addr_list: 2726\n"
          ]
        },
        {
          "output_type": "stream",
          "name": "stderr",
          "text": [
            "100%|██████████| 6/6 [00:00<00:00, 377.67it/s]\n"
          ]
        },
        {
          "output_type": "stream",
          "name": "stdout",
          "text": [
            "Time taken to read the input file data is 0.3754844665527344\n",
            "Total details in input dict is: 5435\n"
          ]
        },
        {
          "output_type": "stream",
          "name": "stderr",
          "text": [
            "100%|██████████| 6/6 [00:00<00:00, 475.21it/s]\n"
          ]
        },
        {
          "output_type": "stream",
          "name": "stdout",
          "text": [
            "Time taken to read the output file data is 0.18165111541748047\n",
            "Total details in output dict is: 5435\n",
            "Total details in linked dict is: 5435\n"
          ]
        },
        {
          "output_type": "stream",
          "name": "stderr",
          "text": [
            "100%|██████████| 5435/5435 [00:00<00:00, 32141.55it/s]\n"
          ]
        },
        {
          "output_type": "stream",
          "name": "stdout",
          "text": [
            "StellarDiGraph: Directed multigraph\n",
            " Nodes: 7398, Edges: 11901\n",
            "\n",
            " Node types:\n",
            "  transaction: [4667]\n",
            "    Features: none\n",
            "    Edge types: transaction-default->address\n",
            "  address: [2731]\n",
            "    Features: none\n",
            "    Edge types: address-default->transaction\n",
            "\n",
            " Edge types:\n",
            "    transaction-default->address: [6756]\n",
            "        Weights: range=[1e+06, 2.3e+12], mean=1.01807e+10, std=7.33784e+10\n",
            "        Features: none\n",
            "    address-default->transaction: [5145]\n",
            "        Weights: range=[1e+06, 2.3e+12], mean=1.14784e+10, std=8.26088e+10\n",
            "        Features: none\n",
            "len of addr_list: 2731\n"
          ]
        },
        {
          "output_type": "stream",
          "name": "stderr",
          "text": [
            "100%|██████████| 6/6 [00:00<00:00, 288.79it/s]\n"
          ]
        },
        {
          "output_type": "stream",
          "name": "stdout",
          "text": [
            "Time taken to read the input file data is 0.2355644702911377\n",
            "Total details in input dict is: 5510\n"
          ]
        },
        {
          "output_type": "stream",
          "name": "stderr",
          "text": [
            "100%|██████████| 6/6 [00:00<00:00, 254.36it/s]\n"
          ]
        },
        {
          "output_type": "stream",
          "name": "stdout",
          "text": [
            "Time taken to read the output file data is 0.20221233367919922\n",
            "Total details in output dict is: 5510\n",
            "Total details in linked dict is: 5510\n"
          ]
        },
        {
          "output_type": "stream",
          "name": "stderr",
          "text": [
            "100%|██████████| 5510/5510 [00:00<00:00, 31891.49it/s]\n"
          ]
        },
        {
          "output_type": "stream",
          "name": "stdout",
          "text": [
            "StellarDiGraph: Directed multigraph\n",
            " Nodes: 7444, Edges: 11975\n",
            "\n",
            " Node types:\n",
            "  transaction: [4708]\n",
            "    Features: none\n",
            "    Edge types: transaction-default->address\n",
            "  address: [2736]\n",
            "    Features: none\n",
            "    Edge types: address-default->transaction\n",
            "\n",
            " Edge types:\n",
            "    transaction-default->address: [6795]\n",
            "        Weights: range=[1e+06, 2.3e+12], mean=1.02291e+10, std=7.33003e+10\n",
            "        Features: none\n",
            "    address-default->transaction: [5180]\n",
            "        Weights: range=[1e+06, 2.3e+12], mean=1.15333e+10, std=8.2483e+10\n",
            "        Features: none\n",
            "len of addr_list: 2736\n"
          ]
        },
        {
          "output_type": "stream",
          "name": "stderr",
          "text": [
            "100%|██████████| 6/6 [00:00<00:00, 217.73it/s]\n"
          ]
        },
        {
          "output_type": "stream",
          "name": "stdout",
          "text": [
            "Time taken to read the input file data is 0.31505346298217773\n",
            "Total details in input dict is: 5564\n"
          ]
        },
        {
          "output_type": "stream",
          "name": "stderr",
          "text": [
            "100%|██████████| 6/6 [00:00<00:00, 283.96it/s]\n"
          ]
        },
        {
          "output_type": "stream",
          "name": "stdout",
          "text": [
            "Time taken to read the output file data is 0.18250751495361328\n",
            "Total details in output dict is: 5564\n",
            "Total details in linked dict is: 5564\n"
          ]
        },
        {
          "output_type": "stream",
          "name": "stderr",
          "text": [
            "100%|██████████| 5564/5564 [00:00<00:00, 34193.16it/s]\n"
          ]
        },
        {
          "output_type": "stream",
          "name": "stdout",
          "text": [
            "StellarDiGraph: Directed multigraph\n",
            " Nodes: 7486, Edges: 12030\n",
            "\n",
            " Node types:\n",
            "  transaction: [4740]\n",
            "    Features: none\n",
            "    Edge types: transaction-default->address\n",
            "  address: [2746]\n",
            "    Features: none\n",
            "    Edge types: address-default->transaction\n",
            "\n",
            " Edge types:\n",
            "    transaction-default->address: [6826]\n",
            "        Weights: range=[1e+06, 2.3e+12], mean=1.05578e+10, std=7.73061e+10\n",
            "        Features: none\n",
            "    address-default->transaction: [5204]\n",
            "        Weights: range=[1e+06, 2.3e+12], mean=1.19549e+10, std=8.71451e+10\n",
            "        Features: none\n",
            "len of addr_list: 2746\n"
          ]
        },
        {
          "output_type": "stream",
          "name": "stderr",
          "text": [
            "100%|██████████| 6/6 [00:00<00:00, 407.25it/s]\n"
          ]
        },
        {
          "output_type": "stream",
          "name": "stdout",
          "text": [
            "Time taken to read the input file data is 0.271456241607666\n",
            "Total details in input dict is: 5619\n"
          ]
        },
        {
          "output_type": "stream",
          "name": "stderr",
          "text": [
            "100%|██████████| 6/6 [00:00<00:00, 239.32it/s]"
          ]
        },
        {
          "output_type": "stream",
          "name": "stdout",
          "text": [
            "Time taken to read the output file data is 0.18545889854431152\n",
            "Total details in output dict is: 5619\n",
            "Total details in linked dict is: 5619\n"
          ]
        },
        {
          "output_type": "stream",
          "name": "stderr",
          "text": [
            "\n",
            "100%|██████████| 5619/5619 [00:00<00:00, 29368.30it/s]\n"
          ]
        },
        {
          "output_type": "stream",
          "name": "stdout",
          "text": [
            "StellarDiGraph: Directed multigraph\n",
            " Nodes: 7532, Edges: 12091\n",
            "\n",
            " Node types:\n",
            "  transaction: [4773]\n",
            "    Features: none\n",
            "    Edge types: transaction-default->address\n",
            "  address: [2759]\n",
            "    Features: none\n",
            "    Edge types: address-default->transaction\n",
            "\n",
            " Edge types:\n",
            "    transaction-default->address: [6865]\n",
            "        Weights: range=[1e+06, 2.3e+12], mean=1.10528e+10, std=8.22886e+10\n",
            "        Features: none\n",
            "    address-default->transaction: [5226]\n",
            "        Weights: range=[1e+06, 2.3e+12], mean=1.26145e+10, std=9.30024e+10\n",
            "        Features: none\n",
            "len of addr_list: 2759\n"
          ]
        },
        {
          "output_type": "stream",
          "name": "stderr",
          "text": [
            "100%|██████████| 6/6 [00:00<00:00, 350.55it/s]\n"
          ]
        },
        {
          "output_type": "stream",
          "name": "stdout",
          "text": [
            "Time taken to read the input file data is 0.34014391899108887\n",
            "Total details in input dict is: 5670\n"
          ]
        },
        {
          "output_type": "stream",
          "name": "stderr",
          "text": [
            "100%|██████████| 6/6 [00:00<00:00, 221.03it/s]\n"
          ]
        },
        {
          "output_type": "stream",
          "name": "stdout",
          "text": [
            "Time taken to read the output file data is 0.21138811111450195\n",
            "Total details in output dict is: 5670\n",
            "Total details in linked dict is: 5670\n"
          ]
        },
        {
          "output_type": "stream",
          "name": "stderr",
          "text": [
            "100%|██████████| 5670/5670 [00:00<00:00, 28922.29it/s]\n"
          ]
        },
        {
          "output_type": "stream",
          "name": "stdout",
          "text": [
            "StellarDiGraph: Directed multigraph\n",
            " Nodes: 7545, Edges: 12107\n",
            "\n",
            " Node types:\n",
            "  transaction: [4785]\n",
            "    Features: none\n",
            "    Edge types: transaction-default->address\n",
            "  address: [2760]\n",
            "    Features: none\n",
            "    Edge types: address-default->transaction\n",
            "\n",
            " Edge types:\n",
            "    transaction-default->address: [6876]\n",
            "        Weights: range=[1e+06, 2.3e+12], mean=1.106e+10, std=8.22245e+10\n",
            "        Features: none\n",
            "    address-default->transaction: [5231]\n",
            "        Weights: range=[1e+06, 2.3e+12], mean=1.26109e+10, std=9.29582e+10\n",
            "        Features: none\n",
            "len of addr_list: 2760\n"
          ]
        },
        {
          "output_type": "stream",
          "name": "stderr",
          "text": [
            "100%|██████████| 6/6 [00:00<00:00, 308.06it/s]\n"
          ]
        },
        {
          "output_type": "stream",
          "name": "stdout",
          "text": [
            "Time taken to read the input file data is 0.3935987949371338\n",
            "Total details in input dict is: 5722\n"
          ]
        },
        {
          "output_type": "stream",
          "name": "stderr",
          "text": [
            "100%|██████████| 6/6 [00:00<00:00, 217.07it/s]\n"
          ]
        },
        {
          "output_type": "stream",
          "name": "stdout",
          "text": [
            "Time taken to read the output file data is 0.27906346321105957\n",
            "Total details in output dict is: 5722\n",
            "Total details in linked dict is: 5722\n"
          ]
        },
        {
          "output_type": "stream",
          "name": "stderr",
          "text": [
            "100%|██████████| 5722/5722 [00:00<00:00, 29819.35it/s]\n"
          ]
        },
        {
          "output_type": "stream",
          "name": "stdout",
          "text": [
            "StellarDiGraph: Directed multigraph\n",
            " Nodes: 7554, Edges: 12116\n",
            "\n",
            " Node types:\n",
            "  transaction: [4792]\n",
            "    Features: none\n",
            "    Edge types: transaction-default->address\n",
            "  address: [2762]\n",
            "    Features: none\n",
            "    Edge types: address-default->transaction\n",
            "\n",
            " Edge types:\n",
            "    transaction-default->address: [6881]\n",
            "        Weights: range=[1e+06, 2.3e+12], mean=1.10856e+10, std=8.22204e+10\n",
            "        Features: none\n",
            "    address-default->transaction: [5235]\n",
            "        Weights: range=[1e+06, 2.3e+12], mean=1.26415e+10, std=9.29521e+10\n",
            "        Features: none\n",
            "len of addr_list: 2762\n"
          ]
        },
        {
          "output_type": "stream",
          "name": "stderr",
          "text": [
            "100%|██████████| 6/6 [00:00<00:00, 71.19it/s]\n"
          ]
        },
        {
          "output_type": "stream",
          "name": "stdout",
          "text": [
            "Time taken to read the input file data is 0.2644319534301758\n",
            "Total details in input dict is: 5770\n"
          ]
        },
        {
          "output_type": "stream",
          "name": "stderr",
          "text": [
            "100%|██████████| 6/6 [00:00<00:00, 571.78it/s]\n"
          ]
        },
        {
          "output_type": "stream",
          "name": "stdout",
          "text": [
            "Time taken to read the output file data is 0.19488835334777832\n",
            "Total details in output dict is: 5770\n",
            "Total details in linked dict is: 5770\n"
          ]
        },
        {
          "output_type": "stream",
          "name": "stderr",
          "text": [
            "100%|██████████| 5770/5770 [00:00<00:00, 39570.13it/s]\n"
          ]
        },
        {
          "output_type": "stream",
          "name": "stdout",
          "text": [
            "StellarDiGraph: Directed multigraph\n",
            " Nodes: 7579, Edges: 12143\n",
            "\n",
            " Node types:\n",
            "  transaction: [4814]\n",
            "    Features: none\n",
            "    Edge types: transaction-default->address\n",
            "  address: [2765]\n",
            "    Features: none\n",
            "    Edge types: address-default->transaction\n",
            "\n",
            " Edge types:\n",
            "    transaction-default->address: [6899]\n",
            "        Weights: range=[1e+06, 2.3e+12], mean=1.10928e+10, std=8.21313e+10\n",
            "        Features: none\n",
            "    address-default->transaction: [5244]\n",
            "        Weights: range=[1e+06, 2.3e+12], mean=1.26569e+10, std=9.28929e+10\n",
            "        Features: none\n",
            "len of addr_list: 2765\n"
          ]
        },
        {
          "output_type": "stream",
          "name": "stderr",
          "text": [
            "100%|██████████| 6/6 [00:00<00:00, 510.75it/s]\n"
          ]
        },
        {
          "output_type": "stream",
          "name": "stdout",
          "text": [
            "Time taken to read the input file data is 0.27185726165771484\n",
            "Total details in input dict is: 5817\n"
          ]
        },
        {
          "output_type": "stream",
          "name": "stderr",
          "text": [
            "100%|██████████| 6/6 [00:00<00:00, 582.61it/s]\n"
          ]
        },
        {
          "output_type": "stream",
          "name": "stdout",
          "text": [
            "Time taken to read the output file data is 0.20407414436340332\n",
            "Total details in output dict is: 5817\n",
            "Total details in linked dict is: 5817\n"
          ]
        },
        {
          "output_type": "stream",
          "name": "stderr",
          "text": [
            "100%|██████████| 5817/5817 [00:00<00:00, 14203.80it/s]\n"
          ]
        },
        {
          "output_type": "stream",
          "name": "stdout",
          "text": [
            "StellarDiGraph: Directed multigraph\n",
            " Nodes: 7597, Edges: 12165\n",
            "\n",
            " Node types:\n",
            "  transaction: [4827]\n",
            "    Features: none\n",
            "    Edge types: transaction-default->address\n",
            "  address: [2770]\n",
            "    Features: none\n",
            "    Edge types: address-default->transaction\n",
            "\n",
            " Edge types:\n",
            "    transaction-default->address: [6910]\n",
            "        Weights: range=[1e+06, 2.3e+12], mean=1.11382e+10, std=8.2143e+10\n",
            "        Features: none\n",
            "    address-default->transaction: [5255]\n",
            "        Weights: range=[1e+06, 2.3e+12], mean=1.27133e+10, std=9.28843e+10\n",
            "        Features: none\n",
            "len of addr_list: 2770\n"
          ]
        },
        {
          "output_type": "stream",
          "name": "stderr",
          "text": [
            "100%|██████████| 6/6 [00:00<00:00, 426.53it/s]\n"
          ]
        },
        {
          "output_type": "stream",
          "name": "stdout",
          "text": [
            "Time taken to read the input file data is 0.285184383392334\n",
            "Total details in input dict is: 5900\n"
          ]
        },
        {
          "output_type": "stream",
          "name": "stderr",
          "text": [
            "100%|██████████| 6/6 [00:00<00:00, 446.73it/s]"
          ]
        },
        {
          "output_type": "stream",
          "name": "stdout",
          "text": [
            "Time taken to read the output file data is 0.19819259643554688\n",
            "Total details in output dict is: 5900\n"
          ]
        },
        {
          "output_type": "stream",
          "name": "stderr",
          "text": [
            "\n"
          ]
        },
        {
          "output_type": "stream",
          "name": "stdout",
          "text": [
            "Total details in linked dict is: 5900\n"
          ]
        },
        {
          "output_type": "stream",
          "name": "stderr",
          "text": [
            "100%|██████████| 5900/5900 [00:00<00:00, 30067.39it/s]\n"
          ]
        },
        {
          "output_type": "stream",
          "name": "stdout",
          "text": [
            "StellarDiGraph: Directed multigraph\n",
            " Nodes: 7653, Edges: 12277\n",
            "\n",
            " Node types:\n",
            "  transaction: [4872]\n",
            "    Features: none\n",
            "    Edge types: transaction-default->address\n",
            "  address: [2781]\n",
            "    Features: none\n",
            "    Edge types: address-default->transaction\n",
            "\n",
            " Edge types:\n",
            "    transaction-default->address: [6968]\n",
            "        Weights: range=[1e+06, 2.3e+12], mean=1.1058e+10, std=8.18061e+10\n",
            "        Features: none\n",
            "    address-default->transaction: [5309]\n",
            "        Weights: range=[1e+06, 2.3e+12], mean=1.25976e+10, std=9.24188e+10\n",
            "        Features: none\n",
            "len of addr_list: 2781\n"
          ]
        },
        {
          "output_type": "stream",
          "name": "stderr",
          "text": [
            "100%|██████████| 6/6 [00:00<00:00, 577.05it/s]\n"
          ]
        },
        {
          "output_type": "stream",
          "name": "stdout",
          "text": [
            "Time taken to read the input file data is 0.21398448944091797\n",
            "Total details in input dict is: 5948\n"
          ]
        },
        {
          "output_type": "stream",
          "name": "stderr",
          "text": [
            "100%|██████████| 6/6 [00:00<00:00, 365.84it/s]\n"
          ]
        },
        {
          "output_type": "stream",
          "name": "stdout",
          "text": [
            "Time taken to read the output file data is 0.20444059371948242\n",
            "Total details in output dict is: 5948\n",
            "Total details in linked dict is: 5948\n"
          ]
        },
        {
          "output_type": "stream",
          "name": "stderr",
          "text": [
            "100%|██████████| 5948/5948 [00:00<00:00, 33710.22it/s]\n"
          ]
        },
        {
          "output_type": "stream",
          "name": "stdout",
          "text": [
            "StellarDiGraph: Directed multigraph\n",
            " Nodes: 7659, Edges: 12285\n",
            "\n",
            " Node types:\n",
            "  transaction: [4876]\n",
            "    Features: none\n",
            "    Edge types: transaction-default->address\n",
            "  address: [2783]\n",
            "    Features: none\n",
            "    Edge types: address-default->transaction\n",
            "\n",
            " Edge types:\n",
            "    transaction-default->address: [6972]\n",
            "        Weights: range=[1e+06, 2.3e+12], mean=1.14731e+10, std=8.5737e+10\n",
            "        Features: none\n",
            "    address-default->transaction: [5313]\n",
            "        Weights: range=[1e+06, 2.3e+12], mean=1.31411e+10, std=9.69658e+10\n",
            "        Features: none\n",
            "len of addr_list: 2783\n"
          ]
        },
        {
          "output_type": "stream",
          "name": "stderr",
          "text": [
            "100%|██████████| 6/6 [00:00<00:00, 712.45it/s]\n"
          ]
        },
        {
          "output_type": "stream",
          "name": "stdout",
          "text": [
            "Time taken to read the input file data is 0.2456035614013672\n",
            "Total details in input dict is: 5993\n"
          ]
        },
        {
          "output_type": "stream",
          "name": "stderr",
          "text": [
            "100%|██████████| 6/6 [00:00<00:00, 437.10it/s]\n"
          ]
        },
        {
          "output_type": "stream",
          "name": "stdout",
          "text": [
            "Time taken to read the output file data is 0.20790529251098633\n",
            "Total details in output dict is: 5993\n",
            "Total details in linked dict is: 5993\n"
          ]
        },
        {
          "output_type": "stream",
          "name": "stderr",
          "text": [
            "100%|██████████| 5993/5993 [00:00<00:00, 34613.60it/s]\n"
          ]
        },
        {
          "output_type": "stream",
          "name": "stdout",
          "text": [
            "StellarDiGraph: Directed multigraph\n",
            " Nodes: 7676, Edges: 12317\n",
            "\n",
            " Node types:\n",
            "  transaction: [4892]\n",
            "    Features: none\n",
            "    Edge types: transaction-default->address\n",
            "  address: [2784]\n",
            "    Features: none\n",
            "    Edge types: address-default->transaction\n",
            "\n",
            " Edge types:\n",
            "    transaction-default->address: [6988]\n",
            "        Weights: range=[1e+06, 2.3e+12], mean=1.14819e+10, std=8.56401e+10\n",
            "        Features: none\n",
            "    address-default->transaction: [5329]\n",
            "        Weights: range=[1e+06, 2.3e+12], mean=1.31476e+10, std=9.68215e+10\n",
            "        Features: none\n",
            "len of addr_list: 2784\n"
          ]
        },
        {
          "output_type": "stream",
          "name": "stderr",
          "text": [
            "100%|██████████| 6/6 [00:00<00:00, 402.24it/s]\n"
          ]
        },
        {
          "output_type": "stream",
          "name": "stdout",
          "text": [
            "Time taken to read the input file data is 0.19927263259887695\n",
            "Total details in input dict is: 6045\n"
          ]
        },
        {
          "output_type": "stream",
          "name": "stderr",
          "text": [
            "100%|██████████| 6/6 [00:00<00:00, 300.58it/s]\n"
          ]
        },
        {
          "output_type": "stream",
          "name": "stdout",
          "text": [
            "Time taken to read the output file data is 0.21120309829711914\n",
            "Total details in output dict is: 6045\n",
            "Total details in linked dict is: 6045\n"
          ]
        },
        {
          "output_type": "stream",
          "name": "stderr",
          "text": [
            "100%|██████████| 6045/6045 [00:00<00:00, 40478.00it/s]\n"
          ]
        },
        {
          "output_type": "stream",
          "name": "stdout",
          "text": [
            "StellarDiGraph: Directed multigraph\n",
            " Nodes: 7705, Edges: 12363\n",
            "\n",
            " Node types:\n",
            "  transaction: [4919]\n",
            "    Features: none\n",
            "    Edge types: transaction-default->address\n",
            "  address: [2786]\n",
            "    Features: none\n",
            "    Edge types: address-default->transaction\n",
            "\n",
            " Edge types:\n",
            "    transaction-default->address: [7020]\n",
            "        Weights: range=[1e+06, 2.3e+12], mean=1.14972e+10, std=8.54645e+10\n",
            "        Features: none\n",
            "    address-default->transaction: [5343]\n",
            "        Weights: range=[1e+06, 2.3e+12], mean=1.31778e+10, std=9.67165e+10\n",
            "        Features: none\n",
            "len of addr_list: 2786\n"
          ]
        },
        {
          "output_type": "stream",
          "name": "stderr",
          "text": [
            "100%|██████████| 6/6 [00:00<00:00, 529.39it/s]\n"
          ]
        },
        {
          "output_type": "stream",
          "name": "stdout",
          "text": [
            "Time taken to read the input file data is 0.23633861541748047\n",
            "Total details in input dict is: 6097\n"
          ]
        },
        {
          "output_type": "stream",
          "name": "stderr",
          "text": [
            "100%|██████████| 6/6 [00:00<00:00, 777.03it/s]"
          ]
        },
        {
          "output_type": "stream",
          "name": "stdout",
          "text": [
            "Time taken to read the output file data is 0.19729208946228027\n",
            "Total details in output dict is: 6097\n",
            "Total details in linked dict is: 6097"
          ]
        },
        {
          "output_type": "stream",
          "name": "stderr",
          "text": [
            "\n"
          ]
        },
        {
          "output_type": "stream",
          "name": "stdout",
          "text": [
            "\n"
          ]
        },
        {
          "output_type": "stream",
          "name": "stderr",
          "text": [
            "100%|██████████| 6097/6097 [00:00<00:00, 28002.29it/s]\n"
          ]
        },
        {
          "output_type": "stream",
          "name": "stdout",
          "text": [
            "StellarDiGraph: Directed multigraph\n",
            " Nodes: 7731, Edges: 12414\n",
            "\n",
            " Node types:\n",
            "  transaction: [4934]\n",
            "    Features: none\n",
            "    Edge types: transaction-default->address\n",
            "  address: [2797]\n",
            "    Features: none\n",
            "    Edge types: address-default->transaction\n",
            "\n",
            " Edge types:\n",
            "    transaction-default->address: [7049]\n",
            "        Weights: range=[1e+06, 2.3e+12], mean=1.16464e+10, std=8.5546e+10\n",
            "        Features: none\n",
            "    address-default->transaction: [5365]\n",
            "        Weights: range=[1e+06, 2.3e+12], mean=1.32738e+10, std=9.65822e+10\n",
            "        Features: none\n",
            "len of addr_list: 2797\n"
          ]
        },
        {
          "output_type": "stream",
          "name": "stderr",
          "text": [
            "100%|██████████| 6/6 [00:00<00:00, 398.18it/s]\n"
          ]
        },
        {
          "output_type": "stream",
          "name": "stdout",
          "text": [
            "Time taken to read the input file data is 0.22673797607421875\n",
            "Total details in input dict is: 6160\n"
          ]
        },
        {
          "output_type": "stream",
          "name": "stderr",
          "text": [
            "100%|██████████| 6/6 [00:00<00:00, 119.06it/s]\n"
          ]
        },
        {
          "output_type": "stream",
          "name": "stdout",
          "text": [
            "Time taken to read the output file data is 0.24579644203186035\n",
            "Total details in output dict is: 6160\n",
            "Total details in linked dict is: 6160\n"
          ]
        },
        {
          "output_type": "stream",
          "name": "stderr",
          "text": [
            "100%|██████████| 6160/6160 [00:00<00:00, 32728.57it/s]\n"
          ]
        },
        {
          "output_type": "stream",
          "name": "stdout",
          "text": [
            "StellarDiGraph: Directed multigraph\n",
            " Nodes: 7738, Edges: 12422\n",
            "\n",
            " Node types:\n",
            "  transaction: [4941]\n",
            "    Features: none\n",
            "    Edge types: transaction-default->address\n",
            "  address: [2797]\n",
            "    Features: none\n",
            "    Edge types: address-default->transaction\n",
            "\n",
            " Edge types:\n",
            "    transaction-default->address: [7054]\n",
            "        Weights: range=[1e+06, 2.3e+12], mean=1.16814e+10, std=8.55597e+10\n",
            "        Features: none\n",
            "    address-default->transaction: [5368]\n",
            "        Weights: range=[1e+06, 2.3e+12], mean=1.3312e+10, std=9.6605e+10\n",
            "        Features: none\n",
            "len of addr_list: 2797\n"
          ]
        },
        {
          "output_type": "stream",
          "name": "stderr",
          "text": [
            "100%|██████████| 6/6 [00:00<00:00, 152.42it/s]\n"
          ]
        },
        {
          "output_type": "stream",
          "name": "stdout",
          "text": [
            "Time taken to read the input file data is 0.3257012367248535\n",
            "Total details in input dict is: 6212\n"
          ]
        },
        {
          "output_type": "stream",
          "name": "stderr",
          "text": [
            "100%|██████████| 6/6 [00:00<00:00, 314.55it/s]\n"
          ]
        },
        {
          "output_type": "stream",
          "name": "stdout",
          "text": [
            "Time taken to read the output file data is 0.22329115867614746\n",
            "Total details in output dict is: 6212\n",
            "Total details in linked dict is: 6212\n"
          ]
        },
        {
          "output_type": "stream",
          "name": "stderr",
          "text": [
            "100%|██████████| 6212/6212 [00:00<00:00, 36051.98it/s]\n"
          ]
        },
        {
          "output_type": "stream",
          "name": "stdout",
          "text": [
            "StellarDiGraph: Directed multigraph\n",
            " Nodes: 7816, Edges: 12540\n",
            "\n",
            " Node types:\n",
            "  transaction: [4972]\n",
            "    Features: none\n",
            "    Edge types: transaction-default->address\n",
            "  address: [2844]\n",
            "    Features: none\n",
            "    Edge types: address-default->transaction\n",
            "\n",
            " Edge types:\n",
            "    transaction-default->address: [7114]\n",
            "        Weights: range=[1e+06, 2.3e+12], mean=1.25309e+10, std=8.79506e+10\n",
            "        Features: none\n",
            "    address-default->transaction: [5426]\n",
            "        Weights: range=[1e+06, 2.3e+12], mean=1.4408e+10, std=9.92662e+10\n",
            "        Features: none\n",
            "len of addr_list: 2844\n"
          ]
        },
        {
          "output_type": "stream",
          "name": "stderr",
          "text": [
            "100%|██████████| 6/6 [00:00<00:00, 440.71it/s]\n"
          ]
        },
        {
          "output_type": "stream",
          "name": "stdout",
          "text": [
            "Time taken to read the input file data is 0.31621766090393066\n",
            "Total details in input dict is: 6269\n"
          ]
        },
        {
          "output_type": "stream",
          "name": "stderr",
          "text": [
            "100%|██████████| 6/6 [00:00<00:00, 506.29it/s]"
          ]
        },
        {
          "output_type": "stream",
          "name": "stdout",
          "text": [
            "Time taken to read the output file data is 0.19395709037780762\n",
            "Total details in output dict is: 6269\n"
          ]
        },
        {
          "output_type": "stream",
          "name": "stderr",
          "text": [
            "\n"
          ]
        },
        {
          "output_type": "stream",
          "name": "stdout",
          "text": [
            "Total details in linked dict is: 6269\n"
          ]
        },
        {
          "output_type": "stream",
          "name": "stderr",
          "text": [
            "100%|██████████| 6269/6269 [00:00<00:00, 35774.96it/s]\n"
          ]
        },
        {
          "output_type": "stream",
          "name": "stdout",
          "text": [
            "StellarDiGraph: Directed multigraph\n",
            " Nodes: 7844, Edges: 12578\n",
            "\n",
            " Node types:\n",
            "  transaction: [4990]\n",
            "    Features: none\n",
            "    Edge types: transaction-default->address\n",
            "  address: [2854]\n",
            "    Features: none\n",
            "    Edge types: address-default->transaction\n",
            "\n",
            " Edge types:\n",
            "    transaction-default->address: [7133]\n",
            "        Weights: range=[1e+06, 2.3e+12], mean=1.28924e+10, std=8.92046e+10\n",
            "        Features: none\n",
            "    address-default->transaction: [5445]\n",
            "        Weights: range=[1e+06, 2.3e+12], mean=1.4875e+10, std=1.00676e+11\n",
            "        Features: none\n",
            "len of addr_list: 2854\n"
          ]
        },
        {
          "output_type": "stream",
          "name": "stderr",
          "text": [
            "100%|██████████| 6/6 [00:00<00:00, 45.73it/s]\n"
          ]
        },
        {
          "output_type": "stream",
          "name": "stdout",
          "text": [
            "Time taken to read the input file data is 0.29652881622314453\n",
            "Total details in input dict is: 6348\n"
          ]
        },
        {
          "output_type": "stream",
          "name": "stderr",
          "text": [
            "100%|██████████| 6/6 [00:00<00:00, 616.13it/s]\n"
          ]
        },
        {
          "output_type": "stream",
          "name": "stdout",
          "text": [
            "Time taken to read the output file data is 0.18733501434326172\n",
            "Total details in output dict is: 6348\n",
            "Total details in linked dict is: 6348\n"
          ]
        },
        {
          "output_type": "stream",
          "name": "stderr",
          "text": [
            "100%|██████████| 6348/6348 [00:00<00:00, 30714.14it/s]\n"
          ]
        },
        {
          "output_type": "stream",
          "name": "stdout",
          "text": [
            "StellarDiGraph: Directed multigraph\n",
            " Nodes: 7914, Edges: 12676\n",
            "\n",
            " Node types:\n",
            "  transaction: [5038]\n",
            "    Features: none\n",
            "    Edge types: transaction-default->address\n",
            "  address: [2876]\n",
            "    Features: none\n",
            "    Edge types: address-default->transaction\n",
            "\n",
            " Edge types:\n",
            "    transaction-default->address: [7183]\n",
            "        Weights: range=[1e+06, 2.3e+12], mean=1.2874e+10, std=8.89274e+10\n",
            "        Features: none\n",
            "    address-default->transaction: [5493]\n",
            "        Weights: range=[1e+06, 2.3e+12], mean=1.48348e+10, std=1.00275e+11\n",
            "        Features: none\n",
            "len of addr_list: 2876\n"
          ]
        },
        {
          "output_type": "stream",
          "name": "stderr",
          "text": [
            "100%|██████████| 6/6 [00:00<00:00, 115.58it/s]\n"
          ]
        },
        {
          "output_type": "stream",
          "name": "stdout",
          "text": [
            "Time taken to read the input file data is 0.22968292236328125\n",
            "Total details in input dict is: 6426\n"
          ]
        },
        {
          "output_type": "stream",
          "name": "stderr",
          "text": [
            "100%|██████████| 6/6 [00:00<00:00, 344.28it/s]\n"
          ]
        },
        {
          "output_type": "stream",
          "name": "stdout",
          "text": [
            "Time taken to read the output file data is 0.2065868377685547\n",
            "Total details in output dict is: 6426\n",
            "Total details in linked dict is: 6426\n"
          ]
        },
        {
          "output_type": "stream",
          "name": "stderr",
          "text": [
            "100%|██████████| 6426/6426 [00:00<00:00, 33981.16it/s]\n"
          ]
        },
        {
          "output_type": "stream",
          "name": "stdout",
          "text": [
            "StellarDiGraph: Directed multigraph\n",
            " Nodes: 7975, Edges: 12748\n",
            "\n",
            " Node types:\n",
            "  transaction: [5076]\n",
            "    Features: none\n",
            "    Edge types: transaction-default->address\n",
            "  address: [2899]\n",
            "    Features: none\n",
            "    Edge types: address-default->transaction\n",
            "\n",
            " Edge types:\n",
            "    transaction-default->address: [7220]\n",
            "        Weights: range=[1e+06, 2.3e+12], mean=1.29463e+10, std=8.91876e+10\n",
            "        Features: none\n",
            "    address-default->transaction: [5528]\n",
            "        Weights: range=[1e+06, 2.3e+12], mean=1.49069e+10, std=1.0052e+11\n",
            "        Features: none\n",
            "len of addr_list: 2899\n"
          ]
        },
        {
          "output_type": "stream",
          "name": "stderr",
          "text": [
            "100%|██████████| 6/6 [00:00<00:00, 157.88it/s]\n"
          ]
        },
        {
          "output_type": "stream",
          "name": "stdout",
          "text": [
            "Time taken to read the input file data is 0.3150813579559326\n",
            "Total details in input dict is: 6493\n"
          ]
        },
        {
          "output_type": "stream",
          "name": "stderr",
          "text": [
            "100%|██████████| 6/6 [00:00<00:00, 428.43it/s]\n"
          ]
        },
        {
          "output_type": "stream",
          "name": "stdout",
          "text": [
            "Time taken to read the output file data is 0.2356700897216797\n",
            "Total details in output dict is: 6493\n",
            "Total details in linked dict is: 6493\n"
          ]
        },
        {
          "output_type": "stream",
          "name": "stderr",
          "text": [
            "100%|██████████| 6493/6493 [00:00<00:00, 17449.68it/s]\n"
          ]
        },
        {
          "output_type": "stream",
          "name": "stdout",
          "text": [
            "StellarDiGraph: Directed multigraph\n",
            " Nodes: 8017, Edges: 12814\n",
            "\n",
            " Node types:\n",
            "  transaction: [5108]\n",
            "    Features: none\n",
            "    Edge types: transaction-default->address\n",
            "  address: [2909]\n",
            "    Features: none\n",
            "    Edge types: address-default->transaction\n",
            "\n",
            " Edge types:\n",
            "    transaction-default->address: [7256]\n",
            "        Weights: range=[1e+06, 2.3e+12], mean=1.3001e+10, std=8.90571e+10\n",
            "        Features: none\n",
            "    address-default->transaction: [5558]\n",
            "        Weights: range=[1e+06, 2.3e+12], mean=1.49766e+10, std=1.00351e+11\n",
            "        Features: none\n",
            "len of addr_list: 2909\n"
          ]
        },
        {
          "output_type": "stream",
          "name": "stderr",
          "text": [
            "100%|██████████| 6/6 [00:00<00:00, 368.26it/s]\n"
          ]
        },
        {
          "output_type": "stream",
          "name": "stdout",
          "text": [
            "Time taken to read the input file data is 0.2690737247467041\n",
            "Total details in input dict is: 6589\n"
          ]
        },
        {
          "output_type": "stream",
          "name": "stderr",
          "text": [
            "100%|██████████| 6/6 [00:00<00:00, 394.06it/s]\n"
          ]
        },
        {
          "output_type": "stream",
          "name": "stdout",
          "text": [
            "Time taken to read the output file data is 0.3805994987487793\n",
            "Total details in output dict is: 6589\n",
            "Total details in linked dict is: 6589\n"
          ]
        },
        {
          "output_type": "stream",
          "name": "stderr",
          "text": [
            "100%|██████████| 6589/6589 [00:00<00:00, 38369.37it/s]\n"
          ]
        },
        {
          "output_type": "stream",
          "name": "stdout",
          "text": [
            "StellarDiGraph: Directed multigraph\n",
            " Nodes: 8098, Edges: 12944\n",
            "\n",
            " Node types:\n",
            "  transaction: [5169]\n",
            "    Features: none\n",
            "    Edge types: transaction-default->address\n",
            "  address: [2929]\n",
            "    Features: none\n",
            "    Edge types: address-default->transaction\n",
            "\n",
            " Edge types:\n",
            "    transaction-default->address: [7326]\n",
            "        Weights: range=[1e+06, 2.3e+12], mean=1.33524e+10, std=8.92437e+10\n",
            "        Features: none\n",
            "    address-default->transaction: [5618]\n",
            "        Weights: range=[1e+06, 2.3e+12], mean=1.5414e+10, std=1.00513e+11\n",
            "        Features: none\n",
            "len of addr_list: 2929\n"
          ]
        },
        {
          "output_type": "stream",
          "name": "stderr",
          "text": [
            "100%|██████████| 6/6 [00:00<00:00, 380.94it/s]\n"
          ]
        },
        {
          "output_type": "stream",
          "name": "stdout",
          "text": [
            "Time taken to read the input file data is 0.895294189453125\n",
            "Total details in input dict is: 6674\n"
          ]
        },
        {
          "output_type": "stream",
          "name": "stderr",
          "text": [
            "100%|██████████| 6/6 [00:00<00:00, 483.54it/s]\n"
          ]
        },
        {
          "output_type": "stream",
          "name": "stdout",
          "text": [
            "Time taken to read the output file data is 0.23881864547729492\n",
            "Total details in output dict is: 6674\n",
            "Total details in linked dict is: 6674\n"
          ]
        },
        {
          "output_type": "stream",
          "name": "stderr",
          "text": [
            "100%|██████████| 6674/6674 [00:00<00:00, 37648.54it/s]\n"
          ]
        },
        {
          "output_type": "stream",
          "name": "stdout",
          "text": [
            "StellarDiGraph: Directed multigraph\n",
            " Nodes: 8186, Edges: 13081\n",
            "\n",
            " Node types:\n",
            "  transaction: [5224]\n",
            "    Features: none\n",
            "    Edge types: transaction-default->address\n",
            "  address: [2962]\n",
            "    Features: none\n",
            "    Edge types: address-default->transaction\n",
            "\n",
            " Edge types:\n",
            "    transaction-default->address: [7398]\n",
            "        Weights: range=[1e+06, 2.3e+12], mean=1.366e+10, std=8.91096e+10\n",
            "        Features: none\n",
            "    address-default->transaction: [5683]\n",
            "        Weights: range=[1e+06, 2.3e+12], mean=1.58029e+10, std=1.00276e+11\n",
            "        Features: none\n",
            "len of addr_list: 2962\n"
          ]
        },
        {
          "output_type": "stream",
          "name": "stderr",
          "text": [
            "100%|██████████| 6/6 [00:00<00:00, 179.79it/s]\n"
          ]
        },
        {
          "output_type": "stream",
          "name": "stdout",
          "text": [
            "Time taken to read the input file data is 0.26557469367980957\n",
            "Total details in input dict is: 6724\n"
          ]
        },
        {
          "output_type": "stream",
          "name": "stderr",
          "text": [
            "100%|██████████| 6/6 [00:00<00:00, 332.86it/s]\n"
          ]
        },
        {
          "output_type": "stream",
          "name": "stdout",
          "text": [
            "Time taken to read the output file data is 0.31739330291748047\n",
            "Total details in output dict is: 6724\n",
            "Total details in linked dict is: 6724\n"
          ]
        },
        {
          "output_type": "stream",
          "name": "stderr",
          "text": [
            "100%|██████████| 6724/6724 [00:00<00:00, 40439.03it/s]\n"
          ]
        },
        {
          "output_type": "stream",
          "name": "stdout",
          "text": [
            "StellarDiGraph: Directed multigraph\n",
            " Nodes: 8251, Edges: 13175\n",
            "\n",
            " Node types:\n",
            "  transaction: [5280]\n",
            "    Features: none\n",
            "    Edge types: transaction-default->address\n",
            "  address: [2971]\n",
            "    Features: none\n",
            "    Edge types: address-default->transaction\n",
            "\n",
            " Edge types:\n",
            "    transaction-default->address: [7471]\n",
            "        Weights: range=[1e+06, 2.3e+12], mean=1.38465e+10, std=8.8769e+10\n",
            "        Features: none\n",
            "    address-default->transaction: [5704]\n",
            "        Weights: range=[1e+06, 2.3e+12], mean=1.58375e+10, std=1.00135e+11\n",
            "        Features: none\n",
            "len of addr_list: 2971\n"
          ]
        },
        {
          "output_type": "stream",
          "name": "stderr",
          "text": [
            "100%|██████████| 6/6 [00:00<00:00, 348.26it/s]\n"
          ]
        },
        {
          "output_type": "stream",
          "name": "stdout",
          "text": [
            "Time taken to read the input file data is 0.26933908462524414\n",
            "Total details in input dict is: 6782\n"
          ]
        },
        {
          "output_type": "stream",
          "name": "stderr",
          "text": [
            "100%|██████████| 6/6 [00:00<00:00, 436.40it/s]"
          ]
        },
        {
          "output_type": "stream",
          "name": "stdout",
          "text": [
            "Time taken to read the output file data is 0.19392013549804688\n",
            "Total details in output dict is: 6782\n",
            "Total details in linked dict is: 6782"
          ]
        },
        {
          "output_type": "stream",
          "name": "stderr",
          "text": [
            "\n"
          ]
        },
        {
          "output_type": "stream",
          "name": "stdout",
          "text": [
            "\n"
          ]
        },
        {
          "output_type": "stream",
          "name": "stderr",
          "text": [
            "100%|██████████| 6782/6782 [00:00<00:00, 16784.63it/s]\n"
          ]
        },
        {
          "output_type": "stream",
          "name": "stdout",
          "text": [
            "StellarDiGraph: Directed multigraph\n",
            " Nodes: 8290, Edges: 13225\n",
            "\n",
            " Node types:\n",
            "  transaction: [5304]\n",
            "    Features: none\n",
            "    Edge types: transaction-default->address\n",
            "  address: [2986]\n",
            "    Features: none\n",
            "    Edge types: address-default->transaction\n",
            "\n",
            " Edge types:\n",
            "    transaction-default->address: [7496]\n",
            "        Weights: range=[1e+06, 2.3e+12], mean=1.40496e+10, std=8.95957e+10\n",
            "        Features: none\n",
            "    address-default->transaction: [5729]\n",
            "        Weights: range=[1e+06, 2.3e+12], mean=1.60946e+10, std=1.01042e+11\n",
            "        Features: none\n",
            "len of addr_list: 2986\n"
          ]
        },
        {
          "output_type": "stream",
          "name": "stderr",
          "text": [
            "100%|██████████| 6/6 [00:00<00:00, 394.24it/s]\n"
          ]
        },
        {
          "output_type": "stream",
          "name": "stdout",
          "text": [
            "Time taken to read the input file data is 0.21870708465576172\n",
            "Total details in input dict is: 6825\n"
          ]
        },
        {
          "output_type": "stream",
          "name": "stderr",
          "text": [
            "100%|██████████| 6/6 [00:00<00:00, 354.88it/s]"
          ]
        },
        {
          "output_type": "stream",
          "name": "stdout",
          "text": [
            "Time taken to read the output file data is 0.19681167602539062\n",
            "Total details in output dict is: 6825\n"
          ]
        },
        {
          "output_type": "stream",
          "name": "stderr",
          "text": [
            "\n"
          ]
        },
        {
          "output_type": "stream",
          "name": "stdout",
          "text": [
            "Total details in linked dict is: 6825\n"
          ]
        },
        {
          "output_type": "stream",
          "name": "stderr",
          "text": [
            "100%|██████████| 6825/6825 [00:00<00:00, 44056.93it/s]\n"
          ]
        },
        {
          "output_type": "stream",
          "name": "stdout",
          "text": [
            "StellarDiGraph: Directed multigraph\n",
            " Nodes: 8328, Edges: 13271\n",
            "\n",
            " Node types:\n",
            "  transaction: [5334]\n",
            "    Features: none\n",
            "    Edge types: transaction-default->address\n",
            "  address: [2994]\n",
            "    Features: none\n",
            "    Edge types: address-default->transaction\n",
            "\n",
            " Edge types:\n",
            "    transaction-default->address: [7526]\n",
            "        Weights: range=[1e+06, 2.3e+12], mean=1.40917e+10, std=8.95209e+10\n",
            "        Features: none\n",
            "    address-default->transaction: [5745]\n",
            "        Weights: range=[1e+06, 2.3e+12], mean=1.61575e+10, std=1.0102e+11\n",
            "        Features: none\n",
            "len of addr_list: 2994\n"
          ]
        },
        {
          "output_type": "stream",
          "name": "stderr",
          "text": [
            "100%|██████████| 6/6 [00:00<00:00, 359.06it/s]\n"
          ]
        },
        {
          "output_type": "stream",
          "name": "stdout",
          "text": [
            "Time taken to read the input file data is 0.2784454822540283\n",
            "Total details in input dict is: 6889\n"
          ]
        },
        {
          "output_type": "stream",
          "name": "stderr",
          "text": [
            "100%|██████████| 6/6 [00:00<00:00, 308.67it/s]"
          ]
        },
        {
          "output_type": "stream",
          "name": "stdout",
          "text": [
            "Time taken to read the output file data is 0.1871194839477539\n",
            "Total details in output dict is: 6889\n",
            "Total details in linked dict is: 6889\n"
          ]
        },
        {
          "output_type": "stream",
          "name": "stderr",
          "text": [
            "\n",
            "100%|██████████| 6889/6889 [00:00<00:00, 32839.21it/s]\n"
          ]
        },
        {
          "output_type": "stream",
          "name": "stdout",
          "text": [
            "StellarDiGraph: Directed multigraph\n",
            " Nodes: 8472, Edges: 13466\n",
            "\n",
            " Node types:\n",
            "  transaction: [5429]\n",
            "    Features: none\n",
            "    Edge types: transaction-default->address\n",
            "  address: [3043]\n",
            "    Features: none\n",
            "    Edge types: address-default->transaction\n",
            "\n",
            " Edge types:\n",
            "    transaction-default->address: [7647]\n",
            "        Weights: range=[1e+06, 2.3e+12], mean=1.45523e+10, std=8.95996e+10\n",
            "        Features: none\n",
            "    address-default->transaction: [5819]\n",
            "        Weights: range=[1e+06, 2.3e+12], mean=1.6773e+10, std=1.01267e+11\n",
            "        Features: none\n",
            "len of addr_list: 3043\n"
          ]
        },
        {
          "output_type": "stream",
          "name": "stderr",
          "text": [
            "100%|██████████| 6/6 [00:00<00:00, 824.70it/s]\n"
          ]
        },
        {
          "output_type": "stream",
          "name": "stdout",
          "text": [
            "Time taken to read the input file data is 0.28329014778137207\n",
            "Total details in input dict is: 6932\n"
          ]
        },
        {
          "output_type": "stream",
          "name": "stderr",
          "text": [
            "100%|██████████| 6/6 [00:00<00:00, 207.95it/s]\n"
          ]
        },
        {
          "output_type": "stream",
          "name": "stdout",
          "text": [
            "Time taken to read the output file data is 0.2287921905517578\n",
            "Total details in output dict is: 6932\n",
            "Total details in linked dict is: 6932\n"
          ]
        },
        {
          "output_type": "stream",
          "name": "stderr",
          "text": [
            "100%|██████████| 6932/6932 [00:00<00:00, 33404.78it/s]\n"
          ]
        },
        {
          "output_type": "stream",
          "name": "stdout",
          "text": [
            "StellarDiGraph: Directed multigraph\n",
            " Nodes: 8502, Edges: 13508\n",
            "\n",
            " Node types:\n",
            "  transaction: [5452]\n",
            "    Features: none\n",
            "    Edge types: transaction-default->address\n",
            "  address: [3050]\n",
            "    Features: none\n",
            "    Edge types: address-default->transaction\n",
            "\n",
            " Edge types:\n",
            "    transaction-default->address: [7669]\n",
            "        Weights: range=[1e+06, 2.3e+12], mean=1.48153e+10, std=8.99891e+10\n",
            "        Features: none\n",
            "    address-default->transaction: [5839]\n",
            "        Weights: range=[1e+06, 2.3e+12], mean=1.7114e+10, std=1.01688e+11\n",
            "        Features: none\n",
            "len of addr_list: 3050\n"
          ]
        },
        {
          "output_type": "stream",
          "name": "stderr",
          "text": [
            "100%|██████████| 6/6 [00:00<00:00, 442.22it/s]\n"
          ]
        },
        {
          "output_type": "stream",
          "name": "stdout",
          "text": [
            "Time taken to read the input file data is 0.29212355613708496\n",
            "Total details in input dict is: 7020\n"
          ]
        },
        {
          "output_type": "stream",
          "name": "stderr",
          "text": [
            "100%|██████████| 6/6 [00:00<00:00, 284.30it/s]"
          ]
        },
        {
          "output_type": "stream",
          "name": "stdout",
          "text": [
            "Time taken to read the output file data is 0.19057488441467285\n",
            "Total details in output dict is: 7020\n"
          ]
        },
        {
          "output_type": "stream",
          "name": "stderr",
          "text": [
            "\n"
          ]
        },
        {
          "output_type": "stream",
          "name": "stdout",
          "text": [
            "Total details in linked dict is: 7020\n"
          ]
        },
        {
          "output_type": "stream",
          "name": "stderr",
          "text": [
            "100%|██████████| 7020/7020 [00:00<00:00, 44656.53it/s]\n"
          ]
        },
        {
          "output_type": "stream",
          "name": "stdout",
          "text": [
            "StellarDiGraph: Directed multigraph\n",
            " Nodes: 8593, Edges: 13643\n",
            "\n",
            " Node types:\n",
            "  transaction: [5499]\n",
            "    Features: none\n",
            "    Edge types: transaction-default->address\n",
            "  address: [3094]\n",
            "    Features: none\n",
            "    Edge types: address-default->transaction\n",
            "\n",
            " Edge types:\n",
            "    transaction-default->address: [7738]\n",
            "        Weights: range=[1e+06, 2.3e+12], mean=1.51227e+10, std=8.9829e+10\n",
            "        Features: none\n",
            "    address-default->transaction: [5905]\n",
            "        Weights: range=[1e+06, 2.3e+12], mean=1.74983e+10, std=1.01389e+11\n",
            "        Features: none\n",
            "len of addr_list: 3094\n"
          ]
        },
        {
          "output_type": "stream",
          "name": "stderr",
          "text": [
            "100%|██████████| 6/6 [00:00<00:00, 325.77it/s]\n"
          ]
        },
        {
          "output_type": "stream",
          "name": "stdout",
          "text": [
            "Time taken to read the input file data is 0.27311086654663086\n",
            "Total details in input dict is: 7091\n"
          ]
        },
        {
          "output_type": "stream",
          "name": "stderr",
          "text": [
            "100%|██████████| 6/6 [00:00<00:00, 315.05it/s]\n"
          ]
        },
        {
          "output_type": "stream",
          "name": "stdout",
          "text": [
            "Time taken to read the output file data is 0.2065575122833252\n",
            "Total details in output dict is: 7091\n",
            "Total details in linked dict is: 7091\n"
          ]
        },
        {
          "output_type": "stream",
          "name": "stderr",
          "text": [
            "100%|██████████| 7091/7091 [00:00<00:00, 33003.18it/s]\n"
          ]
        },
        {
          "output_type": "stream",
          "name": "stdout",
          "text": [
            "StellarDiGraph: Directed multigraph\n",
            " Nodes: 8660, Edges: 13733\n",
            "\n",
            " Node types:\n",
            "  transaction: [5544]\n",
            "    Features: none\n",
            "    Edge types: transaction-default->address\n",
            "  address: [3116]\n",
            "    Features: none\n",
            "    Edge types: address-default->transaction\n",
            "\n",
            " Edge types:\n",
            "    transaction-default->address: [7788]\n",
            "        Weights: range=[1e+06, 2.3e+12], mean=1.53517e+10, std=8.96883e+10\n",
            "        Features: none\n",
            "    address-default->transaction: [5945]\n",
            "        Weights: range=[1e+06, 2.3e+12], mean=1.777e+10, std=1.01209e+11\n",
            "        Features: none\n",
            "len of addr_list: 3116\n"
          ]
        },
        {
          "output_type": "stream",
          "name": "stderr",
          "text": [
            "100%|██████████| 6/6 [00:00<00:00, 417.61it/s]\n"
          ]
        },
        {
          "output_type": "stream",
          "name": "stdout",
          "text": [
            "Time taken to read the input file data is 0.21148943901062012\n",
            "Total details in input dict is: 7161\n"
          ]
        },
        {
          "output_type": "stream",
          "name": "stderr",
          "text": [
            "100%|██████████| 6/6 [00:00<00:00, 438.44it/s]\n"
          ]
        },
        {
          "output_type": "stream",
          "name": "stdout",
          "text": [
            "Time taken to read the output file data is 0.24873971939086914\n",
            "Total details in output dict is: 7161\n",
            "Total details in linked dict is: 7161\n"
          ]
        },
        {
          "output_type": "stream",
          "name": "stderr",
          "text": [
            "100%|██████████| 7161/7161 [00:00<00:00, 40258.49it/s]\n"
          ]
        },
        {
          "output_type": "stream",
          "name": "stdout",
          "text": [
            "StellarDiGraph: Directed multigraph\n",
            " Nodes: 8742, Edges: 13856\n",
            "\n",
            " Node types:\n",
            "  transaction: [5590]\n",
            "    Features: none\n",
            "    Edge types: transaction-default->address\n",
            "  address: [3152]\n",
            "    Features: none\n",
            "    Edge types: address-default->transaction\n",
            "\n",
            " Edge types:\n",
            "    transaction-default->address: [7856]\n",
            "        Weights: range=[1e+06, 2.3e+12], mean=1.5675e+10, std=9.01987e+10\n",
            "        Features: none\n",
            "    address-default->transaction: [6000]\n",
            "        Weights: range=[1e+06, 2.3e+12], mean=1.81578e+10, std=1.01773e+11\n",
            "        Features: none\n",
            "len of addr_list: 3152\n"
          ]
        },
        {
          "output_type": "stream",
          "name": "stderr",
          "text": [
            "100%|██████████| 6/6 [00:00<00:00, 34.60it/s]\n"
          ]
        },
        {
          "output_type": "stream",
          "name": "stdout",
          "text": [
            "Time taken to read the input file data is 0.3398768901824951\n",
            "Total details in input dict is: 7232\n"
          ]
        },
        {
          "output_type": "stream",
          "name": "stderr",
          "text": [
            "100%|██████████| 6/6 [00:00<00:00, 420.63it/s]\n"
          ]
        },
        {
          "output_type": "stream",
          "name": "stdout",
          "text": [
            "Time taken to read the output file data is 0.22018861770629883\n",
            "Total details in output dict is: 7232\n",
            "Total details in linked dict is: 7232\n"
          ]
        },
        {
          "output_type": "stream",
          "name": "stderr",
          "text": [
            "100%|██████████| 7232/7232 [00:00<00:00, 18584.17it/s]\n"
          ]
        },
        {
          "output_type": "stream",
          "name": "stdout",
          "text": [
            "StellarDiGraph: Directed multigraph\n",
            " Nodes: 8781, Edges: 13917\n",
            "\n",
            " Node types:\n",
            "  transaction: [5616]\n",
            "    Features: none\n",
            "    Edge types: transaction-default->address\n",
            "  address: [3165]\n",
            "    Features: none\n",
            "    Edge types: address-default->transaction\n",
            "\n",
            " Edge types:\n",
            "    transaction-default->address: [7891]\n",
            "        Weights: range=[1e+06, 2.3e+12], mean=1.59388e+10, std=9.04384e+10\n",
            "        Features: none\n",
            "    address-default->transaction: [6026]\n",
            "        Weights: range=[1e+06, 2.3e+12], mean=1.84962e+10, std=1.02053e+11\n",
            "        Features: none\n",
            "len of addr_list: 3165\n"
          ]
        },
        {
          "output_type": "stream",
          "name": "stderr",
          "text": [
            "100%|██████████| 6/6 [00:00<00:00, 42.08it/s]\n"
          ]
        },
        {
          "output_type": "stream",
          "name": "stdout",
          "text": [
            "Time taken to read the input file data is 0.3286864757537842\n",
            "Total details in input dict is: 7292\n"
          ]
        },
        {
          "output_type": "stream",
          "name": "stderr",
          "text": [
            "100%|██████████| 6/6 [00:00<00:00, 353.62it/s]\n"
          ]
        },
        {
          "output_type": "stream",
          "name": "stdout",
          "text": [
            "Time taken to read the output file data is 0.20952177047729492\n",
            "Total details in output dict is: 7292\n",
            "Total details in linked dict is: 7292\n"
          ]
        },
        {
          "output_type": "stream",
          "name": "stderr",
          "text": [
            "100%|██████████| 7292/7292 [00:00<00:00, 36023.18it/s]\n"
          ]
        },
        {
          "output_type": "stream",
          "name": "stdout",
          "text": [
            "StellarDiGraph: Directed multigraph\n",
            " Nodes: 8822, Edges: 13971\n",
            "\n",
            " Node types:\n",
            "  transaction: [5644]\n",
            "    Features: none\n",
            "    Edge types: transaction-default->address\n",
            "  address: [3178]\n",
            "    Features: none\n",
            "    Edge types: address-default->transaction\n",
            "\n",
            " Edge types:\n",
            "    transaction-default->address: [7924]\n",
            "        Weights: range=[1e+06, 2.3e+12], mean=1.60884e+10, std=9.06796e+10\n",
            "        Features: none\n",
            "    address-default->transaction: [6047]\n",
            "        Weights: range=[1e+06, 2.3e+12], mean=1.86989e+10, std=1.02368e+11\n",
            "        Features: none\n",
            "len of addr_list: 3178\n"
          ]
        },
        {
          "output_type": "stream",
          "name": "stderr",
          "text": [
            "100%|██████████| 6/6 [00:00<00:00, 281.58it/s]\n"
          ]
        },
        {
          "output_type": "stream",
          "name": "stdout",
          "text": [
            "Time taken to read the input file data is 2.231841802597046\n",
            "Total details in input dict is: 7334\n"
          ]
        },
        {
          "output_type": "stream",
          "name": "stderr",
          "text": [
            "100%|██████████| 6/6 [00:00<00:00, 454.64it/s]\n"
          ]
        },
        {
          "output_type": "stream",
          "name": "stdout",
          "text": [
            "Time taken to read the output file data is 0.22602295875549316\n",
            "Total details in output dict is: 7334\n",
            "Total details in linked dict is: 7334\n"
          ]
        },
        {
          "output_type": "stream",
          "name": "stderr",
          "text": [
            "100%|██████████| 7334/7334 [00:00<00:00, 36191.70it/s]\n"
          ]
        },
        {
          "output_type": "stream",
          "name": "stdout",
          "text": [
            "StellarDiGraph: Directed multigraph\n",
            " Nodes: 8843, Edges: 14000\n",
            "\n",
            " Node types:\n",
            "  transaction: [5659]\n",
            "    Features: none\n",
            "    Edge types: transaction-default->address\n",
            "  address: [3184]\n",
            "    Features: none\n",
            "    Edge types: address-default->transaction\n",
            "\n",
            " Edge types:\n",
            "    transaction-default->address: [7941]\n",
            "        Weights: range=[1e+06, 2.3e+12], mean=1.67632e+10, std=9.42729e+10\n",
            "        Features: none\n",
            "    address-default->transaction: [6059]\n",
            "        Weights: range=[1e+06, 2.3e+12], mean=1.93031e+10, std=1.05507e+11\n",
            "        Features: none\n",
            "len of addr_list: 3184\n"
          ]
        },
        {
          "output_type": "stream",
          "name": "stderr",
          "text": [
            "100%|██████████| 6/6 [00:00<00:00, 420.91it/s]\n"
          ]
        },
        {
          "output_type": "stream",
          "name": "stdout",
          "text": [
            "Time taken to read the input file data is 0.30434346199035645\n",
            "Total details in input dict is: 7390\n"
          ]
        },
        {
          "output_type": "stream",
          "name": "stderr",
          "text": [
            "100%|██████████| 6/6 [00:00<00:00, 417.03it/s]\n"
          ]
        },
        {
          "output_type": "stream",
          "name": "stdout",
          "text": [
            "Time taken to read the output file data is 0.41342997550964355\n",
            "Total details in output dict is: 7390\n",
            "Total details in linked dict is: 7390\n"
          ]
        },
        {
          "output_type": "stream",
          "name": "stderr",
          "text": [
            "100%|██████████| 7390/7390 [00:00<00:00, 18269.94it/s]\n"
          ]
        },
        {
          "output_type": "stream",
          "name": "stdout",
          "text": [
            "StellarDiGraph: Directed multigraph\n",
            " Nodes: 8873, Edges: 14037\n",
            "\n",
            " Node types:\n",
            "  transaction: [5677]\n",
            "    Features: none\n",
            "    Edge types: transaction-default->address\n",
            "  address: [3196]\n",
            "    Features: none\n",
            "    Edge types: address-default->transaction\n",
            "\n",
            " Edge types:\n",
            "    transaction-default->address: [7960]\n",
            "        Weights: range=[1e+06, 2.3e+12], mean=1.68233e+10, std=9.41915e+10\n",
            "        Features: none\n",
            "    address-default->transaction: [6077]\n",
            "        Weights: range=[1e+06, 2.3e+12], mean=1.9377e+10, std=1.05385e+11\n",
            "        Features: none\n",
            "len of addr_list: 3196\n"
          ]
        },
        {
          "output_type": "stream",
          "name": "stderr",
          "text": [
            "100%|██████████| 6/6 [00:00<00:00, 480.44it/s]\n"
          ]
        },
        {
          "output_type": "stream",
          "name": "stdout",
          "text": [
            "Time taken to read the input file data is 0.23897099494934082\n",
            "Total details in input dict is: 7468\n"
          ]
        },
        {
          "output_type": "stream",
          "name": "stderr",
          "text": [
            "100%|██████████| 6/6 [00:00<00:00, 278.14it/s]\n"
          ]
        },
        {
          "output_type": "stream",
          "name": "stdout",
          "text": [
            "Time taken to read the output file data is 0.19972515106201172\n",
            "Total details in output dict is: 7468\n",
            "Total details in linked dict is: 7468\n"
          ]
        },
        {
          "output_type": "stream",
          "name": "stderr",
          "text": [
            "100%|██████████| 7468/7468 [00:00<00:00, 31216.61it/s]\n"
          ]
        },
        {
          "output_type": "stream",
          "name": "stdout",
          "text": [
            "StellarDiGraph: Directed multigraph\n",
            " Nodes: 8922, Edges: 14109\n",
            "\n",
            " Node types:\n",
            "  transaction: [5710]\n",
            "    Features: none\n",
            "    Edge types: transaction-default->address\n",
            "  address: [3212]\n",
            "    Features: none\n",
            "    Edge types: address-default->transaction\n",
            "\n",
            " Edge types:\n",
            "    transaction-default->address: [7998]\n",
            "        Weights: range=[1e+06, 2.3e+12], mean=1.72582e+10, std=9.46691e+10\n",
            "        Features: none\n",
            "    address-default->transaction: [6111]\n",
            "        Weights: range=[1e+06, 2.3e+12], mean=1.9934e+10, std=1.05898e+11\n",
            "        Features: none\n",
            "len of addr_list: 3212\n"
          ]
        },
        {
          "output_type": "stream",
          "name": "stderr",
          "text": [
            "100%|██████████| 6/6 [00:00<00:00, 364.27it/s]\n"
          ]
        },
        {
          "output_type": "stream",
          "name": "stdout",
          "text": [
            "Time taken to read the input file data is 0.22991585731506348\n",
            "Total details in input dict is: 7563\n"
          ]
        },
        {
          "output_type": "stream",
          "name": "stderr",
          "text": [
            "100%|██████████| 6/6 [00:00<00:00, 522.49it/s]\n"
          ]
        },
        {
          "output_type": "stream",
          "name": "stdout",
          "text": [
            "Time taken to read the output file data is 0.2268815040588379\n",
            "Total details in output dict is: 7563\n",
            "Total details in linked dict is: 7563\n"
          ]
        },
        {
          "output_type": "stream",
          "name": "stderr",
          "text": [
            "100%|██████████| 7563/7563 [00:00<00:00, 40680.30it/s]\n"
          ]
        },
        {
          "output_type": "stream",
          "name": "stdout",
          "text": [
            "StellarDiGraph: Directed multigraph\n",
            " Nodes: 9012, Edges: 14248\n",
            "\n",
            " Node types:\n",
            "  transaction: [5780]\n",
            "    Features: none\n",
            "    Edge types: transaction-default->address\n",
            "  address: [3232]\n",
            "    Features: none\n",
            "    Edge types: address-default->transaction\n",
            "\n",
            " Edge types:\n",
            "    transaction-default->address: [8079]\n",
            "        Weights: range=[1e+06, 2.3e+12], mean=1.74918e+10, std=9.46742e+10\n",
            "        Features: none\n",
            "    address-default->transaction: [6169]\n",
            "        Weights: range=[1e+06, 2.3e+12], mean=2.01916e+10, std=1.05892e+11\n",
            "        Features: none\n",
            "len of addr_list: 3232\n"
          ]
        },
        {
          "output_type": "stream",
          "name": "stderr",
          "text": [
            "100%|██████████| 6/6 [00:00<00:00, 315.69it/s]\n"
          ]
        },
        {
          "output_type": "stream",
          "name": "stdout",
          "text": [
            "Time taken to read the input file data is 0.29965853691101074\n",
            "Total details in input dict is: 7654\n"
          ]
        },
        {
          "output_type": "stream",
          "name": "stderr",
          "text": [
            "100%|██████████| 6/6 [00:00<00:00, 206.28it/s]\n"
          ]
        },
        {
          "output_type": "stream",
          "name": "stdout",
          "text": [
            "Time taken to read the output file data is 0.22716164588928223\n",
            "Total details in output dict is: 7654\n",
            "Total details in linked dict is: 7654\n"
          ]
        },
        {
          "output_type": "stream",
          "name": "stderr",
          "text": [
            "100%|██████████| 7654/7654 [00:00<00:00, 35018.00it/s]\n"
          ]
        },
        {
          "output_type": "stream",
          "name": "stdout",
          "text": [
            "StellarDiGraph: Directed multigraph\n",
            " Nodes: 9340, Edges: 15486\n",
            "\n",
            " Node types:\n",
            "  transaction: [5922]\n",
            "    Features: none\n",
            "    Edge types: transaction-default->address\n",
            "  address: [3418]\n",
            "    Features: none\n",
            "    Edge types: address-default->transaction\n",
            "\n",
            " Edge types:\n",
            "    transaction-default->address: [8939]\n",
            "        Weights: range=[1e+06, 2.3e+12], mean=1.63234e+10, std=9.03455e+10\n",
            "        Features: none\n",
            "    address-default->transaction: [6547]\n",
            "        Weights: range=[1e+06, 2.3e+12], mean=1.91752e+10, std=1.02936e+11\n",
            "        Features: none\n",
            "len of addr_list: 3418\n",
            "lendght of df =  181\n"
          ]
        }
      ]
    },
    {
      "cell_type": "code",
      "source": [
        "result_df.head(100)"
      ],
      "metadata": {
        "colab": {
          "base_uri": "https://localhost:8080/",
          "height": 424
        },
        "id": "yKXdnx7XI5rP",
        "outputId": "88ff0df1-a346-4c2d-9077-dacc6eee7d8a"
      },
      "execution_count": 10,
      "outputs": [
        {
          "output_type": "execute_result",
          "data": {
            "text/html": [
              "<div>\n",
              "<style scoped>\n",
              "    .dataframe tbody tr th:only-of-type {\n",
              "        vertical-align: middle;\n",
              "    }\n",
              "\n",
              "    .dataframe tbody tr th {\n",
              "        vertical-align: top;\n",
              "    }\n",
              "\n",
              "    .dataframe thead th {\n",
              "        text-align: right;\n",
              "    }\n",
              "</style>\n",
              "<table border=\"1\" class=\"dataframe\">\n",
              "  <thead>\n",
              "    <tr style=\"text-align: right;\">\n",
              "      <th></th>\n",
              "      <th>Address</th>\n",
              "      <th>Predecessor_Neighbours</th>\n",
              "      <th>Successor_Neighbours</th>\n",
              "      <th>Total_neighbours</th>\n",
              "      <th>Income</th>\n",
              "      <th>Expenditure</th>\n",
              "      <th>Balance</th>\n",
              "    </tr>\n",
              "  </thead>\n",
              "  <tbody>\n",
              "    <tr>\n",
              "      <th>0</th>\n",
              "      <td>500000000000</td>\n",
              "      <td>1</td>\n",
              "      <td>1</td>\n",
              "      <td>2</td>\n",
              "      <td>4988000000</td>\n",
              "      <td>4988000000</td>\n",
              "      <td>0</td>\n",
              "    </tr>\n",
              "    <tr>\n",
              "      <th>0</th>\n",
              "      <td>500000000000</td>\n",
              "      <td>1</td>\n",
              "      <td>1</td>\n",
              "      <td>2</td>\n",
              "      <td>4988000000</td>\n",
              "      <td>4988000000</td>\n",
              "      <td>0</td>\n",
              "    </tr>\n",
              "    <tr>\n",
              "      <th>0</th>\n",
              "      <td>500000000000</td>\n",
              "      <td>1</td>\n",
              "      <td>1</td>\n",
              "      <td>2</td>\n",
              "      <td>4988000000</td>\n",
              "      <td>4988000000</td>\n",
              "      <td>0</td>\n",
              "    </tr>\n",
              "    <tr>\n",
              "      <th>1</th>\n",
              "      <td>1KqBVJGQBrT5RYWQE8oEdH6UAHLLCgp79E</td>\n",
              "      <td>1</td>\n",
              "      <td>1</td>\n",
              "      <td>2</td>\n",
              "      <td>500000000</td>\n",
              "      <td>500000000</td>\n",
              "      <td>0</td>\n",
              "    </tr>\n",
              "    <tr>\n",
              "      <th>0</th>\n",
              "      <td>500000000000</td>\n",
              "      <td>1</td>\n",
              "      <td>1</td>\n",
              "      <td>2</td>\n",
              "      <td>4988000000</td>\n",
              "      <td>4988000000</td>\n",
              "      <td>0</td>\n",
              "    </tr>\n",
              "    <tr>\n",
              "      <th>...</th>\n",
              "      <td>...</td>\n",
              "      <td>...</td>\n",
              "      <td>...</td>\n",
              "      <td>...</td>\n",
              "      <td>...</td>\n",
              "      <td>...</td>\n",
              "      <td>...</td>\n",
              "    </tr>\n",
              "    <tr>\n",
              "      <th>2</th>\n",
              "      <td>574900000000</td>\n",
              "      <td>1</td>\n",
              "      <td>1</td>\n",
              "      <td>2</td>\n",
              "      <td>74000000</td>\n",
              "      <td>74000000</td>\n",
              "      <td>0</td>\n",
              "    </tr>\n",
              "    <tr>\n",
              "      <th>3</th>\n",
              "      <td>1ET9ufvZEAMUmQqLHYbuixjuGjHv9CGmy</td>\n",
              "      <td>1</td>\n",
              "      <td>1</td>\n",
              "      <td>2</td>\n",
              "      <td>100000000</td>\n",
              "      <td>100000000</td>\n",
              "      <td>0</td>\n",
              "    </tr>\n",
              "    <tr>\n",
              "      <th>4</th>\n",
              "      <td>5000000</td>\n",
              "      <td>1</td>\n",
              "      <td>1</td>\n",
              "      <td>2</td>\n",
              "      <td>4575000000</td>\n",
              "      <td>4575000000</td>\n",
              "      <td>0</td>\n",
              "    </tr>\n",
              "    <tr>\n",
              "      <th>5</th>\n",
              "      <td>1000000</td>\n",
              "      <td>1</td>\n",
              "      <td>1</td>\n",
              "      <td>2</td>\n",
              "      <td>4574000000</td>\n",
              "      <td>4574000000</td>\n",
              "      <td>0</td>\n",
              "    </tr>\n",
              "    <tr>\n",
              "      <th>6</th>\n",
              "      <td>noaddress</td>\n",
              "      <td>5</td>\n",
              "      <td>5</td>\n",
              "      <td>10</td>\n",
              "      <td>23700000000</td>\n",
              "      <td>23700000000</td>\n",
              "      <td>0</td>\n",
              "    </tr>\n",
              "  </tbody>\n",
              "</table>\n",
              "<p>100 rows × 7 columns</p>\n",
              "</div>"
            ],
            "text/plain": [
              "                               Address  ... Balance\n",
              "0                         500000000000  ...       0\n",
              "0                         500000000000  ...       0\n",
              "0                         500000000000  ...       0\n",
              "1   1KqBVJGQBrT5RYWQE8oEdH6UAHLLCgp79E  ...       0\n",
              "0                         500000000000  ...       0\n",
              "..                                 ...  ...     ...\n",
              "2                         574900000000  ...       0\n",
              "3    1ET9ufvZEAMUmQqLHYbuixjuGjHv9CGmy  ...       0\n",
              "4                              5000000  ...       0\n",
              "5                              1000000  ...       0\n",
              "6                            noaddress  ...       0\n",
              "\n",
              "[100 rows x 7 columns]"
            ]
          },
          "metadata": {},
          "execution_count": 10
        }
      ]
    },
    {
      "cell_type": "code",
      "source": [
        "len(result_df)"
      ],
      "metadata": {
        "colab": {
          "base_uri": "https://localhost:8080/"
        },
        "id": "vMz1sNZ2I_Og",
        "outputId": "4ab62a92-4050-4b76-95bc-24ba4e7332f0"
      },
      "execution_count": 11,
      "outputs": [
        {
          "output_type": "execute_result",
          "data": {
            "text/plain": [
              "191638"
            ]
          },
          "metadata": {},
          "execution_count": 11
        }
      ]
    }
  ]
}